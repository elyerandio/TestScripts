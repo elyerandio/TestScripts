{
 "metadata": {
  "name": ""
 },
 "nbformat": 3,
 "nbformat_minor": 0,
 "worksheets": [
  {
   "cells": [
    {
     "cell_type": "markdown",
     "metadata": {},
     "source": [
      "# Pandas set up"
     ]
    },
    {
     "cell_type": "code",
     "collapsed": false,
     "input": [
      "# Import libraries\n",
      "from pandas import DataFrame\n",
      "import pandas as pd\n",
      "import datetime\n",
      "%matplotlib inline\n",
      "\n",
      "print 'Pandas version: ' + pd.__version__"
     ],
     "language": "python",
     "metadata": {},
     "outputs": [
      {
       "output_type": "stream",
       "stream": "stdout",
       "text": [
        "Pandas version: 0.12.0\n"
       ]
      }
     ],
     "prompt_number": 1
    },
    {
     "cell_type": "code",
     "collapsed": false,
     "input": [
      "# Create dummy data for examples\n",
      "sample = DataFrame(data = {'Date':[pd.datetime(2013,1,1), pd.datetime(2014,1,1), pd.datetime(2015,1,1), pd.datetime(2016,1,1)],\n",
      "                           'Quarter 1':[100,200,300,400],\n",
      "                           'Quarter 2':[20,30,40,50],\n",
      "                           'Quarter 3':[15,20,25,30],\n",
      "                           'Quarter 4':[80,90,100,110]})\n",
      "\n",
      "sample"
     ],
     "language": "python",
     "metadata": {},
     "outputs": [
      {
       "html": [
        "<div style=\"max-height:1000px;max-width:1500px;overflow:auto;\">\n",
        "<table border=\"1\" class=\"dataframe\">\n",
        "  <thead>\n",
        "    <tr style=\"text-align: right;\">\n",
        "      <th></th>\n",
        "      <th>Date</th>\n",
        "      <th>Quarter 1</th>\n",
        "      <th>Quarter 2</th>\n",
        "      <th>Quarter 3</th>\n",
        "      <th>Quarter 4</th>\n",
        "    </tr>\n",
        "  </thead>\n",
        "  <tbody>\n",
        "    <tr>\n",
        "      <th>0</th>\n",
        "      <td>2013-01-01 00:00:00</td>\n",
        "      <td> 100</td>\n",
        "      <td> 20</td>\n",
        "      <td> 15</td>\n",
        "      <td>  80</td>\n",
        "    </tr>\n",
        "    <tr>\n",
        "      <th>1</th>\n",
        "      <td>2014-01-01 00:00:00</td>\n",
        "      <td> 200</td>\n",
        "      <td> 30</td>\n",
        "      <td> 20</td>\n",
        "      <td>  90</td>\n",
        "    </tr>\n",
        "    <tr>\n",
        "      <th>2</th>\n",
        "      <td>2015-01-01 00:00:00</td>\n",
        "      <td> 300</td>\n",
        "      <td> 40</td>\n",
        "      <td> 25</td>\n",
        "      <td> 100</td>\n",
        "    </tr>\n",
        "    <tr>\n",
        "      <th>3</th>\n",
        "      <td>2016-01-01 00:00:00</td>\n",
        "      <td> 400</td>\n",
        "      <td> 50</td>\n",
        "      <td> 30</td>\n",
        "      <td> 110</td>\n",
        "    </tr>\n",
        "  </tbody>\n",
        "</table>\n",
        "</div>"
       ],
       "metadata": {},
       "output_type": "pyout",
       "prompt_number": 2,
       "text": [
        "                 Date  Quarter 1  Quarter 2  Quarter 3  Quarter 4\n",
        "0 2013-01-01 00:00:00        100         20         15         80\n",
        "1 2014-01-01 00:00:00        200         30         20         90\n",
        "2 2015-01-01 00:00:00        300         40         25        100\n",
        "3 2016-01-01 00:00:00        400         50         30        110"
       ]
      }
     ],
     "prompt_number": 2
    },
    {
     "cell_type": "code",
     "collapsed": false,
     "input": [
      "# How to add a column and sum horizontally\n",
      "# How to add a column and compute the average\n",
      "# How to add a column and compute the percentage of Total Sales\n",
      "# How to sort by a column\n",
      "# How to filter by a value\n",
      "# How to create a column chart\n",
      "# How to create a pivot table\n",
      "# How to perform a vlookup\n",
      "# How to perform an IF/THEN statement"
     ],
     "language": "python",
     "metadata": {},
     "outputs": [],
     "prompt_number": 3
    },
    {
     "cell_type": "markdown",
     "metadata": {},
     "source": [
      "# How to add a column and sum horizontally"
     ]
    },
    {
     "cell_type": "code",
     "collapsed": false,
     "input": [
      "# Make a copy of our test data\n",
      "df = sample.copy(deep=True)\n",
      "\n",
      "df['Total Yearly Sales'] = df.sum(axis=1)\n",
      "df"
     ],
     "language": "python",
     "metadata": {},
     "outputs": [
      {
       "html": [
        "<div style=\"max-height:1000px;max-width:1500px;overflow:auto;\">\n",
        "<table border=\"1\" class=\"dataframe\">\n",
        "  <thead>\n",
        "    <tr style=\"text-align: right;\">\n",
        "      <th></th>\n",
        "      <th>Date</th>\n",
        "      <th>Quarter 1</th>\n",
        "      <th>Quarter 2</th>\n",
        "      <th>Quarter 3</th>\n",
        "      <th>Quarter 4</th>\n",
        "      <th>Total Yearly Sales</th>\n",
        "    </tr>\n",
        "  </thead>\n",
        "  <tbody>\n",
        "    <tr>\n",
        "      <th>0</th>\n",
        "      <td>2013-01-01 00:00:00</td>\n",
        "      <td> 100</td>\n",
        "      <td> 20</td>\n",
        "      <td> 15</td>\n",
        "      <td>  80</td>\n",
        "      <td> 215</td>\n",
        "    </tr>\n",
        "    <tr>\n",
        "      <th>1</th>\n",
        "      <td>2014-01-01 00:00:00</td>\n",
        "      <td> 200</td>\n",
        "      <td> 30</td>\n",
        "      <td> 20</td>\n",
        "      <td>  90</td>\n",
        "      <td> 340</td>\n",
        "    </tr>\n",
        "    <tr>\n",
        "      <th>2</th>\n",
        "      <td>2015-01-01 00:00:00</td>\n",
        "      <td> 300</td>\n",
        "      <td> 40</td>\n",
        "      <td> 25</td>\n",
        "      <td> 100</td>\n",
        "      <td> 465</td>\n",
        "    </tr>\n",
        "    <tr>\n",
        "      <th>3</th>\n",
        "      <td>2016-01-01 00:00:00</td>\n",
        "      <td> 400</td>\n",
        "      <td> 50</td>\n",
        "      <td> 30</td>\n",
        "      <td> 110</td>\n",
        "      <td> 590</td>\n",
        "    </tr>\n",
        "  </tbody>\n",
        "</table>\n",
        "</div>"
       ],
       "metadata": {},
       "output_type": "pyout",
       "prompt_number": 4,
       "text": [
        "                 Date  Quarter 1  Quarter 2  Quarter 3  Quarter 4  \\\n",
        "0 2013-01-01 00:00:00        100         20         15         80   \n",
        "1 2014-01-01 00:00:00        200         30         20         90   \n",
        "2 2015-01-01 00:00:00        300         40         25        100   \n",
        "3 2016-01-01 00:00:00        400         50         30        110   \n",
        "\n",
        "   Total Yearly Sales  \n",
        "0                 215  \n",
        "1                 340  \n",
        "2                 465  \n",
        "3                 590  "
       ]
      }
     ],
     "prompt_number": 4
    },
    {
     "cell_type": "markdown",
     "metadata": {},
     "source": [
      "# How to add a column and compute the average"
     ]
    },
    {
     "cell_type": "code",
     "collapsed": false,
     "input": [
      "# Columns we are interested in\n",
      "cols = ['Quarter 1','Quarter 2','Quarter 3','Quarter 4']\n",
      "\n",
      "df['Average'] = df[cols].mean(axis=1)\n",
      "df"
     ],
     "language": "python",
     "metadata": {},
     "outputs": [
      {
       "html": [
        "<div style=\"max-height:1000px;max-width:1500px;overflow:auto;\">\n",
        "<table border=\"1\" class=\"dataframe\">\n",
        "  <thead>\n",
        "    <tr style=\"text-align: right;\">\n",
        "      <th></th>\n",
        "      <th>Date</th>\n",
        "      <th>Quarter 1</th>\n",
        "      <th>Quarter 2</th>\n",
        "      <th>Quarter 3</th>\n",
        "      <th>Quarter 4</th>\n",
        "      <th>Total Yearly Sales</th>\n",
        "      <th>Average</th>\n",
        "    </tr>\n",
        "  </thead>\n",
        "  <tbody>\n",
        "    <tr>\n",
        "      <th>0</th>\n",
        "      <td>2013-01-01 00:00:00</td>\n",
        "      <td> 100</td>\n",
        "      <td> 20</td>\n",
        "      <td> 15</td>\n",
        "      <td>  80</td>\n",
        "      <td> 215</td>\n",
        "      <td>  53.75</td>\n",
        "    </tr>\n",
        "    <tr>\n",
        "      <th>1</th>\n",
        "      <td>2014-01-01 00:00:00</td>\n",
        "      <td> 200</td>\n",
        "      <td> 30</td>\n",
        "      <td> 20</td>\n",
        "      <td>  90</td>\n",
        "      <td> 340</td>\n",
        "      <td>  85.00</td>\n",
        "    </tr>\n",
        "    <tr>\n",
        "      <th>2</th>\n",
        "      <td>2015-01-01 00:00:00</td>\n",
        "      <td> 300</td>\n",
        "      <td> 40</td>\n",
        "      <td> 25</td>\n",
        "      <td> 100</td>\n",
        "      <td> 465</td>\n",
        "      <td> 116.25</td>\n",
        "    </tr>\n",
        "    <tr>\n",
        "      <th>3</th>\n",
        "      <td>2016-01-01 00:00:00</td>\n",
        "      <td> 400</td>\n",
        "      <td> 50</td>\n",
        "      <td> 30</td>\n",
        "      <td> 110</td>\n",
        "      <td> 590</td>\n",
        "      <td> 147.50</td>\n",
        "    </tr>\n",
        "  </tbody>\n",
        "</table>\n",
        "</div>"
       ],
       "metadata": {},
       "output_type": "pyout",
       "prompt_number": 5,
       "text": [
        "                 Date  Quarter 1  Quarter 2  Quarter 3  Quarter 4  \\\n",
        "0 2013-01-01 00:00:00        100         20         15         80   \n",
        "1 2014-01-01 00:00:00        200         30         20         90   \n",
        "2 2015-01-01 00:00:00        300         40         25        100   \n",
        "3 2016-01-01 00:00:00        400         50         30        110   \n",
        "\n",
        "   Total Yearly Sales  Average  \n",
        "0                 215    53.75  \n",
        "1                 340    85.00  \n",
        "2                 465   116.25  \n",
        "3                 590   147.50  "
       ]
      }
     ],
     "prompt_number": 5
    },
    {
     "cell_type": "markdown",
     "metadata": {},
     "source": [
      "# How to add a column and compute the percentage of Total Sales"
     ]
    },
    {
     "cell_type": "code",
     "collapsed": false,
     "input": [
      "TotalSales = df['Total Yearly Sales'].sum()\n",
      "\n",
      "df['Percentage of Sales'] = df['Total Yearly Sales'].apply(lambda x: 100.0*x/TotalSales)\n",
      "df"
     ],
     "language": "python",
     "metadata": {},
     "outputs": [
      {
       "html": [
        "<div style=\"max-height:1000px;max-width:1500px;overflow:auto;\">\n",
        "<table border=\"1\" class=\"dataframe\">\n",
        "  <thead>\n",
        "    <tr style=\"text-align: right;\">\n",
        "      <th></th>\n",
        "      <th>Date</th>\n",
        "      <th>Quarter 1</th>\n",
        "      <th>Quarter 2</th>\n",
        "      <th>Quarter 3</th>\n",
        "      <th>Quarter 4</th>\n",
        "      <th>Total Yearly Sales</th>\n",
        "      <th>Average</th>\n",
        "      <th>Percentage of Sales</th>\n",
        "    </tr>\n",
        "  </thead>\n",
        "  <tbody>\n",
        "    <tr>\n",
        "      <th>0</th>\n",
        "      <td>2013-01-01 00:00:00</td>\n",
        "      <td> 100</td>\n",
        "      <td> 20</td>\n",
        "      <td> 15</td>\n",
        "      <td>  80</td>\n",
        "      <td> 215</td>\n",
        "      <td>  53.75</td>\n",
        "      <td> 13.354037</td>\n",
        "    </tr>\n",
        "    <tr>\n",
        "      <th>1</th>\n",
        "      <td>2014-01-01 00:00:00</td>\n",
        "      <td> 200</td>\n",
        "      <td> 30</td>\n",
        "      <td> 20</td>\n",
        "      <td>  90</td>\n",
        "      <td> 340</td>\n",
        "      <td>  85.00</td>\n",
        "      <td> 21.118012</td>\n",
        "    </tr>\n",
        "    <tr>\n",
        "      <th>2</th>\n",
        "      <td>2015-01-01 00:00:00</td>\n",
        "      <td> 300</td>\n",
        "      <td> 40</td>\n",
        "      <td> 25</td>\n",
        "      <td> 100</td>\n",
        "      <td> 465</td>\n",
        "      <td> 116.25</td>\n",
        "      <td> 28.881988</td>\n",
        "    </tr>\n",
        "    <tr>\n",
        "      <th>3</th>\n",
        "      <td>2016-01-01 00:00:00</td>\n",
        "      <td> 400</td>\n",
        "      <td> 50</td>\n",
        "      <td> 30</td>\n",
        "      <td> 110</td>\n",
        "      <td> 590</td>\n",
        "      <td> 147.50</td>\n",
        "      <td> 36.645963</td>\n",
        "    </tr>\n",
        "  </tbody>\n",
        "</table>\n",
        "</div>"
       ],
       "metadata": {},
       "output_type": "pyout",
       "prompt_number": 6,
       "text": [
        "                 Date  Quarter 1  Quarter 2  Quarter 3  Quarter 4  \\\n",
        "0 2013-01-01 00:00:00        100         20         15         80   \n",
        "1 2014-01-01 00:00:00        200         30         20         90   \n",
        "2 2015-01-01 00:00:00        300         40         25        100   \n",
        "3 2016-01-01 00:00:00        400         50         30        110   \n",
        "\n",
        "   Total Yearly Sales  Average  Percentage of Sales  \n",
        "0                 215    53.75            13.354037  \n",
        "1                 340    85.00            21.118012  \n",
        "2                 465   116.25            28.881988  \n",
        "3                 590   147.50            36.645963  "
       ]
      }
     ],
     "prompt_number": 6
    },
    {
     "cell_type": "markdown",
     "metadata": {},
     "source": [
      "# How to sort by a column"
     ]
    },
    {
     "cell_type": "code",
     "collapsed": false,
     "input": [
      "df.sort(columns = 'Quarter 1', ascending=False)"
     ],
     "language": "python",
     "metadata": {},
     "outputs": [
      {
       "html": [
        "<div style=\"max-height:1000px;max-width:1500px;overflow:auto;\">\n",
        "<table border=\"1\" class=\"dataframe\">\n",
        "  <thead>\n",
        "    <tr style=\"text-align: right;\">\n",
        "      <th></th>\n",
        "      <th>Date</th>\n",
        "      <th>Quarter 1</th>\n",
        "      <th>Quarter 2</th>\n",
        "      <th>Quarter 3</th>\n",
        "      <th>Quarter 4</th>\n",
        "      <th>Total Yearly Sales</th>\n",
        "      <th>Average</th>\n",
        "      <th>Percentage of Sales</th>\n",
        "    </tr>\n",
        "  </thead>\n",
        "  <tbody>\n",
        "    <tr>\n",
        "      <th>3</th>\n",
        "      <td>2016-01-01 00:00:00</td>\n",
        "      <td> 400</td>\n",
        "      <td> 50</td>\n",
        "      <td> 30</td>\n",
        "      <td> 110</td>\n",
        "      <td> 590</td>\n",
        "      <td> 147.50</td>\n",
        "      <td> 36.645963</td>\n",
        "    </tr>\n",
        "    <tr>\n",
        "      <th>2</th>\n",
        "      <td>2015-01-01 00:00:00</td>\n",
        "      <td> 300</td>\n",
        "      <td> 40</td>\n",
        "      <td> 25</td>\n",
        "      <td> 100</td>\n",
        "      <td> 465</td>\n",
        "      <td> 116.25</td>\n",
        "      <td> 28.881988</td>\n",
        "    </tr>\n",
        "    <tr>\n",
        "      <th>1</th>\n",
        "      <td>2014-01-01 00:00:00</td>\n",
        "      <td> 200</td>\n",
        "      <td> 30</td>\n",
        "      <td> 20</td>\n",
        "      <td>  90</td>\n",
        "      <td> 340</td>\n",
        "      <td>  85.00</td>\n",
        "      <td> 21.118012</td>\n",
        "    </tr>\n",
        "    <tr>\n",
        "      <th>0</th>\n",
        "      <td>2013-01-01 00:00:00</td>\n",
        "      <td> 100</td>\n",
        "      <td> 20</td>\n",
        "      <td> 15</td>\n",
        "      <td>  80</td>\n",
        "      <td> 215</td>\n",
        "      <td>  53.75</td>\n",
        "      <td> 13.354037</td>\n",
        "    </tr>\n",
        "  </tbody>\n",
        "</table>\n",
        "</div>"
       ],
       "metadata": {},
       "output_type": "pyout",
       "prompt_number": 7,
       "text": [
        "                 Date  Quarter 1  Quarter 2  Quarter 3  Quarter 4  \\\n",
        "3 2016-01-01 00:00:00        400         50         30        110   \n",
        "2 2015-01-01 00:00:00        300         40         25        100   \n",
        "1 2014-01-01 00:00:00        200         30         20         90   \n",
        "0 2013-01-01 00:00:00        100         20         15         80   \n",
        "\n",
        "   Total Yearly Sales  Average  Percentage of Sales  \n",
        "3                 590   147.50            36.645963  \n",
        "2                 465   116.25            28.881988  \n",
        "1                 340    85.00            21.118012  \n",
        "0                 215    53.75            13.354037  "
       ]
      }
     ],
     "prompt_number": 7
    },
    {
     "cell_type": "markdown",
     "metadata": {},
     "source": [
      "# How to filter by a value"
     ]
    },
    {
     "cell_type": "code",
     "collapsed": false,
     "input": [
      "mask = df['Average'] == 85\n",
      "\n",
      "# Filter where average is equal to 85\n",
      "df[mask]"
     ],
     "language": "python",
     "metadata": {},
     "outputs": [
      {
       "html": [
        "<div style=\"max-height:1000px;max-width:1500px;overflow:auto;\">\n",
        "<table border=\"1\" class=\"dataframe\">\n",
        "  <thead>\n",
        "    <tr style=\"text-align: right;\">\n",
        "      <th></th>\n",
        "      <th>Date</th>\n",
        "      <th>Quarter 1</th>\n",
        "      <th>Quarter 2</th>\n",
        "      <th>Quarter 3</th>\n",
        "      <th>Quarter 4</th>\n",
        "      <th>Total Yearly Sales</th>\n",
        "      <th>Average</th>\n",
        "      <th>Percentage of Sales</th>\n",
        "    </tr>\n",
        "  </thead>\n",
        "  <tbody>\n",
        "    <tr>\n",
        "      <th>1</th>\n",
        "      <td>2014-01-01 00:00:00</td>\n",
        "      <td> 200</td>\n",
        "      <td> 30</td>\n",
        "      <td> 20</td>\n",
        "      <td> 90</td>\n",
        "      <td> 340</td>\n",
        "      <td> 85</td>\n",
        "      <td> 21.118012</td>\n",
        "    </tr>\n",
        "  </tbody>\n",
        "</table>\n",
        "</div>"
       ],
       "metadata": {},
       "output_type": "pyout",
       "prompt_number": 8,
       "text": [
        "                 Date  Quarter 1  Quarter 2  Quarter 3  Quarter 4  \\\n",
        "1 2014-01-01 00:00:00        200         30         20         90   \n",
        "\n",
        "   Total Yearly Sales  Average  Percentage of Sales  \n",
        "1                 340       85            21.118012  "
       ]
      }
     ],
     "prompt_number": 8
    },
    {
     "cell_type": "markdown",
     "metadata": {},
     "source": [
      "# How to create a column chart"
     ]
    },
    {
     "cell_type": "code",
     "collapsed": false,
     "input": [
      "df[cols].plot(kind='bar');"
     ],
     "language": "python",
     "metadata": {},
     "outputs": [
      {
       "metadata": {},
       "output_type": "display_data",
       "png": "[encoded data removed]",
       "text": [
        "<matplotlib.figure.Figure at 0x8ec95c0>"
       ]
      }
     ],
     "prompt_number": 9
    },
    {
     "cell_type": "markdown",
     "metadata": {},
     "source": [
      "# How to create a pivot table"
     ]
    },
    {
     "cell_type": "code",
     "collapsed": false,
     "input": [
      "# Create dummy data for examples\n",
      "sample2 = DataFrame(data = {'Date':[pd.datetime(2013,1,1), pd.datetime(2013,1,1), pd.datetime(2013,1,1), pd.datetime(2013,1,1)],\n",
      "                            'Type':['A','A','B','B'],\n",
      "                            'Amount':[80,90,100,110]})\n",
      "\n",
      "sample2"
     ],
     "language": "python",
     "metadata": {},
     "outputs": [
      {
       "html": [
        "<div style=\"max-height:1000px;max-width:1500px;overflow:auto;\">\n",
        "<table border=\"1\" class=\"dataframe\">\n",
        "  <thead>\n",
        "    <tr style=\"text-align: right;\">\n",
        "      <th></th>\n",
        "      <th>Amount</th>\n",
        "      <th>Date</th>\n",
        "      <th>Type</th>\n",
        "    </tr>\n",
        "  </thead>\n",
        "  <tbody>\n",
        "    <tr>\n",
        "      <th>0</th>\n",
        "      <td>  80</td>\n",
        "      <td>2013-01-01 00:00:00</td>\n",
        "      <td> A</td>\n",
        "    </tr>\n",
        "    <tr>\n",
        "      <th>1</th>\n",
        "      <td>  90</td>\n",
        "      <td>2013-01-01 00:00:00</td>\n",
        "      <td> A</td>\n",
        "    </tr>\n",
        "    <tr>\n",
        "      <th>2</th>\n",
        "      <td> 100</td>\n",
        "      <td>2013-01-01 00:00:00</td>\n",
        "      <td> B</td>\n",
        "    </tr>\n",
        "    <tr>\n",
        "      <th>3</th>\n",
        "      <td> 110</td>\n",
        "      <td>2013-01-01 00:00:00</td>\n",
        "      <td> B</td>\n",
        "    </tr>\n",
        "  </tbody>\n",
        "</table>\n",
        "</div>"
       ],
       "metadata": {},
       "output_type": "pyout",
       "prompt_number": 10,
       "text": [
        "   Amount                Date Type\n",
        "0      80 2013-01-01 00:00:00    A\n",
        "1      90 2013-01-01 00:00:00    A\n",
        "2     100 2013-01-01 00:00:00    B\n",
        "3     110 2013-01-01 00:00:00    B"
       ]
      }
     ],
     "prompt_number": 10
    },
    {
     "cell_type": "code",
     "collapsed": false,
     "input": [
      "# Make a copy of our test data\n",
      "df2 = sample2.copy(deep=True)\n",
      "\n",
      "df2.pivot_table(values='Amount', rows='Date', cols='Type', aggfunc='sum')"
     ],
     "language": "python",
     "metadata": {},
     "outputs": [
      {
       "html": [
        "<div style=\"max-height:1000px;max-width:1500px;overflow:auto;\">\n",
        "<table border=\"1\" class=\"dataframe\">\n",
        "  <thead>\n",
        "    <tr style=\"text-align: right;\">\n",
        "      <th>Type</th>\n",
        "      <th>A</th>\n",
        "      <th>B</th>\n",
        "    </tr>\n",
        "    <tr>\n",
        "      <th>Date</th>\n",
        "      <th></th>\n",
        "      <th></th>\n",
        "    </tr>\n",
        "  </thead>\n",
        "  <tbody>\n",
        "    <tr>\n",
        "      <th>2013-01-01</th>\n",
        "      <td> 170</td>\n",
        "      <td> 210</td>\n",
        "    </tr>\n",
        "  </tbody>\n",
        "</table>\n",
        "</div>"
       ],
       "metadata": {},
       "output_type": "pyout",
       "prompt_number": 11,
       "text": [
        "Type          A    B\n",
        "Date                \n",
        "2013-01-01  170  210"
       ]
      }
     ],
     "prompt_number": 11
    },
    {
     "cell_type": "markdown",
     "metadata": {},
     "source": [
      "# How to perform a vlookup"
     ]
    },
    {
     "cell_type": "code",
     "collapsed": false,
     "input": [
      "# Create lookup table\n",
      "tbl = pd.Series({'A':'letter A', \n",
      "                 'B':'letter B'})\n",
      "\n",
      "\n",
      "df2['Type'] = df2['Type'].map(tbl)\n",
      "df2"
     ],
     "language": "python",
     "metadata": {},
     "outputs": [
      {
       "html": [
        "<div style=\"max-height:1000px;max-width:1500px;overflow:auto;\">\n",
        "<table border=\"1\" class=\"dataframe\">\n",
        "  <thead>\n",
        "    <tr style=\"text-align: right;\">\n",
        "      <th></th>\n",
        "      <th>Amount</th>\n",
        "      <th>Date</th>\n",
        "      <th>Type</th>\n",
        "    </tr>\n",
        "  </thead>\n",
        "  <tbody>\n",
        "    <tr>\n",
        "      <th>0</th>\n",
        "      <td>  80</td>\n",
        "      <td>2013-01-01 00:00:00</td>\n",
        "      <td> letter A</td>\n",
        "    </tr>\n",
        "    <tr>\n",
        "      <th>1</th>\n",
        "      <td>  90</td>\n",
        "      <td>2013-01-01 00:00:00</td>\n",
        "      <td> letter A</td>\n",
        "    </tr>\n",
        "    <tr>\n",
        "      <th>2</th>\n",
        "      <td> 100</td>\n",
        "      <td>2013-01-01 00:00:00</td>\n",
        "      <td> letter B</td>\n",
        "    </tr>\n",
        "    <tr>\n",
        "      <th>3</th>\n",
        "      <td> 110</td>\n",
        "      <td>2013-01-01 00:00:00</td>\n",
        "      <td> letter B</td>\n",
        "    </tr>\n",
        "  </tbody>\n",
        "</table>\n",
        "</div>"
       ],
       "metadata": {},
       "output_type": "pyout",
       "prompt_number": 12,
       "text": [
        "   Amount                Date      Type\n",
        "0      80 2013-01-01 00:00:00  letter A\n",
        "1      90 2013-01-01 00:00:00  letter A\n",
        "2     100 2013-01-01 00:00:00  letter B\n",
        "3     110 2013-01-01 00:00:00  letter B"
       ]
      }
     ],
     "prompt_number": 12
    },
    {
     "cell_type": "markdown",
     "metadata": {},
     "source": [
      "# How to perform an IF/THEN statement"
     ]
    },
    {
     "cell_type": "code",
     "collapsed": false,
     "input": [
      "# =If(Amount >= 100, \"yes\", \"no\")\n",
      "df2['yes/no'] = df2['Amount'].apply(lambda x: 'yes' if x >= 100 else 'no')\n",
      "df2"
     ],
     "language": "python",
     "metadata": {},
     "outputs": [
      {
       "html": [
        "<div style=\"max-height:1000px;max-width:1500px;overflow:auto;\">\n",
        "<table border=\"1\" class=\"dataframe\">\n",
        "  <thead>\n",
        "    <tr style=\"text-align: right;\">\n",
        "      <th></th>\n",
        "      <th>Amount</th>\n",
        "      <th>Date</th>\n",
        "      <th>Type</th>\n",
        "      <th>yes/no</th>\n",
        "    </tr>\n",
        "  </thead>\n",
        "  <tbody>\n",
        "    <tr>\n",
        "      <th>0</th>\n",
        "      <td>  80</td>\n",
        "      <td>2013-01-01 00:00:00</td>\n",
        "      <td> letter A</td>\n",
        "      <td>  no</td>\n",
        "    </tr>\n",
        "    <tr>\n",
        "      <th>1</th>\n",
        "      <td>  90</td>\n",
        "      <td>2013-01-01 00:00:00</td>\n",
        "      <td> letter A</td>\n",
        "      <td>  no</td>\n",
        "    </tr>\n",
        "    <tr>\n",
        "      <th>2</th>\n",
        "      <td> 100</td>\n",
        "      <td>2013-01-01 00:00:00</td>\n",
        "      <td> letter B</td>\n",
        "      <td> yes</td>\n",
        "    </tr>\n",
        "    <tr>\n",
        "      <th>3</th>\n",
        "      <td> 110</td>\n",
        "      <td>2013-01-01 00:00:00</td>\n",
        "      <td> letter B</td>\n",
        "      <td> yes</td>\n",
        "    </tr>\n",
        "  </tbody>\n",
        "</table>\n",
        "</div>"
       ],
       "metadata": {},
       "output_type": "pyout",
       "prompt_number": 13,
       "text": [
        "   Amount                Date      Type yes/no\n",
        "0      80 2013-01-01 00:00:00  letter A     no\n",
        "1      90 2013-01-01 00:00:00  letter A     no\n",
        "2     100 2013-01-01 00:00:00  letter B    yes\n",
        "3     110 2013-01-01 00:00:00  letter B    yes"
       ]
      }
     ],
     "prompt_number": 13
    },
    {
     "cell_type": "markdown",
     "metadata": {},
     "source": [
      "**Author:** [David Rojas LLC](http://hdrojas.pythonanywhere.com/)  "
     ]
    }
   ],
   "metadata": {}
  }
 ]
}