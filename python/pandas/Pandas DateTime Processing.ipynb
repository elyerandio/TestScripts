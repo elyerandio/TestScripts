{
 "metadata": {
  "name": ""
 },
 "nbformat": 3,
 "nbformat_minor": 0,
 "worksheets": [
  {
   "cells": [
    {
     "cell_type": "code",
     "collapsed": false,
     "input": [
      "import pandas as pd\n",
      "import numpy as np\n",
      "from datetime import datetime, time\n",
      "from pandas.tseries import offsets"
     ],
     "language": "python",
     "metadata": {},
     "outputs": [],
     "prompt_number": 1
    },
    {
     "cell_type": "markdown",
     "metadata": {},
     "source": [
      "Custom function to count the business days between two dates (inclusive):"
     ]
    },
    {
     "cell_type": "code",
     "collapsed": false,
     "input": [
      "def cntBusDay(dt1, dt2):\n",
      "    holidays = ['2013-12-24', '2013-12-25', '2013-12-30', '2013-12-31', '2014-01-01']\n",
      "    if isinstance(dt1, pd.tslib.Timestamp) == False:\n",
      "        dt1 = pd.to_datetime(dt1)\n",
      "    if isinstance(dt2, pd.tslib.Timestamp) == False:\n",
      "        dt2 = pd.to_datetime(dt2)\n",
      "        \n",
      "    currDate = dt1\n",
      "    count = 0\n",
      "    while currDate <= dt2:\n",
      "        strCurr = currDate.strftime('%Y-%m-%d')\n",
      "        if strCurr not in holidays:\n",
      "            if np.is_busday(np.datetime64(strCurr)):\n",
      "                count += 1\n",
      "                \n",
      "        currDate += pd.DateOffset(days=1)\n",
      "        \n",
      "    return count"
     ],
     "language": "python",
     "metadata": {},
     "outputs": []
    },
    {
     "cell_type": "heading",
     "level": 3,
     "metadata": {},
     "source": [
      "Include rows based on time range"
     ]
    },
    {
     "cell_type": "code",
     "collapsed": true,
     "input": [
      "rng = pd.date_range(pd.datetime.now(), periods=48, freq='H')\n",
      "ts = pd.Series(np.random.randn(len(rng)), index=rng)\n",
      "print ts"
     ],
     "language": "python",
     "metadata": {},
     "outputs": [
      {
       "output_type": "stream",
       "stream": "stdout",
       "text": [
        "2014-01-15 20:45:31.480000   -1.952675\n",
        "2014-01-15 21:45:31.480000   -0.760124\n",
        "2014-01-15 22:45:31.480000    0.323021\n",
        "2014-01-15 23:45:31.480000    1.870490\n",
        "2014-01-16 00:45:31.480000   -1.295680\n",
        "2014-01-16 01:45:31.480000   -1.483282\n",
        "2014-01-16 02:45:31.480000   -0.430507\n",
        "2014-01-16 03:45:31.480000   -0.858585\n",
        "2014-01-16 04:45:31.480000    1.215455\n",
        "2014-01-16 05:45:31.480000   -0.049747\n",
        "2014-01-16 06:45:31.480000   -1.840992\n",
        "2014-01-16 07:45:31.480000   -0.402991\n",
        "2014-01-16 08:45:31.480000    0.004462\n",
        "2014-01-16 09:45:31.480000   -1.447877\n",
        "2014-01-16 10:45:31.480000    1.575132\n",
        "2014-01-16 11:45:31.480000    1.740839\n",
        "2014-01-16 12:45:31.480000   -0.301861\n",
        "2014-01-16 13:45:31.480000   -0.203892\n",
        "2014-01-16 14:45:31.480000   -2.361387\n",
        "2014-01-16 15:45:31.480000    1.920620\n",
        "2014-01-16 16:45:31.480000    0.319750\n",
        "2014-01-16 17:45:31.480000   -1.132919\n",
        "2014-01-16 18:45:31.480000    2.459795\n",
        "2014-01-16 19:45:31.480000    1.102926\n",
        "2014-01-16 20:45:31.480000   -2.584836\n",
        "2014-01-16 21:45:31.480000   -0.857750\n",
        "2014-01-16 22:45:31.480000   -0.268637\n",
        "2014-01-16 23:45:31.480000   -1.277789\n",
        "2014-01-17 00:45:31.480000    0.715220\n",
        "2014-01-17 01:45:31.480000   -1.734645\n",
        "2014-01-17 02:45:31.480000    0.545261\n",
        "2014-01-17 03:45:31.480000   -0.491484\n",
        "2014-01-17 04:45:31.480000    1.032905\n",
        "2014-01-17 05:45:31.480000   -1.283784\n",
        "2014-01-17 06:45:31.480000   -0.461245\n",
        "2014-01-17 07:45:31.480000    0.223754\n",
        "2014-01-17 08:45:31.480000   -0.486781\n",
        "2014-01-17 09:45:31.480000   -1.382581\n",
        "2014-01-17 10:45:31.480000   -0.884970\n",
        "2014-01-17 11:45:31.480000   -1.266936\n",
        "2014-01-17 12:45:31.480000    0.346697\n",
        "2014-01-17 13:45:31.480000   -0.653854\n",
        "2014-01-17 14:45:31.480000   -0.210277\n",
        "2014-01-17 15:45:31.480000    1.040845\n",
        "2014-01-17 16:45:31.480000   -0.669632\n",
        "2014-01-17 17:45:31.480000   -0.895346\n",
        "2014-01-17 18:45:31.480000   -0.316867\n",
        "2014-01-17 19:45:31.480000   -2.053823\n",
        "Freq: H, dtype: float64\n"
       ]
      }
     ],
     "prompt_number": 2
    },
    {
     "cell_type": "markdown",
     "metadata": {},
     "source": [
      "To include those times between 9AM and 6PM (inclusive):"
     ]
    },
    {
     "cell_type": "code",
     "collapsed": true,
     "input": [
      "ts.ix[ts.index.indexer_between_time(time(9), time(18))]"
     ],
     "language": "python",
     "metadata": {},
     "outputs": [
      {
       "metadata": {},
       "output_type": "pyout",
       "prompt_number": 3,
       "text": [
        "2014-01-16 09:45:31.480000   -1.447877\n",
        "2014-01-16 10:45:31.480000    1.575132\n",
        "2014-01-16 11:45:31.480000    1.740839\n",
        "2014-01-16 12:45:31.480000   -0.301861\n",
        "2014-01-16 13:45:31.480000   -0.203892\n",
        "2014-01-16 14:45:31.480000   -2.361387\n",
        "2014-01-16 15:45:31.480000    1.920620\n",
        "2014-01-16 16:45:31.480000    0.319750\n",
        "2014-01-16 17:45:31.480000   -1.132919\n",
        "2014-01-17 09:45:31.480000   -1.382581\n",
        "2014-01-17 10:45:31.480000   -0.884970\n",
        "2014-01-17 11:45:31.480000   -1.266936\n",
        "2014-01-17 12:45:31.480000    0.346697\n",
        "2014-01-17 13:45:31.480000   -0.653854\n",
        "2014-01-17 14:45:31.480000   -0.210277\n",
        "2014-01-17 15:45:31.480000    1.040845\n",
        "2014-01-17 16:45:31.480000   -0.669632\n",
        "2014-01-17 17:45:31.480000   -0.895346\n",
        "dtype: float64"
       ]
      }
     ],
     "prompt_number": 3
    },
    {
     "cell_type": "markdown",
     "metadata": {},
     "source": [
      "    To include those times between 6PM and 9AM (exclusive):"
     ]
    },
    {
     "cell_type": "code",
     "collapsed": true,
     "input": [
      "ts.ix[ts.index.indexer_between_time(start_time=time(18), end_time=time(9), include_start=False, include_end=False)]"
     ],
     "language": "python",
     "metadata": {},
     "outputs": [
      {
       "metadata": {},
       "output_type": "pyout",
       "prompt_number": 4,
       "text": [
        "2014-01-15 20:45:31.480000   -1.952675\n",
        "2014-01-15 21:45:31.480000   -0.760124\n",
        "2014-01-15 22:45:31.480000    0.323021\n",
        "2014-01-15 23:45:31.480000    1.870490\n",
        "2014-01-16 00:45:31.480000   -1.295680\n",
        "2014-01-16 01:45:31.480000   -1.483282\n",
        "2014-01-16 02:45:31.480000   -0.430507\n",
        "2014-01-16 03:45:31.480000   -0.858585\n",
        "2014-01-16 04:45:31.480000    1.215455\n",
        "2014-01-16 05:45:31.480000   -0.049747\n",
        "2014-01-16 06:45:31.480000   -1.840992\n",
        "2014-01-16 07:45:31.480000   -0.402991\n",
        "2014-01-16 08:45:31.480000    0.004462\n",
        "2014-01-16 18:45:31.480000    2.459795\n",
        "2014-01-16 19:45:31.480000    1.102926\n",
        "2014-01-16 20:45:31.480000   -2.584836\n",
        "2014-01-16 21:45:31.480000   -0.857750\n",
        "2014-01-16 22:45:31.480000   -0.268637\n",
        "2014-01-16 23:45:31.480000   -1.277789\n",
        "2014-01-17 00:45:31.480000    0.715220\n",
        "2014-01-17 01:45:31.480000   -1.734645\n",
        "2014-01-17 02:45:31.480000    0.545261\n",
        "2014-01-17 03:45:31.480000   -0.491484\n",
        "2014-01-17 04:45:31.480000    1.032905\n",
        "2014-01-17 05:45:31.480000   -1.283784\n",
        "2014-01-17 06:45:31.480000   -0.461245\n",
        "2014-01-17 07:45:31.480000    0.223754\n",
        "2014-01-17 08:45:31.480000   -0.486781\n",
        "2014-01-17 18:45:31.480000   -0.316867\n",
        "2014-01-17 19:45:31.480000   -2.053823\n",
        "dtype: float64"
       ]
      }
     ],
     "prompt_number": 4
    },
    {
     "cell_type": "markdown",
     "metadata": {},
     "source": [
      "    You can also do:"
     ]
    },
    {
     "cell_type": "code",
     "collapsed": false,
     "input": [
      "ts.ix[time(9) : time(18)]"
     ],
     "language": "python",
     "metadata": {},
     "outputs": [
      {
       "metadata": {},
       "output_type": "pyout",
       "prompt_number": 5,
       "text": [
        "2014-01-16 09:45:31.480000   -1.447877\n",
        "2014-01-16 10:45:31.480000    1.575132\n",
        "2014-01-16 11:45:31.480000    1.740839\n",
        "2014-01-16 12:45:31.480000   -0.301861\n",
        "2014-01-16 13:45:31.480000   -0.203892\n",
        "2014-01-16 14:45:31.480000   -2.361387\n",
        "2014-01-16 15:45:31.480000    1.920620\n",
        "2014-01-16 16:45:31.480000    0.319750\n",
        "2014-01-16 17:45:31.480000   -1.132919\n",
        "2014-01-17 09:45:31.480000   -1.382581\n",
        "2014-01-17 10:45:31.480000   -0.884970\n",
        "2014-01-17 11:45:31.480000   -1.266936\n",
        "2014-01-17 12:45:31.480000    0.346697\n",
        "2014-01-17 13:45:31.480000   -0.653854\n",
        "2014-01-17 14:45:31.480000   -0.210277\n",
        "2014-01-17 15:45:31.480000    1.040845\n",
        "2014-01-17 16:45:31.480000   -0.669632\n",
        "2014-01-17 17:45:31.480000   -0.895346\n",
        "dtype: float64"
       ]
      }
     ],
     "prompt_number": 5
    },
    {
     "cell_type": "code",
     "collapsed": false,
     "input": [
      "prices"
     ],
     "language": "python",
     "metadata": {},
     "outputs": [
      {
       "ename": "NameError",
       "evalue": "name 'prices' is not defined",
       "output_type": "pyerr",
       "traceback": [
        "\u001b[1;31m---------------------------------------------------------------------------\u001b[0m\n\u001b[1;31mNameError\u001b[0m                                 Traceback (most recent call last)",
        "\u001b[1;32m<ipython-input-6-08b027cc0bb7>\u001b[0m in \u001b[0;36m<module>\u001b[1;34m()\u001b[0m\n\u001b[1;32m----> 1\u001b[1;33m \u001b[0mprices\u001b[0m\u001b[1;33m\u001b[0m\u001b[0m\n\u001b[0m",
        "\u001b[1;31mNameError\u001b[0m: name 'prices' is not defined"
       ]
      }
     ],
     "prompt_number": 6
    },
    {
     "cell_type": "code",
     "collapsed": false,
     "input": [
      "orders.columns=['Date','direction','size','ticker','prices']"
     ],
     "language": "python",
     "metadata": {},
     "outputs": []
    },
    {
     "cell_type": "code",
     "collapsed": false,
     "input": [
      "orders['new'] = prices.lookup(orders.Date, orders.ticker)"
     ],
     "language": "python",
     "metadata": {},
     "outputs": []
    },
    {
     "cell_type": "code",
     "collapsed": false,
     "input": [
      "orders"
     ],
     "language": "python",
     "metadata": {},
     "outputs": []
    },
    {
     "cell_type": "code",
     "collapsed": false,
     "input": [
      "orders = pd.read_clipboard(header=None)\n",
      "orders\n"
     ],
     "language": "python",
     "metadata": {},
     "outputs": []
    },
    {
     "cell_type": "code",
     "collapsed": false,
     "input": [
      "orders.index"
     ],
     "language": "python",
     "metadata": {},
     "outputs": []
    },
    {
     "cell_type": "code",
     "collapsed": false,
     "input": [
      "index = pd.date_range('2013-1-1', periods=10, freq='15Min')\n",
      "data = pd.DataFrame(range(1,11), index=index, columns=['value'])"
     ],
     "language": "python",
     "metadata": {},
     "outputs": []
    },
    {
     "cell_type": "code",
     "collapsed": false,
     "input": [
      "data"
     ],
     "language": "python",
     "metadata": {},
     "outputs": []
    },
    {
     "cell_type": "code",
     "collapsed": false,
     "input": [
      "data.ix[data.index.indexer_between_time(time(1,15), time(1,45))]"
     ],
     "language": "python",
     "metadata": {},
     "outputs": []
    },
    {
     "cell_type": "code",
     "collapsed": false,
     "input": [
      "data.ix[time(1,15):time(2,0)]"
     ],
     "language": "python",
     "metadata": {},
     "outputs": []
    },
    {
     "cell_type": "code",
     "collapsed": false,
     "input": [
      "rng = pd.date_range('1/1/2012', periods=100, freq='S')\n",
      "ts = pd.Series(np.random.randint(0,500, len(rng)), index=rng)"
     ],
     "language": "python",
     "metadata": {},
     "outputs": []
    },
    {
     "cell_type": "code",
     "collapsed": false,
     "input": [
      "ts"
     ],
     "language": "python",
     "metadata": {},
     "outputs": []
    },
    {
     "cell_type": "code",
     "collapsed": false,
     "input": [
      "ts.resample('5S', how='sum')"
     ],
     "language": "python",
     "metadata": {},
     "outputs": []
    },
    {
     "cell_type": "code",
     "collapsed": false,
     "input": [
      "ts.resample('5S', how='ohlc')"
     ],
     "language": "python",
     "metadata": {},
     "outputs": []
    },
    {
     "cell_type": "code",
     "collapsed": false,
     "input": [
      "rng = pd.bdate_range('2014-01-01', periods=60)\n",
      "list(rng)"
     ],
     "language": "python",
     "metadata": {},
     "outputs": [
      {
       "metadata": {},
       "output_type": "pyout",
       "prompt_number": 7,
       "text": [
        "[Timestamp('2014-01-01 00:00:00', tz=None),\n",
        " Timestamp('2014-01-02 00:00:00', tz=None),\n",
        " Timestamp('2014-01-03 00:00:00', tz=None),\n",
        " Timestamp('2014-01-06 00:00:00', tz=None),\n",
        " Timestamp('2014-01-07 00:00:00', tz=None),\n",
        " Timestamp('2014-01-08 00:00:00', tz=None),\n",
        " Timestamp('2014-01-09 00:00:00', tz=None),\n",
        " Timestamp('2014-01-10 00:00:00', tz=None),\n",
        " Timestamp('2014-01-13 00:00:00', tz=None),\n",
        " Timestamp('2014-01-14 00:00:00', tz=None),\n",
        " Timestamp('2014-01-15 00:00:00', tz=None),\n",
        " Timestamp('2014-01-16 00:00:00', tz=None),\n",
        " Timestamp('2014-01-17 00:00:00', tz=None),\n",
        " Timestamp('2014-01-20 00:00:00', tz=None),\n",
        " Timestamp('2014-01-21 00:00:00', tz=None),\n",
        " Timestamp('2014-01-22 00:00:00', tz=None),\n",
        " Timestamp('2014-01-23 00:00:00', tz=None),\n",
        " Timestamp('2014-01-24 00:00:00', tz=None),\n",
        " Timestamp('2014-01-27 00:00:00', tz=None),\n",
        " Timestamp('2014-01-28 00:00:00', tz=None),\n",
        " Timestamp('2014-01-29 00:00:00', tz=None),\n",
        " Timestamp('2014-01-30 00:00:00', tz=None),\n",
        " Timestamp('2014-01-31 00:00:00', tz=None),\n",
        " Timestamp('2014-02-03 00:00:00', tz=None),\n",
        " Timestamp('2014-02-04 00:00:00', tz=None),\n",
        " Timestamp('2014-02-05 00:00:00', tz=None),\n",
        " Timestamp('2014-02-06 00:00:00', tz=None),\n",
        " Timestamp('2014-02-07 00:00:00', tz=None),\n",
        " Timestamp('2014-02-10 00:00:00', tz=None),\n",
        " Timestamp('2014-02-11 00:00:00', tz=None),\n",
        " Timestamp('2014-02-12 00:00:00', tz=None),\n",
        " Timestamp('2014-02-13 00:00:00', tz=None),\n",
        " Timestamp('2014-02-14 00:00:00', tz=None),\n",
        " Timestamp('2014-02-17 00:00:00', tz=None),\n",
        " Timestamp('2014-02-18 00:00:00', tz=None),\n",
        " Timestamp('2014-02-19 00:00:00', tz=None),\n",
        " Timestamp('2014-02-20 00:00:00', tz=None),\n",
        " Timestamp('2014-02-21 00:00:00', tz=None),\n",
        " Timestamp('2014-02-24 00:00:00', tz=None),\n",
        " Timestamp('2014-02-25 00:00:00', tz=None),\n",
        " Timestamp('2014-02-26 00:00:00', tz=None),\n",
        " Timestamp('2014-02-27 00:00:00', tz=None),\n",
        " Timestamp('2014-02-28 00:00:00', tz=None),\n",
        " Timestamp('2014-03-03 00:00:00', tz=None),\n",
        " Timestamp('2014-03-04 00:00:00', tz=None),\n",
        " Timestamp('2014-03-05 00:00:00', tz=None),\n",
        " Timestamp('2014-03-06 00:00:00', tz=None),\n",
        " Timestamp('2014-03-07 00:00:00', tz=None),\n",
        " Timestamp('2014-03-10 00:00:00', tz=None),\n",
        " Timestamp('2014-03-11 00:00:00', tz=None),\n",
        " Timestamp('2014-03-12 00:00:00', tz=None),\n",
        " Timestamp('2014-03-13 00:00:00', tz=None),\n",
        " Timestamp('2014-03-14 00:00:00', tz=None),\n",
        " Timestamp('2014-03-17 00:00:00', tz=None),\n",
        " Timestamp('2014-03-18 00:00:00', tz=None),\n",
        " Timestamp('2014-03-19 00:00:00', tz=None),\n",
        " Timestamp('2014-03-20 00:00:00', tz=None),\n",
        " Timestamp('2014-03-21 00:00:00', tz=None),\n",
        " Timestamp('2014-03-24 00:00:00', tz=None),\n",
        " Timestamp('2014-03-25 00:00:00', tz=None)]"
       ]
      }
     ],
     "prompt_number": 7
    },
    {
     "cell_type": "code",
     "collapsed": false,
     "input": [
      "from pandas.tseries.offsets import *"
     ],
     "language": "python",
     "metadata": {},
     "outputs": [],
     "prompt_number": 2
    },
    {
     "cell_type": "code",
     "collapsed": false,
     "input": [
      "holidays=['2013-12-24', '2013-12-25','2013-12-30','2013-12-31']\n",
      "cd = CDay(holidays=holidays)"
     ],
     "language": "python",
     "metadata": {},
     "outputs": [],
     "prompt_number": 11
    },
    {
     "cell_type": "code",
     "collapsed": false,
     "input": [
      "s = pd.TimeSeries(np.random.randn(10), index=pd.date_range('2014-01-01', periods=10))\n",
      "s + pd.DateOffset?"
     ],
     "language": "python",
     "metadata": {},
     "outputs": [],
     "prompt_number": 18
    },
    {
     "cell_type": "code",
     "collapsed": false,
     "input": [
      "s + pd.DateOffset"
     ],
     "language": "python",
     "metadata": {},
     "outputs": []
    },
    {
     "cell_type": "code",
     "collapsed": false,
     "input": [
      "s.asfreq(BDay())"
     ],
     "language": "python",
     "metadata": {},
     "outputs": [
      {
       "metadata": {},
       "output_type": "pyout",
       "prompt_number": 16,
       "text": [
        "2014-01-01    1.400794\n",
        "2014-01-02   -0.766921\n",
        "2014-01-03   -0.992878\n",
        "2014-01-06   -0.728791\n",
        "2014-01-07    0.112703\n",
        "2014-01-08    0.374598\n",
        "2014-01-09    0.551914\n",
        "2014-01-10   -1.076554\n",
        "Freq: B, dtype: float64"
       ]
      }
     ],
     "prompt_number": 16
    },
    {
     "cell_type": "code",
     "collapsed": false,
     "input": [
      "np.datetime64('2013-12-25')"
     ],
     "language": "python",
     "metadata": {},
     "outputs": [
      {
       "metadata": {},
       "output_type": "pyout",
       "prompt_number": 65,
       "text": [
        "numpy.datetime64('2013-12-25')"
       ]
      }
     ],
     "prompt_number": 65
    },
    {
     "cell_type": "code",
     "collapsed": false,
     "input": [
      "t = pd.to_datetime('2014-1-5')\n",
      "print t\n",
      "print t.strftime('%Y-%m-%d')\n",
      "print np.is_busday(np.datetime64(t.strftime('%Y-%m-%d')))"
     ],
     "language": "python",
     "metadata": {},
     "outputs": [
      {
       "output_type": "stream",
       "stream": "stdout",
       "text": [
        "2014-01-05 00:00:00\n",
        "2014-01-05\n",
        "False\n"
       ]
      }
     ],
     "prompt_number": 82
    },
    {
     "cell_type": "code",
     "collapsed": false,
     "input": [
      "def cntBusDay(dt1, dt2):\n",
      "    holidays = ['2013-12-24', '2013-12-25', '2013-12-30', '2013-12-31', '2014-01-01']\n",
      "    if isinstance(dt1, pd.tslib.Timestamp) == False:\n",
      "        dt1 = pd.to_datetime(dt1)\n",
      "    if isinstance(dt2, pd.tslib.Timestamp) == False:\n",
      "        dt2 = pd.to_datetime(dt2)\n",
      "        \n",
      "    currDate = dt1\n",
      "    count = 0\n",
      "    while currDate <= dt2:\n",
      "        strCurr = currDate.strftime('%Y-%m-%d')\n",
      "        if strCurr not in holidays:\n",
      "            if np.is_busday(np.datetime64(strCurr)):\n",
      "                count += 1\n",
      "                \n",
      "        currDate += pd.DateOffset(days=1)\n",
      "        \n",
      "    return count\n",
      "        "
     ],
     "language": "python",
     "metadata": {},
     "outputs": [],
     "prompt_number": 90
    },
    {
     "cell_type": "code",
     "collapsed": false,
     "input": [
      "cnt = cntBusDay('2013-12-20', '2014-1-3')\n",
      "print cnt"
     ],
     "language": "python",
     "metadata": {},
     "outputs": [
      {
       "output_type": "stream",
       "stream": "stdout",
       "text": [
        "6\n"
       ]
      }
     ],
     "prompt_number": 91
    },
    {
     "cell_type": "code",
     "collapsed": true,
     "input": [
      "ts = pd.to_datetime('12/31/2013')\n",
      "type(ts)\n",
      "isinstance(ts, pandas.tslib.Timestamp)"
     ],
     "language": "python",
     "metadata": {},
     "outputs": [
      {
       "ename": "NameError",
       "evalue": "name 'pandas' is not defined",
       "output_type": "pyerr",
       "traceback": [
        "\u001b[1;31m---------------------------------------------------------------------------\u001b[0m\n\u001b[1;31mNameError\u001b[0m                                 Traceback (most recent call last)",
        "\u001b[1;32m<ipython-input-35-23caa63fea45>\u001b[0m in \u001b[0;36m<module>\u001b[1;34m()\u001b[0m\n\u001b[0;32m      1\u001b[0m \u001b[0mts\u001b[0m \u001b[1;33m=\u001b[0m \u001b[0mpd\u001b[0m\u001b[1;33m.\u001b[0m\u001b[0mto_datetime\u001b[0m\u001b[1;33m(\u001b[0m\u001b[1;34m'12/31/2013'\u001b[0m\u001b[1;33m)\u001b[0m\u001b[1;33m\u001b[0m\u001b[0m\n\u001b[0;32m      2\u001b[0m \u001b[0mtype\u001b[0m\u001b[1;33m(\u001b[0m\u001b[0mts\u001b[0m\u001b[1;33m)\u001b[0m\u001b[1;33m\u001b[0m\u001b[0m\n\u001b[1;32m----> 3\u001b[1;33m \u001b[0misinstance\u001b[0m\u001b[1;33m(\u001b[0m\u001b[0mts\u001b[0m\u001b[1;33m,\u001b[0m \u001b[0mpandas\u001b[0m\u001b[1;33m.\u001b[0m\u001b[0mtslib\u001b[0m\u001b[1;33m.\u001b[0m\u001b[0mTimestamp\u001b[0m\u001b[1;33m)\u001b[0m\u001b[1;33m\u001b[0m\u001b[0m\n\u001b[0m",
        "\u001b[1;31mNameError\u001b[0m: name 'pandas' is not defined"
       ]
      }
     ],
     "prompt_number": 35
    },
    {
     "cell_type": "code",
     "collapsed": false,
     "input": [
      "ts.year"
     ],
     "language": "python",
     "metadata": {},
     "outputs": [
      {
       "metadata": {},
       "output_type": "pyout",
       "prompt_number": 94,
       "text": [
        "2013"
       ]
      }
     ],
     "prompt_number": 94
    }
   ],
   "metadata": {}
  }
 ]
}