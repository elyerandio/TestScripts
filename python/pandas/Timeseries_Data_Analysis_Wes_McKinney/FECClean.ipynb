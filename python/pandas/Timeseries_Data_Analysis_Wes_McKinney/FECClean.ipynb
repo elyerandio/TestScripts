{
 "metadata": {
  "name": "FECClean"
 },
 "nbformat": 3,
 "nbformat_minor": 0,
 "worksheets": [
  {
   "cells": [
    {
     "cell_type": "code",
     "collapsed": false,
     "input": [
      "from pandas import Series, DataFrame\n",
      "import pandas as pd\n",
      "import numpy as np\n",
      "from datetime import datetime\n",
      "pd.set_printoptions(notebook_repr_html=False)\n",
      "\n",
      "from pandas import *\n",
      "\n",
      "import matplotlib as mpl\n",
      "mpl.rc('figure', figsize=(12, 6))\n",
      "set_printoptions(max_columns=18)\n",
      "months = {'JAN' : 1, 'FEB' : 2, 'MAR' : 3, 'APR' : 4, 'MAY' : 5, 'JUN' : 6,\n",
      "          'JUL' : 7, 'AUG' : 8, 'SEP' : 9, 'OCT': 10, 'NOV': 11, 'DEC' : 12}\n",
      "of_interest = ['Obama, Barack', 'Romney, Mitt', 'Santorum, Rick', \n",
      "               'Paul, Ron', 'Gingrich, Newt']\n",
      "set_printoptions(notebook_repr_html=False)\n",
      "parties = {\n",
      "  'Bachmann, Michelle': 'Republican',\n",
      "  'Romney, Mitt': 'Republican',\n",
      "  'Obama, Barack': 'Democrat',\n",
      "  \"Roemer, Charles E. 'Buddy' III\": 'Republican',\n",
      "  'Pawlenty, Timothy': 'Republican',\n",
      "  'Johnson, Gary Earl': 'Republican',\n",
      "  'Paul, Ron': 'Republican',\n",
      "  'Santorum, Rick': 'Republican',\n",
      "  'Cain, Herman': 'Republican',\n",
      "  'Gingrich, Newt': 'Republican',\n",
      "  'McCotter, Thaddeus G': 'Republican',\n",
      "  'Huntsman, Jon': 'Republican',\n",
      "  'Perry, Rick': 'Republican'           \n",
      " }\n",
      "main_cands = ['Obama, Barack', 'Romney, Mitt']\n",
      "occ_mapping = {\n",
      "   'INFORMATION REQUESTED PER BEST EFFORTS' : 'NOT PROVIDED',\n",
      "   'INFORMATION REQUESTED' : 'NOT PROVIDED',\n",
      "   'INFORMATION REQUESTED (BEST EFFORTS)' : 'NOT PROVIDED'\n",
      "}"
     ],
     "language": "python",
     "metadata": {},
     "outputs": [],
     "prompt_number": 12
    },
    {
     "cell_type": "code",
     "collapsed": false,
     "input": [
      "fec = pd.load('data/fec.pickle')"
     ],
     "language": "python",
     "metadata": {},
     "outputs": [],
     "prompt_number": 3
    },
    {
     "cell_type": "code",
     "collapsed": false,
     "input": [
      "months = {'JAN' : 1, 'FEB' : 2, 'MAR' : 3, 'APR' : 4, 'MAY' : 5, 'JUN' : 6,\n",
      "          'JUL' : 7, 'AUG' : 8, 'SEP' : 9, 'OCT': 10, 'NOV': 11, 'DEC' : 12}\n",
      "def convert_date(datestr):\n",
      "    pass\n",
      "fec.contb_receipt_dt = fec.contb_receipt_dt.map(convert_date)"
     ],
     "language": "python",
     "metadata": {},
     "outputs": [],
     "prompt_number": 4
    },
    {
     "cell_type": "code",
     "collapsed": false,
     "input": [
      "#bins = np.array([0, 1, 10, 100, 1000, 10000, 100000, 1000000, 10000000])\n",
      "bins = np.array([0, 1, 10, 100, 1000, 10000])\n",
      "\n",
      "labels = cut(fec.contb_receipt_amt, bins)\n",
      "labels"
     ],
     "language": "python",
     "metadata": {},
     "outputs": [
      {
       "output_type": "pyout",
       "prompt_number": 46,
       "text": [
        "Categorical: contb_receipt_amt\n",
        "array([(100, 1000], (10, 100], (100, 1000], ..., (100, 1000], (100, 1000],\n",
        "       (1000, 10000]], dtype=object)\n",
        "Levels (5): Index([(0, 1], (1, 10], (10, 100], (100, 1000],\n",
        "                   (1000, 10000]], dtype=object)"
       ]
      }
     ],
     "prompt_number": 46
    },
    {
     "cell_type": "code",
     "collapsed": false,
     "input": [],
     "language": "python",
     "metadata": {},
     "outputs": []
    }
   ],
   "metadata": {}
  }
 ]
}