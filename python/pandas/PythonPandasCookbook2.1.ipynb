


<!DOCTYPE html>
<html>
  <head prefix="og: http://ogp.me/ns# fb: http://ogp.me/ns/fb# githubog: http://ogp.me/ns/fb/githubog#">
    <meta charset='utf-8'>
    <meta http-equiv="X-UA-Compatible" content="IE=edge">
        <title>pdacookbook/PythonPandasCookbook2.1.ipynb at master · alfredessa/pdacookbook · GitHub</title>
    <link rel="search" type="application/opensearchdescription+xml" href="/opensearch.xml" title="GitHub" />
    <link rel="fluid-icon" href="https://github.com/fluidicon.png" title="GitHub" />
    <link rel="apple-touch-icon" sizes="57x57" href="/apple-touch-icon-114.png" />
    <link rel="apple-touch-icon" sizes="114x114" href="/apple-touch-icon-114.png" />
    <link rel="apple-touch-icon" sizes="72x72" href="/apple-touch-icon-144.png" />
    <link rel="apple-touch-icon" sizes="144x144" href="/apple-touch-icon-144.png" />
    <link rel="logo" type="image/svg" href="https://github-media-downloads.s3.amazonaws.com/github-logo.svg" />
    <meta property="og:image" content="https://github.global.ssl.fastly.net/images/modules/logos_page/Octocat.png">
    <meta name="hostname" content="github-fe134-cp1-prd.iad.github.net">
    <meta name="ruby" content="ruby 1.9.3p194-tcs-github-tcmalloc (a846054d10) [x86_64-linux]">
    <link rel="assets" href="https://github.global.ssl.fastly.net/">
    <link rel="conduit-xhr" href="https://ghconduit.com:25035/">
    <link rel="xhr-socket" href="/_sockets" />
    


    <meta name="msapplication-TileImage" content="/windows-tile.png" />
    <meta name="msapplication-TileColor" content="#ffffff" />
    <meta name="selected-link" value="repo_source" data-pjax-transient />
    <meta content="collector.githubapp.com" name="octolytics-host" /><meta content="collector-cdn.github.com" name="octolytics-script-host" /><meta content="github" name="octolytics-app-id" /><meta content="7C69ABA3:2C5C:A5B046B:52CE117D" name="octolytics-dimension-request_id" />
    

    
    
    <link rel="icon" type="image/x-icon" href="/favicon.ico" />

    <meta content="authenticity_token" name="csrf-param" />
<meta content="T4vp5XehkJP3n4WHB6ylmMWBChxZB7WuRpB0fWcs400=" name="csrf-token" />

    <link href="https://github.global.ssl.fastly.net/assets/github-97a08d0c62ded290cae46fd72fc0a38c835777a6.css" media="all" rel="stylesheet" type="text/css" />
    <link href="https://github.global.ssl.fastly.net/assets/github2-e9fa70a28908749635706b3edcc1dad6bfaa378c.css" media="all" rel="stylesheet" type="text/css" />
    

    

      <script src="https://github.global.ssl.fastly.net/assets/frameworks-f864e0f9990e40f4ed2c1c489df6fcb87cdd550c.js" type="text/javascript"></script>
      <script src="https://github.global.ssl.fastly.net/assets/github-8445c06fdba3e483f314fe49bb3fd2316231a3e4.js" type="text/javascript"></script>
      
      <meta http-equiv="x-pjax-version" content="1c98f1cbbcc7c50cd04d54b4f43ffc42">

        <link data-pjax-transient rel='permalink' href='/alfredessa/pdacookbook/blob/cc1ff603dc5468691861d9f8589be45a44c355c6/PythonPandasCookbook2.1.ipynb'>
  <meta property="og:title" content="pdacookbook"/>
  <meta property="og:type" content="githubog:gitrepository"/>
  <meta property="og:url" content="https://github.com/alfredessa/pdacookbook"/>
  <meta property="og:image" content="https://github.global.ssl.fastly.net/images/gravatars/gravatar-user-420.png"/>
  <meta property="og:site_name" content="GitHub"/>
  <meta property="og:description" content="pdacookbook - Python Pandas Cookbook"/>

  <meta name="description" content="pdacookbook - Python Pandas Cookbook" />

  <meta content="3757284" name="octolytics-dimension-user_id" /><meta content="alfredessa" name="octolytics-dimension-user_login" /><meta content="11933446" name="octolytics-dimension-repository_id" /><meta content="alfredessa/pdacookbook" name="octolytics-dimension-repository_nwo" /><meta content="true" name="octolytics-dimension-repository_public" /><meta content="false" name="octolytics-dimension-repository_is_fork" /><meta content="11933446" name="octolytics-dimension-repository_network_root_id" /><meta content="alfredessa/pdacookbook" name="octolytics-dimension-repository_network_root_nwo" />
  <link href="https://github.com/alfredessa/pdacookbook/commits/master.atom" rel="alternate" title="Recent Commits to pdacookbook:master" type="application/atom+xml" />

  </head>


  <body class="logged_out  env-production windows vis-public page-blob">
    <div class="wrapper">
      
      
      
      


      
      <div class="header header-logged-out">
  <div class="container clearfix">

    <a class="header-logo-wordmark" href="https://github.com/">
      <span class="mega-octicon octicon-logo-github"></span>
    </a>

    <div class="header-actions">
        <a class="button primary" href="/join">Sign up</a>
      <a class="button signin" href="/login?return_to=%2Falfredessa%2Fpdacookbook%2Fblob%2Fmaster%2FPythonPandasCookbook2.1.ipynb">Sign in</a>
    </div>

    <div class="command-bar js-command-bar  in-repository">

      <ul class="top-nav">
          <li class="explore"><a href="/explore">Explore</a></li>
        <li class="features"><a href="/features">Features</a></li>
          <li class="enterprise"><a href="https://enterprise.github.com/">Enterprise</a></li>
          <li class="blog"><a href="/blog">Blog</a></li>
      </ul>
        <form accept-charset="UTF-8" action="/search" class="command-bar-form" id="top_search_form" method="get">

<input type="text" data-hotkey=" s" name="q" id="js-command-bar-field" placeholder="Search or type a command" tabindex="1" autocapitalize="off"
    
    
      data-repo="alfredessa/pdacookbook"
      data-branch="master"
      data-sha="82681eb755835865e516226ea1fcbb7e1dff274a"
  >

    <input type="hidden" name="nwo" value="alfredessa/pdacookbook" />

    <div class="select-menu js-menu-container js-select-menu search-context-select-menu">
      <span class="minibutton select-menu-button js-menu-target">
        <span class="js-select-button">This repository</span>
      </span>

      <div class="select-menu-modal-holder js-menu-content js-navigation-container">
        <div class="select-menu-modal">

          <div class="select-menu-item js-navigation-item js-this-repository-navigation-item selected">
            <span class="select-menu-item-icon octicon octicon-check"></span>
            <input type="radio" class="js-search-this-repository" name="search_target" value="repository" checked="checked" />
            <div class="select-menu-item-text js-select-button-text">This repository</div>
          </div> <!-- /.select-menu-item -->

          <div class="select-menu-item js-navigation-item js-all-repositories-navigation-item">
            <span class="select-menu-item-icon octicon octicon-check"></span>
            <input type="radio" name="search_target" value="global" />
            <div class="select-menu-item-text js-select-button-text">All repositories</div>
          </div> <!-- /.select-menu-item -->

        </div>
      </div>
    </div>

  <span class="octicon help tooltipped downwards" title="Show command bar help">
    <span class="octicon octicon-question"></span>
  </span>


  <input type="hidden" name="ref" value="cmdform">

</form>
    </div>

  </div>
</div>


      


          <div class="site" itemscope itemtype="http://schema.org/WebPage">
    
    <div class="pagehead repohead instapaper_ignore readability-menu">
      <div class="container">
        

<ul class="pagehead-actions">


  <li>
    <a href="/login?return_to=%2Falfredessa%2Fpdacookbook"
    class="minibutton with-count js-toggler-target star-button tooltipped upwards"
    title="You must be signed in to use this feature" rel="nofollow">
    <span class="octicon octicon-star"></span>Star
  </a>

    <a class="social-count js-social-count" href="/alfredessa/pdacookbook/stargazers">
      0
    </a>

  </li>

    <li>
      <a href="/login?return_to=%2Falfredessa%2Fpdacookbook"
        class="minibutton with-count js-toggler-target fork-button tooltipped upwards"
        title="You must be signed in to fork a repository" rel="nofollow">
        <span class="octicon octicon-git-branch"></span>Fork
      </a>
      <a href="/alfredessa/pdacookbook/network" class="social-count">
        5
      </a>
    </li>
</ul>

        <h1 itemscope itemtype="http://data-vocabulary.org/Breadcrumb" class="entry-title public">
          <span class="repo-label"><span>public</span></span>
          <span class="mega-octicon octicon-repo"></span>
          <span class="author">
            <a href="/alfredessa" class="url fn" itemprop="url" rel="author"><span itemprop="title">alfredessa</span></a>
          </span>
          <span class="repohead-name-divider">/</span>
          <strong><a href="/alfredessa/pdacookbook" class="js-current-repository js-repo-home-link">pdacookbook</a></strong>

          <span class="page-context-loader">
            <img alt="Octocat-spinner-32" height="16" src="https://github.global.ssl.fastly.net/images/spinners/octocat-spinner-32.gif" width="16" />
          </span>

        </h1>
      </div><!-- /.container -->
    </div><!-- /.repohead -->

    <div class="container">
      

      <div class="repository-with-sidebar repo-container  ">

        <div class="repository-sidebar">
            

<div class="sunken-menu vertical-right repo-nav js-repo-nav js-repository-container-pjax js-octicon-loaders">
  <div class="sunken-menu-contents">
    <ul class="sunken-menu-group">
      <li class="tooltipped leftwards" title="Code">
        <a href="/alfredessa/pdacookbook" aria-label="Code" class="selected js-selected-navigation-item sunken-menu-item" data-gotokey="c" data-pjax="true" data-selected-links="repo_source repo_downloads repo_commits repo_tags repo_branches /alfredessa/pdacookbook">
          <span class="octicon octicon-code"></span> <span class="full-word">Code</span>
          <img alt="Octocat-spinner-32" class="mini-loader" height="16" src="https://github.global.ssl.fastly.net/images/spinners/octocat-spinner-32.gif" width="16" />
</a>      </li>

        <li class="tooltipped leftwards" title="Issues">
          <a href="/alfredessa/pdacookbook/issues" aria-label="Issues" class="js-selected-navigation-item sunken-menu-item js-disable-pjax" data-gotokey="i" data-selected-links="repo_issues /alfredessa/pdacookbook/issues">
            <span class="octicon octicon-issue-opened"></span> <span class="full-word">Issues</span>
            <span class='counter'>0</span>
            <img alt="Octocat-spinner-32" class="mini-loader" height="16" src="https://github.global.ssl.fastly.net/images/spinners/octocat-spinner-32.gif" width="16" />
</a>        </li>

      <li class="tooltipped leftwards" title="Pull Requests">
        <a href="/alfredessa/pdacookbook/pulls" aria-label="Pull Requests" class="js-selected-navigation-item sunken-menu-item js-disable-pjax" data-gotokey="p" data-selected-links="repo_pulls /alfredessa/pdacookbook/pulls">
            <span class="octicon octicon-git-pull-request"></span> <span class="full-word">Pull Requests</span>
            <span class='counter'>0</span>
            <img alt="Octocat-spinner-32" class="mini-loader" height="16" src="https://github.global.ssl.fastly.net/images/spinners/octocat-spinner-32.gif" width="16" />
</a>      </li>


    </ul>
    <div class="sunken-menu-separator"></div>
    <ul class="sunken-menu-group">

      <li class="tooltipped leftwards" title="Pulse">
        <a href="/alfredessa/pdacookbook/pulse" aria-label="Pulse" class="js-selected-navigation-item sunken-menu-item" data-pjax="true" data-selected-links="pulse /alfredessa/pdacookbook/pulse">
          <span class="octicon octicon-pulse"></span> <span class="full-word">Pulse</span>
          <img alt="Octocat-spinner-32" class="mini-loader" height="16" src="https://github.global.ssl.fastly.net/images/spinners/octocat-spinner-32.gif" width="16" />
</a>      </li>

      <li class="tooltipped leftwards" title="Graphs">
        <a href="/alfredessa/pdacookbook/graphs" aria-label="Graphs" class="js-selected-navigation-item sunken-menu-item" data-pjax="true" data-selected-links="repo_graphs repo_contributors /alfredessa/pdacookbook/graphs">
          <span class="octicon octicon-graph"></span> <span class="full-word">Graphs</span>
          <img alt="Octocat-spinner-32" class="mini-loader" height="16" src="https://github.global.ssl.fastly.net/images/spinners/octocat-spinner-32.gif" width="16" />
</a>      </li>

      <li class="tooltipped leftwards" title="Network">
        <a href="/alfredessa/pdacookbook/network" aria-label="Network" class="js-selected-navigation-item sunken-menu-item js-disable-pjax" data-selected-links="repo_network /alfredessa/pdacookbook/network">
          <span class="octicon octicon-git-branch"></span> <span class="full-word">Network</span>
          <img alt="Octocat-spinner-32" class="mini-loader" height="16" src="https://github.global.ssl.fastly.net/images/spinners/octocat-spinner-32.gif" width="16" />
</a>      </li>
    </ul>


  </div>
</div>

            <div class="only-with-full-nav">
              

  

<div class="clone-url open"
  data-protocol-type="http"
  data-url="/users/set_protocol?protocol_selector=http&amp;protocol_type=clone">
  <h3><strong>HTTPS</strong> clone URL</h3>
  <div class="clone-url-box">
    <input type="text" class="clone js-url-field"
           value="https://github.com/alfredessa/pdacookbook.git" readonly="readonly">

    <span class="js-zeroclipboard url-box-clippy minibutton zeroclipboard-button" data-clipboard-text="https://github.com/alfredessa/pdacookbook.git" data-copied-hint="copied!" title="copy to clipboard"><span class="octicon octicon-clippy"></span></span>
  </div>
</div>

  

<div class="clone-url "
  data-protocol-type="subversion"
  data-url="/users/set_protocol?protocol_selector=subversion&amp;protocol_type=clone">
  <h3><strong>Subversion</strong> checkout URL</h3>
  <div class="clone-url-box">
    <input type="text" class="clone js-url-field"
           value="https://github.com/alfredessa/pdacookbook" readonly="readonly">

    <span class="js-zeroclipboard url-box-clippy minibutton zeroclipboard-button" data-clipboard-text="https://github.com/alfredessa/pdacookbook" data-copied-hint="copied!" title="copy to clipboard"><span class="octicon octicon-clippy"></span></span>
  </div>
</div>


<p class="clone-options">You can clone with
      <a href="#" class="js-clone-selector" data-protocol="http">HTTPS</a>,
      or <a href="#" class="js-clone-selector" data-protocol="subversion">Subversion</a>.
  <span class="octicon help tooltipped upwards" title="Get help on which URL is right for you.">
    <a href="https://help.github.com/articles/which-remote-url-should-i-use">
    <span class="octicon octicon-question"></span>
    </a>
  </span>
</p>


  <a href="http://windows.github.com" class="minibutton sidebar-button">
    <span class="octicon octicon-device-desktop"></span>
    Clone in Desktop
  </a>

              <a href="/alfredessa/pdacookbook/archive/master.zip"
                 class="minibutton sidebar-button"
                 title="Download this repository as a zip file"
                 rel="nofollow">
                <span class="octicon octicon-cloud-download"></span>
                Download ZIP
              </a>
            </div>
        </div><!-- /.repository-sidebar -->

        <div id="js-repo-pjax-container" class="repository-content context-loader-container" data-pjax-container>
          


<!-- blob contrib key: blob_contributors:v21:fc842ac447f92de6a8272e5c2a28fbb7 -->

<p title="This is a placeholder element" class="js-history-link-replace hidden"></p>

<a href="/alfredessa/pdacookbook/find/master" data-pjax data-hotkey="t" class="js-show-file-finder" style="display:none">Show File Finder</a>

<div class="file-navigation">
  

<div class="select-menu js-menu-container js-select-menu" >
  <span class="minibutton select-menu-button js-menu-target" data-hotkey="w"
    data-master-branch="master"
    data-ref="master"
    role="button" aria-label="Switch branches or tags" tabindex="0">
    <span class="octicon octicon-git-branch"></span>
    <i>branch:</i>
    <span class="js-select-button">master</span>
  </span>

  <div class="select-menu-modal-holder js-menu-content js-navigation-container" data-pjax>

    <div class="select-menu-modal">
      <div class="select-menu-header">
        <span class="select-menu-title">Switch branches/tags</span>
        <span class="octicon octicon-remove-close js-menu-close"></span>
      </div> <!-- /.select-menu-header -->

      <div class="select-menu-filters">
        <div class="select-menu-text-filter">
          <input type="text" aria-label="Filter branches/tags" id="context-commitish-filter-field" class="js-filterable-field js-navigation-enable" placeholder="Filter branches/tags">
        </div>
        <div class="select-menu-tabs">
          <ul>
            <li class="select-menu-tab">
              <a href="#" data-tab-filter="branches" class="js-select-menu-tab">Branches</a>
            </li>
            <li class="select-menu-tab">
              <a href="#" data-tab-filter="tags" class="js-select-menu-tab">Tags</a>
            </li>
          </ul>
        </div><!-- /.select-menu-tabs -->
      </div><!-- /.select-menu-filters -->

      <div class="select-menu-list select-menu-tab-bucket js-select-menu-tab-bucket" data-tab-filter="branches">

        <div data-filterable-for="context-commitish-filter-field" data-filterable-type="substring">


            <div class="select-menu-item js-navigation-item selected">
              <span class="select-menu-item-icon octicon octicon-check"></span>
              <a href="/alfredessa/pdacookbook/blob/master/PythonPandasCookbook2.1.ipynb"
                 data-name="master"
                 data-skip-pjax="true"
                 rel="nofollow"
                 class="js-navigation-open select-menu-item-text js-select-button-text css-truncate-target"
                 title="master">master</a>
            </div> <!-- /.select-menu-item -->
        </div>

          <div class="select-menu-no-results">Nothing to show</div>
      </div> <!-- /.select-menu-list -->

      <div class="select-menu-list select-menu-tab-bucket js-select-menu-tab-bucket" data-tab-filter="tags">
        <div data-filterable-for="context-commitish-filter-field" data-filterable-type="substring">


        </div>

        <div class="select-menu-no-results">Nothing to show</div>
      </div> <!-- /.select-menu-list -->

    </div> <!-- /.select-menu-modal -->
  </div> <!-- /.select-menu-modal-holder -->
</div> <!-- /.select-menu -->

  <div class="breadcrumb">
    <span class='repo-root js-repo-root'><span itemscope="" itemtype="http://data-vocabulary.org/Breadcrumb"><a href="/alfredessa/pdacookbook" data-branch="master" data-direction="back" data-pjax="true" itemscope="url"><span itemprop="title">pdacookbook</span></a></span></span><span class="separator"> / </span><strong class="final-path">PythonPandasCookbook2.1.ipynb</strong> <span class="js-zeroclipboard minibutton zeroclipboard-button" data-clipboard-text="PythonPandasCookbook2.1.ipynb" data-copied-hint="copied!" title="copy to clipboard"><span class="octicon octicon-clippy"></span></span>
  </div>
</div>


  <div class="commit commit-loader file-history-tease js-deferred-content" data-url="/alfredessa/pdacookbook/contributors/master/PythonPandasCookbook2.1.ipynb">
    Fetching contributors…

    <div class="participation">
      <p class="loader-loading"><img alt="Octocat-spinner-32-eaf2f5" height="16" src="https://github.global.ssl.fastly.net/images/spinners/octocat-spinner-32-EAF2F5.gif" width="16" /></p>
      <p class="loader-error">Cannot retrieve contributors at this time</p>
    </div>
  </div>

<div id="files" class="bubble">
  <div class="file">
    <div class="meta">
      <div class="info">
        <span class="icon"><b class="octicon octicon-file-text"></b></span>
        <span class="mode" title="File Mode">file</span>
          <span>1047 lines (1047 sloc)</span>
        <span>57.113 kb</span>
      </div>
      <div class="actions">
        <div class="button-group">
            <a class="minibutton tooltipped leftwards"
               href="http://windows.github.com" title="Open this file in GitHub for Windows">
                <span class="octicon octicon-device-desktop"></span> Open
            </a>
              <a class="minibutton disabled tooltipped leftwards" href="#"
                 title="You must be signed in to make or propose changes">Edit</a>
          <a href="/alfredessa/pdacookbook/raw/master/PythonPandasCookbook2.1.ipynb" class="button minibutton " id="raw-url">Raw</a>
            <a href="/alfredessa/pdacookbook/blame/master/PythonPandasCookbook2.1.ipynb" class="button minibutton ">Blame</a>
          <a href="/alfredessa/pdacookbook/commits/master/PythonPandasCookbook2.1.ipynb" class="button minibutton " rel="nofollow">History</a>
        </div><!-- /.button-group -->
          <a class="minibutton danger disabled empty-icon tooltipped leftwards" href="#"
             title="You must be signed in to make or propose changes">
          Delete
        </a>
      </div><!-- /.actions -->

    </div>
        <div class="blob-wrapper data type-text js-blob-data">
        <table class="file-code file-diff">
          <tr class="file-code-line">
            <td class="blob-line-nums">
              <span id="L1" rel="#L1">1</span>
<span id="L2" rel="#L2">2</span>
<span id="L3" rel="#L3">3</span>
<span id="L4" rel="#L4">4</span>
<span id="L5" rel="#L5">5</span>
<span id="L6" rel="#L6">6</span>
<span id="L7" rel="#L7">7</span>
<span id="L8" rel="#L8">8</span>
<span id="L9" rel="#L9">9</span>
<span id="L10" rel="#L10">10</span>
<span id="L11" rel="#L11">11</span>
<span id="L12" rel="#L12">12</span>
<span id="L13" rel="#L13">13</span>
<span id="L14" rel="#L14">14</span>
<span id="L15" rel="#L15">15</span>
<span id="L16" rel="#L16">16</span>
<span id="L17" rel="#L17">17</span>
<span id="L18" rel="#L18">18</span>
<span id="L19" rel="#L19">19</span>
<span id="L20" rel="#L20">20</span>
<span id="L21" rel="#L21">21</span>
<span id="L22" rel="#L22">22</span>
<span id="L23" rel="#L23">23</span>
<span id="L24" rel="#L24">24</span>
<span id="L25" rel="#L25">25</span>
<span id="L26" rel="#L26">26</span>
<span id="L27" rel="#L27">27</span>
<span id="L28" rel="#L28">28</span>
<span id="L29" rel="#L29">29</span>
<span id="L30" rel="#L30">30</span>
<span id="L31" rel="#L31">31</span>
<span id="L32" rel="#L32">32</span>
<span id="L33" rel="#L33">33</span>
<span id="L34" rel="#L34">34</span>
<span id="L35" rel="#L35">35</span>
<span id="L36" rel="#L36">36</span>
<span id="L37" rel="#L37">37</span>
<span id="L38" rel="#L38">38</span>
<span id="L39" rel="#L39">39</span>
<span id="L40" rel="#L40">40</span>
<span id="L41" rel="#L41">41</span>
<span id="L42" rel="#L42">42</span>
<span id="L43" rel="#L43">43</span>
<span id="L44" rel="#L44">44</span>
<span id="L45" rel="#L45">45</span>
<span id="L46" rel="#L46">46</span>
<span id="L47" rel="#L47">47</span>
<span id="L48" rel="#L48">48</span>
<span id="L49" rel="#L49">49</span>
<span id="L50" rel="#L50">50</span>
<span id="L51" rel="#L51">51</span>
<span id="L52" rel="#L52">52</span>
<span id="L53" rel="#L53">53</span>
<span id="L54" rel="#L54">54</span>
<span id="L55" rel="#L55">55</span>
<span id="L56" rel="#L56">56</span>
<span id="L57" rel="#L57">57</span>
<span id="L58" rel="#L58">58</span>
<span id="L59" rel="#L59">59</span>
<span id="L60" rel="#L60">60</span>
<span id="L61" rel="#L61">61</span>
<span id="L62" rel="#L62">62</span>
<span id="L63" rel="#L63">63</span>
<span id="L64" rel="#L64">64</span>
<span id="L65" rel="#L65">65</span>
<span id="L66" rel="#L66">66</span>
<span id="L67" rel="#L67">67</span>
<span id="L68" rel="#L68">68</span>
<span id="L69" rel="#L69">69</span>
<span id="L70" rel="#L70">70</span>
<span id="L71" rel="#L71">71</span>
<span id="L72" rel="#L72">72</span>
<span id="L73" rel="#L73">73</span>
<span id="L74" rel="#L74">74</span>
<span id="L75" rel="#L75">75</span>
<span id="L76" rel="#L76">76</span>
<span id="L77" rel="#L77">77</span>
<span id="L78" rel="#L78">78</span>
<span id="L79" rel="#L79">79</span>
<span id="L80" rel="#L80">80</span>
<span id="L81" rel="#L81">81</span>
<span id="L82" rel="#L82">82</span>
<span id="L83" rel="#L83">83</span>
<span id="L84" rel="#L84">84</span>
<span id="L85" rel="#L85">85</span>
<span id="L86" rel="#L86">86</span>
<span id="L87" rel="#L87">87</span>
<span id="L88" rel="#L88">88</span>
<span id="L89" rel="#L89">89</span>
<span id="L90" rel="#L90">90</span>
<span id="L91" rel="#L91">91</span>
<span id="L92" rel="#L92">92</span>
<span id="L93" rel="#L93">93</span>
<span id="L94" rel="#L94">94</span>
<span id="L95" rel="#L95">95</span>
<span id="L96" rel="#L96">96</span>
<span id="L97" rel="#L97">97</span>
<span id="L98" rel="#L98">98</span>
<span id="L99" rel="#L99">99</span>
<span id="L100" rel="#L100">100</span>
<span id="L101" rel="#L101">101</span>
<span id="L102" rel="#L102">102</span>
<span id="L103" rel="#L103">103</span>
<span id="L104" rel="#L104">104</span>
<span id="L105" rel="#L105">105</span>
<span id="L106" rel="#L106">106</span>
<span id="L107" rel="#L107">107</span>
<span id="L108" rel="#L108">108</span>
<span id="L109" rel="#L109">109</span>
<span id="L110" rel="#L110">110</span>
<span id="L111" rel="#L111">111</span>
<span id="L112" rel="#L112">112</span>
<span id="L113" rel="#L113">113</span>
<span id="L114" rel="#L114">114</span>
<span id="L115" rel="#L115">115</span>
<span id="L116" rel="#L116">116</span>
<span id="L117" rel="#L117">117</span>
<span id="L118" rel="#L118">118</span>
<span id="L119" rel="#L119">119</span>
<span id="L120" rel="#L120">120</span>
<span id="L121" rel="#L121">121</span>
<span id="L122" rel="#L122">122</span>
<span id="L123" rel="#L123">123</span>
<span id="L124" rel="#L124">124</span>
<span id="L125" rel="#L125">125</span>
<span id="L126" rel="#L126">126</span>
<span id="L127" rel="#L127">127</span>
<span id="L128" rel="#L128">128</span>
<span id="L129" rel="#L129">129</span>
<span id="L130" rel="#L130">130</span>
<span id="L131" rel="#L131">131</span>
<span id="L132" rel="#L132">132</span>
<span id="L133" rel="#L133">133</span>
<span id="L134" rel="#L134">134</span>
<span id="L135" rel="#L135">135</span>
<span id="L136" rel="#L136">136</span>
<span id="L137" rel="#L137">137</span>
<span id="L138" rel="#L138">138</span>
<span id="L139" rel="#L139">139</span>
<span id="L140" rel="#L140">140</span>
<span id="L141" rel="#L141">141</span>
<span id="L142" rel="#L142">142</span>
<span id="L143" rel="#L143">143</span>
<span id="L144" rel="#L144">144</span>
<span id="L145" rel="#L145">145</span>
<span id="L146" rel="#L146">146</span>
<span id="L147" rel="#L147">147</span>
<span id="L148" rel="#L148">148</span>
<span id="L149" rel="#L149">149</span>
<span id="L150" rel="#L150">150</span>
<span id="L151" rel="#L151">151</span>
<span id="L152" rel="#L152">152</span>
<span id="L153" rel="#L153">153</span>
<span id="L154" rel="#L154">154</span>
<span id="L155" rel="#L155">155</span>
<span id="L156" rel="#L156">156</span>
<span id="L157" rel="#L157">157</span>
<span id="L158" rel="#L158">158</span>
<span id="L159" rel="#L159">159</span>
<span id="L160" rel="#L160">160</span>
<span id="L161" rel="#L161">161</span>
<span id="L162" rel="#L162">162</span>
<span id="L163" rel="#L163">163</span>
<span id="L164" rel="#L164">164</span>
<span id="L165" rel="#L165">165</span>
<span id="L166" rel="#L166">166</span>
<span id="L167" rel="#L167">167</span>
<span id="L168" rel="#L168">168</span>
<span id="L169" rel="#L169">169</span>
<span id="L170" rel="#L170">170</span>
<span id="L171" rel="#L171">171</span>
<span id="L172" rel="#L172">172</span>
<span id="L173" rel="#L173">173</span>
<span id="L174" rel="#L174">174</span>
<span id="L175" rel="#L175">175</span>
<span id="L176" rel="#L176">176</span>
<span id="L177" rel="#L177">177</span>
<span id="L178" rel="#L178">178</span>
<span id="L179" rel="#L179">179</span>
<span id="L180" rel="#L180">180</span>
<span id="L181" rel="#L181">181</span>
<span id="L182" rel="#L182">182</span>
<span id="L183" rel="#L183">183</span>
<span id="L184" rel="#L184">184</span>
<span id="L185" rel="#L185">185</span>
<span id="L186" rel="#L186">186</span>
<span id="L187" rel="#L187">187</span>
<span id="L188" rel="#L188">188</span>
<span id="L189" rel="#L189">189</span>
<span id="L190" rel="#L190">190</span>
<span id="L191" rel="#L191">191</span>
<span id="L192" rel="#L192">192</span>
<span id="L193" rel="#L193">193</span>
<span id="L194" rel="#L194">194</span>
<span id="L195" rel="#L195">195</span>
<span id="L196" rel="#L196">196</span>
<span id="L197" rel="#L197">197</span>
<span id="L198" rel="#L198">198</span>
<span id="L199" rel="#L199">199</span>
<span id="L200" rel="#L200">200</span>
<span id="L201" rel="#L201">201</span>
<span id="L202" rel="#L202">202</span>
<span id="L203" rel="#L203">203</span>
<span id="L204" rel="#L204">204</span>
<span id="L205" rel="#L205">205</span>
<span id="L206" rel="#L206">206</span>
<span id="L207" rel="#L207">207</span>
<span id="L208" rel="#L208">208</span>
<span id="L209" rel="#L209">209</span>
<span id="L210" rel="#L210">210</span>
<span id="L211" rel="#L211">211</span>
<span id="L212" rel="#L212">212</span>
<span id="L213" rel="#L213">213</span>
<span id="L214" rel="#L214">214</span>
<span id="L215" rel="#L215">215</span>
<span id="L216" rel="#L216">216</span>
<span id="L217" rel="#L217">217</span>
<span id="L218" rel="#L218">218</span>
<span id="L219" rel="#L219">219</span>
<span id="L220" rel="#L220">220</span>
<span id="L221" rel="#L221">221</span>
<span id="L222" rel="#L222">222</span>
<span id="L223" rel="#L223">223</span>
<span id="L224" rel="#L224">224</span>
<span id="L225" rel="#L225">225</span>
<span id="L226" rel="#L226">226</span>
<span id="L227" rel="#L227">227</span>
<span id="L228" rel="#L228">228</span>
<span id="L229" rel="#L229">229</span>
<span id="L230" rel="#L230">230</span>
<span id="L231" rel="#L231">231</span>
<span id="L232" rel="#L232">232</span>
<span id="L233" rel="#L233">233</span>
<span id="L234" rel="#L234">234</span>
<span id="L235" rel="#L235">235</span>
<span id="L236" rel="#L236">236</span>
<span id="L237" rel="#L237">237</span>
<span id="L238" rel="#L238">238</span>
<span id="L239" rel="#L239">239</span>
<span id="L240" rel="#L240">240</span>
<span id="L241" rel="#L241">241</span>
<span id="L242" rel="#L242">242</span>
<span id="L243" rel="#L243">243</span>
<span id="L244" rel="#L244">244</span>
<span id="L245" rel="#L245">245</span>
<span id="L246" rel="#L246">246</span>
<span id="L247" rel="#L247">247</span>
<span id="L248" rel="#L248">248</span>
<span id="L249" rel="#L249">249</span>
<span id="L250" rel="#L250">250</span>
<span id="L251" rel="#L251">251</span>
<span id="L252" rel="#L252">252</span>
<span id="L253" rel="#L253">253</span>
<span id="L254" rel="#L254">254</span>
<span id="L255" rel="#L255">255</span>
<span id="L256" rel="#L256">256</span>
<span id="L257" rel="#L257">257</span>
<span id="L258" rel="#L258">258</span>
<span id="L259" rel="#L259">259</span>
<span id="L260" rel="#L260">260</span>
<span id="L261" rel="#L261">261</span>
<span id="L262" rel="#L262">262</span>
<span id="L263" rel="#L263">263</span>
<span id="L264" rel="#L264">264</span>
<span id="L265" rel="#L265">265</span>
<span id="L266" rel="#L266">266</span>
<span id="L267" rel="#L267">267</span>
<span id="L268" rel="#L268">268</span>
<span id="L269" rel="#L269">269</span>
<span id="L270" rel="#L270">270</span>
<span id="L271" rel="#L271">271</span>
<span id="L272" rel="#L272">272</span>
<span id="L273" rel="#L273">273</span>
<span id="L274" rel="#L274">274</span>
<span id="L275" rel="#L275">275</span>
<span id="L276" rel="#L276">276</span>
<span id="L277" rel="#L277">277</span>
<span id="L278" rel="#L278">278</span>
<span id="L279" rel="#L279">279</span>
<span id="L280" rel="#L280">280</span>
<span id="L281" rel="#L281">281</span>
<span id="L282" rel="#L282">282</span>
<span id="L283" rel="#L283">283</span>
<span id="L284" rel="#L284">284</span>
<span id="L285" rel="#L285">285</span>
<span id="L286" rel="#L286">286</span>
<span id="L287" rel="#L287">287</span>
<span id="L288" rel="#L288">288</span>
<span id="L289" rel="#L289">289</span>
<span id="L290" rel="#L290">290</span>
<span id="L291" rel="#L291">291</span>
<span id="L292" rel="#L292">292</span>
<span id="L293" rel="#L293">293</span>
<span id="L294" rel="#L294">294</span>
<span id="L295" rel="#L295">295</span>
<span id="L296" rel="#L296">296</span>
<span id="L297" rel="#L297">297</span>
<span id="L298" rel="#L298">298</span>
<span id="L299" rel="#L299">299</span>
<span id="L300" rel="#L300">300</span>
<span id="L301" rel="#L301">301</span>
<span id="L302" rel="#L302">302</span>
<span id="L303" rel="#L303">303</span>
<span id="L304" rel="#L304">304</span>
<span id="L305" rel="#L305">305</span>
<span id="L306" rel="#L306">306</span>
<span id="L307" rel="#L307">307</span>
<span id="L308" rel="#L308">308</span>
<span id="L309" rel="#L309">309</span>
<span id="L310" rel="#L310">310</span>
<span id="L311" rel="#L311">311</span>
<span id="L312" rel="#L312">312</span>
<span id="L313" rel="#L313">313</span>
<span id="L314" rel="#L314">314</span>
<span id="L315" rel="#L315">315</span>
<span id="L316" rel="#L316">316</span>
<span id="L317" rel="#L317">317</span>
<span id="L318" rel="#L318">318</span>
<span id="L319" rel="#L319">319</span>
<span id="L320" rel="#L320">320</span>
<span id="L321" rel="#L321">321</span>
<span id="L322" rel="#L322">322</span>
<span id="L323" rel="#L323">323</span>
<span id="L324" rel="#L324">324</span>
<span id="L325" rel="#L325">325</span>
<span id="L326" rel="#L326">326</span>
<span id="L327" rel="#L327">327</span>
<span id="L328" rel="#L328">328</span>
<span id="L329" rel="#L329">329</span>
<span id="L330" rel="#L330">330</span>
<span id="L331" rel="#L331">331</span>
<span id="L332" rel="#L332">332</span>
<span id="L333" rel="#L333">333</span>
<span id="L334" rel="#L334">334</span>
<span id="L335" rel="#L335">335</span>
<span id="L336" rel="#L336">336</span>
<span id="L337" rel="#L337">337</span>
<span id="L338" rel="#L338">338</span>
<span id="L339" rel="#L339">339</span>
<span id="L340" rel="#L340">340</span>
<span id="L341" rel="#L341">341</span>
<span id="L342" rel="#L342">342</span>
<span id="L343" rel="#L343">343</span>
<span id="L344" rel="#L344">344</span>
<span id="L345" rel="#L345">345</span>
<span id="L346" rel="#L346">346</span>
<span id="L347" rel="#L347">347</span>
<span id="L348" rel="#L348">348</span>
<span id="L349" rel="#L349">349</span>
<span id="L350" rel="#L350">350</span>
<span id="L351" rel="#L351">351</span>
<span id="L352" rel="#L352">352</span>
<span id="L353" rel="#L353">353</span>
<span id="L354" rel="#L354">354</span>
<span id="L355" rel="#L355">355</span>
<span id="L356" rel="#L356">356</span>
<span id="L357" rel="#L357">357</span>
<span id="L358" rel="#L358">358</span>
<span id="L359" rel="#L359">359</span>
<span id="L360" rel="#L360">360</span>
<span id="L361" rel="#L361">361</span>
<span id="L362" rel="#L362">362</span>
<span id="L363" rel="#L363">363</span>
<span id="L364" rel="#L364">364</span>
<span id="L365" rel="#L365">365</span>
<span id="L366" rel="#L366">366</span>
<span id="L367" rel="#L367">367</span>
<span id="L368" rel="#L368">368</span>
<span id="L369" rel="#L369">369</span>
<span id="L370" rel="#L370">370</span>
<span id="L371" rel="#L371">371</span>
<span id="L372" rel="#L372">372</span>
<span id="L373" rel="#L373">373</span>
<span id="L374" rel="#L374">374</span>
<span id="L375" rel="#L375">375</span>
<span id="L376" rel="#L376">376</span>
<span id="L377" rel="#L377">377</span>
<span id="L378" rel="#L378">378</span>
<span id="L379" rel="#L379">379</span>
<span id="L380" rel="#L380">380</span>
<span id="L381" rel="#L381">381</span>
<span id="L382" rel="#L382">382</span>
<span id="L383" rel="#L383">383</span>
<span id="L384" rel="#L384">384</span>
<span id="L385" rel="#L385">385</span>
<span id="L386" rel="#L386">386</span>
<span id="L387" rel="#L387">387</span>
<span id="L388" rel="#L388">388</span>
<span id="L389" rel="#L389">389</span>
<span id="L390" rel="#L390">390</span>
<span id="L391" rel="#L391">391</span>
<span id="L392" rel="#L392">392</span>
<span id="L393" rel="#L393">393</span>
<span id="L394" rel="#L394">394</span>
<span id="L395" rel="#L395">395</span>
<span id="L396" rel="#L396">396</span>
<span id="L397" rel="#L397">397</span>
<span id="L398" rel="#L398">398</span>
<span id="L399" rel="#L399">399</span>
<span id="L400" rel="#L400">400</span>
<span id="L401" rel="#L401">401</span>
<span id="L402" rel="#L402">402</span>
<span id="L403" rel="#L403">403</span>
<span id="L404" rel="#L404">404</span>
<span id="L405" rel="#L405">405</span>
<span id="L406" rel="#L406">406</span>
<span id="L407" rel="#L407">407</span>
<span id="L408" rel="#L408">408</span>
<span id="L409" rel="#L409">409</span>
<span id="L410" rel="#L410">410</span>
<span id="L411" rel="#L411">411</span>
<span id="L412" rel="#L412">412</span>
<span id="L413" rel="#L413">413</span>
<span id="L414" rel="#L414">414</span>
<span id="L415" rel="#L415">415</span>
<span id="L416" rel="#L416">416</span>
<span id="L417" rel="#L417">417</span>
<span id="L418" rel="#L418">418</span>
<span id="L419" rel="#L419">419</span>
<span id="L420" rel="#L420">420</span>
<span id="L421" rel="#L421">421</span>
<span id="L422" rel="#L422">422</span>
<span id="L423" rel="#L423">423</span>
<span id="L424" rel="#L424">424</span>
<span id="L425" rel="#L425">425</span>
<span id="L426" rel="#L426">426</span>
<span id="L427" rel="#L427">427</span>
<span id="L428" rel="#L428">428</span>
<span id="L429" rel="#L429">429</span>
<span id="L430" rel="#L430">430</span>
<span id="L431" rel="#L431">431</span>
<span id="L432" rel="#L432">432</span>
<span id="L433" rel="#L433">433</span>
<span id="L434" rel="#L434">434</span>
<span id="L435" rel="#L435">435</span>
<span id="L436" rel="#L436">436</span>
<span id="L437" rel="#L437">437</span>
<span id="L438" rel="#L438">438</span>
<span id="L439" rel="#L439">439</span>
<span id="L440" rel="#L440">440</span>
<span id="L441" rel="#L441">441</span>
<span id="L442" rel="#L442">442</span>
<span id="L443" rel="#L443">443</span>
<span id="L444" rel="#L444">444</span>
<span id="L445" rel="#L445">445</span>
<span id="L446" rel="#L446">446</span>
<span id="L447" rel="#L447">447</span>
<span id="L448" rel="#L448">448</span>
<span id="L449" rel="#L449">449</span>
<span id="L450" rel="#L450">450</span>
<span id="L451" rel="#L451">451</span>
<span id="L452" rel="#L452">452</span>
<span id="L453" rel="#L453">453</span>
<span id="L454" rel="#L454">454</span>
<span id="L455" rel="#L455">455</span>
<span id="L456" rel="#L456">456</span>
<span id="L457" rel="#L457">457</span>
<span id="L458" rel="#L458">458</span>
<span id="L459" rel="#L459">459</span>
<span id="L460" rel="#L460">460</span>
<span id="L461" rel="#L461">461</span>
<span id="L462" rel="#L462">462</span>
<span id="L463" rel="#L463">463</span>
<span id="L464" rel="#L464">464</span>
<span id="L465" rel="#L465">465</span>
<span id="L466" rel="#L466">466</span>
<span id="L467" rel="#L467">467</span>
<span id="L468" rel="#L468">468</span>
<span id="L469" rel="#L469">469</span>
<span id="L470" rel="#L470">470</span>
<span id="L471" rel="#L471">471</span>
<span id="L472" rel="#L472">472</span>
<span id="L473" rel="#L473">473</span>
<span id="L474" rel="#L474">474</span>
<span id="L475" rel="#L475">475</span>
<span id="L476" rel="#L476">476</span>
<span id="L477" rel="#L477">477</span>
<span id="L478" rel="#L478">478</span>
<span id="L479" rel="#L479">479</span>
<span id="L480" rel="#L480">480</span>
<span id="L481" rel="#L481">481</span>
<span id="L482" rel="#L482">482</span>
<span id="L483" rel="#L483">483</span>
<span id="L484" rel="#L484">484</span>
<span id="L485" rel="#L485">485</span>
<span id="L486" rel="#L486">486</span>
<span id="L487" rel="#L487">487</span>
<span id="L488" rel="#L488">488</span>
<span id="L489" rel="#L489">489</span>
<span id="L490" rel="#L490">490</span>
<span id="L491" rel="#L491">491</span>
<span id="L492" rel="#L492">492</span>
<span id="L493" rel="#L493">493</span>
<span id="L494" rel="#L494">494</span>
<span id="L495" rel="#L495">495</span>
<span id="L496" rel="#L496">496</span>
<span id="L497" rel="#L497">497</span>
<span id="L498" rel="#L498">498</span>
<span id="L499" rel="#L499">499</span>
<span id="L500" rel="#L500">500</span>
<span id="L501" rel="#L501">501</span>
<span id="L502" rel="#L502">502</span>
<span id="L503" rel="#L503">503</span>
<span id="L504" rel="#L504">504</span>
<span id="L505" rel="#L505">505</span>
<span id="L506" rel="#L506">506</span>
<span id="L507" rel="#L507">507</span>
<span id="L508" rel="#L508">508</span>
<span id="L509" rel="#L509">509</span>
<span id="L510" rel="#L510">510</span>
<span id="L511" rel="#L511">511</span>
<span id="L512" rel="#L512">512</span>
<span id="L513" rel="#L513">513</span>
<span id="L514" rel="#L514">514</span>
<span id="L515" rel="#L515">515</span>
<span id="L516" rel="#L516">516</span>
<span id="L517" rel="#L517">517</span>
<span id="L518" rel="#L518">518</span>
<span id="L519" rel="#L519">519</span>
<span id="L520" rel="#L520">520</span>
<span id="L521" rel="#L521">521</span>
<span id="L522" rel="#L522">522</span>
<span id="L523" rel="#L523">523</span>
<span id="L524" rel="#L524">524</span>
<span id="L525" rel="#L525">525</span>
<span id="L526" rel="#L526">526</span>
<span id="L527" rel="#L527">527</span>
<span id="L528" rel="#L528">528</span>
<span id="L529" rel="#L529">529</span>
<span id="L530" rel="#L530">530</span>
<span id="L531" rel="#L531">531</span>
<span id="L532" rel="#L532">532</span>
<span id="L533" rel="#L533">533</span>
<span id="L534" rel="#L534">534</span>
<span id="L535" rel="#L535">535</span>
<span id="L536" rel="#L536">536</span>
<span id="L537" rel="#L537">537</span>
<span id="L538" rel="#L538">538</span>
<span id="L539" rel="#L539">539</span>
<span id="L540" rel="#L540">540</span>
<span id="L541" rel="#L541">541</span>
<span id="L542" rel="#L542">542</span>
<span id="L543" rel="#L543">543</span>
<span id="L544" rel="#L544">544</span>
<span id="L545" rel="#L545">545</span>
<span id="L546" rel="#L546">546</span>
<span id="L547" rel="#L547">547</span>
<span id="L548" rel="#L548">548</span>
<span id="L549" rel="#L549">549</span>
<span id="L550" rel="#L550">550</span>
<span id="L551" rel="#L551">551</span>
<span id="L552" rel="#L552">552</span>
<span id="L553" rel="#L553">553</span>
<span id="L554" rel="#L554">554</span>
<span id="L555" rel="#L555">555</span>
<span id="L556" rel="#L556">556</span>
<span id="L557" rel="#L557">557</span>
<span id="L558" rel="#L558">558</span>
<span id="L559" rel="#L559">559</span>
<span id="L560" rel="#L560">560</span>
<span id="L561" rel="#L561">561</span>
<span id="L562" rel="#L562">562</span>
<span id="L563" rel="#L563">563</span>
<span id="L564" rel="#L564">564</span>
<span id="L565" rel="#L565">565</span>
<span id="L566" rel="#L566">566</span>
<span id="L567" rel="#L567">567</span>
<span id="L568" rel="#L568">568</span>
<span id="L569" rel="#L569">569</span>
<span id="L570" rel="#L570">570</span>
<span id="L571" rel="#L571">571</span>
<span id="L572" rel="#L572">572</span>
<span id="L573" rel="#L573">573</span>
<span id="L574" rel="#L574">574</span>
<span id="L575" rel="#L575">575</span>
<span id="L576" rel="#L576">576</span>
<span id="L577" rel="#L577">577</span>
<span id="L578" rel="#L578">578</span>
<span id="L579" rel="#L579">579</span>
<span id="L580" rel="#L580">580</span>
<span id="L581" rel="#L581">581</span>
<span id="L582" rel="#L582">582</span>
<span id="L583" rel="#L583">583</span>
<span id="L584" rel="#L584">584</span>
<span id="L585" rel="#L585">585</span>
<span id="L586" rel="#L586">586</span>
<span id="L587" rel="#L587">587</span>
<span id="L588" rel="#L588">588</span>
<span id="L589" rel="#L589">589</span>
<span id="L590" rel="#L590">590</span>
<span id="L591" rel="#L591">591</span>
<span id="L592" rel="#L592">592</span>
<span id="L593" rel="#L593">593</span>
<span id="L594" rel="#L594">594</span>
<span id="L595" rel="#L595">595</span>
<span id="L596" rel="#L596">596</span>
<span id="L597" rel="#L597">597</span>
<span id="L598" rel="#L598">598</span>
<span id="L599" rel="#L599">599</span>
<span id="L600" rel="#L600">600</span>
<span id="L601" rel="#L601">601</span>
<span id="L602" rel="#L602">602</span>
<span id="L603" rel="#L603">603</span>
<span id="L604" rel="#L604">604</span>
<span id="L605" rel="#L605">605</span>
<span id="L606" rel="#L606">606</span>
<span id="L607" rel="#L607">607</span>
<span id="L608" rel="#L608">608</span>
<span id="L609" rel="#L609">609</span>
<span id="L610" rel="#L610">610</span>
<span id="L611" rel="#L611">611</span>
<span id="L612" rel="#L612">612</span>
<span id="L613" rel="#L613">613</span>
<span id="L614" rel="#L614">614</span>
<span id="L615" rel="#L615">615</span>
<span id="L616" rel="#L616">616</span>
<span id="L617" rel="#L617">617</span>
<span id="L618" rel="#L618">618</span>
<span id="L619" rel="#L619">619</span>
<span id="L620" rel="#L620">620</span>
<span id="L621" rel="#L621">621</span>
<span id="L622" rel="#L622">622</span>
<span id="L623" rel="#L623">623</span>
<span id="L624" rel="#L624">624</span>
<span id="L625" rel="#L625">625</span>
<span id="L626" rel="#L626">626</span>
<span id="L627" rel="#L627">627</span>
<span id="L628" rel="#L628">628</span>
<span id="L629" rel="#L629">629</span>
<span id="L630" rel="#L630">630</span>
<span id="L631" rel="#L631">631</span>
<span id="L632" rel="#L632">632</span>
<span id="L633" rel="#L633">633</span>
<span id="L634" rel="#L634">634</span>
<span id="L635" rel="#L635">635</span>
<span id="L636" rel="#L636">636</span>
<span id="L637" rel="#L637">637</span>
<span id="L638" rel="#L638">638</span>
<span id="L639" rel="#L639">639</span>
<span id="L640" rel="#L640">640</span>
<span id="L641" rel="#L641">641</span>
<span id="L642" rel="#L642">642</span>
<span id="L643" rel="#L643">643</span>
<span id="L644" rel="#L644">644</span>
<span id="L645" rel="#L645">645</span>
<span id="L646" rel="#L646">646</span>
<span id="L647" rel="#L647">647</span>
<span id="L648" rel="#L648">648</span>
<span id="L649" rel="#L649">649</span>
<span id="L650" rel="#L650">650</span>
<span id="L651" rel="#L651">651</span>
<span id="L652" rel="#L652">652</span>
<span id="L653" rel="#L653">653</span>
<span id="L654" rel="#L654">654</span>
<span id="L655" rel="#L655">655</span>
<span id="L656" rel="#L656">656</span>
<span id="L657" rel="#L657">657</span>
<span id="L658" rel="#L658">658</span>
<span id="L659" rel="#L659">659</span>
<span id="L660" rel="#L660">660</span>
<span id="L661" rel="#L661">661</span>
<span id="L662" rel="#L662">662</span>
<span id="L663" rel="#L663">663</span>
<span id="L664" rel="#L664">664</span>
<span id="L665" rel="#L665">665</span>
<span id="L666" rel="#L666">666</span>
<span id="L667" rel="#L667">667</span>
<span id="L668" rel="#L668">668</span>
<span id="L669" rel="#L669">669</span>
<span id="L670" rel="#L670">670</span>
<span id="L671" rel="#L671">671</span>
<span id="L672" rel="#L672">672</span>
<span id="L673" rel="#L673">673</span>
<span id="L674" rel="#L674">674</span>
<span id="L675" rel="#L675">675</span>
<span id="L676" rel="#L676">676</span>
<span id="L677" rel="#L677">677</span>
<span id="L678" rel="#L678">678</span>
<span id="L679" rel="#L679">679</span>
<span id="L680" rel="#L680">680</span>
<span id="L681" rel="#L681">681</span>
<span id="L682" rel="#L682">682</span>
<span id="L683" rel="#L683">683</span>
<span id="L684" rel="#L684">684</span>
<span id="L685" rel="#L685">685</span>
<span id="L686" rel="#L686">686</span>
<span id="L687" rel="#L687">687</span>
<span id="L688" rel="#L688">688</span>
<span id="L689" rel="#L689">689</span>
<span id="L690" rel="#L690">690</span>
<span id="L691" rel="#L691">691</span>
<span id="L692" rel="#L692">692</span>
<span id="L693" rel="#L693">693</span>
<span id="L694" rel="#L694">694</span>
<span id="L695" rel="#L695">695</span>
<span id="L696" rel="#L696">696</span>
<span id="L697" rel="#L697">697</span>
<span id="L698" rel="#L698">698</span>
<span id="L699" rel="#L699">699</span>
<span id="L700" rel="#L700">700</span>
<span id="L701" rel="#L701">701</span>
<span id="L702" rel="#L702">702</span>
<span id="L703" rel="#L703">703</span>
<span id="L704" rel="#L704">704</span>
<span id="L705" rel="#L705">705</span>
<span id="L706" rel="#L706">706</span>
<span id="L707" rel="#L707">707</span>
<span id="L708" rel="#L708">708</span>
<span id="L709" rel="#L709">709</span>
<span id="L710" rel="#L710">710</span>
<span id="L711" rel="#L711">711</span>
<span id="L712" rel="#L712">712</span>
<span id="L713" rel="#L713">713</span>
<span id="L714" rel="#L714">714</span>
<span id="L715" rel="#L715">715</span>
<span id="L716" rel="#L716">716</span>
<span id="L717" rel="#L717">717</span>
<span id="L718" rel="#L718">718</span>
<span id="L719" rel="#L719">719</span>
<span id="L720" rel="#L720">720</span>
<span id="L721" rel="#L721">721</span>
<span id="L722" rel="#L722">722</span>
<span id="L723" rel="#L723">723</span>
<span id="L724" rel="#L724">724</span>
<span id="L725" rel="#L725">725</span>
<span id="L726" rel="#L726">726</span>
<span id="L727" rel="#L727">727</span>
<span id="L728" rel="#L728">728</span>
<span id="L729" rel="#L729">729</span>
<span id="L730" rel="#L730">730</span>
<span id="L731" rel="#L731">731</span>
<span id="L732" rel="#L732">732</span>
<span id="L733" rel="#L733">733</span>
<span id="L734" rel="#L734">734</span>
<span id="L735" rel="#L735">735</span>
<span id="L736" rel="#L736">736</span>
<span id="L737" rel="#L737">737</span>
<span id="L738" rel="#L738">738</span>
<span id="L739" rel="#L739">739</span>
<span id="L740" rel="#L740">740</span>
<span id="L741" rel="#L741">741</span>
<span id="L742" rel="#L742">742</span>
<span id="L743" rel="#L743">743</span>
<span id="L744" rel="#L744">744</span>
<span id="L745" rel="#L745">745</span>
<span id="L746" rel="#L746">746</span>
<span id="L747" rel="#L747">747</span>
<span id="L748" rel="#L748">748</span>
<span id="L749" rel="#L749">749</span>
<span id="L750" rel="#L750">750</span>
<span id="L751" rel="#L751">751</span>
<span id="L752" rel="#L752">752</span>
<span id="L753" rel="#L753">753</span>
<span id="L754" rel="#L754">754</span>
<span id="L755" rel="#L755">755</span>
<span id="L756" rel="#L756">756</span>
<span id="L757" rel="#L757">757</span>
<span id="L758" rel="#L758">758</span>
<span id="L759" rel="#L759">759</span>
<span id="L760" rel="#L760">760</span>
<span id="L761" rel="#L761">761</span>
<span id="L762" rel="#L762">762</span>
<span id="L763" rel="#L763">763</span>
<span id="L764" rel="#L764">764</span>
<span id="L765" rel="#L765">765</span>
<span id="L766" rel="#L766">766</span>
<span id="L767" rel="#L767">767</span>
<span id="L768" rel="#L768">768</span>
<span id="L769" rel="#L769">769</span>
<span id="L770" rel="#L770">770</span>
<span id="L771" rel="#L771">771</span>
<span id="L772" rel="#L772">772</span>
<span id="L773" rel="#L773">773</span>
<span id="L774" rel="#L774">774</span>
<span id="L775" rel="#L775">775</span>
<span id="L776" rel="#L776">776</span>
<span id="L777" rel="#L777">777</span>
<span id="L778" rel="#L778">778</span>
<span id="L779" rel="#L779">779</span>
<span id="L780" rel="#L780">780</span>
<span id="L781" rel="#L781">781</span>
<span id="L782" rel="#L782">782</span>
<span id="L783" rel="#L783">783</span>
<span id="L784" rel="#L784">784</span>
<span id="L785" rel="#L785">785</span>
<span id="L786" rel="#L786">786</span>
<span id="L787" rel="#L787">787</span>
<span id="L788" rel="#L788">788</span>
<span id="L789" rel="#L789">789</span>
<span id="L790" rel="#L790">790</span>
<span id="L791" rel="#L791">791</span>
<span id="L792" rel="#L792">792</span>
<span id="L793" rel="#L793">793</span>
<span id="L794" rel="#L794">794</span>
<span id="L795" rel="#L795">795</span>
<span id="L796" rel="#L796">796</span>
<span id="L797" rel="#L797">797</span>
<span id="L798" rel="#L798">798</span>
<span id="L799" rel="#L799">799</span>
<span id="L800" rel="#L800">800</span>
<span id="L801" rel="#L801">801</span>
<span id="L802" rel="#L802">802</span>
<span id="L803" rel="#L803">803</span>
<span id="L804" rel="#L804">804</span>
<span id="L805" rel="#L805">805</span>
<span id="L806" rel="#L806">806</span>
<span id="L807" rel="#L807">807</span>
<span id="L808" rel="#L808">808</span>
<span id="L809" rel="#L809">809</span>
<span id="L810" rel="#L810">810</span>
<span id="L811" rel="#L811">811</span>
<span id="L812" rel="#L812">812</span>
<span id="L813" rel="#L813">813</span>
<span id="L814" rel="#L814">814</span>
<span id="L815" rel="#L815">815</span>
<span id="L816" rel="#L816">816</span>
<span id="L817" rel="#L817">817</span>
<span id="L818" rel="#L818">818</span>
<span id="L819" rel="#L819">819</span>
<span id="L820" rel="#L820">820</span>
<span id="L821" rel="#L821">821</span>
<span id="L822" rel="#L822">822</span>
<span id="L823" rel="#L823">823</span>
<span id="L824" rel="#L824">824</span>
<span id="L825" rel="#L825">825</span>
<span id="L826" rel="#L826">826</span>
<span id="L827" rel="#L827">827</span>
<span id="L828" rel="#L828">828</span>
<span id="L829" rel="#L829">829</span>
<span id="L830" rel="#L830">830</span>
<span id="L831" rel="#L831">831</span>
<span id="L832" rel="#L832">832</span>
<span id="L833" rel="#L833">833</span>
<span id="L834" rel="#L834">834</span>
<span id="L835" rel="#L835">835</span>
<span id="L836" rel="#L836">836</span>
<span id="L837" rel="#L837">837</span>
<span id="L838" rel="#L838">838</span>
<span id="L839" rel="#L839">839</span>
<span id="L840" rel="#L840">840</span>
<span id="L841" rel="#L841">841</span>
<span id="L842" rel="#L842">842</span>
<span id="L843" rel="#L843">843</span>
<span id="L844" rel="#L844">844</span>
<span id="L845" rel="#L845">845</span>
<span id="L846" rel="#L846">846</span>
<span id="L847" rel="#L847">847</span>
<span id="L848" rel="#L848">848</span>
<span id="L849" rel="#L849">849</span>
<span id="L850" rel="#L850">850</span>
<span id="L851" rel="#L851">851</span>
<span id="L852" rel="#L852">852</span>
<span id="L853" rel="#L853">853</span>
<span id="L854" rel="#L854">854</span>
<span id="L855" rel="#L855">855</span>
<span id="L856" rel="#L856">856</span>
<span id="L857" rel="#L857">857</span>
<span id="L858" rel="#L858">858</span>
<span id="L859" rel="#L859">859</span>
<span id="L860" rel="#L860">860</span>
<span id="L861" rel="#L861">861</span>
<span id="L862" rel="#L862">862</span>
<span id="L863" rel="#L863">863</span>
<span id="L864" rel="#L864">864</span>
<span id="L865" rel="#L865">865</span>
<span id="L866" rel="#L866">866</span>
<span id="L867" rel="#L867">867</span>
<span id="L868" rel="#L868">868</span>
<span id="L869" rel="#L869">869</span>
<span id="L870" rel="#L870">870</span>
<span id="L871" rel="#L871">871</span>
<span id="L872" rel="#L872">872</span>
<span id="L873" rel="#L873">873</span>
<span id="L874" rel="#L874">874</span>
<span id="L875" rel="#L875">875</span>
<span id="L876" rel="#L876">876</span>
<span id="L877" rel="#L877">877</span>
<span id="L878" rel="#L878">878</span>
<span id="L879" rel="#L879">879</span>
<span id="L880" rel="#L880">880</span>
<span id="L881" rel="#L881">881</span>
<span id="L882" rel="#L882">882</span>
<span id="L883" rel="#L883">883</span>
<span id="L884" rel="#L884">884</span>
<span id="L885" rel="#L885">885</span>
<span id="L886" rel="#L886">886</span>
<span id="L887" rel="#L887">887</span>
<span id="L888" rel="#L888">888</span>
<span id="L889" rel="#L889">889</span>
<span id="L890" rel="#L890">890</span>
<span id="L891" rel="#L891">891</span>
<span id="L892" rel="#L892">892</span>
<span id="L893" rel="#L893">893</span>
<span id="L894" rel="#L894">894</span>
<span id="L895" rel="#L895">895</span>
<span id="L896" rel="#L896">896</span>
<span id="L897" rel="#L897">897</span>
<span id="L898" rel="#L898">898</span>
<span id="L899" rel="#L899">899</span>
<span id="L900" rel="#L900">900</span>
<span id="L901" rel="#L901">901</span>
<span id="L902" rel="#L902">902</span>
<span id="L903" rel="#L903">903</span>
<span id="L904" rel="#L904">904</span>
<span id="L905" rel="#L905">905</span>
<span id="L906" rel="#L906">906</span>
<span id="L907" rel="#L907">907</span>
<span id="L908" rel="#L908">908</span>
<span id="L909" rel="#L909">909</span>
<span id="L910" rel="#L910">910</span>
<span id="L911" rel="#L911">911</span>
<span id="L912" rel="#L912">912</span>
<span id="L913" rel="#L913">913</span>
<span id="L914" rel="#L914">914</span>
<span id="L915" rel="#L915">915</span>
<span id="L916" rel="#L916">916</span>
<span id="L917" rel="#L917">917</span>
<span id="L918" rel="#L918">918</span>
<span id="L919" rel="#L919">919</span>
<span id="L920" rel="#L920">920</span>
<span id="L921" rel="#L921">921</span>
<span id="L922" rel="#L922">922</span>
<span id="L923" rel="#L923">923</span>
<span id="L924" rel="#L924">924</span>
<span id="L925" rel="#L925">925</span>
<span id="L926" rel="#L926">926</span>
<span id="L927" rel="#L927">927</span>
<span id="L928" rel="#L928">928</span>
<span id="L929" rel="#L929">929</span>
<span id="L930" rel="#L930">930</span>
<span id="L931" rel="#L931">931</span>
<span id="L932" rel="#L932">932</span>
<span id="L933" rel="#L933">933</span>
<span id="L934" rel="#L934">934</span>
<span id="L935" rel="#L935">935</span>
<span id="L936" rel="#L936">936</span>
<span id="L937" rel="#L937">937</span>
<span id="L938" rel="#L938">938</span>
<span id="L939" rel="#L939">939</span>
<span id="L940" rel="#L940">940</span>
<span id="L941" rel="#L941">941</span>
<span id="L942" rel="#L942">942</span>
<span id="L943" rel="#L943">943</span>
<span id="L944" rel="#L944">944</span>
<span id="L945" rel="#L945">945</span>
<span id="L946" rel="#L946">946</span>
<span id="L947" rel="#L947">947</span>
<span id="L948" rel="#L948">948</span>
<span id="L949" rel="#L949">949</span>
<span id="L950" rel="#L950">950</span>
<span id="L951" rel="#L951">951</span>
<span id="L952" rel="#L952">952</span>
<span id="L953" rel="#L953">953</span>
<span id="L954" rel="#L954">954</span>
<span id="L955" rel="#L955">955</span>
<span id="L956" rel="#L956">956</span>
<span id="L957" rel="#L957">957</span>
<span id="L958" rel="#L958">958</span>
<span id="L959" rel="#L959">959</span>
<span id="L960" rel="#L960">960</span>
<span id="L961" rel="#L961">961</span>
<span id="L962" rel="#L962">962</span>
<span id="L963" rel="#L963">963</span>
<span id="L964" rel="#L964">964</span>
<span id="L965" rel="#L965">965</span>
<span id="L966" rel="#L966">966</span>
<span id="L967" rel="#L967">967</span>
<span id="L968" rel="#L968">968</span>
<span id="L969" rel="#L969">969</span>
<span id="L970" rel="#L970">970</span>
<span id="L971" rel="#L971">971</span>
<span id="L972" rel="#L972">972</span>
<span id="L973" rel="#L973">973</span>
<span id="L974" rel="#L974">974</span>
<span id="L975" rel="#L975">975</span>
<span id="L976" rel="#L976">976</span>
<span id="L977" rel="#L977">977</span>
<span id="L978" rel="#L978">978</span>
<span id="L979" rel="#L979">979</span>
<span id="L980" rel="#L980">980</span>
<span id="L981" rel="#L981">981</span>
<span id="L982" rel="#L982">982</span>
<span id="L983" rel="#L983">983</span>
<span id="L984" rel="#L984">984</span>
<span id="L985" rel="#L985">985</span>
<span id="L986" rel="#L986">986</span>
<span id="L987" rel="#L987">987</span>
<span id="L988" rel="#L988">988</span>
<span id="L989" rel="#L989">989</span>
<span id="L990" rel="#L990">990</span>
<span id="L991" rel="#L991">991</span>
<span id="L992" rel="#L992">992</span>
<span id="L993" rel="#L993">993</span>
<span id="L994" rel="#L994">994</span>
<span id="L995" rel="#L995">995</span>
<span id="L996" rel="#L996">996</span>
<span id="L997" rel="#L997">997</span>
<span id="L998" rel="#L998">998</span>
<span id="L999" rel="#L999">999</span>
<span id="L1000" rel="#L1000">1000</span>
<span id="L1001" rel="#L1001">1001</span>
<span id="L1002" rel="#L1002">1002</span>
<span id="L1003" rel="#L1003">1003</span>
<span id="L1004" rel="#L1004">1004</span>
<span id="L1005" rel="#L1005">1005</span>
<span id="L1006" rel="#L1006">1006</span>
<span id="L1007" rel="#L1007">1007</span>
<span id="L1008" rel="#L1008">1008</span>
<span id="L1009" rel="#L1009">1009</span>
<span id="L1010" rel="#L1010">1010</span>
<span id="L1011" rel="#L1011">1011</span>
<span id="L1012" rel="#L1012">1012</span>
<span id="L1013" rel="#L1013">1013</span>
<span id="L1014" rel="#L1014">1014</span>
<span id="L1015" rel="#L1015">1015</span>
<span id="L1016" rel="#L1016">1016</span>
<span id="L1017" rel="#L1017">1017</span>
<span id="L1018" rel="#L1018">1018</span>
<span id="L1019" rel="#L1019">1019</span>
<span id="L1020" rel="#L1020">1020</span>
<span id="L1021" rel="#L1021">1021</span>
<span id="L1022" rel="#L1022">1022</span>
<span id="L1023" rel="#L1023">1023</span>
<span id="L1024" rel="#L1024">1024</span>
<span id="L1025" rel="#L1025">1025</span>
<span id="L1026" rel="#L1026">1026</span>
<span id="L1027" rel="#L1027">1027</span>
<span id="L1028" rel="#L1028">1028</span>
<span id="L1029" rel="#L1029">1029</span>
<span id="L1030" rel="#L1030">1030</span>
<span id="L1031" rel="#L1031">1031</span>
<span id="L1032" rel="#L1032">1032</span>
<span id="L1033" rel="#L1033">1033</span>
<span id="L1034" rel="#L1034">1034</span>
<span id="L1035" rel="#L1035">1035</span>
<span id="L1036" rel="#L1036">1036</span>
<span id="L1037" rel="#L1037">1037</span>
<span id="L1038" rel="#L1038">1038</span>
<span id="L1039" rel="#L1039">1039</span>
<span id="L1040" rel="#L1040">1040</span>
<span id="L1041" rel="#L1041">1041</span>
<span id="L1042" rel="#L1042">1042</span>
<span id="L1043" rel="#L1043">1043</span>
<span id="L1044" rel="#L1044">1044</span>
<span id="L1045" rel="#L1045">1045</span>
<span id="L1046" rel="#L1046">1046</span>
<span id="L1047" rel="#L1047">1047</span>

            </td>
            <td class="blob-line-code">
                    <div class="code-body highlight"><pre><div class='line' id='LC1'>{</div><div class='line' id='LC2'>&nbsp;&quot;metadata&quot;: {</div><div class='line' id='LC3'>&nbsp;&nbsp;&quot;name&quot;: &quot;&quot;</div><div class='line' id='LC4'>&nbsp;},</div><div class='line' id='LC5'>&nbsp;&quot;nbformat&quot;: 3,</div><div class='line' id='LC6'>&nbsp;&quot;nbformat_minor&quot;: 0,</div><div class='line' id='LC7'>&nbsp;&quot;worksheets&quot;: [</div><div class='line' id='LC8'>&nbsp;&nbsp;{</div><div class='line' id='LC9'>&nbsp;&nbsp;&nbsp;&quot;cells&quot;: [</div><div class='line' id='LC10'>&nbsp;&nbsp;&nbsp;&nbsp;{</div><div class='line' id='LC11'>&nbsp;&nbsp;&nbsp;&nbsp;&nbsp;&quot;cell_type&quot;: &quot;markdown&quot;,</div><div class='line' id='LC12'>&nbsp;&nbsp;&nbsp;&nbsp;&nbsp;&quot;metadata&quot;: {},</div><div class='line' id='LC13'>&nbsp;&nbsp;&nbsp;&nbsp;&nbsp;&quot;source&quot;: [</div><div class='line' id='LC14'>&nbsp;&nbsp;&nbsp;&nbsp;&nbsp;&nbsp;&quot;# Python for Data Analysis Lightning Tutorials\n&quot;,</div><div class='line' id='LC15'>&nbsp;&nbsp;&nbsp;&nbsp;&nbsp;&nbsp;&quot;## Pandas Cookbook Series\n&quot;,</div><div class='line' id='LC16'>&nbsp;&nbsp;&nbsp;&nbsp;&nbsp;&nbsp;&quot;&lt;img src=\&quot;files/images/feynman-bongo.jpg\&quot; width =100, height=200&gt;\n&quot;,</div><div class='line' id='LC17'>&nbsp;&nbsp;&nbsp;&nbsp;&nbsp;&nbsp;&quot;\n&quot;,</div><div class='line' id='LC18'>&nbsp;&nbsp;&nbsp;&nbsp;&nbsp;&nbsp;&quot;\n&quot;,</div><div class='line' id='LC19'>&nbsp;&nbsp;&nbsp;&nbsp;&nbsp;&nbsp;&quot;**Python for Data Analysis Lightning Tutorials** is a series of tutorials in Data Analysis, Statistics, and Graphics using Python. The **Pandas Cookbook** series of tutorials provides recipes for common tasks and moves on to more advanced topics in statistics and time series analysis. \n&quot;,</div><div class='line' id='LC20'>&nbsp;&nbsp;&nbsp;&nbsp;&nbsp;&nbsp;&quot;\n&quot;,</div><div class='line' id='LC21'>&nbsp;&nbsp;&nbsp;&nbsp;&nbsp;&nbsp;&quot;&lt;i&gt;Created by Alfred Essa&lt;/i&gt;, Dec 22nd, 2013 \n&quot;,</div><div class='line' id='LC22'>&nbsp;&nbsp;&nbsp;&nbsp;&nbsp;&nbsp;&quot;\n&quot;,</div><div class='line' id='LC23'>&nbsp;&nbsp;&nbsp;&nbsp;&nbsp;&nbsp;&quot;Note: IPython Notebook and Data files can be found at my Github Site: http://github/alfredessa\n&quot;</div><div class='line' id='LC24'>&nbsp;&nbsp;&nbsp;&nbsp;&nbsp;]</div><div class='line' id='LC25'>&nbsp;&nbsp;&nbsp;&nbsp;},</div><div class='line' id='LC26'>&nbsp;&nbsp;&nbsp;&nbsp;{</div><div class='line' id='LC27'>&nbsp;&nbsp;&nbsp;&nbsp;&nbsp;&quot;cell_type&quot;: &quot;markdown&quot;,</div><div class='line' id='LC28'>&nbsp;&nbsp;&nbsp;&nbsp;&nbsp;&quot;metadata&quot;: {},</div><div class='line' id='LC29'>&nbsp;&nbsp;&nbsp;&nbsp;&nbsp;&quot;source&quot;: [</div><div class='line' id='LC30'>&nbsp;&nbsp;&nbsp;&nbsp;&nbsp;&nbsp;&quot;## Chapter 2: Common Operations\n&quot;,</div><div class='line' id='LC31'>&nbsp;&nbsp;&nbsp;&nbsp;&nbsp;&nbsp;&quot;\n&quot;,</div><div class='line' id='LC32'>&nbsp;&nbsp;&nbsp;&nbsp;&nbsp;&nbsp;&quot;### 2.1 Problem. How can I sort in a DataFrame?&quot;</div><div class='line' id='LC33'>&nbsp;&nbsp;&nbsp;&nbsp;&nbsp;]</div><div class='line' id='LC34'>&nbsp;&nbsp;&nbsp;&nbsp;},</div><div class='line' id='LC35'>&nbsp;&nbsp;&nbsp;&nbsp;{</div><div class='line' id='LC36'>&nbsp;&nbsp;&nbsp;&nbsp;&nbsp;&quot;cell_type&quot;: &quot;markdown&quot;,</div><div class='line' id='LC37'>&nbsp;&nbsp;&nbsp;&nbsp;&nbsp;&quot;metadata&quot;: {},</div><div class='line' id='LC38'>&nbsp;&nbsp;&nbsp;&nbsp;&nbsp;&quot;source&quot;: [</div><div class='line' id='LC39'>&nbsp;&nbsp;&nbsp;&nbsp;&nbsp;&nbsp;&quot;#### 2.11 Review: DataFrame Object\n&quot;,</div><div class='line' id='LC40'>&nbsp;&nbsp;&nbsp;&nbsp;&nbsp;&nbsp;&quot;\n&quot;,</div><div class='line' id='LC41'>&nbsp;&nbsp;&nbsp;&nbsp;&nbsp;&nbsp;&quot;The **DataFrame** data structure in Pandas is a &lt;i&gt;two-dimensional labeled array&lt;/i&gt;. \n&quot;,</div><div class='line' id='LC42'>&nbsp;&nbsp;&nbsp;&nbsp;&nbsp;&nbsp;&quot;\n&quot;,</div><div class='line' id='LC43'>&nbsp;&nbsp;&nbsp;&nbsp;&nbsp;&nbsp;&quot;\n&quot;,</div><div class='line' id='LC44'>&nbsp;&nbsp;&nbsp;&nbsp;&nbsp;&nbsp;&quot;    \n&quot;,</div><div class='line' id='LC45'>&nbsp;&nbsp;&nbsp;&nbsp;&nbsp;&nbsp;&quot;&lt;img src=\&quot;files/images/df2.jpg\&quot;&gt;&quot;</div><div class='line' id='LC46'>&nbsp;&nbsp;&nbsp;&nbsp;&nbsp;]</div><div class='line' id='LC47'>&nbsp;&nbsp;&nbsp;&nbsp;},</div><div class='line' id='LC48'>&nbsp;&nbsp;&nbsp;&nbsp;{</div><div class='line' id='LC49'>&nbsp;&nbsp;&nbsp;&nbsp;&nbsp;&quot;cell_type&quot;: &quot;markdown&quot;,</div><div class='line' id='LC50'>&nbsp;&nbsp;&nbsp;&nbsp;&nbsp;&quot;metadata&quot;: {},</div><div class='line' id='LC51'>&nbsp;&nbsp;&nbsp;&nbsp;&nbsp;&quot;source&quot;: [</div><div class='line' id='LC52'>&nbsp;&nbsp;&nbsp;&nbsp;&nbsp;&nbsp;&quot;#### 2.12 Import Pandas and Read .CSV File of Major League Baseball Salaries&quot;</div><div class='line' id='LC53'>&nbsp;&nbsp;&nbsp;&nbsp;&nbsp;]</div><div class='line' id='LC54'>&nbsp;&nbsp;&nbsp;&nbsp;},</div><div class='line' id='LC55'>&nbsp;&nbsp;&nbsp;&nbsp;{</div><div class='line' id='LC56'>&nbsp;&nbsp;&nbsp;&nbsp;&nbsp;&quot;cell_type&quot;: &quot;code&quot;,</div><div class='line' id='LC57'>&nbsp;&nbsp;&nbsp;&nbsp;&nbsp;&quot;collapsed&quot;: false,</div><div class='line' id='LC58'>&nbsp;&nbsp;&nbsp;&nbsp;&nbsp;&quot;input&quot;: [</div><div class='line' id='LC59'>&nbsp;&nbsp;&nbsp;&nbsp;&nbsp;&nbsp;&quot;import pandas as pd&quot;</div><div class='line' id='LC60'>&nbsp;&nbsp;&nbsp;&nbsp;&nbsp;],</div><div class='line' id='LC61'>&nbsp;&nbsp;&nbsp;&nbsp;&nbsp;&quot;language&quot;: &quot;python&quot;,</div><div class='line' id='LC62'>&nbsp;&nbsp;&nbsp;&nbsp;&nbsp;&quot;metadata&quot;: {},</div><div class='line' id='LC63'>&nbsp;&nbsp;&nbsp;&nbsp;&nbsp;&quot;outputs&quot;: [],</div><div class='line' id='LC64'>&nbsp;&nbsp;&nbsp;&nbsp;&nbsp;&quot;prompt_number&quot;: 32</div><div class='line' id='LC65'>&nbsp;&nbsp;&nbsp;&nbsp;},</div><div class='line' id='LC66'>&nbsp;&nbsp;&nbsp;&nbsp;{</div><div class='line' id='LC67'>&nbsp;&nbsp;&nbsp;&nbsp;&nbsp;&quot;cell_type&quot;: &quot;code&quot;,</div><div class='line' id='LC68'>&nbsp;&nbsp;&nbsp;&nbsp;&nbsp;&quot;collapsed&quot;: false,</div><div class='line' id='LC69'>&nbsp;&nbsp;&nbsp;&nbsp;&nbsp;&quot;input&quot;: [</div><div class='line' id='LC70'>&nbsp;&nbsp;&nbsp;&nbsp;&nbsp;&nbsp;&quot;mlb = pd.read_csv(&#39;data/mlbsalaries.csv&#39;)&quot;</div><div class='line' id='LC71'>&nbsp;&nbsp;&nbsp;&nbsp;&nbsp;],</div><div class='line' id='LC72'>&nbsp;&nbsp;&nbsp;&nbsp;&nbsp;&quot;language&quot;: &quot;python&quot;,</div><div class='line' id='LC73'>&nbsp;&nbsp;&nbsp;&nbsp;&nbsp;&quot;metadata&quot;: {},</div><div class='line' id='LC74'>&nbsp;&nbsp;&nbsp;&nbsp;&nbsp;&quot;outputs&quot;: [],</div><div class='line' id='LC75'>&nbsp;&nbsp;&nbsp;&nbsp;&nbsp;&quot;prompt_number&quot;: 33</div><div class='line' id='LC76'>&nbsp;&nbsp;&nbsp;&nbsp;},</div><div class='line' id='LC77'>&nbsp;&nbsp;&nbsp;&nbsp;{</div><div class='line' id='LC78'>&nbsp;&nbsp;&nbsp;&nbsp;&nbsp;&quot;cell_type&quot;: &quot;code&quot;,</div><div class='line' id='LC79'>&nbsp;&nbsp;&nbsp;&nbsp;&nbsp;&quot;collapsed&quot;: false,</div><div class='line' id='LC80'>&nbsp;&nbsp;&nbsp;&nbsp;&nbsp;&quot;input&quot;: [</div><div class='line' id='LC81'>&nbsp;&nbsp;&nbsp;&nbsp;&nbsp;&nbsp;&quot; mlb.tail()&quot;</div><div class='line' id='LC82'>&nbsp;&nbsp;&nbsp;&nbsp;&nbsp;],</div><div class='line' id='LC83'>&nbsp;&nbsp;&nbsp;&nbsp;&nbsp;&quot;language&quot;: &quot;python&quot;,</div><div class='line' id='LC84'>&nbsp;&nbsp;&nbsp;&nbsp;&nbsp;&quot;metadata&quot;: {},</div><div class='line' id='LC85'>&nbsp;&nbsp;&nbsp;&nbsp;&nbsp;&quot;outputs&quot;: [</div><div class='line' id='LC86'>&nbsp;&nbsp;&nbsp;&nbsp;&nbsp;&nbsp;{</div><div class='line' id='LC87'>&nbsp;&nbsp;&nbsp;&nbsp;&nbsp;&nbsp;&nbsp;&quot;html&quot;: [</div><div class='line' id='LC88'>&nbsp;&nbsp;&nbsp;&nbsp;&nbsp;&nbsp;&nbsp;&nbsp;&quot;&lt;div style=\&quot;max-height:1000px;max-width:1500px;overflow:auto;\&quot;&gt;\n&quot;,</div><div class='line' id='LC89'>&nbsp;&nbsp;&nbsp;&nbsp;&nbsp;&nbsp;&nbsp;&nbsp;&quot;&lt;table border=\&quot;1\&quot; class=\&quot;dataframe\&quot;&gt;\n&quot;,</div><div class='line' id='LC90'>&nbsp;&nbsp;&nbsp;&nbsp;&nbsp;&nbsp;&nbsp;&nbsp;&quot;  &lt;thead&gt;\n&quot;,</div><div class='line' id='LC91'>&nbsp;&nbsp;&nbsp;&nbsp;&nbsp;&nbsp;&nbsp;&nbsp;&quot;    &lt;tr style=\&quot;text-align: right;\&quot;&gt;\n&quot;,</div><div class='line' id='LC92'>&nbsp;&nbsp;&nbsp;&nbsp;&nbsp;&nbsp;&nbsp;&nbsp;&quot;      &lt;th&gt;&lt;/th&gt;\n&quot;,</div><div class='line' id='LC93'>&nbsp;&nbsp;&nbsp;&nbsp;&nbsp;&nbsp;&nbsp;&nbsp;&quot;      &lt;th&gt;Year&lt;/th&gt;\n&quot;,</div><div class='line' id='LC94'>&nbsp;&nbsp;&nbsp;&nbsp;&nbsp;&nbsp;&nbsp;&nbsp;&quot;      &lt;th&gt;Player&lt;/th&gt;\n&quot;,</div><div class='line' id='LC95'>&nbsp;&nbsp;&nbsp;&nbsp;&nbsp;&nbsp;&nbsp;&nbsp;&quot;      &lt;th&gt;Salary&lt;/th&gt;\n&quot;,</div><div class='line' id='LC96'>&nbsp;&nbsp;&nbsp;&nbsp;&nbsp;&nbsp;&nbsp;&nbsp;&quot;      &lt;th&gt;Position&lt;/th&gt;\n&quot;,</div><div class='line' id='LC97'>&nbsp;&nbsp;&nbsp;&nbsp;&nbsp;&nbsp;&nbsp;&nbsp;&quot;      &lt;th&gt;Team&lt;/th&gt;\n&quot;,</div><div class='line' id='LC98'>&nbsp;&nbsp;&nbsp;&nbsp;&nbsp;&nbsp;&nbsp;&nbsp;&quot;    &lt;/tr&gt;\n&quot;,</div><div class='line' id='LC99'>&nbsp;&nbsp;&nbsp;&nbsp;&nbsp;&nbsp;&nbsp;&nbsp;&quot;  &lt;/thead&gt;\n&quot;,</div><div class='line' id='LC100'>&nbsp;&nbsp;&nbsp;&nbsp;&nbsp;&nbsp;&nbsp;&nbsp;&quot;  &lt;tbody&gt;\n&quot;,</div><div class='line' id='LC101'>&nbsp;&nbsp;&nbsp;&nbsp;&nbsp;&nbsp;&nbsp;&nbsp;&quot;    &lt;tr&gt;\n&quot;,</div><div class='line' id='LC102'>&nbsp;&nbsp;&nbsp;&nbsp;&nbsp;&nbsp;&nbsp;&nbsp;&quot;      &lt;th&gt;19538&lt;/th&gt;\n&quot;,</div><div class='line' id='LC103'>&nbsp;&nbsp;&nbsp;&nbsp;&nbsp;&nbsp;&nbsp;&nbsp;&quot;      &lt;td&gt; 2011&lt;/td&gt;\n&quot;,</div><div class='line' id='LC104'>&nbsp;&nbsp;&nbsp;&nbsp;&nbsp;&nbsp;&nbsp;&nbsp;&quot;      &lt;td&gt; Gustavo Molina&lt;/td&gt;\n&quot;,</div><div class='line' id='LC105'>&nbsp;&nbsp;&nbsp;&nbsp;&nbsp;&nbsp;&nbsp;&nbsp;&quot;      &lt;td&gt; 455000&lt;/td&gt;\n&quot;,</div><div class='line' id='LC106'>&nbsp;&nbsp;&nbsp;&nbsp;&nbsp;&nbsp;&nbsp;&nbsp;&quot;      &lt;td&gt;        Catcher&lt;/td&gt;\n&quot;,</div><div class='line' id='LC107'>&nbsp;&nbsp;&nbsp;&nbsp;&nbsp;&nbsp;&nbsp;&nbsp;&quot;      &lt;td&gt; New York Yankees&lt;/td&gt;\n&quot;,</div><div class='line' id='LC108'>&nbsp;&nbsp;&nbsp;&nbsp;&nbsp;&nbsp;&nbsp;&nbsp;&quot;    &lt;/tr&gt;\n&quot;,</div><div class='line' id='LC109'>&nbsp;&nbsp;&nbsp;&nbsp;&nbsp;&nbsp;&nbsp;&nbsp;&quot;    &lt;tr&gt;\n&quot;,</div><div class='line' id='LC110'>&nbsp;&nbsp;&nbsp;&nbsp;&nbsp;&nbsp;&nbsp;&nbsp;&quot;      &lt;th&gt;19539&lt;/th&gt;\n&quot;,</div><div class='line' id='LC111'>&nbsp;&nbsp;&nbsp;&nbsp;&nbsp;&nbsp;&nbsp;&nbsp;&quot;      &lt;td&gt; 2011&lt;/td&gt;\n&quot;,</div><div class='line' id='LC112'>&nbsp;&nbsp;&nbsp;&nbsp;&nbsp;&nbsp;&nbsp;&nbsp;&quot;      &lt;td&gt;      Ivan Nova&lt;/td&gt;\n&quot;,</div><div class='line' id='LC113'>&nbsp;&nbsp;&nbsp;&nbsp;&nbsp;&nbsp;&nbsp;&nbsp;&quot;      &lt;td&gt; 432900&lt;/td&gt;\n&quot;,</div><div class='line' id='LC114'>&nbsp;&nbsp;&nbsp;&nbsp;&nbsp;&nbsp;&nbsp;&nbsp;&quot;      &lt;td&gt;        Pitcher&lt;/td&gt;\n&quot;,</div><div class='line' id='LC115'>&nbsp;&nbsp;&nbsp;&nbsp;&nbsp;&nbsp;&nbsp;&nbsp;&quot;      &lt;td&gt; New York Yankees&lt;/td&gt;\n&quot;,</div><div class='line' id='LC116'>&nbsp;&nbsp;&nbsp;&nbsp;&nbsp;&nbsp;&nbsp;&nbsp;&quot;    &lt;/tr&gt;\n&quot;,</div><div class='line' id='LC117'>&nbsp;&nbsp;&nbsp;&nbsp;&nbsp;&nbsp;&nbsp;&nbsp;&quot;    &lt;tr&gt;\n&quot;,</div><div class='line' id='LC118'>&nbsp;&nbsp;&nbsp;&nbsp;&nbsp;&nbsp;&nbsp;&nbsp;&quot;      &lt;th&gt;19540&lt;/th&gt;\n&quot;,</div><div class='line' id='LC119'>&nbsp;&nbsp;&nbsp;&nbsp;&nbsp;&nbsp;&nbsp;&nbsp;&quot;      &lt;td&gt; 2011&lt;/td&gt;\n&quot;,</div><div class='line' id='LC120'>&nbsp;&nbsp;&nbsp;&nbsp;&nbsp;&nbsp;&nbsp;&nbsp;&quot;      &lt;td&gt;   Colin Curtis&lt;/td&gt;\n&quot;,</div><div class='line' id='LC121'>&nbsp;&nbsp;&nbsp;&nbsp;&nbsp;&nbsp;&nbsp;&nbsp;&quot;      &lt;td&gt; 420400&lt;/td&gt;\n&quot;,</div><div class='line' id='LC122'>&nbsp;&nbsp;&nbsp;&nbsp;&nbsp;&nbsp;&nbsp;&nbsp;&quot;      &lt;td&gt;     Outfielder&lt;/td&gt;\n&quot;,</div><div class='line' id='LC123'>&nbsp;&nbsp;&nbsp;&nbsp;&nbsp;&nbsp;&nbsp;&nbsp;&quot;      &lt;td&gt; New York Yankees&lt;/td&gt;\n&quot;,</div><div class='line' id='LC124'>&nbsp;&nbsp;&nbsp;&nbsp;&nbsp;&nbsp;&nbsp;&nbsp;&quot;    &lt;/tr&gt;\n&quot;,</div><div class='line' id='LC125'>&nbsp;&nbsp;&nbsp;&nbsp;&nbsp;&nbsp;&nbsp;&nbsp;&quot;    &lt;tr&gt;\n&quot;,</div><div class='line' id='LC126'>&nbsp;&nbsp;&nbsp;&nbsp;&nbsp;&nbsp;&nbsp;&nbsp;&quot;      &lt;th&gt;19541&lt;/th&gt;\n&quot;,</div><div class='line' id='LC127'>&nbsp;&nbsp;&nbsp;&nbsp;&nbsp;&nbsp;&nbsp;&nbsp;&quot;      &lt;td&gt; 2011&lt;/td&gt;\n&quot;,</div><div class='line' id='LC128'>&nbsp;&nbsp;&nbsp;&nbsp;&nbsp;&nbsp;&nbsp;&nbsp;&quot;      &lt;td&gt;  Eduardo Nunez&lt;/td&gt;\n&quot;,</div><div class='line' id='LC129'>&nbsp;&nbsp;&nbsp;&nbsp;&nbsp;&nbsp;&nbsp;&nbsp;&quot;      &lt;td&gt; 419300&lt;/td&gt;\n&quot;,</div><div class='line' id='LC130'>&nbsp;&nbsp;&nbsp;&nbsp;&nbsp;&nbsp;&nbsp;&nbsp;&quot;      &lt;td&gt;      Shortstop&lt;/td&gt;\n&quot;,</div><div class='line' id='LC131'>&nbsp;&nbsp;&nbsp;&nbsp;&nbsp;&nbsp;&nbsp;&nbsp;&quot;      &lt;td&gt; New York Yankees&lt;/td&gt;\n&quot;,</div><div class='line' id='LC132'>&nbsp;&nbsp;&nbsp;&nbsp;&nbsp;&nbsp;&nbsp;&nbsp;&quot;    &lt;/tr&gt;\n&quot;,</div><div class='line' id='LC133'>&nbsp;&nbsp;&nbsp;&nbsp;&nbsp;&nbsp;&nbsp;&nbsp;&quot;    &lt;tr&gt;\n&quot;,</div><div class='line' id='LC134'>&nbsp;&nbsp;&nbsp;&nbsp;&nbsp;&nbsp;&nbsp;&nbsp;&quot;      &lt;th&gt;19542&lt;/th&gt;\n&quot;,</div><div class='line' id='LC135'>&nbsp;&nbsp;&nbsp;&nbsp;&nbsp;&nbsp;&nbsp;&nbsp;&quot;      &lt;td&gt; 2011&lt;/td&gt;\n&quot;,</div><div class='line' id='LC136'>&nbsp;&nbsp;&nbsp;&nbsp;&nbsp;&nbsp;&nbsp;&nbsp;&quot;      &lt;td&gt;  Reegie Corona&lt;/td&gt;\n&quot;,</div><div class='line' id='LC137'>&nbsp;&nbsp;&nbsp;&nbsp;&nbsp;&nbsp;&nbsp;&nbsp;&quot;      &lt;td&gt; 414000&lt;/td&gt;\n&quot;,</div><div class='line' id='LC138'>&nbsp;&nbsp;&nbsp;&nbsp;&nbsp;&nbsp;&nbsp;&nbsp;&quot;      &lt;td&gt; Second Baseman&lt;/td&gt;\n&quot;,</div><div class='line' id='LC139'>&nbsp;&nbsp;&nbsp;&nbsp;&nbsp;&nbsp;&nbsp;&nbsp;&quot;      &lt;td&gt; New York Yankees&lt;/td&gt;\n&quot;,</div><div class='line' id='LC140'>&nbsp;&nbsp;&nbsp;&nbsp;&nbsp;&nbsp;&nbsp;&nbsp;&quot;    &lt;/tr&gt;\n&quot;,</div><div class='line' id='LC141'>&nbsp;&nbsp;&nbsp;&nbsp;&nbsp;&nbsp;&nbsp;&nbsp;&quot;  &lt;/tbody&gt;\n&quot;,</div><div class='line' id='LC142'>&nbsp;&nbsp;&nbsp;&nbsp;&nbsp;&nbsp;&nbsp;&nbsp;&quot;&lt;/table&gt;\n&quot;,</div><div class='line' id='LC143'>&nbsp;&nbsp;&nbsp;&nbsp;&nbsp;&nbsp;&nbsp;&nbsp;&quot;&lt;/div&gt;&quot;</div><div class='line' id='LC144'>&nbsp;&nbsp;&nbsp;&nbsp;&nbsp;&nbsp;&nbsp;],</div><div class='line' id='LC145'>&nbsp;&nbsp;&nbsp;&nbsp;&nbsp;&nbsp;&nbsp;&quot;metadata&quot;: {},</div><div class='line' id='LC146'>&nbsp;&nbsp;&nbsp;&nbsp;&nbsp;&nbsp;&nbsp;&quot;output_type&quot;: &quot;pyout&quot;,</div><div class='line' id='LC147'>&nbsp;&nbsp;&nbsp;&nbsp;&nbsp;&nbsp;&nbsp;&quot;prompt_number&quot;: 35,</div><div class='line' id='LC148'>&nbsp;&nbsp;&nbsp;&nbsp;&nbsp;&nbsp;&nbsp;&quot;text&quot;: [</div><div class='line' id='LC149'>&nbsp;&nbsp;&nbsp;&nbsp;&nbsp;&nbsp;&nbsp;&nbsp;&quot;       Year          Player  Salary        Position              Team\n&quot;,</div><div class='line' id='LC150'>&nbsp;&nbsp;&nbsp;&nbsp;&nbsp;&nbsp;&nbsp;&nbsp;&quot;19538  2011  Gustavo Molina  455000         Catcher  New York Yankees\n&quot;,</div><div class='line' id='LC151'>&nbsp;&nbsp;&nbsp;&nbsp;&nbsp;&nbsp;&nbsp;&nbsp;&quot;19539  2011       Ivan Nova  432900         Pitcher  New York Yankees\n&quot;,</div><div class='line' id='LC152'>&nbsp;&nbsp;&nbsp;&nbsp;&nbsp;&nbsp;&nbsp;&nbsp;&quot;19540  2011    Colin Curtis  420400      Outfielder  New York Yankees\n&quot;,</div><div class='line' id='LC153'>&nbsp;&nbsp;&nbsp;&nbsp;&nbsp;&nbsp;&nbsp;&nbsp;&quot;19541  2011   Eduardo Nunez  419300       Shortstop  New York Yankees\n&quot;,</div><div class='line' id='LC154'>&nbsp;&nbsp;&nbsp;&nbsp;&nbsp;&nbsp;&nbsp;&nbsp;&quot;19542  2011   Reegie Corona  414000  Second Baseman  New York Yankees&quot;</div><div class='line' id='LC155'>&nbsp;&nbsp;&nbsp;&nbsp;&nbsp;&nbsp;&nbsp;]</div><div class='line' id='LC156'>&nbsp;&nbsp;&nbsp;&nbsp;&nbsp;&nbsp;}</div><div class='line' id='LC157'>&nbsp;&nbsp;&nbsp;&nbsp;&nbsp;],</div><div class='line' id='LC158'>&nbsp;&nbsp;&nbsp;&nbsp;&nbsp;&quot;prompt_number&quot;: 35</div><div class='line' id='LC159'>&nbsp;&nbsp;&nbsp;&nbsp;},</div><div class='line' id='LC160'>&nbsp;&nbsp;&nbsp;&nbsp;{</div><div class='line' id='LC161'>&nbsp;&nbsp;&nbsp;&nbsp;&nbsp;&quot;cell_type&quot;: &quot;markdown&quot;,</div><div class='line' id='LC162'>&nbsp;&nbsp;&nbsp;&nbsp;&nbsp;&quot;metadata&quot;: {},</div><div class='line' id='LC163'>&nbsp;&nbsp;&nbsp;&nbsp;&nbsp;&quot;source&quot;: [</div><div class='line' id='LC164'>&nbsp;&nbsp;&nbsp;&nbsp;&nbsp;&nbsp;&quot;####2.13 Review: Use value_counts() method to identify unique values and corresponding counts&quot;</div><div class='line' id='LC165'>&nbsp;&nbsp;&nbsp;&nbsp;&nbsp;]</div><div class='line' id='LC166'>&nbsp;&nbsp;&nbsp;&nbsp;},</div><div class='line' id='LC167'>&nbsp;&nbsp;&nbsp;&nbsp;{</div><div class='line' id='LC168'>&nbsp;&nbsp;&nbsp;&nbsp;&nbsp;&quot;cell_type&quot;: &quot;code&quot;,</div><div class='line' id='LC169'>&nbsp;&nbsp;&nbsp;&nbsp;&nbsp;&quot;collapsed&quot;: false,</div><div class='line' id='LC170'>&nbsp;&nbsp;&nbsp;&nbsp;&nbsp;&quot;input&quot;: [</div><div class='line' id='LC171'>&nbsp;&nbsp;&nbsp;&nbsp;&nbsp;&nbsp;&quot;mlb.Year.value_counts()&quot;</div><div class='line' id='LC172'>&nbsp;&nbsp;&nbsp;&nbsp;&nbsp;],</div><div class='line' id='LC173'>&nbsp;&nbsp;&nbsp;&nbsp;&nbsp;&quot;language&quot;: &quot;python&quot;,</div><div class='line' id='LC174'>&nbsp;&nbsp;&nbsp;&nbsp;&nbsp;&quot;metadata&quot;: {},</div><div class='line' id='LC175'>&nbsp;&nbsp;&nbsp;&nbsp;&nbsp;&quot;outputs&quot;: [</div><div class='line' id='LC176'>&nbsp;&nbsp;&nbsp;&nbsp;&nbsp;&nbsp;{</div><div class='line' id='LC177'>&nbsp;&nbsp;&nbsp;&nbsp;&nbsp;&nbsp;&nbsp;&quot;metadata&quot;: {},</div><div class='line' id='LC178'>&nbsp;&nbsp;&nbsp;&nbsp;&nbsp;&nbsp;&nbsp;&quot;output_type&quot;: &quot;pyout&quot;,</div><div class='line' id='LC179'>&nbsp;&nbsp;&nbsp;&nbsp;&nbsp;&nbsp;&nbsp;&quot;prompt_number&quot;: 39,</div><div class='line' id='LC180'>&nbsp;&nbsp;&nbsp;&nbsp;&nbsp;&nbsp;&nbsp;&quot;text&quot;: [</div><div class='line' id='LC181'>&nbsp;&nbsp;&nbsp;&nbsp;&nbsp;&nbsp;&nbsp;&nbsp;&quot;1990    972\n&quot;,</div><div class='line' id='LC182'>&nbsp;&nbsp;&nbsp;&nbsp;&nbsp;&nbsp;&nbsp;&nbsp;&quot;1999    919\n&quot;,</div><div class='line' id='LC183'>&nbsp;&nbsp;&nbsp;&nbsp;&nbsp;&nbsp;&nbsp;&nbsp;&quot;2008    858\n&quot;,</div><div class='line' id='LC184'>&nbsp;&nbsp;&nbsp;&nbsp;&nbsp;&nbsp;&nbsp;&nbsp;&quot;2001    857\n&quot;,</div><div class='line' id='LC185'>&nbsp;&nbsp;&nbsp;&nbsp;&nbsp;&nbsp;&nbsp;&nbsp;&quot;2002    849\n&quot;,</div><div class='line' id='LC186'>&nbsp;&nbsp;&nbsp;&nbsp;&nbsp;&nbsp;&nbsp;&nbsp;&quot;2007    848\n&quot;,</div><div class='line' id='LC187'>&nbsp;&nbsp;&nbsp;&nbsp;&nbsp;&nbsp;&nbsp;&nbsp;&quot;1998    846\n&quot;,</div><div class='line' id='LC188'>&nbsp;&nbsp;&nbsp;&nbsp;&nbsp;&nbsp;&nbsp;&nbsp;&quot;2011    843\n&quot;,</div><div class='line' id='LC189'>&nbsp;&nbsp;&nbsp;&nbsp;&nbsp;&nbsp;&nbsp;&nbsp;&quot;2000    843\n&quot;,</div><div class='line' id='LC190'>&nbsp;&nbsp;&nbsp;&nbsp;&nbsp;&nbsp;&nbsp;&nbsp;&quot;2004    833\n&quot;,</div><div class='line' id='LC191'>&nbsp;&nbsp;&nbsp;&nbsp;&nbsp;&nbsp;&nbsp;&nbsp;&quot;2005    831\n&quot;,</div><div class='line' id='LC192'>&nbsp;&nbsp;&nbsp;&nbsp;&nbsp;&nbsp;&nbsp;&nbsp;&quot;2010    828\n&quot;,</div><div class='line' id='LC193'>&nbsp;&nbsp;&nbsp;&nbsp;&nbsp;&nbsp;&nbsp;&nbsp;&quot;2003    826\n&quot;,</div><div class='line' id='LC194'>&nbsp;&nbsp;&nbsp;&nbsp;&nbsp;&nbsp;&nbsp;&nbsp;&quot;2006    823\n&quot;,</div><div class='line' id='LC195'>&nbsp;&nbsp;&nbsp;&nbsp;&nbsp;&nbsp;&nbsp;&nbsp;&quot;2009    818\n&quot;,</div><div class='line' id='LC196'>&nbsp;&nbsp;&nbsp;&nbsp;&nbsp;&nbsp;&nbsp;&nbsp;&quot;1995    805\n&quot;,</div><div class='line' id='LC197'>&nbsp;&nbsp;&nbsp;&nbsp;&nbsp;&nbsp;&nbsp;&nbsp;&quot;1993    786\n&quot;,</div><div class='line' id='LC198'>&nbsp;&nbsp;&nbsp;&nbsp;&nbsp;&nbsp;&nbsp;&nbsp;&quot;1997    773\n&quot;,</div><div class='line' id='LC199'>&nbsp;&nbsp;&nbsp;&nbsp;&nbsp;&nbsp;&nbsp;&nbsp;&quot;1996    768\n&quot;,</div><div class='line' id='LC200'>&nbsp;&nbsp;&nbsp;&nbsp;&nbsp;&nbsp;&nbsp;&nbsp;&quot;1992    753\n&quot;,</div><div class='line' id='LC201'>&nbsp;&nbsp;&nbsp;&nbsp;&nbsp;&nbsp;&nbsp;&nbsp;&quot;1994    748\n&quot;,</div><div class='line' id='LC202'>&nbsp;&nbsp;&nbsp;&nbsp;&nbsp;&nbsp;&nbsp;&nbsp;&quot;1991    720\n&quot;,</div><div class='line' id='LC203'>&nbsp;&nbsp;&nbsp;&nbsp;&nbsp;&nbsp;&nbsp;&nbsp;&quot;1989    710\n&quot;,</div><div class='line' id='LC204'>&nbsp;&nbsp;&nbsp;&nbsp;&nbsp;&nbsp;&nbsp;&nbsp;&quot;1988    686\n&quot;,</div><div class='line' id='LC205'>&nbsp;&nbsp;&nbsp;&nbsp;&nbsp;&nbsp;&nbsp;&nbsp;&quot;dtype: int64&quot;</div><div class='line' id='LC206'>&nbsp;&nbsp;&nbsp;&nbsp;&nbsp;&nbsp;&nbsp;]</div><div class='line' id='LC207'>&nbsp;&nbsp;&nbsp;&nbsp;&nbsp;&nbsp;}</div><div class='line' id='LC208'>&nbsp;&nbsp;&nbsp;&nbsp;&nbsp;],</div><div class='line' id='LC209'>&nbsp;&nbsp;&nbsp;&nbsp;&nbsp;&quot;prompt_number&quot;: 39</div><div class='line' id='LC210'>&nbsp;&nbsp;&nbsp;&nbsp;},</div><div class='line' id='LC211'>&nbsp;&nbsp;&nbsp;&nbsp;{</div><div class='line' id='LC212'>&nbsp;&nbsp;&nbsp;&nbsp;&nbsp;&quot;cell_type&quot;: &quot;code&quot;,</div><div class='line' id='LC213'>&nbsp;&nbsp;&nbsp;&nbsp;&nbsp;&quot;collapsed&quot;: false,</div><div class='line' id='LC214'>&nbsp;&nbsp;&nbsp;&nbsp;&nbsp;&quot;input&quot;: [],</div><div class='line' id='LC215'>&nbsp;&nbsp;&nbsp;&nbsp;&nbsp;&quot;language&quot;: &quot;python&quot;,</div><div class='line' id='LC216'>&nbsp;&nbsp;&nbsp;&nbsp;&nbsp;&quot;metadata&quot;: {},</div><div class='line' id='LC217'>&nbsp;&nbsp;&nbsp;&nbsp;&nbsp;&quot;outputs&quot;: []</div><div class='line' id='LC218'>&nbsp;&nbsp;&nbsp;&nbsp;},</div><div class='line' id='LC219'>&nbsp;&nbsp;&nbsp;&nbsp;{</div><div class='line' id='LC220'>&nbsp;&nbsp;&nbsp;&nbsp;&nbsp;&quot;cell_type&quot;: &quot;markdown&quot;,</div><div class='line' id='LC221'>&nbsp;&nbsp;&nbsp;&nbsp;&nbsp;&quot;metadata&quot;: {},</div><div class='line' id='LC222'>&nbsp;&nbsp;&nbsp;&nbsp;&nbsp;&quot;source&quot;: [</div><div class='line' id='LC223'>&nbsp;&nbsp;&nbsp;&nbsp;&nbsp;&nbsp;&quot;#### 2.14 Create a subset of mlb dataset for Year 2010&quot;</div><div class='line' id='LC224'>&nbsp;&nbsp;&nbsp;&nbsp;&nbsp;]</div><div class='line' id='LC225'>&nbsp;&nbsp;&nbsp;&nbsp;},</div><div class='line' id='LC226'>&nbsp;&nbsp;&nbsp;&nbsp;{</div><div class='line' id='LC227'>&nbsp;&nbsp;&nbsp;&nbsp;&nbsp;&quot;cell_type&quot;: &quot;code&quot;,</div><div class='line' id='LC228'>&nbsp;&nbsp;&nbsp;&nbsp;&nbsp;&quot;collapsed&quot;: false,</div><div class='line' id='LC229'>&nbsp;&nbsp;&nbsp;&nbsp;&nbsp;&quot;input&quot;: [</div><div class='line' id='LC230'>&nbsp;&nbsp;&nbsp;&nbsp;&nbsp;&nbsp;&quot;yr2010 = mlb[mlb.Year==2010]&quot;</div><div class='line' id='LC231'>&nbsp;&nbsp;&nbsp;&nbsp;&nbsp;],</div><div class='line' id='LC232'>&nbsp;&nbsp;&nbsp;&nbsp;&nbsp;&quot;language&quot;: &quot;python&quot;,</div><div class='line' id='LC233'>&nbsp;&nbsp;&nbsp;&nbsp;&nbsp;&quot;metadata&quot;: {},</div><div class='line' id='LC234'>&nbsp;&nbsp;&nbsp;&nbsp;&nbsp;&quot;outputs&quot;: [],</div><div class='line' id='LC235'>&nbsp;&nbsp;&nbsp;&nbsp;&nbsp;&quot;prompt_number&quot;: 40</div><div class='line' id='LC236'>&nbsp;&nbsp;&nbsp;&nbsp;},</div><div class='line' id='LC237'>&nbsp;&nbsp;&nbsp;&nbsp;{</div><div class='line' id='LC238'>&nbsp;&nbsp;&nbsp;&nbsp;&nbsp;&quot;cell_type&quot;: &quot;code&quot;,</div><div class='line' id='LC239'>&nbsp;&nbsp;&nbsp;&nbsp;&nbsp;&quot;collapsed&quot;: false,</div><div class='line' id='LC240'>&nbsp;&nbsp;&nbsp;&nbsp;&nbsp;&quot;input&quot;: [</div><div class='line' id='LC241'>&nbsp;&nbsp;&nbsp;&nbsp;&nbsp;&nbsp;&quot;yr2010 = yr2010.set_index(&#39;Player&#39;)&quot;</div><div class='line' id='LC242'>&nbsp;&nbsp;&nbsp;&nbsp;&nbsp;],</div><div class='line' id='LC243'>&nbsp;&nbsp;&nbsp;&nbsp;&nbsp;&quot;language&quot;: &quot;python&quot;,</div><div class='line' id='LC244'>&nbsp;&nbsp;&nbsp;&nbsp;&nbsp;&quot;metadata&quot;: {},</div><div class='line' id='LC245'>&nbsp;&nbsp;&nbsp;&nbsp;&nbsp;&quot;outputs&quot;: [],</div><div class='line' id='LC246'>&nbsp;&nbsp;&nbsp;&nbsp;&nbsp;&quot;prompt_number&quot;: 41</div><div class='line' id='LC247'>&nbsp;&nbsp;&nbsp;&nbsp;},</div><div class='line' id='LC248'>&nbsp;&nbsp;&nbsp;&nbsp;{</div><div class='line' id='LC249'>&nbsp;&nbsp;&nbsp;&nbsp;&nbsp;&quot;cell_type&quot;: &quot;code&quot;,</div><div class='line' id='LC250'>&nbsp;&nbsp;&nbsp;&nbsp;&nbsp;&quot;collapsed&quot;: false,</div><div class='line' id='LC251'>&nbsp;&nbsp;&nbsp;&nbsp;&nbsp;&quot;input&quot;: [</div><div class='line' id='LC252'>&nbsp;&nbsp;&nbsp;&nbsp;&nbsp;&nbsp;&quot;yr2010.head()&quot;</div><div class='line' id='LC253'>&nbsp;&nbsp;&nbsp;&nbsp;&nbsp;],</div><div class='line' id='LC254'>&nbsp;&nbsp;&nbsp;&nbsp;&nbsp;&quot;language&quot;: &quot;python&quot;,</div><div class='line' id='LC255'>&nbsp;&nbsp;&nbsp;&nbsp;&nbsp;&quot;metadata&quot;: {},</div><div class='line' id='LC256'>&nbsp;&nbsp;&nbsp;&nbsp;&nbsp;&quot;outputs&quot;: [</div><div class='line' id='LC257'>&nbsp;&nbsp;&nbsp;&nbsp;&nbsp;&nbsp;{</div><div class='line' id='LC258'>&nbsp;&nbsp;&nbsp;&nbsp;&nbsp;&nbsp;&nbsp;&quot;html&quot;: [</div><div class='line' id='LC259'>&nbsp;&nbsp;&nbsp;&nbsp;&nbsp;&nbsp;&nbsp;&nbsp;&quot;&lt;div style=\&quot;max-height:1000px;max-width:1500px;overflow:auto;\&quot;&gt;\n&quot;,</div><div class='line' id='LC260'>&nbsp;&nbsp;&nbsp;&nbsp;&nbsp;&nbsp;&nbsp;&nbsp;&quot;&lt;table border=\&quot;1\&quot; class=\&quot;dataframe\&quot;&gt;\n&quot;,</div><div class='line' id='LC261'>&nbsp;&nbsp;&nbsp;&nbsp;&nbsp;&nbsp;&nbsp;&nbsp;&quot;  &lt;thead&gt;\n&quot;,</div><div class='line' id='LC262'>&nbsp;&nbsp;&nbsp;&nbsp;&nbsp;&nbsp;&nbsp;&nbsp;&quot;    &lt;tr style=\&quot;text-align: right;\&quot;&gt;\n&quot;,</div><div class='line' id='LC263'>&nbsp;&nbsp;&nbsp;&nbsp;&nbsp;&nbsp;&nbsp;&nbsp;&quot;      &lt;th&gt;&lt;/th&gt;\n&quot;,</div><div class='line' id='LC264'>&nbsp;&nbsp;&nbsp;&nbsp;&nbsp;&nbsp;&nbsp;&nbsp;&quot;      &lt;th&gt;Year&lt;/th&gt;\n&quot;,</div><div class='line' id='LC265'>&nbsp;&nbsp;&nbsp;&nbsp;&nbsp;&nbsp;&nbsp;&nbsp;&quot;      &lt;th&gt;Salary&lt;/th&gt;\n&quot;,</div><div class='line' id='LC266'>&nbsp;&nbsp;&nbsp;&nbsp;&nbsp;&nbsp;&nbsp;&nbsp;&quot;      &lt;th&gt;Position&lt;/th&gt;\n&quot;,</div><div class='line' id='LC267'>&nbsp;&nbsp;&nbsp;&nbsp;&nbsp;&nbsp;&nbsp;&nbsp;&quot;      &lt;th&gt;Team&lt;/th&gt;\n&quot;,</div><div class='line' id='LC268'>&nbsp;&nbsp;&nbsp;&nbsp;&nbsp;&nbsp;&nbsp;&nbsp;&quot;    &lt;/tr&gt;\n&quot;,</div><div class='line' id='LC269'>&nbsp;&nbsp;&nbsp;&nbsp;&nbsp;&nbsp;&nbsp;&nbsp;&quot;    &lt;tr&gt;\n&quot;,</div><div class='line' id='LC270'>&nbsp;&nbsp;&nbsp;&nbsp;&nbsp;&nbsp;&nbsp;&nbsp;&quot;      &lt;th&gt;Player&lt;/th&gt;\n&quot;,</div><div class='line' id='LC271'>&nbsp;&nbsp;&nbsp;&nbsp;&nbsp;&nbsp;&nbsp;&nbsp;&quot;      &lt;th&gt;&lt;/th&gt;\n&quot;,</div><div class='line' id='LC272'>&nbsp;&nbsp;&nbsp;&nbsp;&nbsp;&nbsp;&nbsp;&nbsp;&quot;      &lt;th&gt;&lt;/th&gt;\n&quot;,</div><div class='line' id='LC273'>&nbsp;&nbsp;&nbsp;&nbsp;&nbsp;&nbsp;&nbsp;&nbsp;&quot;      &lt;th&gt;&lt;/th&gt;\n&quot;,</div><div class='line' id='LC274'>&nbsp;&nbsp;&nbsp;&nbsp;&nbsp;&nbsp;&nbsp;&nbsp;&quot;      &lt;th&gt;&lt;/th&gt;\n&quot;,</div><div class='line' id='LC275'>&nbsp;&nbsp;&nbsp;&nbsp;&nbsp;&nbsp;&nbsp;&nbsp;&quot;    &lt;/tr&gt;\n&quot;,</div><div class='line' id='LC276'>&nbsp;&nbsp;&nbsp;&nbsp;&nbsp;&nbsp;&nbsp;&nbsp;&quot;  &lt;/thead&gt;\n&quot;,</div><div class='line' id='LC277'>&nbsp;&nbsp;&nbsp;&nbsp;&nbsp;&nbsp;&nbsp;&nbsp;&quot;  &lt;tbody&gt;\n&quot;,</div><div class='line' id='LC278'>&nbsp;&nbsp;&nbsp;&nbsp;&nbsp;&nbsp;&nbsp;&nbsp;&quot;    &lt;tr&gt;\n&quot;,</div><div class='line' id='LC279'>&nbsp;&nbsp;&nbsp;&nbsp;&nbsp;&nbsp;&nbsp;&nbsp;&quot;      &lt;th&gt;Torii Hunter&lt;/th&gt;\n&quot;,</div><div class='line' id='LC280'>&nbsp;&nbsp;&nbsp;&nbsp;&nbsp;&nbsp;&nbsp;&nbsp;&quot;      &lt;td&gt; 2010&lt;/td&gt;\n&quot;,</div><div class='line' id='LC281'>&nbsp;&nbsp;&nbsp;&nbsp;&nbsp;&nbsp;&nbsp;&nbsp;&quot;      &lt;td&gt; 18500000&lt;/td&gt;\n&quot;,</div><div class='line' id='LC282'>&nbsp;&nbsp;&nbsp;&nbsp;&nbsp;&nbsp;&nbsp;&nbsp;&quot;      &lt;td&gt; Outfielder&lt;/td&gt;\n&quot;,</div><div class='line' id='LC283'>&nbsp;&nbsp;&nbsp;&nbsp;&nbsp;&nbsp;&nbsp;&nbsp;&quot;      &lt;td&gt; Los Angeles Angels&lt;/td&gt;\n&quot;,</div><div class='line' id='LC284'>&nbsp;&nbsp;&nbsp;&nbsp;&nbsp;&nbsp;&nbsp;&nbsp;&quot;    &lt;/tr&gt;\n&quot;,</div><div class='line' id='LC285'>&nbsp;&nbsp;&nbsp;&nbsp;&nbsp;&nbsp;&nbsp;&nbsp;&quot;    &lt;tr&gt;\n&quot;,</div><div class='line' id='LC286'>&nbsp;&nbsp;&nbsp;&nbsp;&nbsp;&nbsp;&nbsp;&nbsp;&quot;      &lt;th&gt;Bobby Abreu&lt;/th&gt;\n&quot;,</div><div class='line' id='LC287'>&nbsp;&nbsp;&nbsp;&nbsp;&nbsp;&nbsp;&nbsp;&nbsp;&quot;      &lt;td&gt; 2010&lt;/td&gt;\n&quot;,</div><div class='line' id='LC288'>&nbsp;&nbsp;&nbsp;&nbsp;&nbsp;&nbsp;&nbsp;&nbsp;&quot;      &lt;td&gt;  9000000&lt;/td&gt;\n&quot;,</div><div class='line' id='LC289'>&nbsp;&nbsp;&nbsp;&nbsp;&nbsp;&nbsp;&nbsp;&nbsp;&quot;      &lt;td&gt; Outfielder&lt;/td&gt;\n&quot;,</div><div class='line' id='LC290'>&nbsp;&nbsp;&nbsp;&nbsp;&nbsp;&nbsp;&nbsp;&nbsp;&quot;      &lt;td&gt; Los Angeles Angels&lt;/td&gt;\n&quot;,</div><div class='line' id='LC291'>&nbsp;&nbsp;&nbsp;&nbsp;&nbsp;&nbsp;&nbsp;&nbsp;&quot;    &lt;/tr&gt;\n&quot;,</div><div class='line' id='LC292'>&nbsp;&nbsp;&nbsp;&nbsp;&nbsp;&nbsp;&nbsp;&nbsp;&quot;    &lt;tr&gt;\n&quot;,</div><div class='line' id='LC293'>&nbsp;&nbsp;&nbsp;&nbsp;&nbsp;&nbsp;&nbsp;&nbsp;&quot;      &lt;th&gt;Brian Fuentes&lt;/th&gt;\n&quot;,</div><div class='line' id='LC294'>&nbsp;&nbsp;&nbsp;&nbsp;&nbsp;&nbsp;&nbsp;&nbsp;&quot;      &lt;td&gt; 2010&lt;/td&gt;\n&quot;,</div><div class='line' id='LC295'>&nbsp;&nbsp;&nbsp;&nbsp;&nbsp;&nbsp;&nbsp;&nbsp;&quot;      &lt;td&gt;  9000000&lt;/td&gt;\n&quot;,</div><div class='line' id='LC296'>&nbsp;&nbsp;&nbsp;&nbsp;&nbsp;&nbsp;&nbsp;&nbsp;&quot;      &lt;td&gt;    Pitcher&lt;/td&gt;\n&quot;,</div><div class='line' id='LC297'>&nbsp;&nbsp;&nbsp;&nbsp;&nbsp;&nbsp;&nbsp;&nbsp;&quot;      &lt;td&gt; Los Angeles Angels&lt;/td&gt;\n&quot;,</div><div class='line' id='LC298'>&nbsp;&nbsp;&nbsp;&nbsp;&nbsp;&nbsp;&nbsp;&nbsp;&quot;    &lt;/tr&gt;\n&quot;,</div><div class='line' id='LC299'>&nbsp;&nbsp;&nbsp;&nbsp;&nbsp;&nbsp;&nbsp;&nbsp;&quot;    &lt;tr&gt;\n&quot;,</div><div class='line' id='LC300'>&nbsp;&nbsp;&nbsp;&nbsp;&nbsp;&nbsp;&nbsp;&nbsp;&quot;      &lt;th&gt;Scott Kazmir&lt;/th&gt;\n&quot;,</div><div class='line' id='LC301'>&nbsp;&nbsp;&nbsp;&nbsp;&nbsp;&nbsp;&nbsp;&nbsp;&quot;      &lt;td&gt; 2010&lt;/td&gt;\n&quot;,</div><div class='line' id='LC302'>&nbsp;&nbsp;&nbsp;&nbsp;&nbsp;&nbsp;&nbsp;&nbsp;&quot;      &lt;td&gt;  8000000&lt;/td&gt;\n&quot;,</div><div class='line' id='LC303'>&nbsp;&nbsp;&nbsp;&nbsp;&nbsp;&nbsp;&nbsp;&nbsp;&quot;      &lt;td&gt;    Pitcher&lt;/td&gt;\n&quot;,</div><div class='line' id='LC304'>&nbsp;&nbsp;&nbsp;&nbsp;&nbsp;&nbsp;&nbsp;&nbsp;&quot;      &lt;td&gt; Los Angeles Angels&lt;/td&gt;\n&quot;,</div><div class='line' id='LC305'>&nbsp;&nbsp;&nbsp;&nbsp;&nbsp;&nbsp;&nbsp;&nbsp;&quot;    &lt;/tr&gt;\n&quot;,</div><div class='line' id='LC306'>&nbsp;&nbsp;&nbsp;&nbsp;&nbsp;&nbsp;&nbsp;&nbsp;&quot;    &lt;tr&gt;\n&quot;,</div><div class='line' id='LC307'>&nbsp;&nbsp;&nbsp;&nbsp;&nbsp;&nbsp;&nbsp;&nbsp;&quot;      &lt;th&gt;Joel Pineiro&lt;/th&gt;\n&quot;,</div><div class='line' id='LC308'>&nbsp;&nbsp;&nbsp;&nbsp;&nbsp;&nbsp;&nbsp;&nbsp;&quot;      &lt;td&gt; 2010&lt;/td&gt;\n&quot;,</div><div class='line' id='LC309'>&nbsp;&nbsp;&nbsp;&nbsp;&nbsp;&nbsp;&nbsp;&nbsp;&quot;      &lt;td&gt;  8000000&lt;/td&gt;\n&quot;,</div><div class='line' id='LC310'>&nbsp;&nbsp;&nbsp;&nbsp;&nbsp;&nbsp;&nbsp;&nbsp;&quot;      &lt;td&gt;    Pitcher&lt;/td&gt;\n&quot;,</div><div class='line' id='LC311'>&nbsp;&nbsp;&nbsp;&nbsp;&nbsp;&nbsp;&nbsp;&nbsp;&quot;      &lt;td&gt; Los Angeles Angels&lt;/td&gt;\n&quot;,</div><div class='line' id='LC312'>&nbsp;&nbsp;&nbsp;&nbsp;&nbsp;&nbsp;&nbsp;&nbsp;&quot;    &lt;/tr&gt;\n&quot;,</div><div class='line' id='LC313'>&nbsp;&nbsp;&nbsp;&nbsp;&nbsp;&nbsp;&nbsp;&nbsp;&quot;  &lt;/tbody&gt;\n&quot;,</div><div class='line' id='LC314'>&nbsp;&nbsp;&nbsp;&nbsp;&nbsp;&nbsp;&nbsp;&nbsp;&quot;&lt;/table&gt;\n&quot;,</div><div class='line' id='LC315'>&nbsp;&nbsp;&nbsp;&nbsp;&nbsp;&nbsp;&nbsp;&nbsp;&quot;&lt;/div&gt;&quot;</div><div class='line' id='LC316'>&nbsp;&nbsp;&nbsp;&nbsp;&nbsp;&nbsp;&nbsp;],</div><div class='line' id='LC317'>&nbsp;&nbsp;&nbsp;&nbsp;&nbsp;&nbsp;&nbsp;&quot;metadata&quot;: {},</div><div class='line' id='LC318'>&nbsp;&nbsp;&nbsp;&nbsp;&nbsp;&nbsp;&nbsp;&quot;output_type&quot;: &quot;pyout&quot;,</div><div class='line' id='LC319'>&nbsp;&nbsp;&nbsp;&nbsp;&nbsp;&nbsp;&nbsp;&quot;prompt_number&quot;: 42,</div><div class='line' id='LC320'>&nbsp;&nbsp;&nbsp;&nbsp;&nbsp;&nbsp;&nbsp;&quot;text&quot;: [</div><div class='line' id='LC321'>&nbsp;&nbsp;&nbsp;&nbsp;&nbsp;&nbsp;&nbsp;&nbsp;&quot;               Year    Salary    Position                Team\n&quot;,</div><div class='line' id='LC322'>&nbsp;&nbsp;&nbsp;&nbsp;&nbsp;&nbsp;&nbsp;&nbsp;&quot;Player                                                       \n&quot;,</div><div class='line' id='LC323'>&nbsp;&nbsp;&nbsp;&nbsp;&nbsp;&nbsp;&nbsp;&nbsp;&quot;Torii Hunter   2010  18500000  Outfielder  Los Angeles Angels\n&quot;,</div><div class='line' id='LC324'>&nbsp;&nbsp;&nbsp;&nbsp;&nbsp;&nbsp;&nbsp;&nbsp;&quot;Bobby Abreu    2010   9000000  Outfielder  Los Angeles Angels\n&quot;,</div><div class='line' id='LC325'>&nbsp;&nbsp;&nbsp;&nbsp;&nbsp;&nbsp;&nbsp;&nbsp;&quot;Brian Fuentes  2010   9000000     Pitcher  Los Angeles Angels\n&quot;,</div><div class='line' id='LC326'>&nbsp;&nbsp;&nbsp;&nbsp;&nbsp;&nbsp;&nbsp;&nbsp;&quot;Scott Kazmir   2010   8000000     Pitcher  Los Angeles Angels\n&quot;,</div><div class='line' id='LC327'>&nbsp;&nbsp;&nbsp;&nbsp;&nbsp;&nbsp;&nbsp;&nbsp;&quot;Joel Pineiro   2010   8000000     Pitcher  Los Angeles Angels&quot;</div><div class='line' id='LC328'>&nbsp;&nbsp;&nbsp;&nbsp;&nbsp;&nbsp;&nbsp;]</div><div class='line' id='LC329'>&nbsp;&nbsp;&nbsp;&nbsp;&nbsp;&nbsp;}</div><div class='line' id='LC330'>&nbsp;&nbsp;&nbsp;&nbsp;&nbsp;],</div><div class='line' id='LC331'>&nbsp;&nbsp;&nbsp;&nbsp;&nbsp;&quot;prompt_number&quot;: 42</div><div class='line' id='LC332'>&nbsp;&nbsp;&nbsp;&nbsp;},</div><div class='line' id='LC333'>&nbsp;&nbsp;&nbsp;&nbsp;{</div><div class='line' id='LC334'>&nbsp;&nbsp;&nbsp;&nbsp;&nbsp;&quot;cell_type&quot;: &quot;code&quot;,</div><div class='line' id='LC335'>&nbsp;&nbsp;&nbsp;&nbsp;&nbsp;&quot;collapsed&quot;: false,</div><div class='line' id='LC336'>&nbsp;&nbsp;&nbsp;&nbsp;&nbsp;&quot;input&quot;: [],</div><div class='line' id='LC337'>&nbsp;&nbsp;&nbsp;&nbsp;&nbsp;&quot;language&quot;: &quot;python&quot;,</div><div class='line' id='LC338'>&nbsp;&nbsp;&nbsp;&nbsp;&nbsp;&quot;metadata&quot;: {},</div><div class='line' id='LC339'>&nbsp;&nbsp;&nbsp;&nbsp;&nbsp;&quot;outputs&quot;: []</div><div class='line' id='LC340'>&nbsp;&nbsp;&nbsp;&nbsp;},</div><div class='line' id='LC341'>&nbsp;&nbsp;&nbsp;&nbsp;{</div><div class='line' id='LC342'>&nbsp;&nbsp;&nbsp;&nbsp;&nbsp;&quot;cell_type&quot;: &quot;markdown&quot;,</div><div class='line' id='LC343'>&nbsp;&nbsp;&nbsp;&nbsp;&nbsp;&quot;metadata&quot;: {},</div><div class='line' id='LC344'>&nbsp;&nbsp;&nbsp;&nbsp;&nbsp;&quot;source&quot;: [</div><div class='line' id='LC345'>&nbsp;&nbsp;&nbsp;&nbsp;&nbsp;&nbsp;&quot;#### 2.15 Sort Operations&quot;</div><div class='line' id='LC346'>&nbsp;&nbsp;&nbsp;&nbsp;&nbsp;]</div><div class='line' id='LC347'>&nbsp;&nbsp;&nbsp;&nbsp;},</div><div class='line' id='LC348'>&nbsp;&nbsp;&nbsp;&nbsp;{</div><div class='line' id='LC349'>&nbsp;&nbsp;&nbsp;&nbsp;&nbsp;&quot;cell_type&quot;: &quot;code&quot;,</div><div class='line' id='LC350'>&nbsp;&nbsp;&nbsp;&nbsp;&nbsp;&quot;collapsed&quot;: false,</div><div class='line' id='LC351'>&nbsp;&nbsp;&nbsp;&nbsp;&nbsp;&quot;input&quot;: [</div><div class='line' id='LC352'>&nbsp;&nbsp;&nbsp;&nbsp;&nbsp;&nbsp;&quot;# sort row labels\n&quot;,</div><div class='line' id='LC353'>&nbsp;&nbsp;&nbsp;&nbsp;&nbsp;&nbsp;&quot;yr2010.sort_index().head()\n&quot;,</div><div class='line' id='LC354'>&nbsp;&nbsp;&nbsp;&nbsp;&nbsp;&nbsp;&quot; \n&quot;,</div><div class='line' id='LC355'>&nbsp;&nbsp;&nbsp;&nbsp;&nbsp;&nbsp;&quot; &quot;</div><div class='line' id='LC356'>&nbsp;&nbsp;&nbsp;&nbsp;&nbsp;],</div><div class='line' id='LC357'>&nbsp;&nbsp;&nbsp;&nbsp;&nbsp;&quot;language&quot;: &quot;python&quot;,</div><div class='line' id='LC358'>&nbsp;&nbsp;&nbsp;&nbsp;&nbsp;&quot;metadata&quot;: {},</div><div class='line' id='LC359'>&nbsp;&nbsp;&nbsp;&nbsp;&nbsp;&quot;outputs&quot;: [</div><div class='line' id='LC360'>&nbsp;&nbsp;&nbsp;&nbsp;&nbsp;&nbsp;{</div><div class='line' id='LC361'>&nbsp;&nbsp;&nbsp;&nbsp;&nbsp;&nbsp;&nbsp;&quot;html&quot;: [</div><div class='line' id='LC362'>&nbsp;&nbsp;&nbsp;&nbsp;&nbsp;&nbsp;&nbsp;&nbsp;&quot;&lt;div style=\&quot;max-height:1000px;max-width:1500px;overflow:auto;\&quot;&gt;\n&quot;,</div><div class='line' id='LC363'>&nbsp;&nbsp;&nbsp;&nbsp;&nbsp;&nbsp;&nbsp;&nbsp;&quot;&lt;table border=\&quot;1\&quot; class=\&quot;dataframe\&quot;&gt;\n&quot;,</div><div class='line' id='LC364'>&nbsp;&nbsp;&nbsp;&nbsp;&nbsp;&nbsp;&nbsp;&nbsp;&quot;  &lt;thead&gt;\n&quot;,</div><div class='line' id='LC365'>&nbsp;&nbsp;&nbsp;&nbsp;&nbsp;&nbsp;&nbsp;&nbsp;&quot;    &lt;tr style=\&quot;text-align: right;\&quot;&gt;\n&quot;,</div><div class='line' id='LC366'>&nbsp;&nbsp;&nbsp;&nbsp;&nbsp;&nbsp;&nbsp;&nbsp;&quot;      &lt;th&gt;&lt;/th&gt;\n&quot;,</div><div class='line' id='LC367'>&nbsp;&nbsp;&nbsp;&nbsp;&nbsp;&nbsp;&nbsp;&nbsp;&quot;      &lt;th&gt;Year&lt;/th&gt;\n&quot;,</div><div class='line' id='LC368'>&nbsp;&nbsp;&nbsp;&nbsp;&nbsp;&nbsp;&nbsp;&nbsp;&quot;      &lt;th&gt;Salary&lt;/th&gt;\n&quot;,</div><div class='line' id='LC369'>&nbsp;&nbsp;&nbsp;&nbsp;&nbsp;&nbsp;&nbsp;&nbsp;&quot;      &lt;th&gt;Position&lt;/th&gt;\n&quot;,</div><div class='line' id='LC370'>&nbsp;&nbsp;&nbsp;&nbsp;&nbsp;&nbsp;&nbsp;&nbsp;&quot;      &lt;th&gt;Team&lt;/th&gt;\n&quot;,</div><div class='line' id='LC371'>&nbsp;&nbsp;&nbsp;&nbsp;&nbsp;&nbsp;&nbsp;&nbsp;&quot;    &lt;/tr&gt;\n&quot;,</div><div class='line' id='LC372'>&nbsp;&nbsp;&nbsp;&nbsp;&nbsp;&nbsp;&nbsp;&nbsp;&quot;    &lt;tr&gt;\n&quot;,</div><div class='line' id='LC373'>&nbsp;&nbsp;&nbsp;&nbsp;&nbsp;&nbsp;&nbsp;&nbsp;&quot;      &lt;th&gt;Player&lt;/th&gt;\n&quot;,</div><div class='line' id='LC374'>&nbsp;&nbsp;&nbsp;&nbsp;&nbsp;&nbsp;&nbsp;&nbsp;&quot;      &lt;th&gt;&lt;/th&gt;\n&quot;,</div><div class='line' id='LC375'>&nbsp;&nbsp;&nbsp;&nbsp;&nbsp;&nbsp;&nbsp;&nbsp;&quot;      &lt;th&gt;&lt;/th&gt;\n&quot;,</div><div class='line' id='LC376'>&nbsp;&nbsp;&nbsp;&nbsp;&nbsp;&nbsp;&nbsp;&nbsp;&quot;      &lt;th&gt;&lt;/th&gt;\n&quot;,</div><div class='line' id='LC377'>&nbsp;&nbsp;&nbsp;&nbsp;&nbsp;&nbsp;&nbsp;&nbsp;&quot;      &lt;th&gt;&lt;/th&gt;\n&quot;,</div><div class='line' id='LC378'>&nbsp;&nbsp;&nbsp;&nbsp;&nbsp;&nbsp;&nbsp;&nbsp;&quot;    &lt;/tr&gt;\n&quot;,</div><div class='line' id='LC379'>&nbsp;&nbsp;&nbsp;&nbsp;&nbsp;&nbsp;&nbsp;&nbsp;&quot;  &lt;/thead&gt;\n&quot;,</div><div class='line' id='LC380'>&nbsp;&nbsp;&nbsp;&nbsp;&nbsp;&nbsp;&nbsp;&nbsp;&quot;  &lt;tbody&gt;\n&quot;,</div><div class='line' id='LC381'>&nbsp;&nbsp;&nbsp;&nbsp;&nbsp;&nbsp;&nbsp;&nbsp;&quot;    &lt;tr&gt;\n&quot;,</div><div class='line' id='LC382'>&nbsp;&nbsp;&nbsp;&nbsp;&nbsp;&nbsp;&nbsp;&nbsp;&quot;      &lt;th&gt;A.J. Burnett&lt;/th&gt;\n&quot;,</div><div class='line' id='LC383'>&nbsp;&nbsp;&nbsp;&nbsp;&nbsp;&nbsp;&nbsp;&nbsp;&quot;      &lt;td&gt; 2010&lt;/td&gt;\n&quot;,</div><div class='line' id='LC384'>&nbsp;&nbsp;&nbsp;&nbsp;&nbsp;&nbsp;&nbsp;&nbsp;&quot;      &lt;td&gt; 16500000&lt;/td&gt;\n&quot;,</div><div class='line' id='LC385'>&nbsp;&nbsp;&nbsp;&nbsp;&nbsp;&nbsp;&nbsp;&nbsp;&quot;      &lt;td&gt; Pitcher&lt;/td&gt;\n&quot;,</div><div class='line' id='LC386'>&nbsp;&nbsp;&nbsp;&nbsp;&nbsp;&nbsp;&nbsp;&nbsp;&quot;      &lt;td&gt;     New York Yankees&lt;/td&gt;\n&quot;,</div><div class='line' id='LC387'>&nbsp;&nbsp;&nbsp;&nbsp;&nbsp;&nbsp;&nbsp;&nbsp;&quot;    &lt;/tr&gt;\n&quot;,</div><div class='line' id='LC388'>&nbsp;&nbsp;&nbsp;&nbsp;&nbsp;&nbsp;&nbsp;&nbsp;&quot;    &lt;tr&gt;\n&quot;,</div><div class='line' id='LC389'>&nbsp;&nbsp;&nbsp;&nbsp;&nbsp;&nbsp;&nbsp;&nbsp;&quot;      &lt;th&gt;A.J. Pierzynski&lt;/th&gt;\n&quot;,</div><div class='line' id='LC390'>&nbsp;&nbsp;&nbsp;&nbsp;&nbsp;&nbsp;&nbsp;&nbsp;&quot;      &lt;td&gt; 2010&lt;/td&gt;\n&quot;,</div><div class='line' id='LC391'>&nbsp;&nbsp;&nbsp;&nbsp;&nbsp;&nbsp;&nbsp;&nbsp;&quot;      &lt;td&gt;  6750000&lt;/td&gt;\n&quot;,</div><div class='line' id='LC392'>&nbsp;&nbsp;&nbsp;&nbsp;&nbsp;&nbsp;&nbsp;&nbsp;&quot;      &lt;td&gt; Catcher&lt;/td&gt;\n&quot;,</div><div class='line' id='LC393'>&nbsp;&nbsp;&nbsp;&nbsp;&nbsp;&nbsp;&nbsp;&nbsp;&quot;      &lt;td&gt;    Chicago White Sox&lt;/td&gt;\n&quot;,</div><div class='line' id='LC394'>&nbsp;&nbsp;&nbsp;&nbsp;&nbsp;&nbsp;&nbsp;&nbsp;&quot;    &lt;/tr&gt;\n&quot;,</div><div class='line' id='LC395'>&nbsp;&nbsp;&nbsp;&nbsp;&nbsp;&nbsp;&nbsp;&nbsp;&quot;    &lt;tr&gt;\n&quot;,</div><div class='line' id='LC396'>&nbsp;&nbsp;&nbsp;&nbsp;&nbsp;&nbsp;&nbsp;&nbsp;&quot;      &lt;th&gt;Aaron Cook&lt;/th&gt;\n&quot;,</div><div class='line' id='LC397'>&nbsp;&nbsp;&nbsp;&nbsp;&nbsp;&nbsp;&nbsp;&nbsp;&quot;      &lt;td&gt; 2010&lt;/td&gt;\n&quot;,</div><div class='line' id='LC398'>&nbsp;&nbsp;&nbsp;&nbsp;&nbsp;&nbsp;&nbsp;&nbsp;&quot;      &lt;td&gt;  9625000&lt;/td&gt;\n&quot;,</div><div class='line' id='LC399'>&nbsp;&nbsp;&nbsp;&nbsp;&nbsp;&nbsp;&nbsp;&nbsp;&quot;      &lt;td&gt; Pitcher&lt;/td&gt;\n&quot;,</div><div class='line' id='LC400'>&nbsp;&nbsp;&nbsp;&nbsp;&nbsp;&nbsp;&nbsp;&nbsp;&quot;      &lt;td&gt;     Colorado Rockies&lt;/td&gt;\n&quot;,</div><div class='line' id='LC401'>&nbsp;&nbsp;&nbsp;&nbsp;&nbsp;&nbsp;&nbsp;&nbsp;&quot;    &lt;/tr&gt;\n&quot;,</div><div class='line' id='LC402'>&nbsp;&nbsp;&nbsp;&nbsp;&nbsp;&nbsp;&nbsp;&nbsp;&quot;    &lt;tr&gt;\n&quot;,</div><div class='line' id='LC403'>&nbsp;&nbsp;&nbsp;&nbsp;&nbsp;&nbsp;&nbsp;&nbsp;&quot;      &lt;th&gt;Aaron Harang&lt;/th&gt;\n&quot;,</div><div class='line' id='LC404'>&nbsp;&nbsp;&nbsp;&nbsp;&nbsp;&nbsp;&nbsp;&nbsp;&quot;      &lt;td&gt; 2010&lt;/td&gt;\n&quot;,</div><div class='line' id='LC405'>&nbsp;&nbsp;&nbsp;&nbsp;&nbsp;&nbsp;&nbsp;&nbsp;&quot;      &lt;td&gt; 12500000&lt;/td&gt;\n&quot;,</div><div class='line' id='LC406'>&nbsp;&nbsp;&nbsp;&nbsp;&nbsp;&nbsp;&nbsp;&nbsp;&quot;      &lt;td&gt; Pitcher&lt;/td&gt;\n&quot;,</div><div class='line' id='LC407'>&nbsp;&nbsp;&nbsp;&nbsp;&nbsp;&nbsp;&nbsp;&nbsp;&quot;      &lt;td&gt;      Cincinnati Reds&lt;/td&gt;\n&quot;,</div><div class='line' id='LC408'>&nbsp;&nbsp;&nbsp;&nbsp;&nbsp;&nbsp;&nbsp;&nbsp;&quot;    &lt;/tr&gt;\n&quot;,</div><div class='line' id='LC409'>&nbsp;&nbsp;&nbsp;&nbsp;&nbsp;&nbsp;&nbsp;&nbsp;&quot;    &lt;tr&gt;\n&quot;,</div><div class='line' id='LC410'>&nbsp;&nbsp;&nbsp;&nbsp;&nbsp;&nbsp;&nbsp;&nbsp;&quot;      &lt;th&gt;Aaron Heilman&lt;/th&gt;\n&quot;,</div><div class='line' id='LC411'>&nbsp;&nbsp;&nbsp;&nbsp;&nbsp;&nbsp;&nbsp;&nbsp;&quot;      &lt;td&gt; 2010&lt;/td&gt;\n&quot;,</div><div class='line' id='LC412'>&nbsp;&nbsp;&nbsp;&nbsp;&nbsp;&nbsp;&nbsp;&nbsp;&quot;      &lt;td&gt;  2150000&lt;/td&gt;\n&quot;,</div><div class='line' id='LC413'>&nbsp;&nbsp;&nbsp;&nbsp;&nbsp;&nbsp;&nbsp;&nbsp;&quot;      &lt;td&gt; Pitcher&lt;/td&gt;\n&quot;,</div><div class='line' id='LC414'>&nbsp;&nbsp;&nbsp;&nbsp;&nbsp;&nbsp;&nbsp;&nbsp;&quot;      &lt;td&gt; Arizona Diamondbacks&lt;/td&gt;\n&quot;,</div><div class='line' id='LC415'>&nbsp;&nbsp;&nbsp;&nbsp;&nbsp;&nbsp;&nbsp;&nbsp;&quot;    &lt;/tr&gt;\n&quot;,</div><div class='line' id='LC416'>&nbsp;&nbsp;&nbsp;&nbsp;&nbsp;&nbsp;&nbsp;&nbsp;&quot;  &lt;/tbody&gt;\n&quot;,</div><div class='line' id='LC417'>&nbsp;&nbsp;&nbsp;&nbsp;&nbsp;&nbsp;&nbsp;&nbsp;&quot;&lt;/table&gt;\n&quot;,</div><div class='line' id='LC418'>&nbsp;&nbsp;&nbsp;&nbsp;&nbsp;&nbsp;&nbsp;&nbsp;&quot;&lt;/div&gt;&quot;</div><div class='line' id='LC419'>&nbsp;&nbsp;&nbsp;&nbsp;&nbsp;&nbsp;&nbsp;],</div><div class='line' id='LC420'>&nbsp;&nbsp;&nbsp;&nbsp;&nbsp;&nbsp;&nbsp;&quot;metadata&quot;: {},</div><div class='line' id='LC421'>&nbsp;&nbsp;&nbsp;&nbsp;&nbsp;&nbsp;&nbsp;&quot;output_type&quot;: &quot;pyout&quot;,</div><div class='line' id='LC422'>&nbsp;&nbsp;&nbsp;&nbsp;&nbsp;&nbsp;&nbsp;&quot;prompt_number&quot;: 44,</div><div class='line' id='LC423'>&nbsp;&nbsp;&nbsp;&nbsp;&nbsp;&nbsp;&nbsp;&quot;text&quot;: [</div><div class='line' id='LC424'>&nbsp;&nbsp;&nbsp;&nbsp;&nbsp;&nbsp;&nbsp;&nbsp;&quot;                 Year    Salary Position                  Team\n&quot;,</div><div class='line' id='LC425'>&nbsp;&nbsp;&nbsp;&nbsp;&nbsp;&nbsp;&nbsp;&nbsp;&quot;Player                                                        \n&quot;,</div><div class='line' id='LC426'>&nbsp;&nbsp;&nbsp;&nbsp;&nbsp;&nbsp;&nbsp;&nbsp;&quot;A.J. Burnett     2010  16500000  Pitcher      New York Yankees\n&quot;,</div><div class='line' id='LC427'>&nbsp;&nbsp;&nbsp;&nbsp;&nbsp;&nbsp;&nbsp;&nbsp;&quot;A.J. Pierzynski  2010   6750000  Catcher     Chicago White Sox\n&quot;,</div><div class='line' id='LC428'>&nbsp;&nbsp;&nbsp;&nbsp;&nbsp;&nbsp;&nbsp;&nbsp;&quot;Aaron Cook       2010   9625000  Pitcher      Colorado Rockies\n&quot;,</div><div class='line' id='LC429'>&nbsp;&nbsp;&nbsp;&nbsp;&nbsp;&nbsp;&nbsp;&nbsp;&quot;Aaron Harang     2010  12500000  Pitcher       Cincinnati Reds\n&quot;,</div><div class='line' id='LC430'>&nbsp;&nbsp;&nbsp;&nbsp;&nbsp;&nbsp;&nbsp;&nbsp;&quot;Aaron Heilman    2010   2150000  Pitcher  Arizona Diamondbacks&quot;</div><div class='line' id='LC431'>&nbsp;&nbsp;&nbsp;&nbsp;&nbsp;&nbsp;&nbsp;]</div><div class='line' id='LC432'>&nbsp;&nbsp;&nbsp;&nbsp;&nbsp;&nbsp;}</div><div class='line' id='LC433'>&nbsp;&nbsp;&nbsp;&nbsp;&nbsp;],</div><div class='line' id='LC434'>&nbsp;&nbsp;&nbsp;&nbsp;&nbsp;&quot;prompt_number&quot;: 44</div><div class='line' id='LC435'>&nbsp;&nbsp;&nbsp;&nbsp;},</div><div class='line' id='LC436'>&nbsp;&nbsp;&nbsp;&nbsp;{</div><div class='line' id='LC437'>&nbsp;&nbsp;&nbsp;&nbsp;&nbsp;&quot;cell_type&quot;: &quot;code&quot;,</div><div class='line' id='LC438'>&nbsp;&nbsp;&nbsp;&nbsp;&nbsp;&quot;collapsed&quot;: false,</div><div class='line' id='LC439'>&nbsp;&nbsp;&nbsp;&nbsp;&nbsp;&quot;input&quot;: [</div><div class='line' id='LC440'>&nbsp;&nbsp;&nbsp;&nbsp;&nbsp;&nbsp;&quot;# sort column labels\n&quot;,</div><div class='line' id='LC441'>&nbsp;&nbsp;&nbsp;&nbsp;&nbsp;&nbsp;&quot;yr2010.sort_index(axis=1).head()&quot;</div><div class='line' id='LC442'>&nbsp;&nbsp;&nbsp;&nbsp;&nbsp;],</div><div class='line' id='LC443'>&nbsp;&nbsp;&nbsp;&nbsp;&nbsp;&quot;language&quot;: &quot;python&quot;,</div><div class='line' id='LC444'>&nbsp;&nbsp;&nbsp;&nbsp;&nbsp;&quot;metadata&quot;: {},</div><div class='line' id='LC445'>&nbsp;&nbsp;&nbsp;&nbsp;&nbsp;&quot;outputs&quot;: [</div><div class='line' id='LC446'>&nbsp;&nbsp;&nbsp;&nbsp;&nbsp;&nbsp;{</div><div class='line' id='LC447'>&nbsp;&nbsp;&nbsp;&nbsp;&nbsp;&nbsp;&nbsp;&quot;html&quot;: [</div><div class='line' id='LC448'>&nbsp;&nbsp;&nbsp;&nbsp;&nbsp;&nbsp;&nbsp;&nbsp;&quot;&lt;div style=\&quot;max-height:1000px;max-width:1500px;overflow:auto;\&quot;&gt;\n&quot;,</div><div class='line' id='LC449'>&nbsp;&nbsp;&nbsp;&nbsp;&nbsp;&nbsp;&nbsp;&nbsp;&quot;&lt;table border=\&quot;1\&quot; class=\&quot;dataframe\&quot;&gt;\n&quot;,</div><div class='line' id='LC450'>&nbsp;&nbsp;&nbsp;&nbsp;&nbsp;&nbsp;&nbsp;&nbsp;&quot;  &lt;thead&gt;\n&quot;,</div><div class='line' id='LC451'>&nbsp;&nbsp;&nbsp;&nbsp;&nbsp;&nbsp;&nbsp;&nbsp;&quot;    &lt;tr style=\&quot;text-align: right;\&quot;&gt;\n&quot;,</div><div class='line' id='LC452'>&nbsp;&nbsp;&nbsp;&nbsp;&nbsp;&nbsp;&nbsp;&nbsp;&quot;      &lt;th&gt;&lt;/th&gt;\n&quot;,</div><div class='line' id='LC453'>&nbsp;&nbsp;&nbsp;&nbsp;&nbsp;&nbsp;&nbsp;&nbsp;&quot;      &lt;th&gt;Position&lt;/th&gt;\n&quot;,</div><div class='line' id='LC454'>&nbsp;&nbsp;&nbsp;&nbsp;&nbsp;&nbsp;&nbsp;&nbsp;&quot;      &lt;th&gt;Salary&lt;/th&gt;\n&quot;,</div><div class='line' id='LC455'>&nbsp;&nbsp;&nbsp;&nbsp;&nbsp;&nbsp;&nbsp;&nbsp;&quot;      &lt;th&gt;Team&lt;/th&gt;\n&quot;,</div><div class='line' id='LC456'>&nbsp;&nbsp;&nbsp;&nbsp;&nbsp;&nbsp;&nbsp;&nbsp;&quot;      &lt;th&gt;Year&lt;/th&gt;\n&quot;,</div><div class='line' id='LC457'>&nbsp;&nbsp;&nbsp;&nbsp;&nbsp;&nbsp;&nbsp;&nbsp;&quot;    &lt;/tr&gt;\n&quot;,</div><div class='line' id='LC458'>&nbsp;&nbsp;&nbsp;&nbsp;&nbsp;&nbsp;&nbsp;&nbsp;&quot;    &lt;tr&gt;\n&quot;,</div><div class='line' id='LC459'>&nbsp;&nbsp;&nbsp;&nbsp;&nbsp;&nbsp;&nbsp;&nbsp;&quot;      &lt;th&gt;Player&lt;/th&gt;\n&quot;,</div><div class='line' id='LC460'>&nbsp;&nbsp;&nbsp;&nbsp;&nbsp;&nbsp;&nbsp;&nbsp;&quot;      &lt;th&gt;&lt;/th&gt;\n&quot;,</div><div class='line' id='LC461'>&nbsp;&nbsp;&nbsp;&nbsp;&nbsp;&nbsp;&nbsp;&nbsp;&quot;      &lt;th&gt;&lt;/th&gt;\n&quot;,</div><div class='line' id='LC462'>&nbsp;&nbsp;&nbsp;&nbsp;&nbsp;&nbsp;&nbsp;&nbsp;&quot;      &lt;th&gt;&lt;/th&gt;\n&quot;,</div><div class='line' id='LC463'>&nbsp;&nbsp;&nbsp;&nbsp;&nbsp;&nbsp;&nbsp;&nbsp;&quot;      &lt;th&gt;&lt;/th&gt;\n&quot;,</div><div class='line' id='LC464'>&nbsp;&nbsp;&nbsp;&nbsp;&nbsp;&nbsp;&nbsp;&nbsp;&quot;    &lt;/tr&gt;\n&quot;,</div><div class='line' id='LC465'>&nbsp;&nbsp;&nbsp;&nbsp;&nbsp;&nbsp;&nbsp;&nbsp;&quot;  &lt;/thead&gt;\n&quot;,</div><div class='line' id='LC466'>&nbsp;&nbsp;&nbsp;&nbsp;&nbsp;&nbsp;&nbsp;&nbsp;&quot;  &lt;tbody&gt;\n&quot;,</div><div class='line' id='LC467'>&nbsp;&nbsp;&nbsp;&nbsp;&nbsp;&nbsp;&nbsp;&nbsp;&quot;    &lt;tr&gt;\n&quot;,</div><div class='line' id='LC468'>&nbsp;&nbsp;&nbsp;&nbsp;&nbsp;&nbsp;&nbsp;&nbsp;&quot;      &lt;th&gt;Torii Hunter&lt;/th&gt;\n&quot;,</div><div class='line' id='LC469'>&nbsp;&nbsp;&nbsp;&nbsp;&nbsp;&nbsp;&nbsp;&nbsp;&quot;      &lt;td&gt; Outfielder&lt;/td&gt;\n&quot;,</div><div class='line' id='LC470'>&nbsp;&nbsp;&nbsp;&nbsp;&nbsp;&nbsp;&nbsp;&nbsp;&quot;      &lt;td&gt; 18500000&lt;/td&gt;\n&quot;,</div><div class='line' id='LC471'>&nbsp;&nbsp;&nbsp;&nbsp;&nbsp;&nbsp;&nbsp;&nbsp;&quot;      &lt;td&gt; Los Angeles Angels&lt;/td&gt;\n&quot;,</div><div class='line' id='LC472'>&nbsp;&nbsp;&nbsp;&nbsp;&nbsp;&nbsp;&nbsp;&nbsp;&quot;      &lt;td&gt; 2010&lt;/td&gt;\n&quot;,</div><div class='line' id='LC473'>&nbsp;&nbsp;&nbsp;&nbsp;&nbsp;&nbsp;&nbsp;&nbsp;&quot;    &lt;/tr&gt;\n&quot;,</div><div class='line' id='LC474'>&nbsp;&nbsp;&nbsp;&nbsp;&nbsp;&nbsp;&nbsp;&nbsp;&quot;    &lt;tr&gt;\n&quot;,</div><div class='line' id='LC475'>&nbsp;&nbsp;&nbsp;&nbsp;&nbsp;&nbsp;&nbsp;&nbsp;&quot;      &lt;th&gt;Bobby Abreu&lt;/th&gt;\n&quot;,</div><div class='line' id='LC476'>&nbsp;&nbsp;&nbsp;&nbsp;&nbsp;&nbsp;&nbsp;&nbsp;&quot;      &lt;td&gt; Outfielder&lt;/td&gt;\n&quot;,</div><div class='line' id='LC477'>&nbsp;&nbsp;&nbsp;&nbsp;&nbsp;&nbsp;&nbsp;&nbsp;&quot;      &lt;td&gt;  9000000&lt;/td&gt;\n&quot;,</div><div class='line' id='LC478'>&nbsp;&nbsp;&nbsp;&nbsp;&nbsp;&nbsp;&nbsp;&nbsp;&quot;      &lt;td&gt; Los Angeles Angels&lt;/td&gt;\n&quot;,</div><div class='line' id='LC479'>&nbsp;&nbsp;&nbsp;&nbsp;&nbsp;&nbsp;&nbsp;&nbsp;&quot;      &lt;td&gt; 2010&lt;/td&gt;\n&quot;,</div><div class='line' id='LC480'>&nbsp;&nbsp;&nbsp;&nbsp;&nbsp;&nbsp;&nbsp;&nbsp;&quot;    &lt;/tr&gt;\n&quot;,</div><div class='line' id='LC481'>&nbsp;&nbsp;&nbsp;&nbsp;&nbsp;&nbsp;&nbsp;&nbsp;&quot;    &lt;tr&gt;\n&quot;,</div><div class='line' id='LC482'>&nbsp;&nbsp;&nbsp;&nbsp;&nbsp;&nbsp;&nbsp;&nbsp;&quot;      &lt;th&gt;Brian Fuentes&lt;/th&gt;\n&quot;,</div><div class='line' id='LC483'>&nbsp;&nbsp;&nbsp;&nbsp;&nbsp;&nbsp;&nbsp;&nbsp;&quot;      &lt;td&gt;    Pitcher&lt;/td&gt;\n&quot;,</div><div class='line' id='LC484'>&nbsp;&nbsp;&nbsp;&nbsp;&nbsp;&nbsp;&nbsp;&nbsp;&quot;      &lt;td&gt;  9000000&lt;/td&gt;\n&quot;,</div><div class='line' id='LC485'>&nbsp;&nbsp;&nbsp;&nbsp;&nbsp;&nbsp;&nbsp;&nbsp;&quot;      &lt;td&gt; Los Angeles Angels&lt;/td&gt;\n&quot;,</div><div class='line' id='LC486'>&nbsp;&nbsp;&nbsp;&nbsp;&nbsp;&nbsp;&nbsp;&nbsp;&quot;      &lt;td&gt; 2010&lt;/td&gt;\n&quot;,</div><div class='line' id='LC487'>&nbsp;&nbsp;&nbsp;&nbsp;&nbsp;&nbsp;&nbsp;&nbsp;&quot;    &lt;/tr&gt;\n&quot;,</div><div class='line' id='LC488'>&nbsp;&nbsp;&nbsp;&nbsp;&nbsp;&nbsp;&nbsp;&nbsp;&quot;    &lt;tr&gt;\n&quot;,</div><div class='line' id='LC489'>&nbsp;&nbsp;&nbsp;&nbsp;&nbsp;&nbsp;&nbsp;&nbsp;&quot;      &lt;th&gt;Scott Kazmir&lt;/th&gt;\n&quot;,</div><div class='line' id='LC490'>&nbsp;&nbsp;&nbsp;&nbsp;&nbsp;&nbsp;&nbsp;&nbsp;&quot;      &lt;td&gt;    Pitcher&lt;/td&gt;\n&quot;,</div><div class='line' id='LC491'>&nbsp;&nbsp;&nbsp;&nbsp;&nbsp;&nbsp;&nbsp;&nbsp;&quot;      &lt;td&gt;  8000000&lt;/td&gt;\n&quot;,</div><div class='line' id='LC492'>&nbsp;&nbsp;&nbsp;&nbsp;&nbsp;&nbsp;&nbsp;&nbsp;&quot;      &lt;td&gt; Los Angeles Angels&lt;/td&gt;\n&quot;,</div><div class='line' id='LC493'>&nbsp;&nbsp;&nbsp;&nbsp;&nbsp;&nbsp;&nbsp;&nbsp;&quot;      &lt;td&gt; 2010&lt;/td&gt;\n&quot;,</div><div class='line' id='LC494'>&nbsp;&nbsp;&nbsp;&nbsp;&nbsp;&nbsp;&nbsp;&nbsp;&quot;    &lt;/tr&gt;\n&quot;,</div><div class='line' id='LC495'>&nbsp;&nbsp;&nbsp;&nbsp;&nbsp;&nbsp;&nbsp;&nbsp;&quot;    &lt;tr&gt;\n&quot;,</div><div class='line' id='LC496'>&nbsp;&nbsp;&nbsp;&nbsp;&nbsp;&nbsp;&nbsp;&nbsp;&quot;      &lt;th&gt;Joel Pineiro&lt;/th&gt;\n&quot;,</div><div class='line' id='LC497'>&nbsp;&nbsp;&nbsp;&nbsp;&nbsp;&nbsp;&nbsp;&nbsp;&quot;      &lt;td&gt;    Pitcher&lt;/td&gt;\n&quot;,</div><div class='line' id='LC498'>&nbsp;&nbsp;&nbsp;&nbsp;&nbsp;&nbsp;&nbsp;&nbsp;&quot;      &lt;td&gt;  8000000&lt;/td&gt;\n&quot;,</div><div class='line' id='LC499'>&nbsp;&nbsp;&nbsp;&nbsp;&nbsp;&nbsp;&nbsp;&nbsp;&quot;      &lt;td&gt; Los Angeles Angels&lt;/td&gt;\n&quot;,</div><div class='line' id='LC500'>&nbsp;&nbsp;&nbsp;&nbsp;&nbsp;&nbsp;&nbsp;&nbsp;&quot;      &lt;td&gt; 2010&lt;/td&gt;\n&quot;,</div><div class='line' id='LC501'>&nbsp;&nbsp;&nbsp;&nbsp;&nbsp;&nbsp;&nbsp;&nbsp;&quot;    &lt;/tr&gt;\n&quot;,</div><div class='line' id='LC502'>&nbsp;&nbsp;&nbsp;&nbsp;&nbsp;&nbsp;&nbsp;&nbsp;&quot;  &lt;/tbody&gt;\n&quot;,</div><div class='line' id='LC503'>&nbsp;&nbsp;&nbsp;&nbsp;&nbsp;&nbsp;&nbsp;&nbsp;&quot;&lt;/table&gt;\n&quot;,</div><div class='line' id='LC504'>&nbsp;&nbsp;&nbsp;&nbsp;&nbsp;&nbsp;&nbsp;&nbsp;&quot;&lt;/div&gt;&quot;</div><div class='line' id='LC505'>&nbsp;&nbsp;&nbsp;&nbsp;&nbsp;&nbsp;&nbsp;],</div><div class='line' id='LC506'>&nbsp;&nbsp;&nbsp;&nbsp;&nbsp;&nbsp;&nbsp;&quot;metadata&quot;: {},</div><div class='line' id='LC507'>&nbsp;&nbsp;&nbsp;&nbsp;&nbsp;&nbsp;&nbsp;&quot;output_type&quot;: &quot;pyout&quot;,</div><div class='line' id='LC508'>&nbsp;&nbsp;&nbsp;&nbsp;&nbsp;&nbsp;&nbsp;&quot;prompt_number&quot;: 45,</div><div class='line' id='LC509'>&nbsp;&nbsp;&nbsp;&nbsp;&nbsp;&nbsp;&nbsp;&quot;text&quot;: [</div><div class='line' id='LC510'>&nbsp;&nbsp;&nbsp;&nbsp;&nbsp;&nbsp;&nbsp;&nbsp;&quot;                 Position    Salary                Team  Year\n&quot;,</div><div class='line' id='LC511'>&nbsp;&nbsp;&nbsp;&nbsp;&nbsp;&nbsp;&nbsp;&nbsp;&quot;Player                                                       \n&quot;,</div><div class='line' id='LC512'>&nbsp;&nbsp;&nbsp;&nbsp;&nbsp;&nbsp;&nbsp;&nbsp;&quot;Torii Hunter   Outfielder  18500000  Los Angeles Angels  2010\n&quot;,</div><div class='line' id='LC513'>&nbsp;&nbsp;&nbsp;&nbsp;&nbsp;&nbsp;&nbsp;&nbsp;&quot;Bobby Abreu    Outfielder   9000000  Los Angeles Angels  2010\n&quot;,</div><div class='line' id='LC514'>&nbsp;&nbsp;&nbsp;&nbsp;&nbsp;&nbsp;&nbsp;&nbsp;&quot;Brian Fuentes     Pitcher   9000000  Los Angeles Angels  2010\n&quot;,</div><div class='line' id='LC515'>&nbsp;&nbsp;&nbsp;&nbsp;&nbsp;&nbsp;&nbsp;&nbsp;&quot;Scott Kazmir      Pitcher   8000000  Los Angeles Angels  2010\n&quot;,</div><div class='line' id='LC516'>&nbsp;&nbsp;&nbsp;&nbsp;&nbsp;&nbsp;&nbsp;&nbsp;&quot;Joel Pineiro      Pitcher   8000000  Los Angeles Angels  2010&quot;</div><div class='line' id='LC517'>&nbsp;&nbsp;&nbsp;&nbsp;&nbsp;&nbsp;&nbsp;]</div><div class='line' id='LC518'>&nbsp;&nbsp;&nbsp;&nbsp;&nbsp;&nbsp;}</div><div class='line' id='LC519'>&nbsp;&nbsp;&nbsp;&nbsp;&nbsp;],</div><div class='line' id='LC520'>&nbsp;&nbsp;&nbsp;&nbsp;&nbsp;&quot;prompt_number&quot;: 45</div><div class='line' id='LC521'>&nbsp;&nbsp;&nbsp;&nbsp;},</div><div class='line' id='LC522'>&nbsp;&nbsp;&nbsp;&nbsp;{</div><div class='line' id='LC523'>&nbsp;&nbsp;&nbsp;&nbsp;&nbsp;&quot;cell_type&quot;: &quot;code&quot;,</div><div class='line' id='LC524'>&nbsp;&nbsp;&nbsp;&nbsp;&nbsp;&quot;collapsed&quot;: false,</div><div class='line' id='LC525'>&nbsp;&nbsp;&nbsp;&nbsp;&nbsp;&quot;input&quot;: [</div><div class='line' id='LC526'>&nbsp;&nbsp;&nbsp;&nbsp;&nbsp;&nbsp;&quot;# sort column values using order field; note: the order field returns a series\n&quot;,</div><div class='line' id='LC527'>&nbsp;&nbsp;&nbsp;&nbsp;&nbsp;&nbsp;&quot;yr2010.Salary.order(ascending=False).head()&quot;</div><div class='line' id='LC528'>&nbsp;&nbsp;&nbsp;&nbsp;&nbsp;],</div><div class='line' id='LC529'>&nbsp;&nbsp;&nbsp;&nbsp;&nbsp;&quot;language&quot;: &quot;python&quot;,</div><div class='line' id='LC530'>&nbsp;&nbsp;&nbsp;&nbsp;&nbsp;&quot;metadata&quot;: {},</div><div class='line' id='LC531'>&nbsp;&nbsp;&nbsp;&nbsp;&nbsp;&quot;outputs&quot;: [</div><div class='line' id='LC532'>&nbsp;&nbsp;&nbsp;&nbsp;&nbsp;&nbsp;{</div><div class='line' id='LC533'>&nbsp;&nbsp;&nbsp;&nbsp;&nbsp;&nbsp;&nbsp;&quot;metadata&quot;: {},</div><div class='line' id='LC534'>&nbsp;&nbsp;&nbsp;&nbsp;&nbsp;&nbsp;&nbsp;&quot;output_type&quot;: &quot;pyout&quot;,</div><div class='line' id='LC535'>&nbsp;&nbsp;&nbsp;&nbsp;&nbsp;&nbsp;&nbsp;&quot;prompt_number&quot;: 46,</div><div class='line' id='LC536'>&nbsp;&nbsp;&nbsp;&nbsp;&nbsp;&nbsp;&nbsp;&quot;text&quot;: [</div><div class='line' id='LC537'>&nbsp;&nbsp;&nbsp;&nbsp;&nbsp;&nbsp;&nbsp;&nbsp;&quot;Player\n&quot;,</div><div class='line' id='LC538'>&nbsp;&nbsp;&nbsp;&nbsp;&nbsp;&nbsp;&nbsp;&nbsp;&quot;Alex Rodriguez    33000000\n&quot;,</div><div class='line' id='LC539'>&nbsp;&nbsp;&nbsp;&nbsp;&nbsp;&nbsp;&nbsp;&nbsp;&quot;CC Sabathia       24285714\n&quot;,</div><div class='line' id='LC540'>&nbsp;&nbsp;&nbsp;&nbsp;&nbsp;&nbsp;&nbsp;&nbsp;&quot;Derek Jeter       22600000\n&quot;,</div><div class='line' id='LC541'>&nbsp;&nbsp;&nbsp;&nbsp;&nbsp;&nbsp;&nbsp;&nbsp;&quot;Mark Teixeira     20625000\n&quot;,</div><div class='line' id='LC542'>&nbsp;&nbsp;&nbsp;&nbsp;&nbsp;&nbsp;&nbsp;&nbsp;&quot;Johan Santana     20144707\n&quot;,</div><div class='line' id='LC543'>&nbsp;&nbsp;&nbsp;&nbsp;&nbsp;&nbsp;&nbsp;&nbsp;&quot;Name: Salary, dtype: int64&quot;</div><div class='line' id='LC544'>&nbsp;&nbsp;&nbsp;&nbsp;&nbsp;&nbsp;&nbsp;]</div><div class='line' id='LC545'>&nbsp;&nbsp;&nbsp;&nbsp;&nbsp;&nbsp;}</div><div class='line' id='LC546'>&nbsp;&nbsp;&nbsp;&nbsp;&nbsp;],</div><div class='line' id='LC547'>&nbsp;&nbsp;&nbsp;&nbsp;&nbsp;&quot;prompt_number&quot;: 46</div><div class='line' id='LC548'>&nbsp;&nbsp;&nbsp;&nbsp;},</div><div class='line' id='LC549'>&nbsp;&nbsp;&nbsp;&nbsp;{</div><div class='line' id='LC550'>&nbsp;&nbsp;&nbsp;&nbsp;&nbsp;&quot;cell_type&quot;: &quot;code&quot;,</div><div class='line' id='LC551'>&nbsp;&nbsp;&nbsp;&nbsp;&nbsp;&quot;collapsed&quot;: false,</div><div class='line' id='LC552'>&nbsp;&nbsp;&nbsp;&nbsp;&nbsp;&quot;input&quot;: [</div><div class='line' id='LC553'>&nbsp;&nbsp;&nbsp;&nbsp;&nbsp;&nbsp;&quot;# sort column values using sort_index method\n&quot;,</div><div class='line' id='LC554'>&nbsp;&nbsp;&nbsp;&nbsp;&nbsp;&nbsp;&quot;sorted_yr2010 = yr2010.sort_index(ascending=False, by = [&#39;Salary&#39;])&quot;</div><div class='line' id='LC555'>&nbsp;&nbsp;&nbsp;&nbsp;&nbsp;],</div><div class='line' id='LC556'>&nbsp;&nbsp;&nbsp;&nbsp;&nbsp;&quot;language&quot;: &quot;python&quot;,</div><div class='line' id='LC557'>&nbsp;&nbsp;&nbsp;&nbsp;&nbsp;&quot;metadata&quot;: {},</div><div class='line' id='LC558'>&nbsp;&nbsp;&nbsp;&nbsp;&nbsp;&quot;outputs&quot;: [],</div><div class='line' id='LC559'>&nbsp;&nbsp;&nbsp;&nbsp;&nbsp;&quot;prompt_number&quot;: 47</div><div class='line' id='LC560'>&nbsp;&nbsp;&nbsp;&nbsp;},</div><div class='line' id='LC561'>&nbsp;&nbsp;&nbsp;&nbsp;{</div><div class='line' id='LC562'>&nbsp;&nbsp;&nbsp;&nbsp;&nbsp;&quot;cell_type&quot;: &quot;code&quot;,</div><div class='line' id='LC563'>&nbsp;&nbsp;&nbsp;&nbsp;&nbsp;&quot;collapsed&quot;: false,</div><div class='line' id='LC564'>&nbsp;&nbsp;&nbsp;&nbsp;&nbsp;&quot;input&quot;: [</div><div class='line' id='LC565'>&nbsp;&nbsp;&nbsp;&nbsp;&nbsp;&nbsp;&quot;sorted_yr2010.head(20)&quot;</div><div class='line' id='LC566'>&nbsp;&nbsp;&nbsp;&nbsp;&nbsp;],</div><div class='line' id='LC567'>&nbsp;&nbsp;&nbsp;&nbsp;&nbsp;&quot;language&quot;: &quot;python&quot;,</div><div class='line' id='LC568'>&nbsp;&nbsp;&nbsp;&nbsp;&nbsp;&quot;metadata&quot;: {},</div><div class='line' id='LC569'>&nbsp;&nbsp;&nbsp;&nbsp;&nbsp;&quot;outputs&quot;: [</div><div class='line' id='LC570'>&nbsp;&nbsp;&nbsp;&nbsp;&nbsp;&nbsp;{</div><div class='line' id='LC571'>&nbsp;&nbsp;&nbsp;&nbsp;&nbsp;&nbsp;&nbsp;&quot;html&quot;: [</div><div class='line' id='LC572'>&nbsp;&nbsp;&nbsp;&nbsp;&nbsp;&nbsp;&nbsp;&nbsp;&quot;&lt;div style=\&quot;max-height:1000px;max-width:1500px;overflow:auto;\&quot;&gt;\n&quot;,</div><div class='line' id='LC573'>&nbsp;&nbsp;&nbsp;&nbsp;&nbsp;&nbsp;&nbsp;&nbsp;&quot;&lt;table border=\&quot;1\&quot; class=\&quot;dataframe\&quot;&gt;\n&quot;,</div><div class='line' id='LC574'>&nbsp;&nbsp;&nbsp;&nbsp;&nbsp;&nbsp;&nbsp;&nbsp;&quot;  &lt;thead&gt;\n&quot;,</div><div class='line' id='LC575'>&nbsp;&nbsp;&nbsp;&nbsp;&nbsp;&nbsp;&nbsp;&nbsp;&quot;    &lt;tr style=\&quot;text-align: right;\&quot;&gt;\n&quot;,</div><div class='line' id='LC576'>&nbsp;&nbsp;&nbsp;&nbsp;&nbsp;&nbsp;&nbsp;&nbsp;&quot;      &lt;th&gt;&lt;/th&gt;\n&quot;,</div><div class='line' id='LC577'>&nbsp;&nbsp;&nbsp;&nbsp;&nbsp;&nbsp;&nbsp;&nbsp;&quot;      &lt;th&gt;Year&lt;/th&gt;\n&quot;,</div><div class='line' id='LC578'>&nbsp;&nbsp;&nbsp;&nbsp;&nbsp;&nbsp;&nbsp;&nbsp;&quot;      &lt;th&gt;Salary&lt;/th&gt;\n&quot;,</div><div class='line' id='LC579'>&nbsp;&nbsp;&nbsp;&nbsp;&nbsp;&nbsp;&nbsp;&nbsp;&quot;      &lt;th&gt;Position&lt;/th&gt;\n&quot;,</div><div class='line' id='LC580'>&nbsp;&nbsp;&nbsp;&nbsp;&nbsp;&nbsp;&nbsp;&nbsp;&quot;      &lt;th&gt;Team&lt;/th&gt;\n&quot;,</div><div class='line' id='LC581'>&nbsp;&nbsp;&nbsp;&nbsp;&nbsp;&nbsp;&nbsp;&nbsp;&quot;    &lt;/tr&gt;\n&quot;,</div><div class='line' id='LC582'>&nbsp;&nbsp;&nbsp;&nbsp;&nbsp;&nbsp;&nbsp;&nbsp;&quot;    &lt;tr&gt;\n&quot;,</div><div class='line' id='LC583'>&nbsp;&nbsp;&nbsp;&nbsp;&nbsp;&nbsp;&nbsp;&nbsp;&quot;      &lt;th&gt;Player&lt;/th&gt;\n&quot;,</div><div class='line' id='LC584'>&nbsp;&nbsp;&nbsp;&nbsp;&nbsp;&nbsp;&nbsp;&nbsp;&quot;      &lt;th&gt;&lt;/th&gt;\n&quot;,</div><div class='line' id='LC585'>&nbsp;&nbsp;&nbsp;&nbsp;&nbsp;&nbsp;&nbsp;&nbsp;&quot;      &lt;th&gt;&lt;/th&gt;\n&quot;,</div><div class='line' id='LC586'>&nbsp;&nbsp;&nbsp;&nbsp;&nbsp;&nbsp;&nbsp;&nbsp;&quot;      &lt;th&gt;&lt;/th&gt;\n&quot;,</div><div class='line' id='LC587'>&nbsp;&nbsp;&nbsp;&nbsp;&nbsp;&nbsp;&nbsp;&nbsp;&quot;      &lt;th&gt;&lt;/th&gt;\n&quot;,</div><div class='line' id='LC588'>&nbsp;&nbsp;&nbsp;&nbsp;&nbsp;&nbsp;&nbsp;&nbsp;&quot;    &lt;/tr&gt;\n&quot;,</div><div class='line' id='LC589'>&nbsp;&nbsp;&nbsp;&nbsp;&nbsp;&nbsp;&nbsp;&nbsp;&quot;  &lt;/thead&gt;\n&quot;,</div><div class='line' id='LC590'>&nbsp;&nbsp;&nbsp;&nbsp;&nbsp;&nbsp;&nbsp;&nbsp;&quot;  &lt;tbody&gt;\n&quot;,</div><div class='line' id='LC591'>&nbsp;&nbsp;&nbsp;&nbsp;&nbsp;&nbsp;&nbsp;&nbsp;&quot;    &lt;tr&gt;\n&quot;,</div><div class='line' id='LC592'>&nbsp;&nbsp;&nbsp;&nbsp;&nbsp;&nbsp;&nbsp;&nbsp;&quot;      &lt;th&gt;Alex Rodriguez&lt;/th&gt;\n&quot;,</div><div class='line' id='LC593'>&nbsp;&nbsp;&nbsp;&nbsp;&nbsp;&nbsp;&nbsp;&nbsp;&quot;      &lt;td&gt; 2010&lt;/td&gt;\n&quot;,</div><div class='line' id='LC594'>&nbsp;&nbsp;&nbsp;&nbsp;&nbsp;&nbsp;&nbsp;&nbsp;&quot;      &lt;td&gt; 33000000&lt;/td&gt;\n&quot;,</div><div class='line' id='LC595'>&nbsp;&nbsp;&nbsp;&nbsp;&nbsp;&nbsp;&nbsp;&nbsp;&quot;      &lt;td&gt; Third Baseman&lt;/td&gt;\n&quot;,</div><div class='line' id='LC596'>&nbsp;&nbsp;&nbsp;&nbsp;&nbsp;&nbsp;&nbsp;&nbsp;&quot;      &lt;td&gt;      New York Yankees&lt;/td&gt;\n&quot;,</div><div class='line' id='LC597'>&nbsp;&nbsp;&nbsp;&nbsp;&nbsp;&nbsp;&nbsp;&nbsp;&quot;    &lt;/tr&gt;\n&quot;,</div><div class='line' id='LC598'>&nbsp;&nbsp;&nbsp;&nbsp;&nbsp;&nbsp;&nbsp;&nbsp;&quot;    &lt;tr&gt;\n&quot;,</div><div class='line' id='LC599'>&nbsp;&nbsp;&nbsp;&nbsp;&nbsp;&nbsp;&nbsp;&nbsp;&quot;      &lt;th&gt;CC Sabathia&lt;/th&gt;\n&quot;,</div><div class='line' id='LC600'>&nbsp;&nbsp;&nbsp;&nbsp;&nbsp;&nbsp;&nbsp;&nbsp;&quot;      &lt;td&gt; 2010&lt;/td&gt;\n&quot;,</div><div class='line' id='LC601'>&nbsp;&nbsp;&nbsp;&nbsp;&nbsp;&nbsp;&nbsp;&nbsp;&quot;      &lt;td&gt; 24285714&lt;/td&gt;\n&quot;,</div><div class='line' id='LC602'>&nbsp;&nbsp;&nbsp;&nbsp;&nbsp;&nbsp;&nbsp;&nbsp;&quot;      &lt;td&gt;       Pitcher&lt;/td&gt;\n&quot;,</div><div class='line' id='LC603'>&nbsp;&nbsp;&nbsp;&nbsp;&nbsp;&nbsp;&nbsp;&nbsp;&quot;      &lt;td&gt;      New York Yankees&lt;/td&gt;\n&quot;,</div><div class='line' id='LC604'>&nbsp;&nbsp;&nbsp;&nbsp;&nbsp;&nbsp;&nbsp;&nbsp;&quot;    &lt;/tr&gt;\n&quot;,</div><div class='line' id='LC605'>&nbsp;&nbsp;&nbsp;&nbsp;&nbsp;&nbsp;&nbsp;&nbsp;&quot;    &lt;tr&gt;\n&quot;,</div><div class='line' id='LC606'>&nbsp;&nbsp;&nbsp;&nbsp;&nbsp;&nbsp;&nbsp;&nbsp;&quot;      &lt;th&gt;Derek Jeter&lt;/th&gt;\n&quot;,</div><div class='line' id='LC607'>&nbsp;&nbsp;&nbsp;&nbsp;&nbsp;&nbsp;&nbsp;&nbsp;&quot;      &lt;td&gt; 2010&lt;/td&gt;\n&quot;,</div><div class='line' id='LC608'>&nbsp;&nbsp;&nbsp;&nbsp;&nbsp;&nbsp;&nbsp;&nbsp;&quot;      &lt;td&gt; 22600000&lt;/td&gt;\n&quot;,</div><div class='line' id='LC609'>&nbsp;&nbsp;&nbsp;&nbsp;&nbsp;&nbsp;&nbsp;&nbsp;&quot;      &lt;td&gt;     Shortstop&lt;/td&gt;\n&quot;,</div><div class='line' id='LC610'>&nbsp;&nbsp;&nbsp;&nbsp;&nbsp;&nbsp;&nbsp;&nbsp;&quot;      &lt;td&gt;      New York Yankees&lt;/td&gt;\n&quot;,</div><div class='line' id='LC611'>&nbsp;&nbsp;&nbsp;&nbsp;&nbsp;&nbsp;&nbsp;&nbsp;&quot;    &lt;/tr&gt;\n&quot;,</div><div class='line' id='LC612'>&nbsp;&nbsp;&nbsp;&nbsp;&nbsp;&nbsp;&nbsp;&nbsp;&quot;    &lt;tr&gt;\n&quot;,</div><div class='line' id='LC613'>&nbsp;&nbsp;&nbsp;&nbsp;&nbsp;&nbsp;&nbsp;&nbsp;&quot;      &lt;th&gt;Mark Teixeira&lt;/th&gt;\n&quot;,</div><div class='line' id='LC614'>&nbsp;&nbsp;&nbsp;&nbsp;&nbsp;&nbsp;&nbsp;&nbsp;&quot;      &lt;td&gt; 2010&lt;/td&gt;\n&quot;,</div><div class='line' id='LC615'>&nbsp;&nbsp;&nbsp;&nbsp;&nbsp;&nbsp;&nbsp;&nbsp;&quot;      &lt;td&gt; 20625000&lt;/td&gt;\n&quot;,</div><div class='line' id='LC616'>&nbsp;&nbsp;&nbsp;&nbsp;&nbsp;&nbsp;&nbsp;&nbsp;&quot;      &lt;td&gt; First Baseman&lt;/td&gt;\n&quot;,</div><div class='line' id='LC617'>&nbsp;&nbsp;&nbsp;&nbsp;&nbsp;&nbsp;&nbsp;&nbsp;&quot;      &lt;td&gt;      New York Yankees&lt;/td&gt;\n&quot;,</div><div class='line' id='LC618'>&nbsp;&nbsp;&nbsp;&nbsp;&nbsp;&nbsp;&nbsp;&nbsp;&quot;    &lt;/tr&gt;\n&quot;,</div><div class='line' id='LC619'>&nbsp;&nbsp;&nbsp;&nbsp;&nbsp;&nbsp;&nbsp;&nbsp;&quot;    &lt;tr&gt;\n&quot;,</div><div class='line' id='LC620'>&nbsp;&nbsp;&nbsp;&nbsp;&nbsp;&nbsp;&nbsp;&nbsp;&quot;      &lt;th&gt;Johan Santana&lt;/th&gt;\n&quot;,</div><div class='line' id='LC621'>&nbsp;&nbsp;&nbsp;&nbsp;&nbsp;&nbsp;&nbsp;&nbsp;&quot;      &lt;td&gt; 2010&lt;/td&gt;\n&quot;,</div><div class='line' id='LC622'>&nbsp;&nbsp;&nbsp;&nbsp;&nbsp;&nbsp;&nbsp;&nbsp;&quot;      &lt;td&gt; 20144707&lt;/td&gt;\n&quot;,</div><div class='line' id='LC623'>&nbsp;&nbsp;&nbsp;&nbsp;&nbsp;&nbsp;&nbsp;&nbsp;&quot;      &lt;td&gt;       Pitcher&lt;/td&gt;\n&quot;,</div><div class='line' id='LC624'>&nbsp;&nbsp;&nbsp;&nbsp;&nbsp;&nbsp;&nbsp;&nbsp;&quot;      &lt;td&gt;         New York Mets&lt;/td&gt;\n&quot;,</div><div class='line' id='LC625'>&nbsp;&nbsp;&nbsp;&nbsp;&nbsp;&nbsp;&nbsp;&nbsp;&quot;    &lt;/tr&gt;\n&quot;,</div><div class='line' id='LC626'>&nbsp;&nbsp;&nbsp;&nbsp;&nbsp;&nbsp;&nbsp;&nbsp;&quot;    &lt;tr&gt;\n&quot;,</div><div class='line' id='LC627'>&nbsp;&nbsp;&nbsp;&nbsp;&nbsp;&nbsp;&nbsp;&nbsp;&quot;      &lt;th&gt;Miguel Cabrera&lt;/th&gt;\n&quot;,</div><div class='line' id='LC628'>&nbsp;&nbsp;&nbsp;&nbsp;&nbsp;&nbsp;&nbsp;&nbsp;&quot;      &lt;td&gt; 2010&lt;/td&gt;\n&quot;,</div><div class='line' id='LC629'>&nbsp;&nbsp;&nbsp;&nbsp;&nbsp;&nbsp;&nbsp;&nbsp;&quot;      &lt;td&gt; 20000000&lt;/td&gt;\n&quot;,</div><div class='line' id='LC630'>&nbsp;&nbsp;&nbsp;&nbsp;&nbsp;&nbsp;&nbsp;&nbsp;&quot;      &lt;td&gt; First Baseman&lt;/td&gt;\n&quot;,</div><div class='line' id='LC631'>&nbsp;&nbsp;&nbsp;&nbsp;&nbsp;&nbsp;&nbsp;&nbsp;&quot;      &lt;td&gt;        Detroit Tigers&lt;/td&gt;\n&quot;,</div><div class='line' id='LC632'>&nbsp;&nbsp;&nbsp;&nbsp;&nbsp;&nbsp;&nbsp;&nbsp;&quot;    &lt;/tr&gt;\n&quot;,</div><div class='line' id='LC633'>&nbsp;&nbsp;&nbsp;&nbsp;&nbsp;&nbsp;&nbsp;&nbsp;&quot;    &lt;tr&gt;\n&quot;,</div><div class='line' id='LC634'>&nbsp;&nbsp;&nbsp;&nbsp;&nbsp;&nbsp;&nbsp;&nbsp;&quot;      &lt;th&gt;Carlos Beltran&lt;/th&gt;\n&quot;,</div><div class='line' id='LC635'>&nbsp;&nbsp;&nbsp;&nbsp;&nbsp;&nbsp;&nbsp;&nbsp;&quot;      &lt;td&gt; 2010&lt;/td&gt;\n&quot;,</div><div class='line' id='LC636'>&nbsp;&nbsp;&nbsp;&nbsp;&nbsp;&nbsp;&nbsp;&nbsp;&quot;      &lt;td&gt; 19401569&lt;/td&gt;\n&quot;,</div><div class='line' id='LC637'>&nbsp;&nbsp;&nbsp;&nbsp;&nbsp;&nbsp;&nbsp;&nbsp;&quot;      &lt;td&gt;    Outfielder&lt;/td&gt;\n&quot;,</div><div class='line' id='LC638'>&nbsp;&nbsp;&nbsp;&nbsp;&nbsp;&nbsp;&nbsp;&nbsp;&quot;      &lt;td&gt;         New York Mets&lt;/td&gt;\n&quot;,</div><div class='line' id='LC639'>&nbsp;&nbsp;&nbsp;&nbsp;&nbsp;&nbsp;&nbsp;&nbsp;&quot;    &lt;/tr&gt;\n&quot;,</div><div class='line' id='LC640'>&nbsp;&nbsp;&nbsp;&nbsp;&nbsp;&nbsp;&nbsp;&nbsp;&quot;    &lt;tr&gt;\n&quot;,</div><div class='line' id='LC641'>&nbsp;&nbsp;&nbsp;&nbsp;&nbsp;&nbsp;&nbsp;&nbsp;&quot;      &lt;th&gt;Carlos Lee&lt;/th&gt;\n&quot;,</div><div class='line' id='LC642'>&nbsp;&nbsp;&nbsp;&nbsp;&nbsp;&nbsp;&nbsp;&nbsp;&quot;      &lt;td&gt; 2010&lt;/td&gt;\n&quot;,</div><div class='line' id='LC643'>&nbsp;&nbsp;&nbsp;&nbsp;&nbsp;&nbsp;&nbsp;&nbsp;&quot;      &lt;td&gt; 19000000&lt;/td&gt;\n&quot;,</div><div class='line' id='LC644'>&nbsp;&nbsp;&nbsp;&nbsp;&nbsp;&nbsp;&nbsp;&nbsp;&quot;      &lt;td&gt;    Outfielder&lt;/td&gt;\n&quot;,</div><div class='line' id='LC645'>&nbsp;&nbsp;&nbsp;&nbsp;&nbsp;&nbsp;&nbsp;&nbsp;&quot;      &lt;td&gt;        Houston Astros&lt;/td&gt;\n&quot;,</div><div class='line' id='LC646'>&nbsp;&nbsp;&nbsp;&nbsp;&nbsp;&nbsp;&nbsp;&nbsp;&quot;    &lt;/tr&gt;\n&quot;,</div><div class='line' id='LC647'>&nbsp;&nbsp;&nbsp;&nbsp;&nbsp;&nbsp;&nbsp;&nbsp;&quot;    &lt;tr&gt;\n&quot;,</div><div class='line' id='LC648'>&nbsp;&nbsp;&nbsp;&nbsp;&nbsp;&nbsp;&nbsp;&nbsp;&quot;      &lt;th&gt;Ryan Howard&lt;/th&gt;\n&quot;,</div><div class='line' id='LC649'>&nbsp;&nbsp;&nbsp;&nbsp;&nbsp;&nbsp;&nbsp;&nbsp;&quot;      &lt;td&gt; 2010&lt;/td&gt;\n&quot;,</div><div class='line' id='LC650'>&nbsp;&nbsp;&nbsp;&nbsp;&nbsp;&nbsp;&nbsp;&nbsp;&quot;      &lt;td&gt; 19000000&lt;/td&gt;\n&quot;,</div><div class='line' id='LC651'>&nbsp;&nbsp;&nbsp;&nbsp;&nbsp;&nbsp;&nbsp;&nbsp;&quot;      &lt;td&gt; First Baseman&lt;/td&gt;\n&quot;,</div><div class='line' id='LC652'>&nbsp;&nbsp;&nbsp;&nbsp;&nbsp;&nbsp;&nbsp;&nbsp;&quot;      &lt;td&gt; Philadelphia Phillies&lt;/td&gt;\n&quot;,</div><div class='line' id='LC653'>&nbsp;&nbsp;&nbsp;&nbsp;&nbsp;&nbsp;&nbsp;&nbsp;&quot;    &lt;/tr&gt;\n&quot;,</div><div class='line' id='LC654'>&nbsp;&nbsp;&nbsp;&nbsp;&nbsp;&nbsp;&nbsp;&nbsp;&quot;    &lt;tr&gt;\n&quot;,</div><div class='line' id='LC655'>&nbsp;&nbsp;&nbsp;&nbsp;&nbsp;&nbsp;&nbsp;&nbsp;&quot;      &lt;th&gt;Alfonso Soriano&lt;/th&gt;\n&quot;,</div><div class='line' id='LC656'>&nbsp;&nbsp;&nbsp;&nbsp;&nbsp;&nbsp;&nbsp;&nbsp;&quot;      &lt;td&gt; 2010&lt;/td&gt;\n&quot;,</div><div class='line' id='LC657'>&nbsp;&nbsp;&nbsp;&nbsp;&nbsp;&nbsp;&nbsp;&nbsp;&quot;      &lt;td&gt; 19000000&lt;/td&gt;\n&quot;,</div><div class='line' id='LC658'>&nbsp;&nbsp;&nbsp;&nbsp;&nbsp;&nbsp;&nbsp;&nbsp;&quot;      &lt;td&gt;    Outfielder&lt;/td&gt;\n&quot;,</div><div class='line' id='LC659'>&nbsp;&nbsp;&nbsp;&nbsp;&nbsp;&nbsp;&nbsp;&nbsp;&quot;      &lt;td&gt;          Chicago Cubs&lt;/td&gt;\n&quot;,</div><div class='line' id='LC660'>&nbsp;&nbsp;&nbsp;&nbsp;&nbsp;&nbsp;&nbsp;&nbsp;&quot;    &lt;/tr&gt;\n&quot;,</div><div class='line' id='LC661'>&nbsp;&nbsp;&nbsp;&nbsp;&nbsp;&nbsp;&nbsp;&nbsp;&quot;    &lt;tr&gt;\n&quot;,</div><div class='line' id='LC662'>&nbsp;&nbsp;&nbsp;&nbsp;&nbsp;&nbsp;&nbsp;&nbsp;&quot;      &lt;th&gt;Carlos Zambrano&lt;/th&gt;\n&quot;,</div><div class='line' id='LC663'>&nbsp;&nbsp;&nbsp;&nbsp;&nbsp;&nbsp;&nbsp;&nbsp;&quot;      &lt;td&gt; 2010&lt;/td&gt;\n&quot;,</div><div class='line' id='LC664'>&nbsp;&nbsp;&nbsp;&nbsp;&nbsp;&nbsp;&nbsp;&nbsp;&quot;      &lt;td&gt; 18875000&lt;/td&gt;\n&quot;,</div><div class='line' id='LC665'>&nbsp;&nbsp;&nbsp;&nbsp;&nbsp;&nbsp;&nbsp;&nbsp;&quot;      &lt;td&gt;       Pitcher&lt;/td&gt;\n&quot;,</div><div class='line' id='LC666'>&nbsp;&nbsp;&nbsp;&nbsp;&nbsp;&nbsp;&nbsp;&nbsp;&quot;      &lt;td&gt;          Chicago Cubs&lt;/td&gt;\n&quot;,</div><div class='line' id='LC667'>&nbsp;&nbsp;&nbsp;&nbsp;&nbsp;&nbsp;&nbsp;&nbsp;&quot;    &lt;/tr&gt;\n&quot;,</div><div class='line' id='LC668'>&nbsp;&nbsp;&nbsp;&nbsp;&nbsp;&nbsp;&nbsp;&nbsp;&quot;    &lt;tr&gt;\n&quot;,</div><div class='line' id='LC669'>&nbsp;&nbsp;&nbsp;&nbsp;&nbsp;&nbsp;&nbsp;&nbsp;&quot;      &lt;th&gt;John Lackey&lt;/th&gt;\n&quot;,</div><div class='line' id='LC670'>&nbsp;&nbsp;&nbsp;&nbsp;&nbsp;&nbsp;&nbsp;&nbsp;&quot;      &lt;td&gt; 2010&lt;/td&gt;\n&quot;,</div><div class='line' id='LC671'>&nbsp;&nbsp;&nbsp;&nbsp;&nbsp;&nbsp;&nbsp;&nbsp;&quot;      &lt;td&gt; 18700000&lt;/td&gt;\n&quot;,</div><div class='line' id='LC672'>&nbsp;&nbsp;&nbsp;&nbsp;&nbsp;&nbsp;&nbsp;&nbsp;&quot;      &lt;td&gt;       Pitcher&lt;/td&gt;\n&quot;,</div><div class='line' id='LC673'>&nbsp;&nbsp;&nbsp;&nbsp;&nbsp;&nbsp;&nbsp;&nbsp;&quot;      &lt;td&gt;        Boston Red Sox&lt;/td&gt;\n&quot;,</div><div class='line' id='LC674'>&nbsp;&nbsp;&nbsp;&nbsp;&nbsp;&nbsp;&nbsp;&nbsp;&quot;    &lt;/tr&gt;\n&quot;,</div><div class='line' id='LC675'>&nbsp;&nbsp;&nbsp;&nbsp;&nbsp;&nbsp;&nbsp;&nbsp;&quot;    &lt;tr&gt;\n&quot;,</div><div class='line' id='LC676'>&nbsp;&nbsp;&nbsp;&nbsp;&nbsp;&nbsp;&nbsp;&nbsp;&quot;      &lt;th&gt;Manny Ramirez&lt;/th&gt;\n&quot;,</div><div class='line' id='LC677'>&nbsp;&nbsp;&nbsp;&nbsp;&nbsp;&nbsp;&nbsp;&nbsp;&quot;      &lt;td&gt; 2010&lt;/td&gt;\n&quot;,</div><div class='line' id='LC678'>&nbsp;&nbsp;&nbsp;&nbsp;&nbsp;&nbsp;&nbsp;&nbsp;&quot;      &lt;td&gt; 18695006&lt;/td&gt;\n&quot;,</div><div class='line' id='LC679'>&nbsp;&nbsp;&nbsp;&nbsp;&nbsp;&nbsp;&nbsp;&nbsp;&quot;      &lt;td&gt;    Outfielder&lt;/td&gt;\n&quot;,</div><div class='line' id='LC680'>&nbsp;&nbsp;&nbsp;&nbsp;&nbsp;&nbsp;&nbsp;&nbsp;&quot;      &lt;td&gt;   Los Angeles Dodgers&lt;/td&gt;\n&quot;,</div><div class='line' id='LC681'>&nbsp;&nbsp;&nbsp;&nbsp;&nbsp;&nbsp;&nbsp;&nbsp;&quot;    &lt;/tr&gt;\n&quot;,</div><div class='line' id='LC682'>&nbsp;&nbsp;&nbsp;&nbsp;&nbsp;&nbsp;&nbsp;&nbsp;&quot;    &lt;tr&gt;\n&quot;,</div><div class='line' id='LC683'>&nbsp;&nbsp;&nbsp;&nbsp;&nbsp;&nbsp;&nbsp;&nbsp;&quot;      &lt;th&gt;Torii Hunter&lt;/th&gt;\n&quot;,</div><div class='line' id='LC684'>&nbsp;&nbsp;&nbsp;&nbsp;&nbsp;&nbsp;&nbsp;&nbsp;&quot;      &lt;td&gt; 2010&lt;/td&gt;\n&quot;,</div><div class='line' id='LC685'>&nbsp;&nbsp;&nbsp;&nbsp;&nbsp;&nbsp;&nbsp;&nbsp;&quot;      &lt;td&gt; 18500000&lt;/td&gt;\n&quot;,</div><div class='line' id='LC686'>&nbsp;&nbsp;&nbsp;&nbsp;&nbsp;&nbsp;&nbsp;&nbsp;&quot;      &lt;td&gt;    Outfielder&lt;/td&gt;\n&quot;,</div><div class='line' id='LC687'>&nbsp;&nbsp;&nbsp;&nbsp;&nbsp;&nbsp;&nbsp;&nbsp;&quot;      &lt;td&gt;    Los Angeles Angels&lt;/td&gt;\n&quot;,</div><div class='line' id='LC688'>&nbsp;&nbsp;&nbsp;&nbsp;&nbsp;&nbsp;&nbsp;&nbsp;&quot;    &lt;/tr&gt;\n&quot;,</div><div class='line' id='LC689'>&nbsp;&nbsp;&nbsp;&nbsp;&nbsp;&nbsp;&nbsp;&nbsp;&quot;    &lt;tr&gt;\n&quot;,</div><div class='line' id='LC690'>&nbsp;&nbsp;&nbsp;&nbsp;&nbsp;&nbsp;&nbsp;&nbsp;&quot;      &lt;th&gt;Barry Zito&lt;/th&gt;\n&quot;,</div><div class='line' id='LC691'>&nbsp;&nbsp;&nbsp;&nbsp;&nbsp;&nbsp;&nbsp;&nbsp;&quot;      &lt;td&gt; 2010&lt;/td&gt;\n&quot;,</div><div class='line' id='LC692'>&nbsp;&nbsp;&nbsp;&nbsp;&nbsp;&nbsp;&nbsp;&nbsp;&quot;      &lt;td&gt; 18500000&lt;/td&gt;\n&quot;,</div><div class='line' id='LC693'>&nbsp;&nbsp;&nbsp;&nbsp;&nbsp;&nbsp;&nbsp;&nbsp;&quot;      &lt;td&gt;       Pitcher&lt;/td&gt;\n&quot;,</div><div class='line' id='LC694'>&nbsp;&nbsp;&nbsp;&nbsp;&nbsp;&nbsp;&nbsp;&nbsp;&quot;      &lt;td&gt;  San Francisco Giants&lt;/td&gt;\n&quot;,</div><div class='line' id='LC695'>&nbsp;&nbsp;&nbsp;&nbsp;&nbsp;&nbsp;&nbsp;&nbsp;&quot;    &lt;/tr&gt;\n&quot;,</div><div class='line' id='LC696'>&nbsp;&nbsp;&nbsp;&nbsp;&nbsp;&nbsp;&nbsp;&nbsp;&quot;    &lt;tr&gt;\n&quot;,</div><div class='line' id='LC697'>&nbsp;&nbsp;&nbsp;&nbsp;&nbsp;&nbsp;&nbsp;&nbsp;&quot;      &lt;th&gt;Ichiro Suzuki&lt;/th&gt;\n&quot;,</div><div class='line' id='LC698'>&nbsp;&nbsp;&nbsp;&nbsp;&nbsp;&nbsp;&nbsp;&nbsp;&quot;      &lt;td&gt; 2010&lt;/td&gt;\n&quot;,</div><div class='line' id='LC699'>&nbsp;&nbsp;&nbsp;&nbsp;&nbsp;&nbsp;&nbsp;&nbsp;&quot;      &lt;td&gt; 18000000&lt;/td&gt;\n&quot;,</div><div class='line' id='LC700'>&nbsp;&nbsp;&nbsp;&nbsp;&nbsp;&nbsp;&nbsp;&nbsp;&quot;      &lt;td&gt;    Outfielder&lt;/td&gt;\n&quot;,</div><div class='line' id='LC701'>&nbsp;&nbsp;&nbsp;&nbsp;&nbsp;&nbsp;&nbsp;&nbsp;&quot;      &lt;td&gt;      Seattle Mariners&lt;/td&gt;\n&quot;,</div><div class='line' id='LC702'>&nbsp;&nbsp;&nbsp;&nbsp;&nbsp;&nbsp;&nbsp;&nbsp;&quot;    &lt;/tr&gt;\n&quot;,</div><div class='line' id='LC703'>&nbsp;&nbsp;&nbsp;&nbsp;&nbsp;&nbsp;&nbsp;&nbsp;&quot;    &lt;tr&gt;\n&quot;,</div><div class='line' id='LC704'>&nbsp;&nbsp;&nbsp;&nbsp;&nbsp;&nbsp;&nbsp;&nbsp;&quot;      &lt;th&gt;Magglio Ordonez&lt;/th&gt;\n&quot;,</div><div class='line' id='LC705'>&nbsp;&nbsp;&nbsp;&nbsp;&nbsp;&nbsp;&nbsp;&nbsp;&quot;      &lt;td&gt; 2010&lt;/td&gt;\n&quot;,</div><div class='line' id='LC706'>&nbsp;&nbsp;&nbsp;&nbsp;&nbsp;&nbsp;&nbsp;&nbsp;&quot;      &lt;td&gt; 17825976&lt;/td&gt;\n&quot;,</div><div class='line' id='LC707'>&nbsp;&nbsp;&nbsp;&nbsp;&nbsp;&nbsp;&nbsp;&nbsp;&quot;      &lt;td&gt;    Outfielder&lt;/td&gt;\n&quot;,</div><div class='line' id='LC708'>&nbsp;&nbsp;&nbsp;&nbsp;&nbsp;&nbsp;&nbsp;&nbsp;&quot;      &lt;td&gt;        Detroit Tigers&lt;/td&gt;\n&quot;,</div><div class='line' id='LC709'>&nbsp;&nbsp;&nbsp;&nbsp;&nbsp;&nbsp;&nbsp;&nbsp;&quot;    &lt;/tr&gt;\n&quot;,</div><div class='line' id='LC710'>&nbsp;&nbsp;&nbsp;&nbsp;&nbsp;&nbsp;&nbsp;&nbsp;&quot;    &lt;tr&gt;\n&quot;,</div><div class='line' id='LC711'>&nbsp;&nbsp;&nbsp;&nbsp;&nbsp;&nbsp;&nbsp;&nbsp;&quot;      &lt;th&gt;Todd Helton&lt;/th&gt;\n&quot;,</div><div class='line' id='LC712'>&nbsp;&nbsp;&nbsp;&nbsp;&nbsp;&nbsp;&nbsp;&nbsp;&quot;      &lt;td&gt; 2010&lt;/td&gt;\n&quot;,</div><div class='line' id='LC713'>&nbsp;&nbsp;&nbsp;&nbsp;&nbsp;&nbsp;&nbsp;&nbsp;&quot;      &lt;td&gt; 17775000&lt;/td&gt;\n&quot;,</div><div class='line' id='LC714'>&nbsp;&nbsp;&nbsp;&nbsp;&nbsp;&nbsp;&nbsp;&nbsp;&quot;      &lt;td&gt; First Baseman&lt;/td&gt;\n&quot;,</div><div class='line' id='LC715'>&nbsp;&nbsp;&nbsp;&nbsp;&nbsp;&nbsp;&nbsp;&nbsp;&quot;      &lt;td&gt;      Colorado Rockies&lt;/td&gt;\n&quot;,</div><div class='line' id='LC716'>&nbsp;&nbsp;&nbsp;&nbsp;&nbsp;&nbsp;&nbsp;&nbsp;&quot;    &lt;/tr&gt;\n&quot;,</div><div class='line' id='LC717'>&nbsp;&nbsp;&nbsp;&nbsp;&nbsp;&nbsp;&nbsp;&nbsp;&quot;    &lt;tr&gt;\n&quot;,</div><div class='line' id='LC718'>&nbsp;&nbsp;&nbsp;&nbsp;&nbsp;&nbsp;&nbsp;&nbsp;&quot;      &lt;th&gt;Aramis Ramirez&lt;/th&gt;\n&quot;,</div><div class='line' id='LC719'>&nbsp;&nbsp;&nbsp;&nbsp;&nbsp;&nbsp;&nbsp;&nbsp;&quot;      &lt;td&gt; 2010&lt;/td&gt;\n&quot;,</div><div class='line' id='LC720'>&nbsp;&nbsp;&nbsp;&nbsp;&nbsp;&nbsp;&nbsp;&nbsp;&quot;      &lt;td&gt; 16750000&lt;/td&gt;\n&quot;,</div><div class='line' id='LC721'>&nbsp;&nbsp;&nbsp;&nbsp;&nbsp;&nbsp;&nbsp;&nbsp;&quot;      &lt;td&gt; Third Baseman&lt;/td&gt;\n&quot;,</div><div class='line' id='LC722'>&nbsp;&nbsp;&nbsp;&nbsp;&nbsp;&nbsp;&nbsp;&nbsp;&quot;      &lt;td&gt;          Chicago Cubs&lt;/td&gt;\n&quot;,</div><div class='line' id='LC723'>&nbsp;&nbsp;&nbsp;&nbsp;&nbsp;&nbsp;&nbsp;&nbsp;&quot;    &lt;/tr&gt;\n&quot;,</div><div class='line' id='LC724'>&nbsp;&nbsp;&nbsp;&nbsp;&nbsp;&nbsp;&nbsp;&nbsp;&quot;    &lt;tr&gt;\n&quot;,</div><div class='line' id='LC725'>&nbsp;&nbsp;&nbsp;&nbsp;&nbsp;&nbsp;&nbsp;&nbsp;&quot;      &lt;th&gt;A.J. Burnett&lt;/th&gt;\n&quot;,</div><div class='line' id='LC726'>&nbsp;&nbsp;&nbsp;&nbsp;&nbsp;&nbsp;&nbsp;&nbsp;&quot;      &lt;td&gt; 2010&lt;/td&gt;\n&quot;,</div><div class='line' id='LC727'>&nbsp;&nbsp;&nbsp;&nbsp;&nbsp;&nbsp;&nbsp;&nbsp;&quot;      &lt;td&gt; 16500000&lt;/td&gt;\n&quot;,</div><div class='line' id='LC728'>&nbsp;&nbsp;&nbsp;&nbsp;&nbsp;&nbsp;&nbsp;&nbsp;&quot;      &lt;td&gt;       Pitcher&lt;/td&gt;\n&quot;,</div><div class='line' id='LC729'>&nbsp;&nbsp;&nbsp;&nbsp;&nbsp;&nbsp;&nbsp;&nbsp;&quot;      &lt;td&gt;      New York Yankees&lt;/td&gt;\n&quot;,</div><div class='line' id='LC730'>&nbsp;&nbsp;&nbsp;&nbsp;&nbsp;&nbsp;&nbsp;&nbsp;&quot;    &lt;/tr&gt;\n&quot;,</div><div class='line' id='LC731'>&nbsp;&nbsp;&nbsp;&nbsp;&nbsp;&nbsp;&nbsp;&nbsp;&quot;  &lt;/tbody&gt;\n&quot;,</div><div class='line' id='LC732'>&nbsp;&nbsp;&nbsp;&nbsp;&nbsp;&nbsp;&nbsp;&nbsp;&quot;&lt;/table&gt;\n&quot;,</div><div class='line' id='LC733'>&nbsp;&nbsp;&nbsp;&nbsp;&nbsp;&nbsp;&nbsp;&nbsp;&quot;&lt;/div&gt;&quot;</div><div class='line' id='LC734'>&nbsp;&nbsp;&nbsp;&nbsp;&nbsp;&nbsp;&nbsp;],</div><div class='line' id='LC735'>&nbsp;&nbsp;&nbsp;&nbsp;&nbsp;&nbsp;&nbsp;&quot;metadata&quot;: {},</div><div class='line' id='LC736'>&nbsp;&nbsp;&nbsp;&nbsp;&nbsp;&nbsp;&nbsp;&quot;output_type&quot;: &quot;pyout&quot;,</div><div class='line' id='LC737'>&nbsp;&nbsp;&nbsp;&nbsp;&nbsp;&nbsp;&nbsp;&quot;prompt_number&quot;: 48,</div><div class='line' id='LC738'>&nbsp;&nbsp;&nbsp;&nbsp;&nbsp;&nbsp;&nbsp;&quot;text&quot;: [</div><div class='line' id='LC739'>&nbsp;&nbsp;&nbsp;&nbsp;&nbsp;&nbsp;&nbsp;&nbsp;&quot;                 Year    Salary       Position                   Team\n&quot;,</div><div class='line' id='LC740'>&nbsp;&nbsp;&nbsp;&nbsp;&nbsp;&nbsp;&nbsp;&nbsp;&quot;Player                                                               \n&quot;,</div><div class='line' id='LC741'>&nbsp;&nbsp;&nbsp;&nbsp;&nbsp;&nbsp;&nbsp;&nbsp;&quot;Alex Rodriguez   2010  33000000  Third Baseman       New York Yankees\n&quot;,</div><div class='line' id='LC742'>&nbsp;&nbsp;&nbsp;&nbsp;&nbsp;&nbsp;&nbsp;&nbsp;&quot;CC Sabathia      2010  24285714        Pitcher       New York Yankees\n&quot;,</div><div class='line' id='LC743'>&nbsp;&nbsp;&nbsp;&nbsp;&nbsp;&nbsp;&nbsp;&nbsp;&quot;Derek Jeter      2010  22600000      Shortstop       New York Yankees\n&quot;,</div><div class='line' id='LC744'>&nbsp;&nbsp;&nbsp;&nbsp;&nbsp;&nbsp;&nbsp;&nbsp;&quot;Mark Teixeira    2010  20625000  First Baseman       New York Yankees\n&quot;,</div><div class='line' id='LC745'>&nbsp;&nbsp;&nbsp;&nbsp;&nbsp;&nbsp;&nbsp;&nbsp;&quot;Johan Santana    2010  20144707        Pitcher          New York Mets\n&quot;,</div><div class='line' id='LC746'>&nbsp;&nbsp;&nbsp;&nbsp;&nbsp;&nbsp;&nbsp;&nbsp;&quot;Miguel Cabrera   2010  20000000  First Baseman         Detroit Tigers\n&quot;,</div><div class='line' id='LC747'>&nbsp;&nbsp;&nbsp;&nbsp;&nbsp;&nbsp;&nbsp;&nbsp;&quot;Carlos Beltran   2010  19401569     Outfielder          New York Mets\n&quot;,</div><div class='line' id='LC748'>&nbsp;&nbsp;&nbsp;&nbsp;&nbsp;&nbsp;&nbsp;&nbsp;&quot;Carlos Lee       2010  19000000     Outfielder         Houston Astros\n&quot;,</div><div class='line' id='LC749'>&nbsp;&nbsp;&nbsp;&nbsp;&nbsp;&nbsp;&nbsp;&nbsp;&quot;Ryan Howard      2010  19000000  First Baseman  Philadelphia Phillies\n&quot;,</div><div class='line' id='LC750'>&nbsp;&nbsp;&nbsp;&nbsp;&nbsp;&nbsp;&nbsp;&nbsp;&quot;Alfonso Soriano  2010  19000000     Outfielder           Chicago Cubs\n&quot;,</div><div class='line' id='LC751'>&nbsp;&nbsp;&nbsp;&nbsp;&nbsp;&nbsp;&nbsp;&nbsp;&quot;Carlos Zambrano  2010  18875000        Pitcher           Chicago Cubs\n&quot;,</div><div class='line' id='LC752'>&nbsp;&nbsp;&nbsp;&nbsp;&nbsp;&nbsp;&nbsp;&nbsp;&quot;John Lackey      2010  18700000        Pitcher         Boston Red Sox\n&quot;,</div><div class='line' id='LC753'>&nbsp;&nbsp;&nbsp;&nbsp;&nbsp;&nbsp;&nbsp;&nbsp;&quot;Manny Ramirez    2010  18695006     Outfielder    Los Angeles Dodgers\n&quot;,</div><div class='line' id='LC754'>&nbsp;&nbsp;&nbsp;&nbsp;&nbsp;&nbsp;&nbsp;&nbsp;&quot;Torii Hunter     2010  18500000     Outfielder     Los Angeles Angels\n&quot;,</div><div class='line' id='LC755'>&nbsp;&nbsp;&nbsp;&nbsp;&nbsp;&nbsp;&nbsp;&nbsp;&quot;Barry Zito       2010  18500000        Pitcher   San Francisco Giants\n&quot;,</div><div class='line' id='LC756'>&nbsp;&nbsp;&nbsp;&nbsp;&nbsp;&nbsp;&nbsp;&nbsp;&quot;Ichiro Suzuki    2010  18000000     Outfielder       Seattle Mariners\n&quot;,</div><div class='line' id='LC757'>&nbsp;&nbsp;&nbsp;&nbsp;&nbsp;&nbsp;&nbsp;&nbsp;&quot;Magglio Ordonez  2010  17825976     Outfielder         Detroit Tigers\n&quot;,</div><div class='line' id='LC758'>&nbsp;&nbsp;&nbsp;&nbsp;&nbsp;&nbsp;&nbsp;&nbsp;&quot;Todd Helton      2010  17775000  First Baseman       Colorado Rockies\n&quot;,</div><div class='line' id='LC759'>&nbsp;&nbsp;&nbsp;&nbsp;&nbsp;&nbsp;&nbsp;&nbsp;&quot;Aramis Ramirez   2010  16750000  Third Baseman           Chicago Cubs\n&quot;,</div><div class='line' id='LC760'>&nbsp;&nbsp;&nbsp;&nbsp;&nbsp;&nbsp;&nbsp;&nbsp;&quot;A.J. Burnett     2010  16500000        Pitcher       New York Yankees&quot;</div><div class='line' id='LC761'>&nbsp;&nbsp;&nbsp;&nbsp;&nbsp;&nbsp;&nbsp;]</div><div class='line' id='LC762'>&nbsp;&nbsp;&nbsp;&nbsp;&nbsp;&nbsp;}</div><div class='line' id='LC763'>&nbsp;&nbsp;&nbsp;&nbsp;&nbsp;],</div><div class='line' id='LC764'>&nbsp;&nbsp;&nbsp;&nbsp;&nbsp;&quot;prompt_number&quot;: 48</div><div class='line' id='LC765'>&nbsp;&nbsp;&nbsp;&nbsp;},</div><div class='line' id='LC766'>&nbsp;&nbsp;&nbsp;&nbsp;{</div><div class='line' id='LC767'>&nbsp;&nbsp;&nbsp;&nbsp;&nbsp;&quot;cell_type&quot;: &quot;code&quot;,</div><div class='line' id='LC768'>&nbsp;&nbsp;&nbsp;&nbsp;&nbsp;&quot;collapsed&quot;: false,</div><div class='line' id='LC769'>&nbsp;&nbsp;&nbsp;&nbsp;&nbsp;&quot;input&quot;: [</div><div class='line' id='LC770'>&nbsp;&nbsp;&nbsp;&nbsp;&nbsp;&nbsp;&quot;yr2010.sort_index(ascending=[False,True], by =[&#39;Salary&#39;, &#39;Team&#39;]).head(20)&quot;</div><div class='line' id='LC771'>&nbsp;&nbsp;&nbsp;&nbsp;&nbsp;],</div><div class='line' id='LC772'>&nbsp;&nbsp;&nbsp;&nbsp;&nbsp;&quot;language&quot;: &quot;python&quot;,</div><div class='line' id='LC773'>&nbsp;&nbsp;&nbsp;&nbsp;&nbsp;&quot;metadata&quot;: {},</div><div class='line' id='LC774'>&nbsp;&nbsp;&nbsp;&nbsp;&nbsp;&quot;outputs&quot;: [</div><div class='line' id='LC775'>&nbsp;&nbsp;&nbsp;&nbsp;&nbsp;&nbsp;{</div><div class='line' id='LC776'>&nbsp;&nbsp;&nbsp;&nbsp;&nbsp;&nbsp;&nbsp;&quot;html&quot;: [</div><div class='line' id='LC777'>&nbsp;&nbsp;&nbsp;&nbsp;&nbsp;&nbsp;&nbsp;&nbsp;&quot;&lt;div style=\&quot;max-height:1000px;max-width:1500px;overflow:auto;\&quot;&gt;\n&quot;,</div><div class='line' id='LC778'>&nbsp;&nbsp;&nbsp;&nbsp;&nbsp;&nbsp;&nbsp;&nbsp;&quot;&lt;table border=\&quot;1\&quot; class=\&quot;dataframe\&quot;&gt;\n&quot;,</div><div class='line' id='LC779'>&nbsp;&nbsp;&nbsp;&nbsp;&nbsp;&nbsp;&nbsp;&nbsp;&quot;  &lt;thead&gt;\n&quot;,</div><div class='line' id='LC780'>&nbsp;&nbsp;&nbsp;&nbsp;&nbsp;&nbsp;&nbsp;&nbsp;&quot;    &lt;tr style=\&quot;text-align: right;\&quot;&gt;\n&quot;,</div><div class='line' id='LC781'>&nbsp;&nbsp;&nbsp;&nbsp;&nbsp;&nbsp;&nbsp;&nbsp;&quot;      &lt;th&gt;&lt;/th&gt;\n&quot;,</div><div class='line' id='LC782'>&nbsp;&nbsp;&nbsp;&nbsp;&nbsp;&nbsp;&nbsp;&nbsp;&quot;      &lt;th&gt;Year&lt;/th&gt;\n&quot;,</div><div class='line' id='LC783'>&nbsp;&nbsp;&nbsp;&nbsp;&nbsp;&nbsp;&nbsp;&nbsp;&quot;      &lt;th&gt;Salary&lt;/th&gt;\n&quot;,</div><div class='line' id='LC784'>&nbsp;&nbsp;&nbsp;&nbsp;&nbsp;&nbsp;&nbsp;&nbsp;&quot;      &lt;th&gt;Position&lt;/th&gt;\n&quot;,</div><div class='line' id='LC785'>&nbsp;&nbsp;&nbsp;&nbsp;&nbsp;&nbsp;&nbsp;&nbsp;&quot;      &lt;th&gt;Team&lt;/th&gt;\n&quot;,</div><div class='line' id='LC786'>&nbsp;&nbsp;&nbsp;&nbsp;&nbsp;&nbsp;&nbsp;&nbsp;&quot;    &lt;/tr&gt;\n&quot;,</div><div class='line' id='LC787'>&nbsp;&nbsp;&nbsp;&nbsp;&nbsp;&nbsp;&nbsp;&nbsp;&quot;    &lt;tr&gt;\n&quot;,</div><div class='line' id='LC788'>&nbsp;&nbsp;&nbsp;&nbsp;&nbsp;&nbsp;&nbsp;&nbsp;&quot;      &lt;th&gt;Player&lt;/th&gt;\n&quot;,</div><div class='line' id='LC789'>&nbsp;&nbsp;&nbsp;&nbsp;&nbsp;&nbsp;&nbsp;&nbsp;&quot;      &lt;th&gt;&lt;/th&gt;\n&quot;,</div><div class='line' id='LC790'>&nbsp;&nbsp;&nbsp;&nbsp;&nbsp;&nbsp;&nbsp;&nbsp;&quot;      &lt;th&gt;&lt;/th&gt;\n&quot;,</div><div class='line' id='LC791'>&nbsp;&nbsp;&nbsp;&nbsp;&nbsp;&nbsp;&nbsp;&nbsp;&quot;      &lt;th&gt;&lt;/th&gt;\n&quot;,</div><div class='line' id='LC792'>&nbsp;&nbsp;&nbsp;&nbsp;&nbsp;&nbsp;&nbsp;&nbsp;&quot;      &lt;th&gt;&lt;/th&gt;\n&quot;,</div><div class='line' id='LC793'>&nbsp;&nbsp;&nbsp;&nbsp;&nbsp;&nbsp;&nbsp;&nbsp;&quot;    &lt;/tr&gt;\n&quot;,</div><div class='line' id='LC794'>&nbsp;&nbsp;&nbsp;&nbsp;&nbsp;&nbsp;&nbsp;&nbsp;&quot;  &lt;/thead&gt;\n&quot;,</div><div class='line' id='LC795'>&nbsp;&nbsp;&nbsp;&nbsp;&nbsp;&nbsp;&nbsp;&nbsp;&quot;  &lt;tbody&gt;\n&quot;,</div><div class='line' id='LC796'>&nbsp;&nbsp;&nbsp;&nbsp;&nbsp;&nbsp;&nbsp;&nbsp;&quot;    &lt;tr&gt;\n&quot;,</div><div class='line' id='LC797'>&nbsp;&nbsp;&nbsp;&nbsp;&nbsp;&nbsp;&nbsp;&nbsp;&quot;      &lt;th&gt;Alex Rodriguez&lt;/th&gt;\n&quot;,</div><div class='line' id='LC798'>&nbsp;&nbsp;&nbsp;&nbsp;&nbsp;&nbsp;&nbsp;&nbsp;&quot;      &lt;td&gt; 2010&lt;/td&gt;\n&quot;,</div><div class='line' id='LC799'>&nbsp;&nbsp;&nbsp;&nbsp;&nbsp;&nbsp;&nbsp;&nbsp;&quot;      &lt;td&gt; 33000000&lt;/td&gt;\n&quot;,</div><div class='line' id='LC800'>&nbsp;&nbsp;&nbsp;&nbsp;&nbsp;&nbsp;&nbsp;&nbsp;&quot;      &lt;td&gt; Third Baseman&lt;/td&gt;\n&quot;,</div><div class='line' id='LC801'>&nbsp;&nbsp;&nbsp;&nbsp;&nbsp;&nbsp;&nbsp;&nbsp;&quot;      &lt;td&gt;      New York Yankees&lt;/td&gt;\n&quot;,</div><div class='line' id='LC802'>&nbsp;&nbsp;&nbsp;&nbsp;&nbsp;&nbsp;&nbsp;&nbsp;&quot;    &lt;/tr&gt;\n&quot;,</div><div class='line' id='LC803'>&nbsp;&nbsp;&nbsp;&nbsp;&nbsp;&nbsp;&nbsp;&nbsp;&quot;    &lt;tr&gt;\n&quot;,</div><div class='line' id='LC804'>&nbsp;&nbsp;&nbsp;&nbsp;&nbsp;&nbsp;&nbsp;&nbsp;&quot;      &lt;th&gt;CC Sabathia&lt;/th&gt;\n&quot;,</div><div class='line' id='LC805'>&nbsp;&nbsp;&nbsp;&nbsp;&nbsp;&nbsp;&nbsp;&nbsp;&quot;      &lt;td&gt; 2010&lt;/td&gt;\n&quot;,</div><div class='line' id='LC806'>&nbsp;&nbsp;&nbsp;&nbsp;&nbsp;&nbsp;&nbsp;&nbsp;&quot;      &lt;td&gt; 24285714&lt;/td&gt;\n&quot;,</div><div class='line' id='LC807'>&nbsp;&nbsp;&nbsp;&nbsp;&nbsp;&nbsp;&nbsp;&nbsp;&quot;      &lt;td&gt;       Pitcher&lt;/td&gt;\n&quot;,</div><div class='line' id='LC808'>&nbsp;&nbsp;&nbsp;&nbsp;&nbsp;&nbsp;&nbsp;&nbsp;&quot;      &lt;td&gt;      New York Yankees&lt;/td&gt;\n&quot;,</div><div class='line' id='LC809'>&nbsp;&nbsp;&nbsp;&nbsp;&nbsp;&nbsp;&nbsp;&nbsp;&quot;    &lt;/tr&gt;\n&quot;,</div><div class='line' id='LC810'>&nbsp;&nbsp;&nbsp;&nbsp;&nbsp;&nbsp;&nbsp;&nbsp;&quot;    &lt;tr&gt;\n&quot;,</div><div class='line' id='LC811'>&nbsp;&nbsp;&nbsp;&nbsp;&nbsp;&nbsp;&nbsp;&nbsp;&quot;      &lt;th&gt;Derek Jeter&lt;/th&gt;\n&quot;,</div><div class='line' id='LC812'>&nbsp;&nbsp;&nbsp;&nbsp;&nbsp;&nbsp;&nbsp;&nbsp;&quot;      &lt;td&gt; 2010&lt;/td&gt;\n&quot;,</div><div class='line' id='LC813'>&nbsp;&nbsp;&nbsp;&nbsp;&nbsp;&nbsp;&nbsp;&nbsp;&quot;      &lt;td&gt; 22600000&lt;/td&gt;\n&quot;,</div><div class='line' id='LC814'>&nbsp;&nbsp;&nbsp;&nbsp;&nbsp;&nbsp;&nbsp;&nbsp;&quot;      &lt;td&gt;     Shortstop&lt;/td&gt;\n&quot;,</div><div class='line' id='LC815'>&nbsp;&nbsp;&nbsp;&nbsp;&nbsp;&nbsp;&nbsp;&nbsp;&quot;      &lt;td&gt;      New York Yankees&lt;/td&gt;\n&quot;,</div><div class='line' id='LC816'>&nbsp;&nbsp;&nbsp;&nbsp;&nbsp;&nbsp;&nbsp;&nbsp;&quot;    &lt;/tr&gt;\n&quot;,</div><div class='line' id='LC817'>&nbsp;&nbsp;&nbsp;&nbsp;&nbsp;&nbsp;&nbsp;&nbsp;&quot;    &lt;tr&gt;\n&quot;,</div><div class='line' id='LC818'>&nbsp;&nbsp;&nbsp;&nbsp;&nbsp;&nbsp;&nbsp;&nbsp;&quot;      &lt;th&gt;Mark Teixeira&lt;/th&gt;\n&quot;,</div><div class='line' id='LC819'>&nbsp;&nbsp;&nbsp;&nbsp;&nbsp;&nbsp;&nbsp;&nbsp;&quot;      &lt;td&gt; 2010&lt;/td&gt;\n&quot;,</div><div class='line' id='LC820'>&nbsp;&nbsp;&nbsp;&nbsp;&nbsp;&nbsp;&nbsp;&nbsp;&quot;      &lt;td&gt; 20625000&lt;/td&gt;\n&quot;,</div><div class='line' id='LC821'>&nbsp;&nbsp;&nbsp;&nbsp;&nbsp;&nbsp;&nbsp;&nbsp;&quot;      &lt;td&gt; First Baseman&lt;/td&gt;\n&quot;,</div><div class='line' id='LC822'>&nbsp;&nbsp;&nbsp;&nbsp;&nbsp;&nbsp;&nbsp;&nbsp;&quot;      &lt;td&gt;      New York Yankees&lt;/td&gt;\n&quot;,</div><div class='line' id='LC823'>&nbsp;&nbsp;&nbsp;&nbsp;&nbsp;&nbsp;&nbsp;&nbsp;&quot;    &lt;/tr&gt;\n&quot;,</div><div class='line' id='LC824'>&nbsp;&nbsp;&nbsp;&nbsp;&nbsp;&nbsp;&nbsp;&nbsp;&quot;    &lt;tr&gt;\n&quot;,</div><div class='line' id='LC825'>&nbsp;&nbsp;&nbsp;&nbsp;&nbsp;&nbsp;&nbsp;&nbsp;&quot;      &lt;th&gt;Johan Santana&lt;/th&gt;\n&quot;,</div><div class='line' id='LC826'>&nbsp;&nbsp;&nbsp;&nbsp;&nbsp;&nbsp;&nbsp;&nbsp;&quot;      &lt;td&gt; 2010&lt;/td&gt;\n&quot;,</div><div class='line' id='LC827'>&nbsp;&nbsp;&nbsp;&nbsp;&nbsp;&nbsp;&nbsp;&nbsp;&quot;      &lt;td&gt; 20144707&lt;/td&gt;\n&quot;,</div><div class='line' id='LC828'>&nbsp;&nbsp;&nbsp;&nbsp;&nbsp;&nbsp;&nbsp;&nbsp;&quot;      &lt;td&gt;       Pitcher&lt;/td&gt;\n&quot;,</div><div class='line' id='LC829'>&nbsp;&nbsp;&nbsp;&nbsp;&nbsp;&nbsp;&nbsp;&nbsp;&quot;      &lt;td&gt;         New York Mets&lt;/td&gt;\n&quot;,</div><div class='line' id='LC830'>&nbsp;&nbsp;&nbsp;&nbsp;&nbsp;&nbsp;&nbsp;&nbsp;&quot;    &lt;/tr&gt;\n&quot;,</div><div class='line' id='LC831'>&nbsp;&nbsp;&nbsp;&nbsp;&nbsp;&nbsp;&nbsp;&nbsp;&quot;    &lt;tr&gt;\n&quot;,</div><div class='line' id='LC832'>&nbsp;&nbsp;&nbsp;&nbsp;&nbsp;&nbsp;&nbsp;&nbsp;&quot;      &lt;th&gt;Miguel Cabrera&lt;/th&gt;\n&quot;,</div><div class='line' id='LC833'>&nbsp;&nbsp;&nbsp;&nbsp;&nbsp;&nbsp;&nbsp;&nbsp;&quot;      &lt;td&gt; 2010&lt;/td&gt;\n&quot;,</div><div class='line' id='LC834'>&nbsp;&nbsp;&nbsp;&nbsp;&nbsp;&nbsp;&nbsp;&nbsp;&quot;      &lt;td&gt; 20000000&lt;/td&gt;\n&quot;,</div><div class='line' id='LC835'>&nbsp;&nbsp;&nbsp;&nbsp;&nbsp;&nbsp;&nbsp;&nbsp;&quot;      &lt;td&gt; First Baseman&lt;/td&gt;\n&quot;,</div><div class='line' id='LC836'>&nbsp;&nbsp;&nbsp;&nbsp;&nbsp;&nbsp;&nbsp;&nbsp;&quot;      &lt;td&gt;        Detroit Tigers&lt;/td&gt;\n&quot;,</div><div class='line' id='LC837'>&nbsp;&nbsp;&nbsp;&nbsp;&nbsp;&nbsp;&nbsp;&nbsp;&quot;    &lt;/tr&gt;\n&quot;,</div><div class='line' id='LC838'>&nbsp;&nbsp;&nbsp;&nbsp;&nbsp;&nbsp;&nbsp;&nbsp;&quot;    &lt;tr&gt;\n&quot;,</div><div class='line' id='LC839'>&nbsp;&nbsp;&nbsp;&nbsp;&nbsp;&nbsp;&nbsp;&nbsp;&quot;      &lt;th&gt;Carlos Beltran&lt;/th&gt;\n&quot;,</div><div class='line' id='LC840'>&nbsp;&nbsp;&nbsp;&nbsp;&nbsp;&nbsp;&nbsp;&nbsp;&quot;      &lt;td&gt; 2010&lt;/td&gt;\n&quot;,</div><div class='line' id='LC841'>&nbsp;&nbsp;&nbsp;&nbsp;&nbsp;&nbsp;&nbsp;&nbsp;&quot;      &lt;td&gt; 19401569&lt;/td&gt;\n&quot;,</div><div class='line' id='LC842'>&nbsp;&nbsp;&nbsp;&nbsp;&nbsp;&nbsp;&nbsp;&nbsp;&quot;      &lt;td&gt;    Outfielder&lt;/td&gt;\n&quot;,</div><div class='line' id='LC843'>&nbsp;&nbsp;&nbsp;&nbsp;&nbsp;&nbsp;&nbsp;&nbsp;&quot;      &lt;td&gt;         New York Mets&lt;/td&gt;\n&quot;,</div><div class='line' id='LC844'>&nbsp;&nbsp;&nbsp;&nbsp;&nbsp;&nbsp;&nbsp;&nbsp;&quot;    &lt;/tr&gt;\n&quot;,</div><div class='line' id='LC845'>&nbsp;&nbsp;&nbsp;&nbsp;&nbsp;&nbsp;&nbsp;&nbsp;&quot;    &lt;tr&gt;\n&quot;,</div><div class='line' id='LC846'>&nbsp;&nbsp;&nbsp;&nbsp;&nbsp;&nbsp;&nbsp;&nbsp;&quot;      &lt;th&gt;Alfonso Soriano&lt;/th&gt;\n&quot;,</div><div class='line' id='LC847'>&nbsp;&nbsp;&nbsp;&nbsp;&nbsp;&nbsp;&nbsp;&nbsp;&quot;      &lt;td&gt; 2010&lt;/td&gt;\n&quot;,</div><div class='line' id='LC848'>&nbsp;&nbsp;&nbsp;&nbsp;&nbsp;&nbsp;&nbsp;&nbsp;&quot;      &lt;td&gt; 19000000&lt;/td&gt;\n&quot;,</div><div class='line' id='LC849'>&nbsp;&nbsp;&nbsp;&nbsp;&nbsp;&nbsp;&nbsp;&nbsp;&quot;      &lt;td&gt;    Outfielder&lt;/td&gt;\n&quot;,</div><div class='line' id='LC850'>&nbsp;&nbsp;&nbsp;&nbsp;&nbsp;&nbsp;&nbsp;&nbsp;&quot;      &lt;td&gt;          Chicago Cubs&lt;/td&gt;\n&quot;,</div><div class='line' id='LC851'>&nbsp;&nbsp;&nbsp;&nbsp;&nbsp;&nbsp;&nbsp;&nbsp;&quot;    &lt;/tr&gt;\n&quot;,</div><div class='line' id='LC852'>&nbsp;&nbsp;&nbsp;&nbsp;&nbsp;&nbsp;&nbsp;&nbsp;&quot;    &lt;tr&gt;\n&quot;,</div><div class='line' id='LC853'>&nbsp;&nbsp;&nbsp;&nbsp;&nbsp;&nbsp;&nbsp;&nbsp;&quot;      &lt;th&gt;Carlos Lee&lt;/th&gt;\n&quot;,</div><div class='line' id='LC854'>&nbsp;&nbsp;&nbsp;&nbsp;&nbsp;&nbsp;&nbsp;&nbsp;&quot;      &lt;td&gt; 2010&lt;/td&gt;\n&quot;,</div><div class='line' id='LC855'>&nbsp;&nbsp;&nbsp;&nbsp;&nbsp;&nbsp;&nbsp;&nbsp;&quot;      &lt;td&gt; 19000000&lt;/td&gt;\n&quot;,</div><div class='line' id='LC856'>&nbsp;&nbsp;&nbsp;&nbsp;&nbsp;&nbsp;&nbsp;&nbsp;&quot;      &lt;td&gt;    Outfielder&lt;/td&gt;\n&quot;,</div><div class='line' id='LC857'>&nbsp;&nbsp;&nbsp;&nbsp;&nbsp;&nbsp;&nbsp;&nbsp;&quot;      &lt;td&gt;        Houston Astros&lt;/td&gt;\n&quot;,</div><div class='line' id='LC858'>&nbsp;&nbsp;&nbsp;&nbsp;&nbsp;&nbsp;&nbsp;&nbsp;&quot;    &lt;/tr&gt;\n&quot;,</div><div class='line' id='LC859'>&nbsp;&nbsp;&nbsp;&nbsp;&nbsp;&nbsp;&nbsp;&nbsp;&quot;    &lt;tr&gt;\n&quot;,</div><div class='line' id='LC860'>&nbsp;&nbsp;&nbsp;&nbsp;&nbsp;&nbsp;&nbsp;&nbsp;&quot;      &lt;th&gt;Ryan Howard&lt;/th&gt;\n&quot;,</div><div class='line' id='LC861'>&nbsp;&nbsp;&nbsp;&nbsp;&nbsp;&nbsp;&nbsp;&nbsp;&quot;      &lt;td&gt; 2010&lt;/td&gt;\n&quot;,</div><div class='line' id='LC862'>&nbsp;&nbsp;&nbsp;&nbsp;&nbsp;&nbsp;&nbsp;&nbsp;&quot;      &lt;td&gt; 19000000&lt;/td&gt;\n&quot;,</div><div class='line' id='LC863'>&nbsp;&nbsp;&nbsp;&nbsp;&nbsp;&nbsp;&nbsp;&nbsp;&quot;      &lt;td&gt; First Baseman&lt;/td&gt;\n&quot;,</div><div class='line' id='LC864'>&nbsp;&nbsp;&nbsp;&nbsp;&nbsp;&nbsp;&nbsp;&nbsp;&quot;      &lt;td&gt; Philadelphia Phillies&lt;/td&gt;\n&quot;,</div><div class='line' id='LC865'>&nbsp;&nbsp;&nbsp;&nbsp;&nbsp;&nbsp;&nbsp;&nbsp;&quot;    &lt;/tr&gt;\n&quot;,</div><div class='line' id='LC866'>&nbsp;&nbsp;&nbsp;&nbsp;&nbsp;&nbsp;&nbsp;&nbsp;&quot;    &lt;tr&gt;\n&quot;,</div><div class='line' id='LC867'>&nbsp;&nbsp;&nbsp;&nbsp;&nbsp;&nbsp;&nbsp;&nbsp;&quot;      &lt;th&gt;Carlos Zambrano&lt;/th&gt;\n&quot;,</div><div class='line' id='LC868'>&nbsp;&nbsp;&nbsp;&nbsp;&nbsp;&nbsp;&nbsp;&nbsp;&quot;      &lt;td&gt; 2010&lt;/td&gt;\n&quot;,</div><div class='line' id='LC869'>&nbsp;&nbsp;&nbsp;&nbsp;&nbsp;&nbsp;&nbsp;&nbsp;&quot;      &lt;td&gt; 18875000&lt;/td&gt;\n&quot;,</div><div class='line' id='LC870'>&nbsp;&nbsp;&nbsp;&nbsp;&nbsp;&nbsp;&nbsp;&nbsp;&quot;      &lt;td&gt;       Pitcher&lt;/td&gt;\n&quot;,</div><div class='line' id='LC871'>&nbsp;&nbsp;&nbsp;&nbsp;&nbsp;&nbsp;&nbsp;&nbsp;&quot;      &lt;td&gt;          Chicago Cubs&lt;/td&gt;\n&quot;,</div><div class='line' id='LC872'>&nbsp;&nbsp;&nbsp;&nbsp;&nbsp;&nbsp;&nbsp;&nbsp;&quot;    &lt;/tr&gt;\n&quot;,</div><div class='line' id='LC873'>&nbsp;&nbsp;&nbsp;&nbsp;&nbsp;&nbsp;&nbsp;&nbsp;&quot;    &lt;tr&gt;\n&quot;,</div><div class='line' id='LC874'>&nbsp;&nbsp;&nbsp;&nbsp;&nbsp;&nbsp;&nbsp;&nbsp;&quot;      &lt;th&gt;John Lackey&lt;/th&gt;\n&quot;,</div><div class='line' id='LC875'>&nbsp;&nbsp;&nbsp;&nbsp;&nbsp;&nbsp;&nbsp;&nbsp;&quot;      &lt;td&gt; 2010&lt;/td&gt;\n&quot;,</div><div class='line' id='LC876'>&nbsp;&nbsp;&nbsp;&nbsp;&nbsp;&nbsp;&nbsp;&nbsp;&quot;      &lt;td&gt; 18700000&lt;/td&gt;\n&quot;,</div><div class='line' id='LC877'>&nbsp;&nbsp;&nbsp;&nbsp;&nbsp;&nbsp;&nbsp;&nbsp;&quot;      &lt;td&gt;       Pitcher&lt;/td&gt;\n&quot;,</div><div class='line' id='LC878'>&nbsp;&nbsp;&nbsp;&nbsp;&nbsp;&nbsp;&nbsp;&nbsp;&quot;      &lt;td&gt;        Boston Red Sox&lt;/td&gt;\n&quot;,</div><div class='line' id='LC879'>&nbsp;&nbsp;&nbsp;&nbsp;&nbsp;&nbsp;&nbsp;&nbsp;&quot;    &lt;/tr&gt;\n&quot;,</div><div class='line' id='LC880'>&nbsp;&nbsp;&nbsp;&nbsp;&nbsp;&nbsp;&nbsp;&nbsp;&quot;    &lt;tr&gt;\n&quot;,</div><div class='line' id='LC881'>&nbsp;&nbsp;&nbsp;&nbsp;&nbsp;&nbsp;&nbsp;&nbsp;&quot;      &lt;th&gt;Manny Ramirez&lt;/th&gt;\n&quot;,</div><div class='line' id='LC882'>&nbsp;&nbsp;&nbsp;&nbsp;&nbsp;&nbsp;&nbsp;&nbsp;&quot;      &lt;td&gt; 2010&lt;/td&gt;\n&quot;,</div><div class='line' id='LC883'>&nbsp;&nbsp;&nbsp;&nbsp;&nbsp;&nbsp;&nbsp;&nbsp;&quot;      &lt;td&gt; 18695006&lt;/td&gt;\n&quot;,</div><div class='line' id='LC884'>&nbsp;&nbsp;&nbsp;&nbsp;&nbsp;&nbsp;&nbsp;&nbsp;&quot;      &lt;td&gt;    Outfielder&lt;/td&gt;\n&quot;,</div><div class='line' id='LC885'>&nbsp;&nbsp;&nbsp;&nbsp;&nbsp;&nbsp;&nbsp;&nbsp;&quot;      &lt;td&gt;   Los Angeles Dodgers&lt;/td&gt;\n&quot;,</div><div class='line' id='LC886'>&nbsp;&nbsp;&nbsp;&nbsp;&nbsp;&nbsp;&nbsp;&nbsp;&quot;    &lt;/tr&gt;\n&quot;,</div><div class='line' id='LC887'>&nbsp;&nbsp;&nbsp;&nbsp;&nbsp;&nbsp;&nbsp;&nbsp;&quot;    &lt;tr&gt;\n&quot;,</div><div class='line' id='LC888'>&nbsp;&nbsp;&nbsp;&nbsp;&nbsp;&nbsp;&nbsp;&nbsp;&quot;      &lt;th&gt;Torii Hunter&lt;/th&gt;\n&quot;,</div><div class='line' id='LC889'>&nbsp;&nbsp;&nbsp;&nbsp;&nbsp;&nbsp;&nbsp;&nbsp;&quot;      &lt;td&gt; 2010&lt;/td&gt;\n&quot;,</div><div class='line' id='LC890'>&nbsp;&nbsp;&nbsp;&nbsp;&nbsp;&nbsp;&nbsp;&nbsp;&quot;      &lt;td&gt; 18500000&lt;/td&gt;\n&quot;,</div><div class='line' id='LC891'>&nbsp;&nbsp;&nbsp;&nbsp;&nbsp;&nbsp;&nbsp;&nbsp;&quot;      &lt;td&gt;    Outfielder&lt;/td&gt;\n&quot;,</div><div class='line' id='LC892'>&nbsp;&nbsp;&nbsp;&nbsp;&nbsp;&nbsp;&nbsp;&nbsp;&quot;      &lt;td&gt;    Los Angeles Angels&lt;/td&gt;\n&quot;,</div><div class='line' id='LC893'>&nbsp;&nbsp;&nbsp;&nbsp;&nbsp;&nbsp;&nbsp;&nbsp;&quot;    &lt;/tr&gt;\n&quot;,</div><div class='line' id='LC894'>&nbsp;&nbsp;&nbsp;&nbsp;&nbsp;&nbsp;&nbsp;&nbsp;&quot;    &lt;tr&gt;\n&quot;,</div><div class='line' id='LC895'>&nbsp;&nbsp;&nbsp;&nbsp;&nbsp;&nbsp;&nbsp;&nbsp;&quot;      &lt;th&gt;Barry Zito&lt;/th&gt;\n&quot;,</div><div class='line' id='LC896'>&nbsp;&nbsp;&nbsp;&nbsp;&nbsp;&nbsp;&nbsp;&nbsp;&quot;      &lt;td&gt; 2010&lt;/td&gt;\n&quot;,</div><div class='line' id='LC897'>&nbsp;&nbsp;&nbsp;&nbsp;&nbsp;&nbsp;&nbsp;&nbsp;&quot;      &lt;td&gt; 18500000&lt;/td&gt;\n&quot;,</div><div class='line' id='LC898'>&nbsp;&nbsp;&nbsp;&nbsp;&nbsp;&nbsp;&nbsp;&nbsp;&quot;      &lt;td&gt;       Pitcher&lt;/td&gt;\n&quot;,</div><div class='line' id='LC899'>&nbsp;&nbsp;&nbsp;&nbsp;&nbsp;&nbsp;&nbsp;&nbsp;&quot;      &lt;td&gt;  San Francisco Giants&lt;/td&gt;\n&quot;,</div><div class='line' id='LC900'>&nbsp;&nbsp;&nbsp;&nbsp;&nbsp;&nbsp;&nbsp;&nbsp;&quot;    &lt;/tr&gt;\n&quot;,</div><div class='line' id='LC901'>&nbsp;&nbsp;&nbsp;&nbsp;&nbsp;&nbsp;&nbsp;&nbsp;&quot;    &lt;tr&gt;\n&quot;,</div><div class='line' id='LC902'>&nbsp;&nbsp;&nbsp;&nbsp;&nbsp;&nbsp;&nbsp;&nbsp;&quot;      &lt;th&gt;Ichiro Suzuki&lt;/th&gt;\n&quot;,</div><div class='line' id='LC903'>&nbsp;&nbsp;&nbsp;&nbsp;&nbsp;&nbsp;&nbsp;&nbsp;&quot;      &lt;td&gt; 2010&lt;/td&gt;\n&quot;,</div><div class='line' id='LC904'>&nbsp;&nbsp;&nbsp;&nbsp;&nbsp;&nbsp;&nbsp;&nbsp;&quot;      &lt;td&gt; 18000000&lt;/td&gt;\n&quot;,</div><div class='line' id='LC905'>&nbsp;&nbsp;&nbsp;&nbsp;&nbsp;&nbsp;&nbsp;&nbsp;&quot;      &lt;td&gt;    Outfielder&lt;/td&gt;\n&quot;,</div><div class='line' id='LC906'>&nbsp;&nbsp;&nbsp;&nbsp;&nbsp;&nbsp;&nbsp;&nbsp;&quot;      &lt;td&gt;      Seattle Mariners&lt;/td&gt;\n&quot;,</div><div class='line' id='LC907'>&nbsp;&nbsp;&nbsp;&nbsp;&nbsp;&nbsp;&nbsp;&nbsp;&quot;    &lt;/tr&gt;\n&quot;,</div><div class='line' id='LC908'>&nbsp;&nbsp;&nbsp;&nbsp;&nbsp;&nbsp;&nbsp;&nbsp;&quot;    &lt;tr&gt;\n&quot;,</div><div class='line' id='LC909'>&nbsp;&nbsp;&nbsp;&nbsp;&nbsp;&nbsp;&nbsp;&nbsp;&quot;      &lt;th&gt;Magglio Ordonez&lt;/th&gt;\n&quot;,</div><div class='line' id='LC910'>&nbsp;&nbsp;&nbsp;&nbsp;&nbsp;&nbsp;&nbsp;&nbsp;&quot;      &lt;td&gt; 2010&lt;/td&gt;\n&quot;,</div><div class='line' id='LC911'>&nbsp;&nbsp;&nbsp;&nbsp;&nbsp;&nbsp;&nbsp;&nbsp;&quot;      &lt;td&gt; 17825976&lt;/td&gt;\n&quot;,</div><div class='line' id='LC912'>&nbsp;&nbsp;&nbsp;&nbsp;&nbsp;&nbsp;&nbsp;&nbsp;&quot;      &lt;td&gt;    Outfielder&lt;/td&gt;\n&quot;,</div><div class='line' id='LC913'>&nbsp;&nbsp;&nbsp;&nbsp;&nbsp;&nbsp;&nbsp;&nbsp;&quot;      &lt;td&gt;        Detroit Tigers&lt;/td&gt;\n&quot;,</div><div class='line' id='LC914'>&nbsp;&nbsp;&nbsp;&nbsp;&nbsp;&nbsp;&nbsp;&nbsp;&quot;    &lt;/tr&gt;\n&quot;,</div><div class='line' id='LC915'>&nbsp;&nbsp;&nbsp;&nbsp;&nbsp;&nbsp;&nbsp;&nbsp;&quot;    &lt;tr&gt;\n&quot;,</div><div class='line' id='LC916'>&nbsp;&nbsp;&nbsp;&nbsp;&nbsp;&nbsp;&nbsp;&nbsp;&quot;      &lt;th&gt;Todd Helton&lt;/th&gt;\n&quot;,</div><div class='line' id='LC917'>&nbsp;&nbsp;&nbsp;&nbsp;&nbsp;&nbsp;&nbsp;&nbsp;&quot;      &lt;td&gt; 2010&lt;/td&gt;\n&quot;,</div><div class='line' id='LC918'>&nbsp;&nbsp;&nbsp;&nbsp;&nbsp;&nbsp;&nbsp;&nbsp;&quot;      &lt;td&gt; 17775000&lt;/td&gt;\n&quot;,</div><div class='line' id='LC919'>&nbsp;&nbsp;&nbsp;&nbsp;&nbsp;&nbsp;&nbsp;&nbsp;&quot;      &lt;td&gt; First Baseman&lt;/td&gt;\n&quot;,</div><div class='line' id='LC920'>&nbsp;&nbsp;&nbsp;&nbsp;&nbsp;&nbsp;&nbsp;&nbsp;&quot;      &lt;td&gt;      Colorado Rockies&lt;/td&gt;\n&quot;,</div><div class='line' id='LC921'>&nbsp;&nbsp;&nbsp;&nbsp;&nbsp;&nbsp;&nbsp;&nbsp;&quot;    &lt;/tr&gt;\n&quot;,</div><div class='line' id='LC922'>&nbsp;&nbsp;&nbsp;&nbsp;&nbsp;&nbsp;&nbsp;&nbsp;&quot;    &lt;tr&gt;\n&quot;,</div><div class='line' id='LC923'>&nbsp;&nbsp;&nbsp;&nbsp;&nbsp;&nbsp;&nbsp;&nbsp;&quot;      &lt;th&gt;Aramis Ramirez&lt;/th&gt;\n&quot;,</div><div class='line' id='LC924'>&nbsp;&nbsp;&nbsp;&nbsp;&nbsp;&nbsp;&nbsp;&nbsp;&quot;      &lt;td&gt; 2010&lt;/td&gt;\n&quot;,</div><div class='line' id='LC925'>&nbsp;&nbsp;&nbsp;&nbsp;&nbsp;&nbsp;&nbsp;&nbsp;&quot;      &lt;td&gt; 16750000&lt;/td&gt;\n&quot;,</div><div class='line' id='LC926'>&nbsp;&nbsp;&nbsp;&nbsp;&nbsp;&nbsp;&nbsp;&nbsp;&quot;      &lt;td&gt; Third Baseman&lt;/td&gt;\n&quot;,</div><div class='line' id='LC927'>&nbsp;&nbsp;&nbsp;&nbsp;&nbsp;&nbsp;&nbsp;&nbsp;&quot;      &lt;td&gt;          Chicago Cubs&lt;/td&gt;\n&quot;,</div><div class='line' id='LC928'>&nbsp;&nbsp;&nbsp;&nbsp;&nbsp;&nbsp;&nbsp;&nbsp;&quot;    &lt;/tr&gt;\n&quot;,</div><div class='line' id='LC929'>&nbsp;&nbsp;&nbsp;&nbsp;&nbsp;&nbsp;&nbsp;&nbsp;&quot;    &lt;tr&gt;\n&quot;,</div><div class='line' id='LC930'>&nbsp;&nbsp;&nbsp;&nbsp;&nbsp;&nbsp;&nbsp;&nbsp;&quot;      &lt;th&gt;A.J. Burnett&lt;/th&gt;\n&quot;,</div><div class='line' id='LC931'>&nbsp;&nbsp;&nbsp;&nbsp;&nbsp;&nbsp;&nbsp;&nbsp;&quot;      &lt;td&gt; 2010&lt;/td&gt;\n&quot;,</div><div class='line' id='LC932'>&nbsp;&nbsp;&nbsp;&nbsp;&nbsp;&nbsp;&nbsp;&nbsp;&quot;      &lt;td&gt; 16500000&lt;/td&gt;\n&quot;,</div><div class='line' id='LC933'>&nbsp;&nbsp;&nbsp;&nbsp;&nbsp;&nbsp;&nbsp;&nbsp;&quot;      &lt;td&gt;       Pitcher&lt;/td&gt;\n&quot;,</div><div class='line' id='LC934'>&nbsp;&nbsp;&nbsp;&nbsp;&nbsp;&nbsp;&nbsp;&nbsp;&quot;      &lt;td&gt;      New York Yankees&lt;/td&gt;\n&quot;,</div><div class='line' id='LC935'>&nbsp;&nbsp;&nbsp;&nbsp;&nbsp;&nbsp;&nbsp;&nbsp;&quot;    &lt;/tr&gt;\n&quot;,</div><div class='line' id='LC936'>&nbsp;&nbsp;&nbsp;&nbsp;&nbsp;&nbsp;&nbsp;&nbsp;&quot;  &lt;/tbody&gt;\n&quot;,</div><div class='line' id='LC937'>&nbsp;&nbsp;&nbsp;&nbsp;&nbsp;&nbsp;&nbsp;&nbsp;&quot;&lt;/table&gt;\n&quot;,</div><div class='line' id='LC938'>&nbsp;&nbsp;&nbsp;&nbsp;&nbsp;&nbsp;&nbsp;&nbsp;&quot;&lt;/div&gt;&quot;</div><div class='line' id='LC939'>&nbsp;&nbsp;&nbsp;&nbsp;&nbsp;&nbsp;&nbsp;],</div><div class='line' id='LC940'>&nbsp;&nbsp;&nbsp;&nbsp;&nbsp;&nbsp;&nbsp;&quot;metadata&quot;: {},</div><div class='line' id='LC941'>&nbsp;&nbsp;&nbsp;&nbsp;&nbsp;&nbsp;&nbsp;&quot;output_type&quot;: &quot;pyout&quot;,</div><div class='line' id='LC942'>&nbsp;&nbsp;&nbsp;&nbsp;&nbsp;&nbsp;&nbsp;&quot;prompt_number&quot;: 50,</div><div class='line' id='LC943'>&nbsp;&nbsp;&nbsp;&nbsp;&nbsp;&nbsp;&nbsp;&quot;text&quot;: [</div><div class='line' id='LC944'>&nbsp;&nbsp;&nbsp;&nbsp;&nbsp;&nbsp;&nbsp;&nbsp;&quot;                 Year    Salary       Position                   Team\n&quot;,</div><div class='line' id='LC945'>&nbsp;&nbsp;&nbsp;&nbsp;&nbsp;&nbsp;&nbsp;&nbsp;&quot;Player                                                               \n&quot;,</div><div class='line' id='LC946'>&nbsp;&nbsp;&nbsp;&nbsp;&nbsp;&nbsp;&nbsp;&nbsp;&quot;Alex Rodriguez   2010  33000000  Third Baseman       New York Yankees\n&quot;,</div><div class='line' id='LC947'>&nbsp;&nbsp;&nbsp;&nbsp;&nbsp;&nbsp;&nbsp;&nbsp;&quot;CC Sabathia      2010  24285714        Pitcher       New York Yankees\n&quot;,</div><div class='line' id='LC948'>&nbsp;&nbsp;&nbsp;&nbsp;&nbsp;&nbsp;&nbsp;&nbsp;&quot;Derek Jeter      2010  22600000      Shortstop       New York Yankees\n&quot;,</div><div class='line' id='LC949'>&nbsp;&nbsp;&nbsp;&nbsp;&nbsp;&nbsp;&nbsp;&nbsp;&quot;Mark Teixeira    2010  20625000  First Baseman       New York Yankees\n&quot;,</div><div class='line' id='LC950'>&nbsp;&nbsp;&nbsp;&nbsp;&nbsp;&nbsp;&nbsp;&nbsp;&quot;Johan Santana    2010  20144707        Pitcher          New York Mets\n&quot;,</div><div class='line' id='LC951'>&nbsp;&nbsp;&nbsp;&nbsp;&nbsp;&nbsp;&nbsp;&nbsp;&quot;Miguel Cabrera   2010  20000000  First Baseman         Detroit Tigers\n&quot;,</div><div class='line' id='LC952'>&nbsp;&nbsp;&nbsp;&nbsp;&nbsp;&nbsp;&nbsp;&nbsp;&quot;Carlos Beltran   2010  19401569     Outfielder          New York Mets\n&quot;,</div><div class='line' id='LC953'>&nbsp;&nbsp;&nbsp;&nbsp;&nbsp;&nbsp;&nbsp;&nbsp;&quot;Alfonso Soriano  2010  19000000     Outfielder           Chicago Cubs\n&quot;,</div><div class='line' id='LC954'>&nbsp;&nbsp;&nbsp;&nbsp;&nbsp;&nbsp;&nbsp;&nbsp;&quot;Carlos Lee       2010  19000000     Outfielder         Houston Astros\n&quot;,</div><div class='line' id='LC955'>&nbsp;&nbsp;&nbsp;&nbsp;&nbsp;&nbsp;&nbsp;&nbsp;&quot;Ryan Howard      2010  19000000  First Baseman  Philadelphia Phillies\n&quot;,</div><div class='line' id='LC956'>&nbsp;&nbsp;&nbsp;&nbsp;&nbsp;&nbsp;&nbsp;&nbsp;&quot;Carlos Zambrano  2010  18875000        Pitcher           Chicago Cubs\n&quot;,</div><div class='line' id='LC957'>&nbsp;&nbsp;&nbsp;&nbsp;&nbsp;&nbsp;&nbsp;&nbsp;&quot;John Lackey      2010  18700000        Pitcher         Boston Red Sox\n&quot;,</div><div class='line' id='LC958'>&nbsp;&nbsp;&nbsp;&nbsp;&nbsp;&nbsp;&nbsp;&nbsp;&quot;Manny Ramirez    2010  18695006     Outfielder    Los Angeles Dodgers\n&quot;,</div><div class='line' id='LC959'>&nbsp;&nbsp;&nbsp;&nbsp;&nbsp;&nbsp;&nbsp;&nbsp;&quot;Torii Hunter     2010  18500000     Outfielder     Los Angeles Angels\n&quot;,</div><div class='line' id='LC960'>&nbsp;&nbsp;&nbsp;&nbsp;&nbsp;&nbsp;&nbsp;&nbsp;&quot;Barry Zito       2010  18500000        Pitcher   San Francisco Giants\n&quot;,</div><div class='line' id='LC961'>&nbsp;&nbsp;&nbsp;&nbsp;&nbsp;&nbsp;&nbsp;&nbsp;&quot;Ichiro Suzuki    2010  18000000     Outfielder       Seattle Mariners\n&quot;,</div><div class='line' id='LC962'>&nbsp;&nbsp;&nbsp;&nbsp;&nbsp;&nbsp;&nbsp;&nbsp;&quot;Magglio Ordonez  2010  17825976     Outfielder         Detroit Tigers\n&quot;,</div><div class='line' id='LC963'>&nbsp;&nbsp;&nbsp;&nbsp;&nbsp;&nbsp;&nbsp;&nbsp;&quot;Todd Helton      2010  17775000  First Baseman       Colorado Rockies\n&quot;,</div><div class='line' id='LC964'>&nbsp;&nbsp;&nbsp;&nbsp;&nbsp;&nbsp;&nbsp;&nbsp;&quot;Aramis Ramirez   2010  16750000  Third Baseman           Chicago Cubs\n&quot;,</div><div class='line' id='LC965'>&nbsp;&nbsp;&nbsp;&nbsp;&nbsp;&nbsp;&nbsp;&nbsp;&quot;A.J. Burnett     2010  16500000        Pitcher       New York Yankees&quot;</div><div class='line' id='LC966'>&nbsp;&nbsp;&nbsp;&nbsp;&nbsp;&nbsp;&nbsp;]</div><div class='line' id='LC967'>&nbsp;&nbsp;&nbsp;&nbsp;&nbsp;&nbsp;}</div><div class='line' id='LC968'>&nbsp;&nbsp;&nbsp;&nbsp;&nbsp;],</div><div class='line' id='LC969'>&nbsp;&nbsp;&nbsp;&nbsp;&nbsp;&quot;prompt_number&quot;: 50</div><div class='line' id='LC970'>&nbsp;&nbsp;&nbsp;&nbsp;},</div><div class='line' id='LC971'>&nbsp;&nbsp;&nbsp;&nbsp;{</div><div class='line' id='LC972'>&nbsp;&nbsp;&nbsp;&nbsp;&nbsp;&quot;cell_type&quot;: &quot;code&quot;,</div><div class='line' id='LC973'>&nbsp;&nbsp;&nbsp;&nbsp;&nbsp;&quot;collapsed&quot;: false,</div><div class='line' id='LC974'>&nbsp;&nbsp;&nbsp;&nbsp;&nbsp;&quot;input&quot;: [</div><div class='line' id='LC975'>&nbsp;&nbsp;&nbsp;&nbsp;&nbsp;&nbsp;&quot; # Top 10 highest paid players\n&quot;,</div><div class='line' id='LC976'>&nbsp;&nbsp;&nbsp;&nbsp;&nbsp;&nbsp;&quot; top10 = yr2010.Salary.order(ascending=False).head()&quot;</div><div class='line' id='LC977'>&nbsp;&nbsp;&nbsp;&nbsp;&nbsp;],</div><div class='line' id='LC978'>&nbsp;&nbsp;&nbsp;&nbsp;&nbsp;&quot;language&quot;: &quot;python&quot;,</div><div class='line' id='LC979'>&nbsp;&nbsp;&nbsp;&nbsp;&nbsp;&quot;metadata&quot;: {},</div><div class='line' id='LC980'>&nbsp;&nbsp;&nbsp;&nbsp;&nbsp;&quot;outputs&quot;: [],</div><div class='line' id='LC981'>&nbsp;&nbsp;&nbsp;&nbsp;&nbsp;&quot;prompt_number&quot;: 51</div><div class='line' id='LC982'>&nbsp;&nbsp;&nbsp;&nbsp;},</div><div class='line' id='LC983'>&nbsp;&nbsp;&nbsp;&nbsp;{</div><div class='line' id='LC984'>&nbsp;&nbsp;&nbsp;&nbsp;&nbsp;&quot;cell_type&quot;: &quot;code&quot;,</div><div class='line' id='LC985'>&nbsp;&nbsp;&nbsp;&nbsp;&nbsp;&quot;collapsed&quot;: false,</div><div class='line' id='LC986'>&nbsp;&nbsp;&nbsp;&nbsp;&nbsp;&quot;input&quot;: [</div><div class='line' id='LC987'>&nbsp;&nbsp;&nbsp;&nbsp;&nbsp;&nbsp;&quot; type(top10)&quot;</div><div class='line' id='LC988'>&nbsp;&nbsp;&nbsp;&nbsp;&nbsp;],</div><div class='line' id='LC989'>&nbsp;&nbsp;&nbsp;&nbsp;&nbsp;&quot;language&quot;: &quot;python&quot;,</div><div class='line' id='LC990'>&nbsp;&nbsp;&nbsp;&nbsp;&nbsp;&quot;metadata&quot;: {},</div><div class='line' id='LC991'>&nbsp;&nbsp;&nbsp;&nbsp;&nbsp;&quot;outputs&quot;: [</div><div class='line' id='LC992'>&nbsp;&nbsp;&nbsp;&nbsp;&nbsp;&nbsp;{</div><div class='line' id='LC993'>&nbsp;&nbsp;&nbsp;&nbsp;&nbsp;&nbsp;&nbsp;&quot;metadata&quot;: {},</div><div class='line' id='LC994'>&nbsp;&nbsp;&nbsp;&nbsp;&nbsp;&nbsp;&nbsp;&quot;output_type&quot;: &quot;pyout&quot;,</div><div class='line' id='LC995'>&nbsp;&nbsp;&nbsp;&nbsp;&nbsp;&nbsp;&nbsp;&quot;prompt_number&quot;: 53,</div><div class='line' id='LC996'>&nbsp;&nbsp;&nbsp;&nbsp;&nbsp;&nbsp;&nbsp;&quot;text&quot;: [</div><div class='line' id='LC997'>&nbsp;&nbsp;&nbsp;&nbsp;&nbsp;&nbsp;&nbsp;&nbsp;&quot;pandas.core.series.Series&quot;</div><div class='line' id='LC998'>&nbsp;&nbsp;&nbsp;&nbsp;&nbsp;&nbsp;&nbsp;]</div><div class='line' id='LC999'>&nbsp;&nbsp;&nbsp;&nbsp;&nbsp;&nbsp;}</div><div class='line' id='LC1000'>&nbsp;&nbsp;&nbsp;&nbsp;&nbsp;],</div><div class='line' id='LC1001'>&nbsp;&nbsp;&nbsp;&nbsp;&nbsp;&quot;prompt_number&quot;: 53</div><div class='line' id='LC1002'>&nbsp;&nbsp;&nbsp;&nbsp;},</div><div class='line' id='LC1003'>&nbsp;&nbsp;&nbsp;&nbsp;{</div><div class='line' id='LC1004'>&nbsp;&nbsp;&nbsp;&nbsp;&nbsp;&quot;cell_type&quot;: &quot;code&quot;,</div><div class='line' id='LC1005'>&nbsp;&nbsp;&nbsp;&nbsp;&nbsp;&quot;collapsed&quot;: false,</div><div class='line' id='LC1006'>&nbsp;&nbsp;&nbsp;&nbsp;&nbsp;&quot;input&quot;: [</div><div class='line' id='LC1007'>&nbsp;&nbsp;&nbsp;&nbsp;&nbsp;&nbsp;&quot;#plot highest paid\n&quot;,</div><div class='line' id='LC1008'>&nbsp;&nbsp;&nbsp;&nbsp;&nbsp;&nbsp;&quot;plt.figure()\n&quot;,</div><div class='line' id='LC1009'>&nbsp;&nbsp;&nbsp;&nbsp;&nbsp;&nbsp;&quot;top10.plot(label=&#39;Salaries&#39;)\n&quot;,</div><div class='line' id='LC1010'>&nbsp;&nbsp;&nbsp;&nbsp;&nbsp;&nbsp;&quot;xticks(rotation=&#39;vertical&#39;)\n&quot;,</div><div class='line' id='LC1011'>&nbsp;&nbsp;&nbsp;&nbsp;&nbsp;&nbsp;&quot;plt.legend()&quot;</div><div class='line' id='LC1012'>&nbsp;&nbsp;&nbsp;&nbsp;&nbsp;],</div><div class='line' id='LC1013'>&nbsp;&nbsp;&nbsp;&nbsp;&nbsp;&quot;language&quot;: &quot;python&quot;,</div><div class='line' id='LC1014'>&nbsp;&nbsp;&nbsp;&nbsp;&nbsp;&quot;metadata&quot;: {},</div><div class='line' id='LC1015'>&nbsp;&nbsp;&nbsp;&nbsp;&nbsp;&quot;outputs&quot;: [</div><div class='line' id='LC1016'>&nbsp;&nbsp;&nbsp;&nbsp;&nbsp;&nbsp;{</div><div class='line' id='LC1017'>&nbsp;&nbsp;&nbsp;&nbsp;&nbsp;&nbsp;&nbsp;&quot;metadata&quot;: {},</div><div class='line' id='LC1018'>&nbsp;&nbsp;&nbsp;&nbsp;&nbsp;&nbsp;&nbsp;&quot;output_type&quot;: &quot;pyout&quot;,</div><div class='line' id='LC1019'>&nbsp;&nbsp;&nbsp;&nbsp;&nbsp;&nbsp;&nbsp;&quot;prompt_number&quot;: 54,</div><div class='line' id='LC1020'>&nbsp;&nbsp;&nbsp;&nbsp;&nbsp;&nbsp;&nbsp;&quot;text&quot;: [</div><div class='line' id='LC1021'>&nbsp;&nbsp;&nbsp;&nbsp;&nbsp;&nbsp;&nbsp;&nbsp;&quot;&lt;matplotlib.legend.Legend at 0x110710750&gt;&quot;</div><div class='line' id='LC1022'>&nbsp;&nbsp;&nbsp;&nbsp;&nbsp;&nbsp;&nbsp;]</div><div class='line' id='LC1023'>&nbsp;&nbsp;&nbsp;&nbsp;&nbsp;&nbsp;},</div><div class='line' id='LC1024'>&nbsp;&nbsp;&nbsp;&nbsp;&nbsp;&nbsp;{</div><div class='line' id='LC1025'>&nbsp;&nbsp;&nbsp;&nbsp;&nbsp;&nbsp;&nbsp;&quot;metadata&quot;: {},</div><div class='line' id='LC1026'>&nbsp;&nbsp;&nbsp;&nbsp;&nbsp;&nbsp;&nbsp;&quot;output_type&quot;: &quot;display_data&quot;,</div><div class='line' id='LC1027'>&nbsp;&nbsp;&nbsp;&nbsp;&nbsp;&nbsp;&nbsp;&quot;png&quot;: &quot;iVBORw0KGgoAAAANSUhEUgAAAXQAAAFVCAYAAAD/kxTAAAAABHNCSVQICAgIfAhkiAAAAAlwSFlz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\nIWyEFHQhhLAR/w9Wa6exUcVySAAAAABJRU5ErkJggg==\n&quot;,</div><div class='line' id='LC1028'>&nbsp;&nbsp;&nbsp;&nbsp;&nbsp;&nbsp;&nbsp;&quot;text&quot;: [</div><div class='line' id='LC1029'>&nbsp;&nbsp;&nbsp;&nbsp;&nbsp;&nbsp;&nbsp;&nbsp;&quot;&lt;matplotlib.figure.Figure at 0x110716c50&gt;&quot;</div><div class='line' id='LC1030'>&nbsp;&nbsp;&nbsp;&nbsp;&nbsp;&nbsp;&nbsp;]</div><div class='line' id='LC1031'>&nbsp;&nbsp;&nbsp;&nbsp;&nbsp;&nbsp;}</div><div class='line' id='LC1032'>&nbsp;&nbsp;&nbsp;&nbsp;&nbsp;],</div><div class='line' id='LC1033'>&nbsp;&nbsp;&nbsp;&nbsp;&nbsp;&quot;prompt_number&quot;: 54</div><div class='line' id='LC1034'>&nbsp;&nbsp;&nbsp;&nbsp;},</div><div class='line' id='LC1035'>&nbsp;&nbsp;&nbsp;&nbsp;{</div><div class='line' id='LC1036'>&nbsp;&nbsp;&nbsp;&nbsp;&nbsp;&quot;cell_type&quot;: &quot;code&quot;,</div><div class='line' id='LC1037'>&nbsp;&nbsp;&nbsp;&nbsp;&nbsp;&quot;collapsed&quot;: false,</div><div class='line' id='LC1038'>&nbsp;&nbsp;&nbsp;&nbsp;&nbsp;&quot;input&quot;: [],</div><div class='line' id='LC1039'>&nbsp;&nbsp;&nbsp;&nbsp;&nbsp;&quot;language&quot;: &quot;python&quot;,</div><div class='line' id='LC1040'>&nbsp;&nbsp;&nbsp;&nbsp;&nbsp;&quot;metadata&quot;: {},</div><div class='line' id='LC1041'>&nbsp;&nbsp;&nbsp;&nbsp;&nbsp;&quot;outputs&quot;: []</div><div class='line' id='LC1042'>&nbsp;&nbsp;&nbsp;&nbsp;}</div><div class='line' id='LC1043'>&nbsp;&nbsp;&nbsp;],</div><div class='line' id='LC1044'>&nbsp;&nbsp;&nbsp;&quot;metadata&quot;: {}</div><div class='line' id='LC1045'>&nbsp;&nbsp;}</div><div class='line' id='LC1046'>&nbsp;]</div><div class='line' id='LC1047'>}</div></pre></div>
            </td>
          </tr>
        </table>
  </div>

  </div>
</div>

<a href="#jump-to-line" rel="facebox[.linejump]" data-hotkey="l" class="js-jump-to-line" style="display:none">Jump to Line</a>
<div id="jump-to-line" style="display:none">
  <form accept-charset="UTF-8" class="js-jump-to-line-form">
    <input class="linejump-input js-jump-to-line-field" type="text" placeholder="Jump to line&hellip;" autofocus>
    <button type="submit" class="button">Go</button>
  </form>
</div>

        </div>

      </div><!-- /.repo-container -->
      <div class="modal-backdrop"></div>
    </div><!-- /.container -->
  </div><!-- /.site -->


    </div><!-- /.wrapper -->

      <div class="container">
  <div class="site-footer">
    <ul class="site-footer-links right">
      <li><a href="https://status.github.com/">Status</a></li>
      <li><a href="http://developer.github.com">API</a></li>
      <li><a href="http://training.github.com">Training</a></li>
      <li><a href="http://shop.github.com">Shop</a></li>
      <li><a href="/blog">Blog</a></li>
      <li><a href="/about">About</a></li>

    </ul>

    <a href="/">
      <span class="mega-octicon octicon-mark-github" title="GitHub"></span>
    </a>

    <ul class="site-footer-links">
      <li>&copy; 2014 <span title="0.06228s from github-fe134-cp1-prd.iad.github.net">GitHub</span>, Inc.</li>
        <li><a href="/site/terms">Terms</a></li>
        <li><a href="/site/privacy">Privacy</a></li>
        <li><a href="/security">Security</a></li>
        <li><a href="/contact">Contact</a></li>
    </ul>
  </div><!-- /.site-footer -->
</div><!-- /.container -->


    <div class="fullscreen-overlay js-fullscreen-overlay" id="fullscreen_overlay">
  <div class="fullscreen-container js-fullscreen-container">
    <div class="textarea-wrap">
      <textarea name="fullscreen-contents" id="fullscreen-contents" class="js-fullscreen-contents" placeholder="" data-suggester="fullscreen_suggester"></textarea>
          <div class="suggester-container">
              <div class="suggester fullscreen-suggester js-navigation-container" id="fullscreen_suggester"
                 data-url="/alfredessa/pdacookbook/suggestions/commit">
              </div>
          </div>
    </div>
  </div>
  <div class="fullscreen-sidebar">
    <a href="#" class="exit-fullscreen js-exit-fullscreen tooltipped leftwards" title="Exit Zen Mode">
      <span class="mega-octicon octicon-screen-normal"></span>
    </a>
    <a href="#" class="theme-switcher js-theme-switcher tooltipped leftwards"
      title="Switch themes">
      <span class="octicon octicon-color-mode"></span>
    </a>
  </div>
</div>



    <div id="ajax-error-message" class="flash flash-error">
      <span class="octicon octicon-alert"></span>
      <a href="#" class="octicon octicon-remove-close close ajax-error-dismiss"></a>
      Something went wrong with that request. Please try again.
    </div>

  </body>
</html>

