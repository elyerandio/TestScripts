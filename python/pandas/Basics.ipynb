{
 "metadata": {
  "name": ""
 },
 "nbformat": 3,
 "nbformat_minor": 0,
 "worksheets": [
  {
   "cells": [
    {
     "cell_type": "code",
     "collapsed": false,
     "input": [
      "from pandas import *\n",
      "import pandas as pd\n",
      "import numpy as np\n",
      "import matplotlib.pyplot as plt\n",
      "import pyodbc\n",
      "import pandas.io.sql as sql\n",
      "\n",
      "def side_by_side(*objs, **kwds):\n",
      "    from pandas.core.common import adjoin\n",
      "    space = kwds.get('space',4)\n",
      "    reprs = [repr(obj).split('\\n') for obj in objs]\n",
      "    print adjoin(space, *reprs)\n",
      "    \n",
      "plt.rc('figure', figsize=(10,6))"
     ],
     "language": "python",
     "metadata": {},
     "outputs": [
      {
       "ename": "ImportError",
       "evalue": "No module named django",
       "output_type": "pyerr",
       "traceback": [
        "\u001b[1;31m---------------------------------------------------------------------------\u001b[0m\n\u001b[1;31mImportError\u001b[0m                               Traceback (most recent call last)",
        "\u001b[1;32m<ipython-input-1-d9c7c5de06c7>\u001b[0m in \u001b[0;36m<module>\u001b[1;34m()\u001b[0m\n\u001b[0;32m      5\u001b[0m \u001b[1;32mimport\u001b[0m \u001b[0mpyodbc\u001b[0m\u001b[1;33m\u001b[0m\u001b[0m\n\u001b[0;32m      6\u001b[0m \u001b[1;32mimport\u001b[0m \u001b[0mpandas\u001b[0m\u001b[1;33m.\u001b[0m\u001b[0mio\u001b[0m\u001b[1;33m.\u001b[0m\u001b[0msql\u001b[0m \u001b[1;32mas\u001b[0m \u001b[0msql\u001b[0m\u001b[1;33m\u001b[0m\u001b[0m\n\u001b[1;32m----> 7\u001b[1;33m \u001b[1;32mimport\u001b[0m \u001b[0mdjango\u001b[0m\u001b[1;33m\u001b[0m\u001b[0m\n\u001b[0m\u001b[0;32m      8\u001b[0m \u001b[1;33m\u001b[0m\u001b[0m\n\u001b[0;32m      9\u001b[0m \u001b[1;32mdef\u001b[0m \u001b[0mside_by_side\u001b[0m\u001b[1;33m(\u001b[0m\u001b[1;33m*\u001b[0m\u001b[0mobjs\u001b[0m\u001b[1;33m,\u001b[0m \u001b[1;33m**\u001b[0m\u001b[0mkwds\u001b[0m\u001b[1;33m)\u001b[0m\u001b[1;33m:\u001b[0m\u001b[1;33m\u001b[0m\u001b[0m\n",
        "\u001b[1;31mImportError\u001b[0m: No module named django"
       ]
      }
     ],
     "prompt_number": 1
    },
    {
     "cell_type": "heading",
     "level": 3,
     "metadata": {},
     "source": [
      "Series"
     ]
    },
    {
     "cell_type": "code",
     "collapsed": false,
     "input": [
      "labels = list('abcde')\n",
      "s = Series(randn(5), index=labels)\n",
      "s"
     ],
     "language": "python",
     "metadata": {},
     "outputs": [
      {
       "metadata": {},
       "output_type": "pyout",
       "prompt_number": 2,
       "text": [
        "a   -0.542172\n",
        "b    0.477445\n",
        "c   -0.116086\n",
        "d   -1.871397\n",
        "e   -0.021702\n",
        "dtype: float64"
       ]
      }
     ],
     "prompt_number": 2
    },
    {
     "cell_type": "code",
     "collapsed": false,
     "input": [
      "'b' in s"
     ],
     "language": "python",
     "metadata": {},
     "outputs": [
      {
       "metadata": {},
       "output_type": "pyout",
       "prompt_number": 3,
       "text": [
        "True"
       ]
      }
     ],
     "prompt_number": 3
    },
    {
     "cell_type": "code",
     "collapsed": false,
     "input": [
      "s.index"
     ],
     "language": "python",
     "metadata": {},
     "outputs": [
      {
       "metadata": {},
       "output_type": "pyout",
       "prompt_number": 4,
       "text": [
        "Index([u'a', u'b', u'c', u'd', u'e'], dtype=object)"
       ]
      }
     ],
     "prompt_number": 4
    },
    {
     "cell_type": "code",
     "collapsed": false,
     "input": [
      "s['b']"
     ],
     "language": "python",
     "metadata": {},
     "outputs": [
      {
       "metadata": {},
       "output_type": "pyout",
       "prompt_number": 5,
       "text": [
        "0.47744481526571475"
       ]
      }
     ],
     "prompt_number": 5
    },
    {
     "cell_type": "code",
     "collapsed": false,
     "input": [
      "mapping = s.to_dict()\n",
      "mapping"
     ],
     "language": "python",
     "metadata": {},
     "outputs": [
      {
       "metadata": {},
       "output_type": "pyout",
       "prompt_number": 6,
       "text": [
        "{'a': -0.54217174323958239,\n",
        " 'b': 0.47744481526571475,\n",
        " 'c': -0.11608630527296859,\n",
        " 'd': -1.8713969470163483,\n",
        " 'e': -0.021701824202735736}"
       ]
      }
     ],
     "prompt_number": 6
    },
    {
     "cell_type": "code",
     "collapsed": false,
     "input": [
      "s = Series(mapping, index=list('acdebf'))\n",
      "s"
     ],
     "language": "python",
     "metadata": {},
     "outputs": [
      {
       "metadata": {},
       "output_type": "pyout",
       "prompt_number": 7,
       "text": [
        "a   -0.542172\n",
        "c   -0.116086\n",
        "d   -1.871397\n",
        "e   -0.021702\n",
        "b    0.477445\n",
        "f         NaN\n",
        "dtype: float64"
       ]
      }
     ],
     "prompt_number": 7
    },
    {
     "cell_type": "code",
     "collapsed": false,
     "input": [
      "s.isnull()"
     ],
     "language": "python",
     "metadata": {},
     "outputs": [
      {
       "metadata": {},
       "output_type": "pyout",
       "prompt_number": 8,
       "text": [
        "a    False\n",
        "c    False\n",
        "d    False\n",
        "e    False\n",
        "b    False\n",
        "f     True\n",
        "dtype: bool"
       ]
      }
     ],
     "prompt_number": 8
    },
    {
     "cell_type": "code",
     "collapsed": false,
     "input": [
      "s[notnull(s)]"
     ],
     "language": "python",
     "metadata": {},
     "outputs": [
      {
       "metadata": {},
       "output_type": "pyout",
       "prompt_number": 9,
       "text": [
        "a   -0.542172\n",
        "c   -0.116086\n",
        "d   -1.871397\n",
        "e   -0.021702\n",
        "b    0.477445\n",
        "dtype: float64"
       ]
      }
     ],
     "prompt_number": 9
    },
    {
     "cell_type": "code",
     "collapsed": false,
     "input": [
      "s = s.dropna()\n",
      "s"
     ],
     "language": "python",
     "metadata": {},
     "outputs": [
      {
       "metadata": {},
       "output_type": "pyout",
       "prompt_number": 10,
       "text": [
        "a   -0.542172\n",
        "c   -0.116086\n",
        "d   -1.871397\n",
        "e   -0.021702\n",
        "b    0.477445\n",
        "dtype: float64"
       ]
      }
     ],
     "prompt_number": 10
    },
    {
     "cell_type": "heading",
     "level": 3,
     "metadata": {},
     "source": [
      "DataFrame"
     ]
    },
    {
     "cell_type": "code",
     "collapsed": false,
     "input": [
      "df = DataFrame({ 'a' : np.random.randn(6),\n",
      "                'b': ['foo','bar'] * 3,\n",
      "                'c': np.random.randn(6)})\n",
      "df"
     ],
     "language": "python",
     "metadata": {},
     "outputs": [
      {
       "html": [
        "<div style=\"max-height:1000px;max-width:1500px;overflow:auto;\">\n",
        "<table border=\"1\" class=\"dataframe\">\n",
        "  <thead>\n",
        "    <tr style=\"text-align: right;\">\n",
        "      <th></th>\n",
        "      <th>a</th>\n",
        "      <th>b</th>\n",
        "      <th>c</th>\n",
        "    </tr>\n",
        "  </thead>\n",
        "  <tbody>\n",
        "    <tr>\n",
        "      <th>0</th>\n",
        "      <td> 1.693983</td>\n",
        "      <td> foo</td>\n",
        "      <td>-0.715125</td>\n",
        "    </tr>\n",
        "    <tr>\n",
        "      <th>1</th>\n",
        "      <td>-3.367593</td>\n",
        "      <td> bar</td>\n",
        "      <td>-0.416725</td>\n",
        "    </tr>\n",
        "    <tr>\n",
        "      <th>2</th>\n",
        "      <td>-0.093283</td>\n",
        "      <td> foo</td>\n",
        "      <td>-1.089345</td>\n",
        "    </tr>\n",
        "    <tr>\n",
        "      <th>3</th>\n",
        "      <td> 2.123832</td>\n",
        "      <td> bar</td>\n",
        "      <td>-0.048631</td>\n",
        "    </tr>\n",
        "    <tr>\n",
        "      <th>4</th>\n",
        "      <td> 0.031591</td>\n",
        "      <td> foo</td>\n",
        "      <td> 2.338681</td>\n",
        "    </tr>\n",
        "    <tr>\n",
        "      <th>5</th>\n",
        "      <td>-0.431174</td>\n",
        "      <td> bar</td>\n",
        "      <td>-2.346880</td>\n",
        "    </tr>\n",
        "  </tbody>\n",
        "</table>\n",
        "</div>"
       ],
       "metadata": {},
       "output_type": "pyout",
       "prompt_number": 11,
       "text": [
        "          a    b         c\n",
        "0  1.693983  foo -0.715125\n",
        "1 -3.367593  bar -0.416725\n",
        "2 -0.093283  foo -1.089345\n",
        "3  2.123832  bar -0.048631\n",
        "4  0.031591  foo  2.338681\n",
        "5 -0.431174  bar -2.346880"
       ]
      }
     ],
     "prompt_number": 11
    },
    {
     "cell_type": "code",
     "collapsed": false,
     "input": [
      "df.index"
     ],
     "language": "python",
     "metadata": {},
     "outputs": [
      {
       "metadata": {},
       "output_type": "pyout",
       "prompt_number": 12,
       "text": [
        "Int64Index([0, 1, 2, 3, 4, 5], dtype=int64)"
       ]
      }
     ],
     "prompt_number": 12
    },
    {
     "cell_type": "code",
     "collapsed": false,
     "input": [
      "df['d'] = range(6)\n",
      "df"
     ],
     "language": "python",
     "metadata": {},
     "outputs": [
      {
       "html": [
        "<div style=\"max-height:1000px;max-width:1500px;overflow:auto;\">\n",
        "<table border=\"1\" class=\"dataframe\">\n",
        "  <thead>\n",
        "    <tr style=\"text-align: right;\">\n",
        "      <th></th>\n",
        "      <th>a</th>\n",
        "      <th>b</th>\n",
        "      <th>c</th>\n",
        "      <th>d</th>\n",
        "    </tr>\n",
        "  </thead>\n",
        "  <tbody>\n",
        "    <tr>\n",
        "      <th>0</th>\n",
        "      <td> 1.693983</td>\n",
        "      <td> foo</td>\n",
        "      <td>-0.715125</td>\n",
        "      <td> 0</td>\n",
        "    </tr>\n",
        "    <tr>\n",
        "      <th>1</th>\n",
        "      <td>-3.367593</td>\n",
        "      <td> bar</td>\n",
        "      <td>-0.416725</td>\n",
        "      <td> 1</td>\n",
        "    </tr>\n",
        "    <tr>\n",
        "      <th>2</th>\n",
        "      <td>-0.093283</td>\n",
        "      <td> foo</td>\n",
        "      <td>-1.089345</td>\n",
        "      <td> 2</td>\n",
        "    </tr>\n",
        "    <tr>\n",
        "      <th>3</th>\n",
        "      <td> 2.123832</td>\n",
        "      <td> bar</td>\n",
        "      <td>-0.048631</td>\n",
        "      <td> 3</td>\n",
        "    </tr>\n",
        "    <tr>\n",
        "      <th>4</th>\n",
        "      <td> 0.031591</td>\n",
        "      <td> foo</td>\n",
        "      <td> 2.338681</td>\n",
        "      <td> 4</td>\n",
        "    </tr>\n",
        "    <tr>\n",
        "      <th>5</th>\n",
        "      <td>-0.431174</td>\n",
        "      <td> bar</td>\n",
        "      <td>-2.346880</td>\n",
        "      <td> 5</td>\n",
        "    </tr>\n",
        "  </tbody>\n",
        "</table>\n",
        "</div>"
       ],
       "metadata": {},
       "output_type": "pyout",
       "prompt_number": 13,
       "text": [
        "          a    b         c  d\n",
        "0  1.693983  foo -0.715125  0\n",
        "1 -3.367593  bar -0.416725  1\n",
        "2 -0.093283  foo -1.089345  2\n",
        "3  2.123832  bar -0.048631  3\n",
        "4  0.031591  foo  2.338681  4\n",
        "5 -0.431174  bar -2.346880  5"
       ]
      }
     ],
     "prompt_number": 13
    },
    {
     "cell_type": "code",
     "collapsed": false,
     "input": [
      "df.xs(0)"
     ],
     "language": "python",
     "metadata": {},
     "outputs": [
      {
       "metadata": {},
       "output_type": "pyout",
       "prompt_number": 14,
       "text": [
        "a    1.693983\n",
        "b         foo\n",
        "c   -0.715125\n",
        "d           0\n",
        "Name: 0, dtype: object"
       ]
      }
     ],
     "prompt_number": 14
    },
    {
     "cell_type": "code",
     "collapsed": false,
     "input": [
      "df.ix[0]"
     ],
     "language": "python",
     "metadata": {},
     "outputs": [
      {
       "metadata": {},
       "output_type": "pyout",
       "prompt_number": 15,
       "text": [
        "a    1.693983\n",
        "b         foo\n",
        "c   -0.715125\n",
        "d           0\n",
        "Name: 0, dtype: object"
       ]
      }
     ],
     "prompt_number": 15
    },
    {
     "cell_type": "code",
     "collapsed": false,
     "input": [
      "df.ix[0:3]"
     ],
     "language": "python",
     "metadata": {},
     "outputs": [
      {
       "html": [
        "<div style=\"max-height:1000px;max-width:1500px;overflow:auto;\">\n",
        "<table border=\"1\" class=\"dataframe\">\n",
        "  <thead>\n",
        "    <tr style=\"text-align: right;\">\n",
        "      <th></th>\n",
        "      <th>a</th>\n",
        "      <th>b</th>\n",
        "      <th>c</th>\n",
        "      <th>d</th>\n",
        "    </tr>\n",
        "  </thead>\n",
        "  <tbody>\n",
        "    <tr>\n",
        "      <th>0</th>\n",
        "      <td> 1.693983</td>\n",
        "      <td> foo</td>\n",
        "      <td>-0.715125</td>\n",
        "      <td> 0</td>\n",
        "    </tr>\n",
        "    <tr>\n",
        "      <th>1</th>\n",
        "      <td>-3.367593</td>\n",
        "      <td> bar</td>\n",
        "      <td>-0.416725</td>\n",
        "      <td> 1</td>\n",
        "    </tr>\n",
        "    <tr>\n",
        "      <th>2</th>\n",
        "      <td>-0.093283</td>\n",
        "      <td> foo</td>\n",
        "      <td>-1.089345</td>\n",
        "      <td> 2</td>\n",
        "    </tr>\n",
        "    <tr>\n",
        "      <th>3</th>\n",
        "      <td> 2.123832</td>\n",
        "      <td> bar</td>\n",
        "      <td>-0.048631</td>\n",
        "      <td> 3</td>\n",
        "    </tr>\n",
        "  </tbody>\n",
        "</table>\n",
        "</div>"
       ],
       "metadata": {},
       "output_type": "pyout",
       "prompt_number": 16,
       "text": [
        "          a    b         c  d\n",
        "0  1.693983  foo -0.715125  0\n",
        "1 -3.367593  bar -0.416725  1\n",
        "2 -0.093283  foo -1.089345  2\n",
        "3  2.123832  bar -0.048631  3"
       ]
      }
     ],
     "prompt_number": 16
    },
    {
     "cell_type": "code",
     "collapsed": false,
     "input": [
      "df.ix[0:3,'a':'c']"
     ],
     "language": "python",
     "metadata": {},
     "outputs": [
      {
       "html": [
        "<div style=\"max-height:1000px;max-width:1500px;overflow:auto;\">\n",
        "<table border=\"1\" class=\"dataframe\">\n",
        "  <thead>\n",
        "    <tr style=\"text-align: right;\">\n",
        "      <th></th>\n",
        "      <th>a</th>\n",
        "      <th>b</th>\n",
        "      <th>c</th>\n",
        "    </tr>\n",
        "  </thead>\n",
        "  <tbody>\n",
        "    <tr>\n",
        "      <th>0</th>\n",
        "      <td> 1.693983</td>\n",
        "      <td> foo</td>\n",
        "      <td>-0.715125</td>\n",
        "    </tr>\n",
        "    <tr>\n",
        "      <th>1</th>\n",
        "      <td>-3.367593</td>\n",
        "      <td> bar</td>\n",
        "      <td>-0.416725</td>\n",
        "    </tr>\n",
        "    <tr>\n",
        "      <th>2</th>\n",
        "      <td>-0.093283</td>\n",
        "      <td> foo</td>\n",
        "      <td>-1.089345</td>\n",
        "    </tr>\n",
        "    <tr>\n",
        "      <th>3</th>\n",
        "      <td> 2.123832</td>\n",
        "      <td> bar</td>\n",
        "      <td>-0.048631</td>\n",
        "    </tr>\n",
        "  </tbody>\n",
        "</table>\n",
        "</div>"
       ],
       "metadata": {},
       "output_type": "pyout",
       "prompt_number": 17,
       "text": [
        "          a    b         c\n",
        "0  1.693983  foo -0.715125\n",
        "1 -3.367593  bar -0.416725\n",
        "2 -0.093283  foo -1.089345\n",
        "3  2.123832  bar -0.048631"
       ]
      }
     ],
     "prompt_number": 17
    },
    {
     "cell_type": "code",
     "collapsed": false,
     "input": [
      "df.get_value(2,'c')"
     ],
     "language": "python",
     "metadata": {},
     "outputs": [
      {
       "metadata": {},
       "output_type": "pyout",
       "prompt_number": 18,
       "text": [
        "-1.0893452775020358"
       ]
      }
     ],
     "prompt_number": 18
    },
    {
     "cell_type": "code",
     "collapsed": false,
     "input": [
      "df.ix[2,'c']"
     ],
     "language": "python",
     "metadata": {},
     "outputs": [
      {
       "metadata": {},
       "output_type": "pyout",
       "prompt_number": 19,
       "text": [
        "-1.0893452775020358"
       ]
      }
     ],
     "prompt_number": 19
    },
    {
     "cell_type": "code",
     "collapsed": false,
     "input": [
      "df = DataFrame( {'a' : np.random.randn(6),\n",
      "                 'b' : ['foo','bar'] * 3,\n",
      "                 'c' : np.random.randn(6)},\n",
      "               index = pd.DateRange('2014/01/27', periods=6),\n",
      "               columns=['a','b','c','d'])\n",
      "df"
     ],
     "language": "python",
     "metadata": {},
     "outputs": [
      {
       "output_type": "stream",
       "stream": "stderr",
       "text": [
        "C:\\Users\\ely\\Anaconda\\lib\\site-packages\\pandas\\core\\daterange.py:23: FutureWarning: DateRange is deprecated, use DatetimeIndex instead\n",
        "  FutureWarning)\n"
       ]
      },
      {
       "html": [
        "<div style=\"max-height:1000px;max-width:1500px;overflow:auto;\">\n",
        "<table border=\"1\" class=\"dataframe\">\n",
        "  <thead>\n",
        "    <tr style=\"text-align: right;\">\n",
        "      <th></th>\n",
        "      <th>a</th>\n",
        "      <th>b</th>\n",
        "      <th>c</th>\n",
        "      <th>d</th>\n",
        "    </tr>\n",
        "  </thead>\n",
        "  <tbody>\n",
        "    <tr>\n",
        "      <th>2014-01-27</th>\n",
        "      <td> 0.895110</td>\n",
        "      <td> foo</td>\n",
        "      <td> 0.491773</td>\n",
        "      <td> NaN</td>\n",
        "    </tr>\n",
        "    <tr>\n",
        "      <th>2014-01-28</th>\n",
        "      <td> 1.759403</td>\n",
        "      <td> bar</td>\n",
        "      <td> 1.164454</td>\n",
        "      <td> NaN</td>\n",
        "    </tr>\n",
        "    <tr>\n",
        "      <th>2014-01-29</th>\n",
        "      <td> 1.594168</td>\n",
        "      <td> foo</td>\n",
        "      <td> 1.316043</td>\n",
        "      <td> NaN</td>\n",
        "    </tr>\n",
        "    <tr>\n",
        "      <th>2014-01-30</th>\n",
        "      <td> 2.142175</td>\n",
        "      <td> bar</td>\n",
        "      <td> 0.913206</td>\n",
        "      <td> NaN</td>\n",
        "    </tr>\n",
        "    <tr>\n",
        "      <th>2014-01-31</th>\n",
        "      <td>-0.100044</td>\n",
        "      <td> foo</td>\n",
        "      <td> 0.077339</td>\n",
        "      <td> NaN</td>\n",
        "    </tr>\n",
        "    <tr>\n",
        "      <th>2014-02-03</th>\n",
        "      <td> 0.530062</td>\n",
        "      <td> bar</td>\n",
        "      <td>-1.422455</td>\n",
        "      <td> NaN</td>\n",
        "    </tr>\n",
        "  </tbody>\n",
        "</table>\n",
        "</div>"
       ],
       "metadata": {},
       "output_type": "pyout",
       "prompt_number": 20,
       "text": [
        "                   a    b         c    d\n",
        "2014-01-27  0.895110  foo  0.491773  NaN\n",
        "2014-01-28  1.759403  bar  1.164454  NaN\n",
        "2014-01-29  1.594168  foo  1.316043  NaN\n",
        "2014-01-30  2.142175  bar  0.913206  NaN\n",
        "2014-01-31 -0.100044  foo  0.077339  NaN\n",
        "2014-02-03  0.530062  bar -1.422455  NaN"
       ]
      }
     ],
     "prompt_number": 20
    },
    {
     "cell_type": "heading",
     "level": 4,
     "metadata": {},
     "source": [
      "Creation from nested dicts "
     ]
    },
    {
     "cell_type": "code",
     "collapsed": false,
     "input": [
      "data = {}\n",
      "for col in ['foo', 'bar', 'baz']:\n",
      "    for row in ['a', 'b', 'c', 'd']:\n",
      "        data.setdefault(col, {})[row] = randn()\n",
      "data\n",
      "        "
     ],
     "language": "python",
     "metadata": {},
     "outputs": [
      {
       "metadata": {},
       "output_type": "pyout",
       "prompt_number": 21,
       "text": [
        "{'bar': {'a': 0.5572216191204482,\n",
        "  'b': -0.3546353669229971,\n",
        "  'c': -0.9961721497279337,\n",
        "  'd': 0.3259635824198516},\n",
        " 'baz': {'a': 0.9549456458552916,\n",
        "  'b': 0.48684842447173476,\n",
        "  'c': 0.955842169244165,\n",
        "  'd': -1.0930233537536695},\n",
        " 'foo': {'a': -1.2089633774531372,\n",
        "  'b': 0.11222149662723824,\n",
        "  'c': 1.2801987958159522,\n",
        "  'd': -0.09240820356070525}}"
       ]
      }
     ],
     "prompt_number": 21
    },
    {
     "cell_type": "code",
     "collapsed": false,
     "input": [
      "DataFrame(data)"
     ],
     "language": "python",
     "metadata": {},
     "outputs": [
      {
       "html": [
        "<div style=\"max-height:1000px;max-width:1500px;overflow:auto;\">\n",
        "<table border=\"1\" class=\"dataframe\">\n",
        "  <thead>\n",
        "    <tr style=\"text-align: right;\">\n",
        "      <th></th>\n",
        "      <th>bar</th>\n",
        "      <th>baz</th>\n",
        "      <th>foo</th>\n",
        "    </tr>\n",
        "  </thead>\n",
        "  <tbody>\n",
        "    <tr>\n",
        "      <th>a</th>\n",
        "      <td> 0.557222</td>\n",
        "      <td> 0.954946</td>\n",
        "      <td>-1.208963</td>\n",
        "    </tr>\n",
        "    <tr>\n",
        "      <th>b</th>\n",
        "      <td>-0.354635</td>\n",
        "      <td> 0.486848</td>\n",
        "      <td> 0.112221</td>\n",
        "    </tr>\n",
        "    <tr>\n",
        "      <th>c</th>\n",
        "      <td>-0.996172</td>\n",
        "      <td> 0.955842</td>\n",
        "      <td> 1.280199</td>\n",
        "    </tr>\n",
        "    <tr>\n",
        "      <th>d</th>\n",
        "      <td> 0.325964</td>\n",
        "      <td>-1.093023</td>\n",
        "      <td>-0.092408</td>\n",
        "    </tr>\n",
        "  </tbody>\n",
        "</table>\n",
        "</div>"
       ],
       "metadata": {},
       "output_type": "pyout",
       "prompt_number": 22,
       "text": [
        "        bar       baz       foo\n",
        "a  0.557222  0.954946 -1.208963\n",
        "b -0.354635  0.486848  0.112221\n",
        "c -0.996172  0.955842  1.280199\n",
        "d  0.325964 -1.093023 -0.092408"
       ]
      }
     ],
     "prompt_number": 22
    },
    {
     "cell_type": "code",
     "collapsed": false,
     "input": [
      "data"
     ],
     "language": "python",
     "metadata": {},
     "outputs": [
      {
       "metadata": {},
       "output_type": "pyout",
       "prompt_number": 23,
       "text": [
        "{'bar': {'a': 0.5572216191204482,\n",
        "  'b': -0.3546353669229971,\n",
        "  'c': -0.9961721497279337,\n",
        "  'd': 0.3259635824198516},\n",
        " 'baz': {'a': 0.9549456458552916,\n",
        "  'b': 0.48684842447173476,\n",
        "  'c': 0.955842169244165,\n",
        "  'd': -1.0930233537536695},\n",
        " 'foo': {'a': -1.2089633774531372,\n",
        "  'b': 0.11222149662723824,\n",
        "  'c': 1.2801987958159522,\n",
        "  'd': -0.09240820356070525}}"
       ]
      }
     ],
     "prompt_number": 23
    },
    {
     "cell_type": "code",
     "collapsed": false,
     "input": [
      "close_px = read_csv('stock_data.csv', index_col=0, parse_dates=True)"
     ],
     "language": "python",
     "metadata": {},
     "outputs": [],
     "prompt_number": 24
    },
    {
     "cell_type": "code",
     "collapsed": false,
     "input": [
      "close_px"
     ],
     "language": "python",
     "metadata": {},
     "outputs": [
      {
       "html": [
        "<pre>\n",
        "&lt;class 'pandas.core.frame.DataFrame'&gt;\n",
        "DatetimeIndex: 1572 entries, 2007-10-29 00:00:00 to 2014-01-27 00:00:00\n",
        "Data columns (total 8 columns):\n",
        "AA      1572  non-null values\n",
        "AAPL    1572  non-null values\n",
        "GE      1572  non-null values\n",
        "IBM     1572  non-null values\n",
        "JNJ     1572  non-null values\n",
        "MSFT    1572  non-null values\n",
        "PEP     1572  non-null values\n",
        "XOM     1572  non-null values\n",
        "dtypes: float64(8)\n",
        "</pre>"
       ],
       "metadata": {},
       "output_type": "pyout",
       "prompt_number": 25,
       "text": [
        "<class 'pandas.core.frame.DataFrame'>\n",
        "DatetimeIndex: 1572 entries, 2007-10-29 00:00:00 to 2014-01-27 00:00:00\n",
        "Data columns (total 8 columns):\n",
        "AA      1572  non-null values\n",
        "AAPL    1572  non-null values\n",
        "GE      1572  non-null values\n",
        "IBM     1572  non-null values\n",
        "JNJ     1572  non-null values\n",
        "MSFT    1572  non-null values\n",
        "PEP     1572  non-null values\n",
        "XOM     1572  non-null values\n",
        "dtypes: float64(8)"
       ]
      }
     ],
     "prompt_number": 25
    },
    {
     "cell_type": "code",
     "collapsed": false,
     "input": [
      "close_px.head()"
     ],
     "language": "python",
     "metadata": {},
     "outputs": [
      {
       "html": [
        "<div style=\"max-height:1000px;max-width:1500px;overflow:auto;\">\n",
        "<table border=\"1\" class=\"dataframe\">\n",
        "  <thead>\n",
        "    <tr style=\"text-align: right;\">\n",
        "      <th></th>\n",
        "      <th>AA</th>\n",
        "      <th>AAPL</th>\n",
        "      <th>GE</th>\n",
        "      <th>IBM</th>\n",
        "      <th>JNJ</th>\n",
        "      <th>MSFT</th>\n",
        "      <th>PEP</th>\n",
        "      <th>XOM</th>\n",
        "    </tr>\n",
        "  </thead>\n",
        "  <tbody>\n",
        "    <tr>\n",
        "      <th>2007-10-29</th>\n",
        "      <td> 40.43</td>\n",
        "      <td> 185.09</td>\n",
        "      <td> 40.56</td>\n",
        "      <td> 114.80</td>\n",
        "      <td> 64.98</td>\n",
        "      <td> 34.57</td>\n",
        "      <td> 73.70</td>\n",
        "      <td> 93.61</td>\n",
        "    </tr>\n",
        "    <tr>\n",
        "      <th>2007-10-30</th>\n",
        "      <td> 39.37</td>\n",
        "      <td> 187.00</td>\n",
        "      <td> 40.48</td>\n",
        "      <td> 114.12</td>\n",
        "      <td> 64.82</td>\n",
        "      <td> 35.57</td>\n",
        "      <td> 73.84</td>\n",
        "      <td> 91.14</td>\n",
        "    </tr>\n",
        "    <tr>\n",
        "      <th>2007-10-31</th>\n",
        "      <td> 39.59</td>\n",
        "      <td> 189.95</td>\n",
        "      <td> 41.16</td>\n",
        "      <td> 116.12</td>\n",
        "      <td> 65.17</td>\n",
        "      <td> 36.81</td>\n",
        "      <td> 73.72</td>\n",
        "      <td> 91.99</td>\n",
        "    </tr>\n",
        "    <tr>\n",
        "      <th>2007-11-01</th>\n",
        "      <td> 37.90</td>\n",
        "      <td> 187.44</td>\n",
        "      <td> 40.34</td>\n",
        "      <td> 113.65</td>\n",
        "      <td> 64.66</td>\n",
        "      <td> 37.06</td>\n",
        "      <td> 72.39</td>\n",
        "      <td> 88.50</td>\n",
        "    </tr>\n",
        "    <tr>\n",
        "      <th>2007-11-02</th>\n",
        "      <td> 38.56</td>\n",
        "      <td> 187.87</td>\n",
        "      <td> 40.33</td>\n",
        "      <td> 114.59</td>\n",
        "      <td> 64.78</td>\n",
        "      <td> 37.06</td>\n",
        "      <td> 72.98</td>\n",
        "      <td> 87.93</td>\n",
        "    </tr>\n",
        "  </tbody>\n",
        "</table>\n",
        "</div>"
       ],
       "metadata": {},
       "output_type": "pyout",
       "prompt_number": 26,
       "text": [
        "               AA    AAPL     GE     IBM    JNJ   MSFT    PEP    XOM\n",
        "2007-10-29  40.43  185.09  40.56  114.80  64.98  34.57  73.70  93.61\n",
        "2007-10-30  39.37  187.00  40.48  114.12  64.82  35.57  73.84  91.14\n",
        "2007-10-31  39.59  189.95  41.16  116.12  65.17  36.81  73.72  91.99\n",
        "2007-11-01  37.90  187.44  40.34  113.65  64.66  37.06  72.39  88.50\n",
        "2007-11-02  38.56  187.87  40.33  114.59  64.78  37.06  72.98  87.93"
       ]
      }
     ],
     "prompt_number": 26
    },
    {
     "cell_type": "code",
     "collapsed": false,
     "input": [
      "s1 = close_px['AAPL'][-20:]\n",
      "s2 = close_px['AAPL'][-25:-10]\n",
      "side_by_side(s1,s2)"
     ],
     "language": "python",
     "metadata": {},
     "outputs": [
      {
       "output_type": "stream",
       "stream": "stdout",
       "text": [
        "2013-12-27    560.09          2013-12-19    544.46      \n",
        "2013-12-30    554.52          2013-12-20    549.02      \n",
        "2013-12-31    561.02          2013-12-23    570.09      \n",
        "2014-01-02    553.13          2013-12-24    567.67      \n",
        "2014-01-03    540.98          2013-12-26    563.90      \n",
        "2014-01-06    543.93          2013-12-27    560.09      \n",
        "2014-01-07    540.04          2013-12-30    554.52      \n",
        "2014-01-08    543.46          2013-12-31    561.02      \n",
        "2014-01-09    536.52          2014-01-02    553.13      \n",
        "2014-01-10    532.94          2014-01-03    540.98      \n",
        "2014-01-13    535.73          2014-01-06    543.93      \n",
        "2014-01-14    546.39          2014-01-07    540.04      \n",
        "2014-01-15    557.36          2014-01-08    543.46      \n",
        "2014-01-16    554.25          2014-01-09    536.52      \n",
        "2014-01-17    540.67          2014-01-10    532.94      \n",
        "2014-01-21    549.07          Name: AAPL, dtype: float64\n",
        "2014-01-22    551.51                                    \n",
        "2014-01-23    556.18                                    \n",
        "2014-01-24    546.07                                    \n",
        "2014-01-27    550.50                                    \n",
        "Name: AAPL, dtype: float64                              \n"
       ]
      }
     ],
     "prompt_number": 27
    },
    {
     "cell_type": "code",
     "collapsed": false,
     "input": [
      "side_by_side(s1.ix[s1.index+s2.index], s2.ix[s1.index+s2.index])"
     ],
     "language": "python",
     "metadata": {},
     "outputs": [
      {
       "output_type": "stream",
       "stream": "stdout",
       "text": [
        "2013-12-19       NaN          2013-12-19    544.46      \n",
        "2013-12-20       NaN          2013-12-20    549.02      \n",
        "2013-12-23       NaN          2013-12-23    570.09      \n",
        "2013-12-24       NaN          2013-12-24    567.67      \n",
        "2013-12-26       NaN          2013-12-26    563.90      \n",
        "2013-12-27    560.09          2013-12-27    560.09      \n",
        "2013-12-30    554.52          2013-12-30    554.52      \n",
        "2013-12-31    561.02          2013-12-31    561.02      \n",
        "2014-01-02    553.13          2014-01-02    553.13      \n",
        "2014-01-03    540.98          2014-01-03    540.98      \n",
        "2014-01-06    543.93          2014-01-06    543.93      \n",
        "2014-01-07    540.04          2014-01-07    540.04      \n",
        "2014-01-08    543.46          2014-01-08    543.46      \n",
        "2014-01-09    536.52          2014-01-09    536.52      \n",
        "2014-01-10    532.94          2014-01-10    532.94      \n",
        "2014-01-13    535.73          2014-01-13       NaN      \n",
        "2014-01-14    546.39          2014-01-14       NaN      \n",
        "2014-01-15    557.36          2014-01-15       NaN      \n",
        "2014-01-16    554.25          2014-01-16       NaN      \n",
        "2014-01-17    540.67          2014-01-17       NaN      \n",
        "2014-01-21    549.07          2014-01-21       NaN      \n",
        "2014-01-22    551.51          2014-01-22       NaN      \n",
        "2014-01-23    556.18          2014-01-23       NaN      \n",
        "2014-01-24    546.07          2014-01-24       NaN      \n",
        "2014-01-27    550.50          2014-01-27       NaN      \n",
        "Name: AAPL, dtype: float64    Name: AAPL, dtype: float64\n"
       ]
      }
     ],
     "prompt_number": 28
    },
    {
     "cell_type": "code",
     "collapsed": false,
     "input": [
      "s1 + s2"
     ],
     "language": "python",
     "metadata": {},
     "outputs": [
      {
       "metadata": {},
       "output_type": "pyout",
       "prompt_number": 29,
       "text": [
        "2013-12-19        NaN\n",
        "2013-12-20        NaN\n",
        "2013-12-23        NaN\n",
        "2013-12-24        NaN\n",
        "2013-12-26        NaN\n",
        "2013-12-27    1120.18\n",
        "2013-12-30    1109.04\n",
        "2013-12-31    1122.04\n",
        "2014-01-02    1106.26\n",
        "2014-01-03    1081.96\n",
        "2014-01-06    1087.86\n",
        "2014-01-07    1080.08\n",
        "2014-01-08    1086.92\n",
        "2014-01-09    1073.04\n",
        "2014-01-10    1065.88\n",
        "2014-01-13        NaN\n",
        "2014-01-14        NaN\n",
        "2014-01-15        NaN\n",
        "2014-01-16        NaN\n",
        "2014-01-17        NaN\n",
        "2014-01-21        NaN\n",
        "2014-01-22        NaN\n",
        "2014-01-23        NaN\n",
        "2014-01-24        NaN\n",
        "2014-01-27        NaN\n",
        "Name: AAPL, dtype: float64"
       ]
      }
     ],
     "prompt_number": 29
    },
    {
     "cell_type": "code",
     "collapsed": false,
     "input": [
      "s1.reindex(s2.index, fill_value=0)"
     ],
     "language": "python",
     "metadata": {},
     "outputs": [
      {
       "metadata": {},
       "output_type": "pyout",
       "prompt_number": 30,
       "text": [
        "2013-12-19      0.00\n",
        "2013-12-20      0.00\n",
        "2013-12-23      0.00\n",
        "2013-12-24      0.00\n",
        "2013-12-26      0.00\n",
        "2013-12-27    560.09\n",
        "2013-12-30    554.52\n",
        "2013-12-31    561.02\n",
        "2014-01-02    553.13\n",
        "2014-01-03    540.98\n",
        "2014-01-06    543.93\n",
        "2014-01-07    540.04\n",
        "2014-01-08    543.46\n",
        "2014-01-09    536.52\n",
        "2014-01-10    532.94\n",
        "Name: AAPL, dtype: float64"
       ]
      }
     ],
     "prompt_number": 30
    },
    {
     "cell_type": "code",
     "collapsed": false,
     "input": [
      "# remove NaN values\n",
      "(s1 + s2).dropna()"
     ],
     "language": "python",
     "metadata": {},
     "outputs": [
      {
       "metadata": {},
       "output_type": "pyout",
       "prompt_number": 31,
       "text": [
        "2013-12-27    1120.18\n",
        "2013-12-30    1109.04\n",
        "2013-12-31    1122.04\n",
        "2014-01-02    1106.26\n",
        "2014-01-03    1081.96\n",
        "2014-01-06    1087.86\n",
        "2014-01-07    1080.08\n",
        "2014-01-08    1086.92\n",
        "2014-01-09    1073.04\n",
        "2014-01-10    1065.88\n",
        "Name: AAPL, dtype: float64"
       ]
      }
     ],
     "prompt_number": 31
    },
    {
     "cell_type": "code",
     "collapsed": false,
     "input": [
      "# use the value 0 instead of NaN for missing values\n",
      "s1.add(s2, fill_value=0)"
     ],
     "language": "python",
     "metadata": {},
     "outputs": [
      {
       "metadata": {},
       "output_type": "pyout",
       "prompt_number": 32,
       "text": [
        "2013-12-19     544.46\n",
        "2013-12-20     549.02\n",
        "2013-12-23     570.09\n",
        "2013-12-24     567.67\n",
        "2013-12-26     563.90\n",
        "2013-12-27    1120.18\n",
        "2013-12-30    1109.04\n",
        "2013-12-31    1122.04\n",
        "2014-01-02    1106.26\n",
        "2014-01-03    1081.96\n",
        "2014-01-06    1087.86\n",
        "2014-01-07    1080.08\n",
        "2014-01-08    1086.92\n",
        "2014-01-09    1073.04\n",
        "2014-01-10    1065.88\n",
        "2014-01-13     535.73\n",
        "2014-01-14     546.39\n",
        "2014-01-15     557.36\n",
        "2014-01-16     554.25\n",
        "2014-01-17     540.67\n",
        "2014-01-21     549.07\n",
        "2014-01-22     551.51\n",
        "2014-01-23     556.18\n",
        "2014-01-24     546.07\n",
        "2014-01-27     550.50\n",
        "Name: AAPL, dtype: float64"
       ]
      }
     ],
     "prompt_number": 32
    },
    {
     "cell_type": "code",
     "collapsed": false,
     "input": [
      "df = close_px.ix[-10:, :3]\n",
      "df"
     ],
     "language": "python",
     "metadata": {},
     "outputs": [
      {
       "html": [
        "<div style=\"max-height:1000px;max-width:1500px;overflow:auto;\">\n",
        "<table border=\"1\" class=\"dataframe\">\n",
        "  <thead>\n",
        "    <tr style=\"text-align: right;\">\n",
        "      <th></th>\n",
        "      <th>AA</th>\n",
        "      <th>AAPL</th>\n",
        "      <th>GE</th>\n",
        "    </tr>\n",
        "  </thead>\n",
        "  <tbody>\n",
        "    <tr>\n",
        "      <th>2014-01-13</th>\n",
        "      <td> 10.10</td>\n",
        "      <td> 535.73</td>\n",
        "      <td> 26.73</td>\n",
        "    </tr>\n",
        "    <tr>\n",
        "      <th>2014-01-14</th>\n",
        "      <td> 10.32</td>\n",
        "      <td> 546.39</td>\n",
        "      <td> 26.97</td>\n",
        "    </tr>\n",
        "    <tr>\n",
        "      <th>2014-01-15</th>\n",
        "      <td> 10.59</td>\n",
        "      <td> 557.36</td>\n",
        "      <td> 27.34</td>\n",
        "    </tr>\n",
        "    <tr>\n",
        "      <th>2014-01-16</th>\n",
        "      <td> 11.04</td>\n",
        "      <td> 554.25</td>\n",
        "      <td> 27.20</td>\n",
        "    </tr>\n",
        "    <tr>\n",
        "      <th>2014-01-17</th>\n",
        "      <td> 11.36</td>\n",
        "      <td> 540.67</td>\n",
        "      <td> 26.58</td>\n",
        "    </tr>\n",
        "    <tr>\n",
        "      <th>2014-01-21</th>\n",
        "      <td> 12.13</td>\n",
        "      <td> 549.07</td>\n",
        "      <td> 26.29</td>\n",
        "    </tr>\n",
        "    <tr>\n",
        "      <th>2014-01-22</th>\n",
        "      <td> 12.22</td>\n",
        "      <td> 551.51</td>\n",
        "      <td> 25.99</td>\n",
        "    </tr>\n",
        "    <tr>\n",
        "      <th>2014-01-23</th>\n",
        "      <td> 12.07</td>\n",
        "      <td> 556.18</td>\n",
        "      <td> 25.82</td>\n",
        "    </tr>\n",
        "    <tr>\n",
        "      <th>2014-01-24</th>\n",
        "      <td> 11.44</td>\n",
        "      <td> 546.07</td>\n",
        "      <td> 24.95</td>\n",
        "    </tr>\n",
        "    <tr>\n",
        "      <th>2014-01-27</th>\n",
        "      <td> 11.64</td>\n",
        "      <td> 550.50</td>\n",
        "      <td> 25.07</td>\n",
        "    </tr>\n",
        "  </tbody>\n",
        "</table>\n",
        "</div>"
       ],
       "metadata": {},
       "output_type": "pyout",
       "prompt_number": 33,
       "text": [
        "               AA    AAPL     GE\n",
        "2014-01-13  10.10  535.73  26.73\n",
        "2014-01-14  10.32  546.39  26.97\n",
        "2014-01-15  10.59  557.36  27.34\n",
        "2014-01-16  11.04  554.25  27.20\n",
        "2014-01-17  11.36  540.67  26.58\n",
        "2014-01-21  12.13  549.07  26.29\n",
        "2014-01-22  12.22  551.51  25.99\n",
        "2014-01-23  12.07  556.18  25.82\n",
        "2014-01-24  11.44  546.07  24.95\n",
        "2014-01-27  11.64  550.50  25.07"
       ]
      }
     ],
     "prompt_number": 33
    },
    {
     "cell_type": "code",
     "collapsed": false,
     "input": [
      "b, c = s1.align(s2, join='outer', fill_value=0)\n",
      "side_by_side(b, c)"
     ],
     "language": "python",
     "metadata": {},
     "outputs": [
      {
       "output_type": "stream",
       "stream": "stdout",
       "text": [
        "2013-12-19      0.00          2013-12-19    544.46      \n",
        "2013-12-20      0.00          2013-12-20    549.02      \n",
        "2013-12-23      0.00          2013-12-23    570.09      \n",
        "2013-12-24      0.00          2013-12-24    567.67      \n",
        "2013-12-26      0.00          2013-12-26    563.90      \n",
        "2013-12-27    560.09          2013-12-27    560.09      \n",
        "2013-12-30    554.52          2013-12-30    554.52      \n",
        "2013-12-31    561.02          2013-12-31    561.02      \n",
        "2014-01-02    553.13          2014-01-02    553.13      \n",
        "2014-01-03    540.98          2014-01-03    540.98      \n",
        "2014-01-06    543.93          2014-01-06    543.93      \n",
        "2014-01-07    540.04          2014-01-07    540.04      \n",
        "2014-01-08    543.46          2014-01-08    543.46      \n",
        "2014-01-09    536.52          2014-01-09    536.52      \n",
        "2014-01-10    532.94          2014-01-10    532.94      \n",
        "2014-01-13    535.73          2014-01-13      0.00      \n",
        "2014-01-14    546.39          2014-01-14      0.00      \n",
        "2014-01-15    557.36          2014-01-15      0.00      \n",
        "2014-01-16    554.25          2014-01-16      0.00      \n",
        "2014-01-17    540.67          2014-01-17      0.00      \n",
        "2014-01-21    549.07          2014-01-21      0.00      \n",
        "2014-01-22    551.51          2014-01-22      0.00      \n",
        "2014-01-23    556.18          2014-01-23      0.00      \n",
        "2014-01-24    546.07          2014-01-24      0.00      \n",
        "2014-01-27    550.50          2014-01-27      0.00      \n",
        "Name: AAPL, dtype: float64    Name: AAPL, dtype: float64\n"
       ]
      }
     ],
     "prompt_number": 34
    },
    {
     "cell_type": "code",
     "collapsed": false,
     "input": [
      "con = pyodbc.connect('DSN=LocalMySQL;DATABASE=cemex;UID=ely;PWD=eliyet')"
     ],
     "language": "python",
     "metadata": {},
     "outputs": [],
     "prompt_number": 50
    },
    {
     "cell_type": "code",
     "collapsed": false,
     "input": [
      "cur = con.cursor()\n",
      "cur.execute('Select * from prpms')"
     ],
     "language": "python",
     "metadata": {},
     "outputs": [
      {
       "metadata": {},
       "output_type": "pyout",
       "prompt_number": 51,
       "text": [
        "<pyodbc.Cursor at 0x791b1a8>"
       ]
      }
     ],
     "prompt_number": 51
    },
    {
     "cell_type": "code",
     "collapsed": false,
     "input": [
      "cur.description"
     ],
     "language": "python",
     "metadata": {},
     "outputs": [
      {
       "metadata": {},
       "output_type": "pyout",
       "prompt_number": 58,
       "text": [
        "(('PRER', str, None, 3, 3, 0, False),\n",
        " ('PREN', str, None, 9, 9, 0, False),\n",
        " ('PRL01', str, None, 5, 5, 0, True),\n",
        " ('PRL02', str, None, 5, 5, 0, True),\n",
        " ('PRL03', str, None, 5, 5, 0, True),\n",
        " ('PRL04', str, None, 5, 5, 0, True),\n",
        " ('PRSS', str, None, 20, 20, 0, True),\n",
        " ('PRLNM', str, None, 18, 18, 0, True),\n",
        " ('PRFNM', str, None, 18, 18, 0, True),\n",
        " ('PRMNM', str, None, 18, 18, 0, True),\n",
        " ('PRINIT', str, None, 8, 8, 0, True),\n",
        " ('PRNTIT', str, None, 4, 4, 0, True),\n",
        " ('PRCNM', str, None, 39, 39, 0, True),\n",
        " ('PRCKNM', str, None, 39, 39, 0, True),\n",
        " ('PRSTR1', str, None, 30, 30, 0, True),\n",
        " ('PRSTR2', str, None, 30, 30, 0, True),\n",
        " ('PRSTR3', str, None, 30, 30, 0, True),\n",
        " ('PRCTY1', str, None, 30, 30, 0, True),\n",
        " ('PRZIP1', str, None, 10, 10, 0, True),\n",
        " ('PRCTR1', str, None, 3, 3, 0, True),\n",
        " ('PRTL1', str, None, 19, 19, 0, True),\n",
        " ('PRDOBH', decimal.Decimal, None, 6, 6, 0, True),\n",
        " ('PRDOBE', str, None, 10, 10, 0, True),\n",
        " ('PRDOB8', decimal.Decimal, None, 8, 8, 0, True),\n",
        " ('PRDOBM', decimal.Decimal, None, 4, 4, 0, True),\n",
        " ('PRDOBY', decimal.Decimal, None, 4, 4, 0, True),\n",
        " ('PRSEX', str, None, 1, 1, 0, True),\n",
        " ('PRETH', str, None, 1, 1, 0, True),\n",
        " ('PREDU', str, None, 5, 5, 0, True),\n",
        " ('PRMAIL', str, None, 5, 5, 0, True),\n",
        " ('PRCLN', decimal.Decimal, None, 6, 6, 0, True),\n",
        " ('PROFF', str, None, 12, 12, 0, True),\n",
        " ('PRHIRE', str, None, 5, 5, 0, True),\n",
        " ('PRDOHH', decimal.Decimal, None, 6, 6, 0, True),\n",
        " ('PRDOHE', str, None, 10, 10, 0, True),\n",
        " ('PRDOH8', decimal.Decimal, None, 8, 8, 0, True),\n",
        " ('PRDOHM', decimal.Decimal, None, 4, 4, 0, True),\n",
        " ('PRDOHY', decimal.Decimal, None, 4, 4, 0, True),\n",
        " ('PRDHAH', decimal.Decimal, None, 6, 6, 0, True),\n",
        " ('PRDHAE', str, None, 10, 10, 0, True),\n",
        " ('PRDHA8', decimal.Decimal, None, 8, 8, 0, True),\n",
        " ('PRDAHM', decimal.Decimal, None, 4, 4, 0, True),\n",
        " ('PRDAHY', decimal.Decimal, None, 4, 4, 0, True),\n",
        " ('PREEO', str, None, 5, 5, 0, True),\n",
        " ('PRPRMT', str, None, 1, 1, 0, True),\n",
        " ('PRCLA', str, None, 5, 5, 0, True),\n",
        " ('PRSTAT', str, None, 5, 5, 0, True),\n",
        " ('PRLOC', str, None, 5, 5, 0, True),\n",
        " ('PRSEC', str, None, 5, 5, 0, True),\n",
        " ('PRLANG', str, None, 5, 5, 0, True),\n",
        " ('PRLAC', str, None, 5, 5, 0, True),\n",
        " ('PRPOS', str, None, 6, 6, 0, True),\n",
        " ('PRJOB1', str, None, 5, 5, 0, True),\n",
        " ('PRJOB2', str, None, 5, 5, 0, True),\n",
        " ('PRJOB3', str, None, 5, 5, 0, True),\n",
        " ('PRSR1H', decimal.Decimal, None, 6, 6, 0, True),\n",
        " ('PRSR1E', str, None, 10, 10, 0, True),\n",
        " ('PRSR18', decimal.Decimal, None, 8, 8, 0, True),\n",
        " ('PRSR2H', decimal.Decimal, None, 6, 6, 0, True),\n",
        " ('PRSR2E', str, None, 10, 10, 0, True),\n",
        " ('PRSR28', decimal.Decimal, None, 8, 8, 0, True),\n",
        " ('PRSR3H', decimal.Decimal, None, 6, 6, 0, True),\n",
        " ('PRSR3E', str, None, 10, 10, 0, True),\n",
        " ('PRSR38', decimal.Decimal, None, 8, 8, 0, True),\n",
        " ('PRTITL', str, None, 30, 30, 0, True),\n",
        " ('PRSFT', decimal.Decimal, None, 1, 1, 0, True),\n",
        " ('PRWCC', str, None, 5, 5, 0, True),\n",
        " ('PRWCN', str, None, 11, 11, 0, True),\n",
        " ('PRRPP', str, None, 1, 1, 0, True),\n",
        " ('PRBEN', str, None, 5, 5, 0, True),\n",
        " ('PRBNDH', decimal.Decimal, None, 6, 6, 0, True),\n",
        " ('PRBNDE', str, None, 10, 10, 0, True),\n",
        " ('PRBND8', decimal.Decimal, None, 8, 8, 0, True),\n",
        " ('PRUCD', str, None, 5, 5, 0, True),\n",
        " ('PRUID', str, None, 10, 10, 0, True),\n",
        " ('PRLVC', str, None, 5, 5, 0, True),\n",
        " ('PRLVDH', decimal.Decimal, None, 6, 6, 0, True),\n",
        " ('PRLVDE', str, None, 10, 10, 0, True),\n",
        " ('PRLVD8', decimal.Decimal, None, 8, 8, 0, True),\n",
        " ('PRRLVH', decimal.Decimal, None, 6, 6, 0, True),\n",
        " ('PRRLVE', str, None, 10, 10, 0, True),\n",
        " ('PRRLV8', decimal.Decimal, None, 8, 8, 0, True),\n",
        " ('PRLBRK', str, None, 3, 3, 0, True),\n",
        " ('PRTEC', str, None, 5, 5, 0, True),\n",
        " ('PRTEDH', decimal.Decimal, None, 6, 6, 0, True),\n",
        " ('PRTEDE', str, None, 10, 10, 0, True),\n",
        " ('PRTED8', decimal.Decimal, None, 8, 8, 0, True),\n",
        " ('PRPURG', str, None, 1, 1, 0, True),\n",
        " ('PRREC', str, None, 5, 5, 0, True),\n",
        " ('PRREHH', decimal.Decimal, None, 6, 6, 0, True),\n",
        " ('PRREHE', str, None, 10, 10, 0, True),\n",
        " ('PRREH8', decimal.Decimal, None, 8, 8, 0, True),\n",
        " ('PRRHR', decimal.Decimal, None, 5, 5, 2, True),\n",
        " ('PRINF', str, None, 2, 2, 0, True),\n",
        " ('PRSRG', str, None, 5, 5, 0, True),\n",
        " ('PRBRT', decimal.Decimal, None, 14, 14, 4, True),\n",
        " ('PRANNR', decimal.Decimal, None, 14, 14, 4, True),\n",
        " ('PRCUR', str, None, 3, 3, 0, True),\n",
        " ('PRPAY', str, None, 1, 1, 0, True),\n",
        " ('PRBRTF', str, None, 2, 2, 0, True),\n",
        " ('PRPGR', str, None, 5, 5, 0, True),\n",
        " ('PRPSTA', str, None, 5, 5, 0, True),\n",
        " ('PRSCHH', decimal.Decimal, None, 6, 6, 0, True),\n",
        " ('PRSCHE', str, None, 10, 10, 0, True),\n",
        " ('PRSCH8', decimal.Decimal, None, 8, 8, 0, True),\n",
        " ('PRPR', decimal.Decimal, None, 14, 14, 4, True),\n",
        " ('PRLRCH', decimal.Decimal, None, 6, 6, 0, True),\n",
        " ('PRLRCE', str, None, 10, 10, 0, True),\n",
        " ('PRLRC8', decimal.Decimal, None, 8, 8, 0, True),\n",
        " ('PRLAMT', decimal.Decimal, None, 14, 14, 4, True),\n",
        " ('PRLPER', decimal.Decimal, None, 7, 7, 4, True),\n",
        " ('PRTSEQ', decimal.Decimal, None, 4, 4, 0, True),\n",
        " ('PRRSN', str, None, 5, 5, 0, True),\n",
        " ('PRPRAT', str, None, 5, 5, 0, True),\n",
        " ('PRNRVH', decimal.Decimal, None, 6, 6, 0, True),\n",
        " ('PRNRVE', str, None, 10, 10, 0, True),\n",
        " ('PRNRV8', decimal.Decimal, None, 8, 8, 0, True),\n",
        " ('PRNRVT', str, None, 5, 5, 0, True),\n",
        " ('PREFFH', decimal.Decimal, None, 6, 6, 0, True),\n",
        " ('PREFFE', str, None, 10, 10, 0, True),\n",
        " ('PREFF8', decimal.Decimal, None, 8, 8, 0, True),\n",
        " ('PROPER', str, None, 10, 10, 0, True),\n",
        " ('PRGP', str, None, 9, 9, 0, True),\n",
        " ('PRRET', decimal.Decimal, None, 4, 4, 2, True),\n",
        " ('PRSGRP', str, None, 1, 1, 0, True),\n",
        " ('PRWSC', decimal.Decimal, None, 7, 7, 4, True),\n",
        " ('PRPLNM', str, None, 18, 18, 0, True),\n",
        " ('PRCOMP', decimal.Decimal, None, 7, 7, 4, True),\n",
        " ('PRWKPH', decimal.Decimal, None, 6, 6, 0, True),\n",
        " ('PRWKPE', str, None, 10, 10, 0, True),\n",
        " ('PRWKP8', decimal.Decimal, None, 8, 8, 0, True),\n",
        " ('PRCNTY', str, None, 5, 5, 0, True),\n",
        " ('PRCOMN', str, None, 20, 20, 0, True),\n",
        " ('PRLDWH', decimal.Decimal, None, 6, 6, 0, True),\n",
        " ('PRLDWE', str, None, 10, 10, 0, True),\n",
        " ('PRLDW8', decimal.Decimal, None, 8, 8, 0, True),\n",
        " ('PRQRTL', decimal.Decimal, None, 1, 1, 0, True),\n",
        " ('PRLAYO', str, None, 1, 1, 0, True),\n",
        " ('PRSTP', decimal.Decimal, None, 2, 2, 0, True),\n",
        " ('PRNSP', decimal.Decimal, None, 2, 2, 0, True),\n",
        " ('PRPROM', str, None, 5, 5, 0, True),\n",
        " ('PRSTPI', str, None, 1, 1, 0, True),\n",
        " ('PRRVSC', decimal.Decimal, None, 5, 5, 2, True),\n",
        " ('PRPGRE', str, None, 10, 10, 0, True),\n",
        " ('PRPGRH', decimal.Decimal, None, 6, 6, 0, True),\n",
        " ('PRPGR8', decimal.Decimal, None, 8, 8, 0, True),\n",
        " ('PRSTPE', str, None, 10, 10, 0, True),\n",
        " ('PRSTPH', decimal.Decimal, None, 6, 6, 0, True),\n",
        " ('PRSTP8', decimal.Decimal, None, 8, 8, 0, True),\n",
        " ('PRNSPE', str, None, 10, 10, 0, True),\n",
        " ('PRNSPH', decimal.Decimal, None, 6, 6, 0, True),\n",
        " ('PRNSP8', decimal.Decimal, None, 8, 8, 0, True),\n",
        " ('PRLSTH', decimal.Decimal, None, 6, 6, 0, True),\n",
        " ('PRLSTE', str, None, 10, 10, 0, True),\n",
        " ('PRLTIM', decimal.Decimal, None, 6, 6, 0, True),\n",
        " ('PRLUSR', str, None, 10, 10, 0, True),\n",
        " ('PRLWRK', str, None, 10, 10, 0, True),\n",
        " ('PRSCHD', str, None, 5, 5, 0, True),\n",
        " ('PRSORR', str, None, 1, 1, 0, True),\n",
        " ('PRTMPP', str, None, 1, 1, 0, True),\n",
        " ('PRFLG1', str, None, 1, 1, 0, True),\n",
        " ('PRTGRP', str, None, 5, 5, 0, True),\n",
        " ('PRAGE', decimal.Decimal, None, 2, 2, 0, True),\n",
        " ('PRLOSY', decimal.Decimal, None, 2, 2, 0, True),\n",
        " ('PRLOSM', decimal.Decimal, None, 2, 2, 0, True),\n",
        " ('PRCRSV', decimal.Decimal, None, 2, 2, 0, True),\n",
        " ('PRRELG', str, None, 1, 1, 0, True),\n",
        " ('PRAINC', str, None, 1, 1, 0, True),\n",
        " ('PROCCN', str, None, 5, 5, 0, True),\n",
        " ('PRPY', str, None, 15, 15, 0, True),\n",
        " ('PRMOBL', str, None, 5, 5, 0, True),\n",
        " ('PRTHRS', decimal.Decimal, None, 5, 5, 2, True),\n",
        " ('PRHEDC', str, None, 1, 1, 0, True),\n",
        " ('PRS2K1', str, None, 1, 1, 0, True),\n",
        " ('PRS2K2', str, None, 1, 1, 0, True),\n",
        " ('PRSHIF', str, None, 2, 2, 0, True),\n",
        " ('PREMAL', str, None, 40, 40, 0, True),\n",
        " ('PRFAX', str, None, 19, 19, 0, True),\n",
        " ('PRCELL', str, None, 19, 19, 0, True),\n",
        " ('PRDEPH', decimal.Decimal, None, 6, 6, 0, True),\n",
        " ('PRDEPE', str, None, 10, 10, 0, True),\n",
        " ('PRDEP8', decimal.Decimal, None, 8, 8, 0, True),\n",
        " ('PRDSGH', decimal.Decimal, None, 6, 6, 0, True),\n",
        " ('PRDSGE', str, None, 10, 10, 0, True),\n",
        " ('PRDSG8', decimal.Decimal, None, 8, 8, 0, True),\n",
        " ('PRLTIT', str, None, 12, 12, 0, True),\n",
        " ('PRANUM', str, None, 4, 4, 0, True),\n",
        " ('PRASUF', str, None, 1, 1, 0, True),\n",
        " ('PRATIT', str, None, 30, 30, 0, True),\n",
        " ('PRCOST', str, None, 36, 36, 0, True),\n",
        " ('PRRTP', str, None, 6, 6, 0, True),\n",
        " ('PRMGRE', str, None, 3, 3, 0, True),\n",
        " ('PRMGR', str, None, 9, 9, 0, True),\n",
        " ('PRMGRN', str, None, 39, 39, 0, True),\n",
        " ('PRLDSC', str, None, 30, 30, 0, True),\n",
        " ('PRTER', str, None, 3, 3, 0, True),\n",
        " ('PRTEN', str, None, 9, 9, 0, True))"
       ]
      }
     ],
     "prompt_number": 58
    },
    {
     "cell_type": "code",
     "collapsed": false,
     "input": [
      "headers = zip(*cur.description)[0]"
     ],
     "language": "python",
     "metadata": {},
     "outputs": [],
     "prompt_number": 60
    },
    {
     "cell_type": "code",
     "collapsed": false,
     "input": [
      "rows = cur.fetchall()\n",
      "df = sql.read_sql(\"select * from prpms where prer='566'\",con)\n",
      "df"
     ],
     "language": "python",
     "metadata": {},
     "outputs": [
      {
       "html": [
        "<pre>\n",
        "&lt;class 'pandas.core.frame.DataFrame'&gt;\n",
        "Int64Index: 37 entries, 0 to 36\n",
        "Columns: 197 entries, PRER to PRTEN\n",
        "dtypes: float64(73), object(124)\n",
        "</pre>"
       ],
       "metadata": {},
       "output_type": "pyout",
       "prompt_number": 64,
       "text": [
        "<class 'pandas.core.frame.DataFrame'>\n",
        "Int64Index: 37 entries, 0 to 36\n",
        "Columns: 197 entries, PRER to PRTEN\n",
        "dtypes: float64(73), object(124)"
       ]
      }
     ],
     "prompt_number": 64
    },
    {
     "cell_type": "code",
     "collapsed": false,
     "input": [
      "resign = df[df.PRTEDH <> 0]\n",
      "print resign.PRCNM"
     ],
     "language": "python",
     "metadata": {},
     "outputs": [
      {
       "output_type": "stream",
       "stream": "stdout",
       "text": [
        "15       FALAR,REMEGIO TIMTIM\n",
        "19    SORONGON,JOY PADERNILLA\n",
        "Name: PRCNM, dtype: object\n"
       ]
      }
     ],
     "prompt_number": 69
    }
   ],
   "metadata": {}
  }
 ]
}