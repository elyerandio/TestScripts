


<!DOCTYPE html>
<html>
  <head prefix="og: http://ogp.me/ns# fb: http://ogp.me/ns/fb# githubog: http://ogp.me/ns/fb/githubog#">
    <meta charset='utf-8'>
    <meta http-equiv="X-UA-Compatible" content="IE=edge">
        <title>pdacookbook/PythonPandasCookbook3.1a.ipynb at master · alfredessa/pdacookbook · GitHub</title>
    <link rel="search" type="application/opensearchdescription+xml" href="/opensearch.xml" title="GitHub" />
    <link rel="fluid-icon" href="https://github.com/fluidicon.png" title="GitHub" />
    <link rel="apple-touch-icon" sizes="57x57" href="/apple-touch-icon-114.png" />
    <link rel="apple-touch-icon" sizes="114x114" href="/apple-touch-icon-114.png" />
    <link rel="apple-touch-icon" sizes="72x72" href="/apple-touch-icon-144.png" />
    <link rel="apple-touch-icon" sizes="144x144" href="/apple-touch-icon-144.png" />
    <link rel="logo" type="image/svg" href="https://github-media-downloads.s3.amazonaws.com/github-logo.svg" />
    <meta property="og:image" content="https://github.global.ssl.fastly.net/images/modules/logos_page/Octocat.png">
    <meta name="hostname" content="github-fe117-cp1-prd.iad.github.net">
    <meta name="ruby" content="ruby 1.9.3p194-tcs-github-tcmalloc (a846054d10) [x86_64-linux]">
    <link rel="assets" href="https://github.global.ssl.fastly.net/">
    <link rel="conduit-xhr" href="https://ghconduit.com:25035/">
    <link rel="xhr-socket" href="/_sockets" />
    


    <meta name="msapplication-TileImage" content="/windows-tile.png" />
    <meta name="msapplication-TileColor" content="#ffffff" />
    <meta name="selected-link" value="repo_source" data-pjax-transient />
    <meta content="collector.githubapp.com" name="octolytics-host" /><meta content="collector-cdn.github.com" name="octolytics-script-host" /><meta content="github" name="octolytics-app-id" /><meta content="7C69ABA3:2C5B:9EEFB82:52CE1189" name="octolytics-dimension-request_id" />
    

    
    
    <link rel="icon" type="image/x-icon" href="/favicon.ico" />

    <meta content="authenticity_token" name="csrf-param" />
<meta content="T4vp5XehkJP3n4WHB6ylmMWBChxZB7WuRpB0fWcs400=" name="csrf-token" />

    <link href="https://github.global.ssl.fastly.net/assets/github-97a08d0c62ded290cae46fd72fc0a38c835777a6.css" media="all" rel="stylesheet" type="text/css" />
    <link href="https://github.global.ssl.fastly.net/assets/github2-e9fa70a28908749635706b3edcc1dad6bfaa378c.css" media="all" rel="stylesheet" type="text/css" />
    

    

      <script src="https://github.global.ssl.fastly.net/assets/frameworks-f864e0f9990e40f4ed2c1c489df6fcb87cdd550c.js" type="text/javascript"></script>
      <script src="https://github.global.ssl.fastly.net/assets/github-8445c06fdba3e483f314fe49bb3fd2316231a3e4.js" type="text/javascript"></script>
      
      <meta http-equiv="x-pjax-version" content="1c98f1cbbcc7c50cd04d54b4f43ffc42">

        <link data-pjax-transient rel='permalink' href='/alfredessa/pdacookbook/blob/cc1ff603dc5468691861d9f8589be45a44c355c6/PythonPandasCookbook3.1a.ipynb'>
  <meta property="og:title" content="pdacookbook"/>
  <meta property="og:type" content="githubog:gitrepository"/>
  <meta property="og:url" content="https://github.com/alfredessa/pdacookbook"/>
  <meta property="og:image" content="https://github.global.ssl.fastly.net/images/gravatars/gravatar-user-420.png"/>
  <meta property="og:site_name" content="GitHub"/>
  <meta property="og:description" content="pdacookbook - Python Pandas Cookbook"/>

  <meta name="description" content="pdacookbook - Python Pandas Cookbook" />

  <meta content="3757284" name="octolytics-dimension-user_id" /><meta content="alfredessa" name="octolytics-dimension-user_login" /><meta content="11933446" name="octolytics-dimension-repository_id" /><meta content="alfredessa/pdacookbook" name="octolytics-dimension-repository_nwo" /><meta content="true" name="octolytics-dimension-repository_public" /><meta content="false" name="octolytics-dimension-repository_is_fork" /><meta content="11933446" name="octolytics-dimension-repository_network_root_id" /><meta content="alfredessa/pdacookbook" name="octolytics-dimension-repository_network_root_nwo" />
  <link href="https://github.com/alfredessa/pdacookbook/commits/master.atom" rel="alternate" title="Recent Commits to pdacookbook:master" type="application/atom+xml" />

  </head>


  <body class="logged_out  env-production windows vis-public page-blob">
    <div class="wrapper">
      
      
      
      


      
      <div class="header header-logged-out">
  <div class="container clearfix">

    <a class="header-logo-wordmark" href="https://github.com/">
      <span class="mega-octicon octicon-logo-github"></span>
    </a>

    <div class="header-actions">
        <a class="button primary" href="/join">Sign up</a>
      <a class="button signin" href="/login?return_to=%2Falfredessa%2Fpdacookbook%2Fblob%2Fmaster%2FPythonPandasCookbook3.1a.ipynb">Sign in</a>
    </div>

    <div class="command-bar js-command-bar  in-repository">

      <ul class="top-nav">
          <li class="explore"><a href="/explore">Explore</a></li>
        <li class="features"><a href="/features">Features</a></li>
          <li class="enterprise"><a href="https://enterprise.github.com/">Enterprise</a></li>
          <li class="blog"><a href="/blog">Blog</a></li>
      </ul>
        <form accept-charset="UTF-8" action="/search" class="command-bar-form" id="top_search_form" method="get">

<input type="text" data-hotkey=" s" name="q" id="js-command-bar-field" placeholder="Search or type a command" tabindex="1" autocapitalize="off"
    
    
      data-repo="alfredessa/pdacookbook"
      data-branch="master"
      data-sha="82681eb755835865e516226ea1fcbb7e1dff274a"
  >

    <input type="hidden" name="nwo" value="alfredessa/pdacookbook" />

    <div class="select-menu js-menu-container js-select-menu search-context-select-menu">
      <span class="minibutton select-menu-button js-menu-target">
        <span class="js-select-button">This repository</span>
      </span>

      <div class="select-menu-modal-holder js-menu-content js-navigation-container">
        <div class="select-menu-modal">

          <div class="select-menu-item js-navigation-item js-this-repository-navigation-item selected">
            <span class="select-menu-item-icon octicon octicon-check"></span>
            <input type="radio" class="js-search-this-repository" name="search_target" value="repository" checked="checked" />
            <div class="select-menu-item-text js-select-button-text">This repository</div>
          </div> <!-- /.select-menu-item -->

          <div class="select-menu-item js-navigation-item js-all-repositories-navigation-item">
            <span class="select-menu-item-icon octicon octicon-check"></span>
            <input type="radio" name="search_target" value="global" />
            <div class="select-menu-item-text js-select-button-text">All repositories</div>
          </div> <!-- /.select-menu-item -->

        </div>
      </div>
    </div>

  <span class="octicon help tooltipped downwards" title="Show command bar help">
    <span class="octicon octicon-question"></span>
  </span>


  <input type="hidden" name="ref" value="cmdform">

</form>
    </div>

  </div>
</div>


      


          <div class="site" itemscope itemtype="http://schema.org/WebPage">
    
    <div class="pagehead repohead instapaper_ignore readability-menu">
      <div class="container">
        

<ul class="pagehead-actions">


  <li>
    <a href="/login?return_to=%2Falfredessa%2Fpdacookbook"
    class="minibutton with-count js-toggler-target star-button tooltipped upwards"
    title="You must be signed in to use this feature" rel="nofollow">
    <span class="octicon octicon-star"></span>Star
  </a>

    <a class="social-count js-social-count" href="/alfredessa/pdacookbook/stargazers">
      0
    </a>

  </li>

    <li>
      <a href="/login?return_to=%2Falfredessa%2Fpdacookbook"
        class="minibutton with-count js-toggler-target fork-button tooltipped upwards"
        title="You must be signed in to fork a repository" rel="nofollow">
        <span class="octicon octicon-git-branch"></span>Fork
      </a>
      <a href="/alfredessa/pdacookbook/network" class="social-count">
        5
      </a>
    </li>
</ul>

        <h1 itemscope itemtype="http://data-vocabulary.org/Breadcrumb" class="entry-title public">
          <span class="repo-label"><span>public</span></span>
          <span class="mega-octicon octicon-repo"></span>
          <span class="author">
            <a href="/alfredessa" class="url fn" itemprop="url" rel="author"><span itemprop="title">alfredessa</span></a>
          </span>
          <span class="repohead-name-divider">/</span>
          <strong><a href="/alfredessa/pdacookbook" class="js-current-repository js-repo-home-link">pdacookbook</a></strong>

          <span class="page-context-loader">
            <img alt="Octocat-spinner-32" height="16" src="https://github.global.ssl.fastly.net/images/spinners/octocat-spinner-32.gif" width="16" />
          </span>

        </h1>
      </div><!-- /.container -->
    </div><!-- /.repohead -->

    <div class="container">
      

      <div class="repository-with-sidebar repo-container  ">

        <div class="repository-sidebar">
            

<div class="sunken-menu vertical-right repo-nav js-repo-nav js-repository-container-pjax js-octicon-loaders">
  <div class="sunken-menu-contents">
    <ul class="sunken-menu-group">
      <li class="tooltipped leftwards" title="Code">
        <a href="/alfredessa/pdacookbook" aria-label="Code" class="selected js-selected-navigation-item sunken-menu-item" data-gotokey="c" data-pjax="true" data-selected-links="repo_source repo_downloads repo_commits repo_tags repo_branches /alfredessa/pdacookbook">
          <span class="octicon octicon-code"></span> <span class="full-word">Code</span>
          <img alt="Octocat-spinner-32" class="mini-loader" height="16" src="https://github.global.ssl.fastly.net/images/spinners/octocat-spinner-32.gif" width="16" />
</a>      </li>

        <li class="tooltipped leftwards" title="Issues">
          <a href="/alfredessa/pdacookbook/issues" aria-label="Issues" class="js-selected-navigation-item sunken-menu-item js-disable-pjax" data-gotokey="i" data-selected-links="repo_issues /alfredessa/pdacookbook/issues">
            <span class="octicon octicon-issue-opened"></span> <span class="full-word">Issues</span>
            <span class='counter'>0</span>
            <img alt="Octocat-spinner-32" class="mini-loader" height="16" src="https://github.global.ssl.fastly.net/images/spinners/octocat-spinner-32.gif" width="16" />
</a>        </li>

      <li class="tooltipped leftwards" title="Pull Requests">
        <a href="/alfredessa/pdacookbook/pulls" aria-label="Pull Requests" class="js-selected-navigation-item sunken-menu-item js-disable-pjax" data-gotokey="p" data-selected-links="repo_pulls /alfredessa/pdacookbook/pulls">
            <span class="octicon octicon-git-pull-request"></span> <span class="full-word">Pull Requests</span>
            <span class='counter'>0</span>
            <img alt="Octocat-spinner-32" class="mini-loader" height="16" src="https://github.global.ssl.fastly.net/images/spinners/octocat-spinner-32.gif" width="16" />
</a>      </li>


    </ul>
    <div class="sunken-menu-separator"></div>
    <ul class="sunken-menu-group">

      <li class="tooltipped leftwards" title="Pulse">
        <a href="/alfredessa/pdacookbook/pulse" aria-label="Pulse" class="js-selected-navigation-item sunken-menu-item" data-pjax="true" data-selected-links="pulse /alfredessa/pdacookbook/pulse">
          <span class="octicon octicon-pulse"></span> <span class="full-word">Pulse</span>
          <img alt="Octocat-spinner-32" class="mini-loader" height="16" src="https://github.global.ssl.fastly.net/images/spinners/octocat-spinner-32.gif" width="16" />
</a>      </li>

      <li class="tooltipped leftwards" title="Graphs">
        <a href="/alfredessa/pdacookbook/graphs" aria-label="Graphs" class="js-selected-navigation-item sunken-menu-item" data-pjax="true" data-selected-links="repo_graphs repo_contributors /alfredessa/pdacookbook/graphs">
          <span class="octicon octicon-graph"></span> <span class="full-word">Graphs</span>
          <img alt="Octocat-spinner-32" class="mini-loader" height="16" src="https://github.global.ssl.fastly.net/images/spinners/octocat-spinner-32.gif" width="16" />
</a>      </li>

      <li class="tooltipped leftwards" title="Network">
        <a href="/alfredessa/pdacookbook/network" aria-label="Network" class="js-selected-navigation-item sunken-menu-item js-disable-pjax" data-selected-links="repo_network /alfredessa/pdacookbook/network">
          <span class="octicon octicon-git-branch"></span> <span class="full-word">Network</span>
          <img alt="Octocat-spinner-32" class="mini-loader" height="16" src="https://github.global.ssl.fastly.net/images/spinners/octocat-spinner-32.gif" width="16" />
</a>      </li>
    </ul>


  </div>
</div>

            <div class="only-with-full-nav">
              

  

<div class="clone-url open"
  data-protocol-type="http"
  data-url="/users/set_protocol?protocol_selector=http&amp;protocol_type=clone">
  <h3><strong>HTTPS</strong> clone URL</h3>
  <div class="clone-url-box">
    <input type="text" class="clone js-url-field"
           value="https://github.com/alfredessa/pdacookbook.git" readonly="readonly">

    <span class="js-zeroclipboard url-box-clippy minibutton zeroclipboard-button" data-clipboard-text="https://github.com/alfredessa/pdacookbook.git" data-copied-hint="copied!" title="copy to clipboard"><span class="octicon octicon-clippy"></span></span>
  </div>
</div>

  

<div class="clone-url "
  data-protocol-type="subversion"
  data-url="/users/set_protocol?protocol_selector=subversion&amp;protocol_type=clone">
  <h3><strong>Subversion</strong> checkout URL</h3>
  <div class="clone-url-box">
    <input type="text" class="clone js-url-field"
           value="https://github.com/alfredessa/pdacookbook" readonly="readonly">

    <span class="js-zeroclipboard url-box-clippy minibutton zeroclipboard-button" data-clipboard-text="https://github.com/alfredessa/pdacookbook" data-copied-hint="copied!" title="copy to clipboard"><span class="octicon octicon-clippy"></span></span>
  </div>
</div>


<p class="clone-options">You can clone with
      <a href="#" class="js-clone-selector" data-protocol="http">HTTPS</a>,
      or <a href="#" class="js-clone-selector" data-protocol="subversion">Subversion</a>.
  <span class="octicon help tooltipped upwards" title="Get help on which URL is right for you.">
    <a href="https://help.github.com/articles/which-remote-url-should-i-use">
    <span class="octicon octicon-question"></span>
    </a>
  </span>
</p>


  <a href="http://windows.github.com" class="minibutton sidebar-button">
    <span class="octicon octicon-device-desktop"></span>
    Clone in Desktop
  </a>

              <a href="/alfredessa/pdacookbook/archive/master.zip"
                 class="minibutton sidebar-button"
                 title="Download this repository as a zip file"
                 rel="nofollow">
                <span class="octicon octicon-cloud-download"></span>
                Download ZIP
              </a>
            </div>
        </div><!-- /.repository-sidebar -->

        <div id="js-repo-pjax-container" class="repository-content context-loader-container" data-pjax-container>
          


<!-- blob contrib key: blob_contributors:v21:fe4fe31923351c41678f965c6be01a8c -->

<p title="This is a placeholder element" class="js-history-link-replace hidden"></p>

<a href="/alfredessa/pdacookbook/find/master" data-pjax data-hotkey="t" class="js-show-file-finder" style="display:none">Show File Finder</a>

<div class="file-navigation">
  

<div class="select-menu js-menu-container js-select-menu" >
  <span class="minibutton select-menu-button js-menu-target" data-hotkey="w"
    data-master-branch="master"
    data-ref="master"
    role="button" aria-label="Switch branches or tags" tabindex="0">
    <span class="octicon octicon-git-branch"></span>
    <i>branch:</i>
    <span class="js-select-button">master</span>
  </span>

  <div class="select-menu-modal-holder js-menu-content js-navigation-container" data-pjax>

    <div class="select-menu-modal">
      <div class="select-menu-header">
        <span class="select-menu-title">Switch branches/tags</span>
        <span class="octicon octicon-remove-close js-menu-close"></span>
      </div> <!-- /.select-menu-header -->

      <div class="select-menu-filters">
        <div class="select-menu-text-filter">
          <input type="text" aria-label="Filter branches/tags" id="context-commitish-filter-field" class="js-filterable-field js-navigation-enable" placeholder="Filter branches/tags">
        </div>
        <div class="select-menu-tabs">
          <ul>
            <li class="select-menu-tab">
              <a href="#" data-tab-filter="branches" class="js-select-menu-tab">Branches</a>
            </li>
            <li class="select-menu-tab">
              <a href="#" data-tab-filter="tags" class="js-select-menu-tab">Tags</a>
            </li>
          </ul>
        </div><!-- /.select-menu-tabs -->
      </div><!-- /.select-menu-filters -->

      <div class="select-menu-list select-menu-tab-bucket js-select-menu-tab-bucket" data-tab-filter="branches">

        <div data-filterable-for="context-commitish-filter-field" data-filterable-type="substring">


            <div class="select-menu-item js-navigation-item selected">
              <span class="select-menu-item-icon octicon octicon-check"></span>
              <a href="/alfredessa/pdacookbook/blob/master/PythonPandasCookbook3.1a.ipynb"
                 data-name="master"
                 data-skip-pjax="true"
                 rel="nofollow"
                 class="js-navigation-open select-menu-item-text js-select-button-text css-truncate-target"
                 title="master">master</a>
            </div> <!-- /.select-menu-item -->
        </div>

          <div class="select-menu-no-results">Nothing to show</div>
      </div> <!-- /.select-menu-list -->

      <div class="select-menu-list select-menu-tab-bucket js-select-menu-tab-bucket" data-tab-filter="tags">
        <div data-filterable-for="context-commitish-filter-field" data-filterable-type="substring">


        </div>

        <div class="select-menu-no-results">Nothing to show</div>
      </div> <!-- /.select-menu-list -->

    </div> <!-- /.select-menu-modal -->
  </div> <!-- /.select-menu-modal-holder -->
</div> <!-- /.select-menu -->

  <div class="breadcrumb">
    <span class='repo-root js-repo-root'><span itemscope="" itemtype="http://data-vocabulary.org/Breadcrumb"><a href="/alfredessa/pdacookbook" data-branch="master" data-direction="back" data-pjax="true" itemscope="url"><span itemprop="title">pdacookbook</span></a></span></span><span class="separator"> / </span><strong class="final-path">PythonPandasCookbook3.1a.ipynb</strong> <span class="js-zeroclipboard minibutton zeroclipboard-button" data-clipboard-text="PythonPandasCookbook3.1a.ipynb" data-copied-hint="copied!" title="copy to clipboard"><span class="octicon octicon-clippy"></span></span>
  </div>
</div>


  <div class="commit commit-loader file-history-tease js-deferred-content" data-url="/alfredessa/pdacookbook/contributors/master/PythonPandasCookbook3.1a.ipynb">
    Fetching contributors…

    <div class="participation">
      <p class="loader-loading"><img alt="Octocat-spinner-32-eaf2f5" height="16" src="https://github.global.ssl.fastly.net/images/spinners/octocat-spinner-32-EAF2F5.gif" width="16" /></p>
      <p class="loader-error">Cannot retrieve contributors at this time</p>
    </div>
  </div>

<div id="files" class="bubble">
  <div class="file">
    <div class="meta">
      <div class="info">
        <span class="icon"><b class="octicon octicon-file-text"></b></span>
        <span class="mode" title="File Mode">file</span>
          <span>872 lines (872 sloc)</span>
        <span>64.59 kb</span>
      </div>
      <div class="actions">
        <div class="button-group">
            <a class="minibutton tooltipped leftwards"
               href="http://windows.github.com" title="Open this file in GitHub for Windows">
                <span class="octicon octicon-device-desktop"></span> Open
            </a>
              <a class="minibutton disabled tooltipped leftwards" href="#"
                 title="You must be signed in to make or propose changes">Edit</a>
          <a href="/alfredessa/pdacookbook/raw/master/PythonPandasCookbook3.1a.ipynb" class="button minibutton " id="raw-url">Raw</a>
            <a href="/alfredessa/pdacookbook/blame/master/PythonPandasCookbook3.1a.ipynb" class="button minibutton ">Blame</a>
          <a href="/alfredessa/pdacookbook/commits/master/PythonPandasCookbook3.1a.ipynb" class="button minibutton " rel="nofollow">History</a>
        </div><!-- /.button-group -->
          <a class="minibutton danger disabled empty-icon tooltipped leftwards" href="#"
             title="You must be signed in to make or propose changes">
          Delete
        </a>
      </div><!-- /.actions -->

    </div>
        <div class="blob-wrapper data type-text js-blob-data">
        <table class="file-code file-diff">
          <tr class="file-code-line">
            <td class="blob-line-nums">
              <span id="L1" rel="#L1">1</span>
<span id="L2" rel="#L2">2</span>
<span id="L3" rel="#L3">3</span>
<span id="L4" rel="#L4">4</span>
<span id="L5" rel="#L5">5</span>
<span id="L6" rel="#L6">6</span>
<span id="L7" rel="#L7">7</span>
<span id="L8" rel="#L8">8</span>
<span id="L9" rel="#L9">9</span>
<span id="L10" rel="#L10">10</span>
<span id="L11" rel="#L11">11</span>
<span id="L12" rel="#L12">12</span>
<span id="L13" rel="#L13">13</span>
<span id="L14" rel="#L14">14</span>
<span id="L15" rel="#L15">15</span>
<span id="L16" rel="#L16">16</span>
<span id="L17" rel="#L17">17</span>
<span id="L18" rel="#L18">18</span>
<span id="L19" rel="#L19">19</span>
<span id="L20" rel="#L20">20</span>
<span id="L21" rel="#L21">21</span>
<span id="L22" rel="#L22">22</span>
<span id="L23" rel="#L23">23</span>
<span id="L24" rel="#L24">24</span>
<span id="L25" rel="#L25">25</span>
<span id="L26" rel="#L26">26</span>
<span id="L27" rel="#L27">27</span>
<span id="L28" rel="#L28">28</span>
<span id="L29" rel="#L29">29</span>
<span id="L30" rel="#L30">30</span>
<span id="L31" rel="#L31">31</span>
<span id="L32" rel="#L32">32</span>
<span id="L33" rel="#L33">33</span>
<span id="L34" rel="#L34">34</span>
<span id="L35" rel="#L35">35</span>
<span id="L36" rel="#L36">36</span>
<span id="L37" rel="#L37">37</span>
<span id="L38" rel="#L38">38</span>
<span id="L39" rel="#L39">39</span>
<span id="L40" rel="#L40">40</span>
<span id="L41" rel="#L41">41</span>
<span id="L42" rel="#L42">42</span>
<span id="L43" rel="#L43">43</span>
<span id="L44" rel="#L44">44</span>
<span id="L45" rel="#L45">45</span>
<span id="L46" rel="#L46">46</span>
<span id="L47" rel="#L47">47</span>
<span id="L48" rel="#L48">48</span>
<span id="L49" rel="#L49">49</span>
<span id="L50" rel="#L50">50</span>
<span id="L51" rel="#L51">51</span>
<span id="L52" rel="#L52">52</span>
<span id="L53" rel="#L53">53</span>
<span id="L54" rel="#L54">54</span>
<span id="L55" rel="#L55">55</span>
<span id="L56" rel="#L56">56</span>
<span id="L57" rel="#L57">57</span>
<span id="L58" rel="#L58">58</span>
<span id="L59" rel="#L59">59</span>
<span id="L60" rel="#L60">60</span>
<span id="L61" rel="#L61">61</span>
<span id="L62" rel="#L62">62</span>
<span id="L63" rel="#L63">63</span>
<span id="L64" rel="#L64">64</span>
<span id="L65" rel="#L65">65</span>
<span id="L66" rel="#L66">66</span>
<span id="L67" rel="#L67">67</span>
<span id="L68" rel="#L68">68</span>
<span id="L69" rel="#L69">69</span>
<span id="L70" rel="#L70">70</span>
<span id="L71" rel="#L71">71</span>
<span id="L72" rel="#L72">72</span>
<span id="L73" rel="#L73">73</span>
<span id="L74" rel="#L74">74</span>
<span id="L75" rel="#L75">75</span>
<span id="L76" rel="#L76">76</span>
<span id="L77" rel="#L77">77</span>
<span id="L78" rel="#L78">78</span>
<span id="L79" rel="#L79">79</span>
<span id="L80" rel="#L80">80</span>
<span id="L81" rel="#L81">81</span>
<span id="L82" rel="#L82">82</span>
<span id="L83" rel="#L83">83</span>
<span id="L84" rel="#L84">84</span>
<span id="L85" rel="#L85">85</span>
<span id="L86" rel="#L86">86</span>
<span id="L87" rel="#L87">87</span>
<span id="L88" rel="#L88">88</span>
<span id="L89" rel="#L89">89</span>
<span id="L90" rel="#L90">90</span>
<span id="L91" rel="#L91">91</span>
<span id="L92" rel="#L92">92</span>
<span id="L93" rel="#L93">93</span>
<span id="L94" rel="#L94">94</span>
<span id="L95" rel="#L95">95</span>
<span id="L96" rel="#L96">96</span>
<span id="L97" rel="#L97">97</span>
<span id="L98" rel="#L98">98</span>
<span id="L99" rel="#L99">99</span>
<span id="L100" rel="#L100">100</span>
<span id="L101" rel="#L101">101</span>
<span id="L102" rel="#L102">102</span>
<span id="L103" rel="#L103">103</span>
<span id="L104" rel="#L104">104</span>
<span id="L105" rel="#L105">105</span>
<span id="L106" rel="#L106">106</span>
<span id="L107" rel="#L107">107</span>
<span id="L108" rel="#L108">108</span>
<span id="L109" rel="#L109">109</span>
<span id="L110" rel="#L110">110</span>
<span id="L111" rel="#L111">111</span>
<span id="L112" rel="#L112">112</span>
<span id="L113" rel="#L113">113</span>
<span id="L114" rel="#L114">114</span>
<span id="L115" rel="#L115">115</span>
<span id="L116" rel="#L116">116</span>
<span id="L117" rel="#L117">117</span>
<span id="L118" rel="#L118">118</span>
<span id="L119" rel="#L119">119</span>
<span id="L120" rel="#L120">120</span>
<span id="L121" rel="#L121">121</span>
<span id="L122" rel="#L122">122</span>
<span id="L123" rel="#L123">123</span>
<span id="L124" rel="#L124">124</span>
<span id="L125" rel="#L125">125</span>
<span id="L126" rel="#L126">126</span>
<span id="L127" rel="#L127">127</span>
<span id="L128" rel="#L128">128</span>
<span id="L129" rel="#L129">129</span>
<span id="L130" rel="#L130">130</span>
<span id="L131" rel="#L131">131</span>
<span id="L132" rel="#L132">132</span>
<span id="L133" rel="#L133">133</span>
<span id="L134" rel="#L134">134</span>
<span id="L135" rel="#L135">135</span>
<span id="L136" rel="#L136">136</span>
<span id="L137" rel="#L137">137</span>
<span id="L138" rel="#L138">138</span>
<span id="L139" rel="#L139">139</span>
<span id="L140" rel="#L140">140</span>
<span id="L141" rel="#L141">141</span>
<span id="L142" rel="#L142">142</span>
<span id="L143" rel="#L143">143</span>
<span id="L144" rel="#L144">144</span>
<span id="L145" rel="#L145">145</span>
<span id="L146" rel="#L146">146</span>
<span id="L147" rel="#L147">147</span>
<span id="L148" rel="#L148">148</span>
<span id="L149" rel="#L149">149</span>
<span id="L150" rel="#L150">150</span>
<span id="L151" rel="#L151">151</span>
<span id="L152" rel="#L152">152</span>
<span id="L153" rel="#L153">153</span>
<span id="L154" rel="#L154">154</span>
<span id="L155" rel="#L155">155</span>
<span id="L156" rel="#L156">156</span>
<span id="L157" rel="#L157">157</span>
<span id="L158" rel="#L158">158</span>
<span id="L159" rel="#L159">159</span>
<span id="L160" rel="#L160">160</span>
<span id="L161" rel="#L161">161</span>
<span id="L162" rel="#L162">162</span>
<span id="L163" rel="#L163">163</span>
<span id="L164" rel="#L164">164</span>
<span id="L165" rel="#L165">165</span>
<span id="L166" rel="#L166">166</span>
<span id="L167" rel="#L167">167</span>
<span id="L168" rel="#L168">168</span>
<span id="L169" rel="#L169">169</span>
<span id="L170" rel="#L170">170</span>
<span id="L171" rel="#L171">171</span>
<span id="L172" rel="#L172">172</span>
<span id="L173" rel="#L173">173</span>
<span id="L174" rel="#L174">174</span>
<span id="L175" rel="#L175">175</span>
<span id="L176" rel="#L176">176</span>
<span id="L177" rel="#L177">177</span>
<span id="L178" rel="#L178">178</span>
<span id="L179" rel="#L179">179</span>
<span id="L180" rel="#L180">180</span>
<span id="L181" rel="#L181">181</span>
<span id="L182" rel="#L182">182</span>
<span id="L183" rel="#L183">183</span>
<span id="L184" rel="#L184">184</span>
<span id="L185" rel="#L185">185</span>
<span id="L186" rel="#L186">186</span>
<span id="L187" rel="#L187">187</span>
<span id="L188" rel="#L188">188</span>
<span id="L189" rel="#L189">189</span>
<span id="L190" rel="#L190">190</span>
<span id="L191" rel="#L191">191</span>
<span id="L192" rel="#L192">192</span>
<span id="L193" rel="#L193">193</span>
<span id="L194" rel="#L194">194</span>
<span id="L195" rel="#L195">195</span>
<span id="L196" rel="#L196">196</span>
<span id="L197" rel="#L197">197</span>
<span id="L198" rel="#L198">198</span>
<span id="L199" rel="#L199">199</span>
<span id="L200" rel="#L200">200</span>
<span id="L201" rel="#L201">201</span>
<span id="L202" rel="#L202">202</span>
<span id="L203" rel="#L203">203</span>
<span id="L204" rel="#L204">204</span>
<span id="L205" rel="#L205">205</span>
<span id="L206" rel="#L206">206</span>
<span id="L207" rel="#L207">207</span>
<span id="L208" rel="#L208">208</span>
<span id="L209" rel="#L209">209</span>
<span id="L210" rel="#L210">210</span>
<span id="L211" rel="#L211">211</span>
<span id="L212" rel="#L212">212</span>
<span id="L213" rel="#L213">213</span>
<span id="L214" rel="#L214">214</span>
<span id="L215" rel="#L215">215</span>
<span id="L216" rel="#L216">216</span>
<span id="L217" rel="#L217">217</span>
<span id="L218" rel="#L218">218</span>
<span id="L219" rel="#L219">219</span>
<span id="L220" rel="#L220">220</span>
<span id="L221" rel="#L221">221</span>
<span id="L222" rel="#L222">222</span>
<span id="L223" rel="#L223">223</span>
<span id="L224" rel="#L224">224</span>
<span id="L225" rel="#L225">225</span>
<span id="L226" rel="#L226">226</span>
<span id="L227" rel="#L227">227</span>
<span id="L228" rel="#L228">228</span>
<span id="L229" rel="#L229">229</span>
<span id="L230" rel="#L230">230</span>
<span id="L231" rel="#L231">231</span>
<span id="L232" rel="#L232">232</span>
<span id="L233" rel="#L233">233</span>
<span id="L234" rel="#L234">234</span>
<span id="L235" rel="#L235">235</span>
<span id="L236" rel="#L236">236</span>
<span id="L237" rel="#L237">237</span>
<span id="L238" rel="#L238">238</span>
<span id="L239" rel="#L239">239</span>
<span id="L240" rel="#L240">240</span>
<span id="L241" rel="#L241">241</span>
<span id="L242" rel="#L242">242</span>
<span id="L243" rel="#L243">243</span>
<span id="L244" rel="#L244">244</span>
<span id="L245" rel="#L245">245</span>
<span id="L246" rel="#L246">246</span>
<span id="L247" rel="#L247">247</span>
<span id="L248" rel="#L248">248</span>
<span id="L249" rel="#L249">249</span>
<span id="L250" rel="#L250">250</span>
<span id="L251" rel="#L251">251</span>
<span id="L252" rel="#L252">252</span>
<span id="L253" rel="#L253">253</span>
<span id="L254" rel="#L254">254</span>
<span id="L255" rel="#L255">255</span>
<span id="L256" rel="#L256">256</span>
<span id="L257" rel="#L257">257</span>
<span id="L258" rel="#L258">258</span>
<span id="L259" rel="#L259">259</span>
<span id="L260" rel="#L260">260</span>
<span id="L261" rel="#L261">261</span>
<span id="L262" rel="#L262">262</span>
<span id="L263" rel="#L263">263</span>
<span id="L264" rel="#L264">264</span>
<span id="L265" rel="#L265">265</span>
<span id="L266" rel="#L266">266</span>
<span id="L267" rel="#L267">267</span>
<span id="L268" rel="#L268">268</span>
<span id="L269" rel="#L269">269</span>
<span id="L270" rel="#L270">270</span>
<span id="L271" rel="#L271">271</span>
<span id="L272" rel="#L272">272</span>
<span id="L273" rel="#L273">273</span>
<span id="L274" rel="#L274">274</span>
<span id="L275" rel="#L275">275</span>
<span id="L276" rel="#L276">276</span>
<span id="L277" rel="#L277">277</span>
<span id="L278" rel="#L278">278</span>
<span id="L279" rel="#L279">279</span>
<span id="L280" rel="#L280">280</span>
<span id="L281" rel="#L281">281</span>
<span id="L282" rel="#L282">282</span>
<span id="L283" rel="#L283">283</span>
<span id="L284" rel="#L284">284</span>
<span id="L285" rel="#L285">285</span>
<span id="L286" rel="#L286">286</span>
<span id="L287" rel="#L287">287</span>
<span id="L288" rel="#L288">288</span>
<span id="L289" rel="#L289">289</span>
<span id="L290" rel="#L290">290</span>
<span id="L291" rel="#L291">291</span>
<span id="L292" rel="#L292">292</span>
<span id="L293" rel="#L293">293</span>
<span id="L294" rel="#L294">294</span>
<span id="L295" rel="#L295">295</span>
<span id="L296" rel="#L296">296</span>
<span id="L297" rel="#L297">297</span>
<span id="L298" rel="#L298">298</span>
<span id="L299" rel="#L299">299</span>
<span id="L300" rel="#L300">300</span>
<span id="L301" rel="#L301">301</span>
<span id="L302" rel="#L302">302</span>
<span id="L303" rel="#L303">303</span>
<span id="L304" rel="#L304">304</span>
<span id="L305" rel="#L305">305</span>
<span id="L306" rel="#L306">306</span>
<span id="L307" rel="#L307">307</span>
<span id="L308" rel="#L308">308</span>
<span id="L309" rel="#L309">309</span>
<span id="L310" rel="#L310">310</span>
<span id="L311" rel="#L311">311</span>
<span id="L312" rel="#L312">312</span>
<span id="L313" rel="#L313">313</span>
<span id="L314" rel="#L314">314</span>
<span id="L315" rel="#L315">315</span>
<span id="L316" rel="#L316">316</span>
<span id="L317" rel="#L317">317</span>
<span id="L318" rel="#L318">318</span>
<span id="L319" rel="#L319">319</span>
<span id="L320" rel="#L320">320</span>
<span id="L321" rel="#L321">321</span>
<span id="L322" rel="#L322">322</span>
<span id="L323" rel="#L323">323</span>
<span id="L324" rel="#L324">324</span>
<span id="L325" rel="#L325">325</span>
<span id="L326" rel="#L326">326</span>
<span id="L327" rel="#L327">327</span>
<span id="L328" rel="#L328">328</span>
<span id="L329" rel="#L329">329</span>
<span id="L330" rel="#L330">330</span>
<span id="L331" rel="#L331">331</span>
<span id="L332" rel="#L332">332</span>
<span id="L333" rel="#L333">333</span>
<span id="L334" rel="#L334">334</span>
<span id="L335" rel="#L335">335</span>
<span id="L336" rel="#L336">336</span>
<span id="L337" rel="#L337">337</span>
<span id="L338" rel="#L338">338</span>
<span id="L339" rel="#L339">339</span>
<span id="L340" rel="#L340">340</span>
<span id="L341" rel="#L341">341</span>
<span id="L342" rel="#L342">342</span>
<span id="L343" rel="#L343">343</span>
<span id="L344" rel="#L344">344</span>
<span id="L345" rel="#L345">345</span>
<span id="L346" rel="#L346">346</span>
<span id="L347" rel="#L347">347</span>
<span id="L348" rel="#L348">348</span>
<span id="L349" rel="#L349">349</span>
<span id="L350" rel="#L350">350</span>
<span id="L351" rel="#L351">351</span>
<span id="L352" rel="#L352">352</span>
<span id="L353" rel="#L353">353</span>
<span id="L354" rel="#L354">354</span>
<span id="L355" rel="#L355">355</span>
<span id="L356" rel="#L356">356</span>
<span id="L357" rel="#L357">357</span>
<span id="L358" rel="#L358">358</span>
<span id="L359" rel="#L359">359</span>
<span id="L360" rel="#L360">360</span>
<span id="L361" rel="#L361">361</span>
<span id="L362" rel="#L362">362</span>
<span id="L363" rel="#L363">363</span>
<span id="L364" rel="#L364">364</span>
<span id="L365" rel="#L365">365</span>
<span id="L366" rel="#L366">366</span>
<span id="L367" rel="#L367">367</span>
<span id="L368" rel="#L368">368</span>
<span id="L369" rel="#L369">369</span>
<span id="L370" rel="#L370">370</span>
<span id="L371" rel="#L371">371</span>
<span id="L372" rel="#L372">372</span>
<span id="L373" rel="#L373">373</span>
<span id="L374" rel="#L374">374</span>
<span id="L375" rel="#L375">375</span>
<span id="L376" rel="#L376">376</span>
<span id="L377" rel="#L377">377</span>
<span id="L378" rel="#L378">378</span>
<span id="L379" rel="#L379">379</span>
<span id="L380" rel="#L380">380</span>
<span id="L381" rel="#L381">381</span>
<span id="L382" rel="#L382">382</span>
<span id="L383" rel="#L383">383</span>
<span id="L384" rel="#L384">384</span>
<span id="L385" rel="#L385">385</span>
<span id="L386" rel="#L386">386</span>
<span id="L387" rel="#L387">387</span>
<span id="L388" rel="#L388">388</span>
<span id="L389" rel="#L389">389</span>
<span id="L390" rel="#L390">390</span>
<span id="L391" rel="#L391">391</span>
<span id="L392" rel="#L392">392</span>
<span id="L393" rel="#L393">393</span>
<span id="L394" rel="#L394">394</span>
<span id="L395" rel="#L395">395</span>
<span id="L396" rel="#L396">396</span>
<span id="L397" rel="#L397">397</span>
<span id="L398" rel="#L398">398</span>
<span id="L399" rel="#L399">399</span>
<span id="L400" rel="#L400">400</span>
<span id="L401" rel="#L401">401</span>
<span id="L402" rel="#L402">402</span>
<span id="L403" rel="#L403">403</span>
<span id="L404" rel="#L404">404</span>
<span id="L405" rel="#L405">405</span>
<span id="L406" rel="#L406">406</span>
<span id="L407" rel="#L407">407</span>
<span id="L408" rel="#L408">408</span>
<span id="L409" rel="#L409">409</span>
<span id="L410" rel="#L410">410</span>
<span id="L411" rel="#L411">411</span>
<span id="L412" rel="#L412">412</span>
<span id="L413" rel="#L413">413</span>
<span id="L414" rel="#L414">414</span>
<span id="L415" rel="#L415">415</span>
<span id="L416" rel="#L416">416</span>
<span id="L417" rel="#L417">417</span>
<span id="L418" rel="#L418">418</span>
<span id="L419" rel="#L419">419</span>
<span id="L420" rel="#L420">420</span>
<span id="L421" rel="#L421">421</span>
<span id="L422" rel="#L422">422</span>
<span id="L423" rel="#L423">423</span>
<span id="L424" rel="#L424">424</span>
<span id="L425" rel="#L425">425</span>
<span id="L426" rel="#L426">426</span>
<span id="L427" rel="#L427">427</span>
<span id="L428" rel="#L428">428</span>
<span id="L429" rel="#L429">429</span>
<span id="L430" rel="#L430">430</span>
<span id="L431" rel="#L431">431</span>
<span id="L432" rel="#L432">432</span>
<span id="L433" rel="#L433">433</span>
<span id="L434" rel="#L434">434</span>
<span id="L435" rel="#L435">435</span>
<span id="L436" rel="#L436">436</span>
<span id="L437" rel="#L437">437</span>
<span id="L438" rel="#L438">438</span>
<span id="L439" rel="#L439">439</span>
<span id="L440" rel="#L440">440</span>
<span id="L441" rel="#L441">441</span>
<span id="L442" rel="#L442">442</span>
<span id="L443" rel="#L443">443</span>
<span id="L444" rel="#L444">444</span>
<span id="L445" rel="#L445">445</span>
<span id="L446" rel="#L446">446</span>
<span id="L447" rel="#L447">447</span>
<span id="L448" rel="#L448">448</span>
<span id="L449" rel="#L449">449</span>
<span id="L450" rel="#L450">450</span>
<span id="L451" rel="#L451">451</span>
<span id="L452" rel="#L452">452</span>
<span id="L453" rel="#L453">453</span>
<span id="L454" rel="#L454">454</span>
<span id="L455" rel="#L455">455</span>
<span id="L456" rel="#L456">456</span>
<span id="L457" rel="#L457">457</span>
<span id="L458" rel="#L458">458</span>
<span id="L459" rel="#L459">459</span>
<span id="L460" rel="#L460">460</span>
<span id="L461" rel="#L461">461</span>
<span id="L462" rel="#L462">462</span>
<span id="L463" rel="#L463">463</span>
<span id="L464" rel="#L464">464</span>
<span id="L465" rel="#L465">465</span>
<span id="L466" rel="#L466">466</span>
<span id="L467" rel="#L467">467</span>
<span id="L468" rel="#L468">468</span>
<span id="L469" rel="#L469">469</span>
<span id="L470" rel="#L470">470</span>
<span id="L471" rel="#L471">471</span>
<span id="L472" rel="#L472">472</span>
<span id="L473" rel="#L473">473</span>
<span id="L474" rel="#L474">474</span>
<span id="L475" rel="#L475">475</span>
<span id="L476" rel="#L476">476</span>
<span id="L477" rel="#L477">477</span>
<span id="L478" rel="#L478">478</span>
<span id="L479" rel="#L479">479</span>
<span id="L480" rel="#L480">480</span>
<span id="L481" rel="#L481">481</span>
<span id="L482" rel="#L482">482</span>
<span id="L483" rel="#L483">483</span>
<span id="L484" rel="#L484">484</span>
<span id="L485" rel="#L485">485</span>
<span id="L486" rel="#L486">486</span>
<span id="L487" rel="#L487">487</span>
<span id="L488" rel="#L488">488</span>
<span id="L489" rel="#L489">489</span>
<span id="L490" rel="#L490">490</span>
<span id="L491" rel="#L491">491</span>
<span id="L492" rel="#L492">492</span>
<span id="L493" rel="#L493">493</span>
<span id="L494" rel="#L494">494</span>
<span id="L495" rel="#L495">495</span>
<span id="L496" rel="#L496">496</span>
<span id="L497" rel="#L497">497</span>
<span id="L498" rel="#L498">498</span>
<span id="L499" rel="#L499">499</span>
<span id="L500" rel="#L500">500</span>
<span id="L501" rel="#L501">501</span>
<span id="L502" rel="#L502">502</span>
<span id="L503" rel="#L503">503</span>
<span id="L504" rel="#L504">504</span>
<span id="L505" rel="#L505">505</span>
<span id="L506" rel="#L506">506</span>
<span id="L507" rel="#L507">507</span>
<span id="L508" rel="#L508">508</span>
<span id="L509" rel="#L509">509</span>
<span id="L510" rel="#L510">510</span>
<span id="L511" rel="#L511">511</span>
<span id="L512" rel="#L512">512</span>
<span id="L513" rel="#L513">513</span>
<span id="L514" rel="#L514">514</span>
<span id="L515" rel="#L515">515</span>
<span id="L516" rel="#L516">516</span>
<span id="L517" rel="#L517">517</span>
<span id="L518" rel="#L518">518</span>
<span id="L519" rel="#L519">519</span>
<span id="L520" rel="#L520">520</span>
<span id="L521" rel="#L521">521</span>
<span id="L522" rel="#L522">522</span>
<span id="L523" rel="#L523">523</span>
<span id="L524" rel="#L524">524</span>
<span id="L525" rel="#L525">525</span>
<span id="L526" rel="#L526">526</span>
<span id="L527" rel="#L527">527</span>
<span id="L528" rel="#L528">528</span>
<span id="L529" rel="#L529">529</span>
<span id="L530" rel="#L530">530</span>
<span id="L531" rel="#L531">531</span>
<span id="L532" rel="#L532">532</span>
<span id="L533" rel="#L533">533</span>
<span id="L534" rel="#L534">534</span>
<span id="L535" rel="#L535">535</span>
<span id="L536" rel="#L536">536</span>
<span id="L537" rel="#L537">537</span>
<span id="L538" rel="#L538">538</span>
<span id="L539" rel="#L539">539</span>
<span id="L540" rel="#L540">540</span>
<span id="L541" rel="#L541">541</span>
<span id="L542" rel="#L542">542</span>
<span id="L543" rel="#L543">543</span>
<span id="L544" rel="#L544">544</span>
<span id="L545" rel="#L545">545</span>
<span id="L546" rel="#L546">546</span>
<span id="L547" rel="#L547">547</span>
<span id="L548" rel="#L548">548</span>
<span id="L549" rel="#L549">549</span>
<span id="L550" rel="#L550">550</span>
<span id="L551" rel="#L551">551</span>
<span id="L552" rel="#L552">552</span>
<span id="L553" rel="#L553">553</span>
<span id="L554" rel="#L554">554</span>
<span id="L555" rel="#L555">555</span>
<span id="L556" rel="#L556">556</span>
<span id="L557" rel="#L557">557</span>
<span id="L558" rel="#L558">558</span>
<span id="L559" rel="#L559">559</span>
<span id="L560" rel="#L560">560</span>
<span id="L561" rel="#L561">561</span>
<span id="L562" rel="#L562">562</span>
<span id="L563" rel="#L563">563</span>
<span id="L564" rel="#L564">564</span>
<span id="L565" rel="#L565">565</span>
<span id="L566" rel="#L566">566</span>
<span id="L567" rel="#L567">567</span>
<span id="L568" rel="#L568">568</span>
<span id="L569" rel="#L569">569</span>
<span id="L570" rel="#L570">570</span>
<span id="L571" rel="#L571">571</span>
<span id="L572" rel="#L572">572</span>
<span id="L573" rel="#L573">573</span>
<span id="L574" rel="#L574">574</span>
<span id="L575" rel="#L575">575</span>
<span id="L576" rel="#L576">576</span>
<span id="L577" rel="#L577">577</span>
<span id="L578" rel="#L578">578</span>
<span id="L579" rel="#L579">579</span>
<span id="L580" rel="#L580">580</span>
<span id="L581" rel="#L581">581</span>
<span id="L582" rel="#L582">582</span>
<span id="L583" rel="#L583">583</span>
<span id="L584" rel="#L584">584</span>
<span id="L585" rel="#L585">585</span>
<span id="L586" rel="#L586">586</span>
<span id="L587" rel="#L587">587</span>
<span id="L588" rel="#L588">588</span>
<span id="L589" rel="#L589">589</span>
<span id="L590" rel="#L590">590</span>
<span id="L591" rel="#L591">591</span>
<span id="L592" rel="#L592">592</span>
<span id="L593" rel="#L593">593</span>
<span id="L594" rel="#L594">594</span>
<span id="L595" rel="#L595">595</span>
<span id="L596" rel="#L596">596</span>
<span id="L597" rel="#L597">597</span>
<span id="L598" rel="#L598">598</span>
<span id="L599" rel="#L599">599</span>
<span id="L600" rel="#L600">600</span>
<span id="L601" rel="#L601">601</span>
<span id="L602" rel="#L602">602</span>
<span id="L603" rel="#L603">603</span>
<span id="L604" rel="#L604">604</span>
<span id="L605" rel="#L605">605</span>
<span id="L606" rel="#L606">606</span>
<span id="L607" rel="#L607">607</span>
<span id="L608" rel="#L608">608</span>
<span id="L609" rel="#L609">609</span>
<span id="L610" rel="#L610">610</span>
<span id="L611" rel="#L611">611</span>
<span id="L612" rel="#L612">612</span>
<span id="L613" rel="#L613">613</span>
<span id="L614" rel="#L614">614</span>
<span id="L615" rel="#L615">615</span>
<span id="L616" rel="#L616">616</span>
<span id="L617" rel="#L617">617</span>
<span id="L618" rel="#L618">618</span>
<span id="L619" rel="#L619">619</span>
<span id="L620" rel="#L620">620</span>
<span id="L621" rel="#L621">621</span>
<span id="L622" rel="#L622">622</span>
<span id="L623" rel="#L623">623</span>
<span id="L624" rel="#L624">624</span>
<span id="L625" rel="#L625">625</span>
<span id="L626" rel="#L626">626</span>
<span id="L627" rel="#L627">627</span>
<span id="L628" rel="#L628">628</span>
<span id="L629" rel="#L629">629</span>
<span id="L630" rel="#L630">630</span>
<span id="L631" rel="#L631">631</span>
<span id="L632" rel="#L632">632</span>
<span id="L633" rel="#L633">633</span>
<span id="L634" rel="#L634">634</span>
<span id="L635" rel="#L635">635</span>
<span id="L636" rel="#L636">636</span>
<span id="L637" rel="#L637">637</span>
<span id="L638" rel="#L638">638</span>
<span id="L639" rel="#L639">639</span>
<span id="L640" rel="#L640">640</span>
<span id="L641" rel="#L641">641</span>
<span id="L642" rel="#L642">642</span>
<span id="L643" rel="#L643">643</span>
<span id="L644" rel="#L644">644</span>
<span id="L645" rel="#L645">645</span>
<span id="L646" rel="#L646">646</span>
<span id="L647" rel="#L647">647</span>
<span id="L648" rel="#L648">648</span>
<span id="L649" rel="#L649">649</span>
<span id="L650" rel="#L650">650</span>
<span id="L651" rel="#L651">651</span>
<span id="L652" rel="#L652">652</span>
<span id="L653" rel="#L653">653</span>
<span id="L654" rel="#L654">654</span>
<span id="L655" rel="#L655">655</span>
<span id="L656" rel="#L656">656</span>
<span id="L657" rel="#L657">657</span>
<span id="L658" rel="#L658">658</span>
<span id="L659" rel="#L659">659</span>
<span id="L660" rel="#L660">660</span>
<span id="L661" rel="#L661">661</span>
<span id="L662" rel="#L662">662</span>
<span id="L663" rel="#L663">663</span>
<span id="L664" rel="#L664">664</span>
<span id="L665" rel="#L665">665</span>
<span id="L666" rel="#L666">666</span>
<span id="L667" rel="#L667">667</span>
<span id="L668" rel="#L668">668</span>
<span id="L669" rel="#L669">669</span>
<span id="L670" rel="#L670">670</span>
<span id="L671" rel="#L671">671</span>
<span id="L672" rel="#L672">672</span>
<span id="L673" rel="#L673">673</span>
<span id="L674" rel="#L674">674</span>
<span id="L675" rel="#L675">675</span>
<span id="L676" rel="#L676">676</span>
<span id="L677" rel="#L677">677</span>
<span id="L678" rel="#L678">678</span>
<span id="L679" rel="#L679">679</span>
<span id="L680" rel="#L680">680</span>
<span id="L681" rel="#L681">681</span>
<span id="L682" rel="#L682">682</span>
<span id="L683" rel="#L683">683</span>
<span id="L684" rel="#L684">684</span>
<span id="L685" rel="#L685">685</span>
<span id="L686" rel="#L686">686</span>
<span id="L687" rel="#L687">687</span>
<span id="L688" rel="#L688">688</span>
<span id="L689" rel="#L689">689</span>
<span id="L690" rel="#L690">690</span>
<span id="L691" rel="#L691">691</span>
<span id="L692" rel="#L692">692</span>
<span id="L693" rel="#L693">693</span>
<span id="L694" rel="#L694">694</span>
<span id="L695" rel="#L695">695</span>
<span id="L696" rel="#L696">696</span>
<span id="L697" rel="#L697">697</span>
<span id="L698" rel="#L698">698</span>
<span id="L699" rel="#L699">699</span>
<span id="L700" rel="#L700">700</span>
<span id="L701" rel="#L701">701</span>
<span id="L702" rel="#L702">702</span>
<span id="L703" rel="#L703">703</span>
<span id="L704" rel="#L704">704</span>
<span id="L705" rel="#L705">705</span>
<span id="L706" rel="#L706">706</span>
<span id="L707" rel="#L707">707</span>
<span id="L708" rel="#L708">708</span>
<span id="L709" rel="#L709">709</span>
<span id="L710" rel="#L710">710</span>
<span id="L711" rel="#L711">711</span>
<span id="L712" rel="#L712">712</span>
<span id="L713" rel="#L713">713</span>
<span id="L714" rel="#L714">714</span>
<span id="L715" rel="#L715">715</span>
<span id="L716" rel="#L716">716</span>
<span id="L717" rel="#L717">717</span>
<span id="L718" rel="#L718">718</span>
<span id="L719" rel="#L719">719</span>
<span id="L720" rel="#L720">720</span>
<span id="L721" rel="#L721">721</span>
<span id="L722" rel="#L722">722</span>
<span id="L723" rel="#L723">723</span>
<span id="L724" rel="#L724">724</span>
<span id="L725" rel="#L725">725</span>
<span id="L726" rel="#L726">726</span>
<span id="L727" rel="#L727">727</span>
<span id="L728" rel="#L728">728</span>
<span id="L729" rel="#L729">729</span>
<span id="L730" rel="#L730">730</span>
<span id="L731" rel="#L731">731</span>
<span id="L732" rel="#L732">732</span>
<span id="L733" rel="#L733">733</span>
<span id="L734" rel="#L734">734</span>
<span id="L735" rel="#L735">735</span>
<span id="L736" rel="#L736">736</span>
<span id="L737" rel="#L737">737</span>
<span id="L738" rel="#L738">738</span>
<span id="L739" rel="#L739">739</span>
<span id="L740" rel="#L740">740</span>
<span id="L741" rel="#L741">741</span>
<span id="L742" rel="#L742">742</span>
<span id="L743" rel="#L743">743</span>
<span id="L744" rel="#L744">744</span>
<span id="L745" rel="#L745">745</span>
<span id="L746" rel="#L746">746</span>
<span id="L747" rel="#L747">747</span>
<span id="L748" rel="#L748">748</span>
<span id="L749" rel="#L749">749</span>
<span id="L750" rel="#L750">750</span>
<span id="L751" rel="#L751">751</span>
<span id="L752" rel="#L752">752</span>
<span id="L753" rel="#L753">753</span>
<span id="L754" rel="#L754">754</span>
<span id="L755" rel="#L755">755</span>
<span id="L756" rel="#L756">756</span>
<span id="L757" rel="#L757">757</span>
<span id="L758" rel="#L758">758</span>
<span id="L759" rel="#L759">759</span>
<span id="L760" rel="#L760">760</span>
<span id="L761" rel="#L761">761</span>
<span id="L762" rel="#L762">762</span>
<span id="L763" rel="#L763">763</span>
<span id="L764" rel="#L764">764</span>
<span id="L765" rel="#L765">765</span>
<span id="L766" rel="#L766">766</span>
<span id="L767" rel="#L767">767</span>
<span id="L768" rel="#L768">768</span>
<span id="L769" rel="#L769">769</span>
<span id="L770" rel="#L770">770</span>
<span id="L771" rel="#L771">771</span>
<span id="L772" rel="#L772">772</span>
<span id="L773" rel="#L773">773</span>
<span id="L774" rel="#L774">774</span>
<span id="L775" rel="#L775">775</span>
<span id="L776" rel="#L776">776</span>
<span id="L777" rel="#L777">777</span>
<span id="L778" rel="#L778">778</span>
<span id="L779" rel="#L779">779</span>
<span id="L780" rel="#L780">780</span>
<span id="L781" rel="#L781">781</span>
<span id="L782" rel="#L782">782</span>
<span id="L783" rel="#L783">783</span>
<span id="L784" rel="#L784">784</span>
<span id="L785" rel="#L785">785</span>
<span id="L786" rel="#L786">786</span>
<span id="L787" rel="#L787">787</span>
<span id="L788" rel="#L788">788</span>
<span id="L789" rel="#L789">789</span>
<span id="L790" rel="#L790">790</span>
<span id="L791" rel="#L791">791</span>
<span id="L792" rel="#L792">792</span>
<span id="L793" rel="#L793">793</span>
<span id="L794" rel="#L794">794</span>
<span id="L795" rel="#L795">795</span>
<span id="L796" rel="#L796">796</span>
<span id="L797" rel="#L797">797</span>
<span id="L798" rel="#L798">798</span>
<span id="L799" rel="#L799">799</span>
<span id="L800" rel="#L800">800</span>
<span id="L801" rel="#L801">801</span>
<span id="L802" rel="#L802">802</span>
<span id="L803" rel="#L803">803</span>
<span id="L804" rel="#L804">804</span>
<span id="L805" rel="#L805">805</span>
<span id="L806" rel="#L806">806</span>
<span id="L807" rel="#L807">807</span>
<span id="L808" rel="#L808">808</span>
<span id="L809" rel="#L809">809</span>
<span id="L810" rel="#L810">810</span>
<span id="L811" rel="#L811">811</span>
<span id="L812" rel="#L812">812</span>
<span id="L813" rel="#L813">813</span>
<span id="L814" rel="#L814">814</span>
<span id="L815" rel="#L815">815</span>
<span id="L816" rel="#L816">816</span>
<span id="L817" rel="#L817">817</span>
<span id="L818" rel="#L818">818</span>
<span id="L819" rel="#L819">819</span>
<span id="L820" rel="#L820">820</span>
<span id="L821" rel="#L821">821</span>
<span id="L822" rel="#L822">822</span>
<span id="L823" rel="#L823">823</span>
<span id="L824" rel="#L824">824</span>
<span id="L825" rel="#L825">825</span>
<span id="L826" rel="#L826">826</span>
<span id="L827" rel="#L827">827</span>
<span id="L828" rel="#L828">828</span>
<span id="L829" rel="#L829">829</span>
<span id="L830" rel="#L830">830</span>
<span id="L831" rel="#L831">831</span>
<span id="L832" rel="#L832">832</span>
<span id="L833" rel="#L833">833</span>
<span id="L834" rel="#L834">834</span>
<span id="L835" rel="#L835">835</span>
<span id="L836" rel="#L836">836</span>
<span id="L837" rel="#L837">837</span>
<span id="L838" rel="#L838">838</span>
<span id="L839" rel="#L839">839</span>
<span id="L840" rel="#L840">840</span>
<span id="L841" rel="#L841">841</span>
<span id="L842" rel="#L842">842</span>
<span id="L843" rel="#L843">843</span>
<span id="L844" rel="#L844">844</span>
<span id="L845" rel="#L845">845</span>
<span id="L846" rel="#L846">846</span>
<span id="L847" rel="#L847">847</span>
<span id="L848" rel="#L848">848</span>
<span id="L849" rel="#L849">849</span>
<span id="L850" rel="#L850">850</span>
<span id="L851" rel="#L851">851</span>
<span id="L852" rel="#L852">852</span>
<span id="L853" rel="#L853">853</span>
<span id="L854" rel="#L854">854</span>
<span id="L855" rel="#L855">855</span>
<span id="L856" rel="#L856">856</span>
<span id="L857" rel="#L857">857</span>
<span id="L858" rel="#L858">858</span>
<span id="L859" rel="#L859">859</span>
<span id="L860" rel="#L860">860</span>
<span id="L861" rel="#L861">861</span>
<span id="L862" rel="#L862">862</span>
<span id="L863" rel="#L863">863</span>
<span id="L864" rel="#L864">864</span>
<span id="L865" rel="#L865">865</span>
<span id="L866" rel="#L866">866</span>
<span id="L867" rel="#L867">867</span>
<span id="L868" rel="#L868">868</span>
<span id="L869" rel="#L869">869</span>
<span id="L870" rel="#L870">870</span>
<span id="L871" rel="#L871">871</span>
<span id="L872" rel="#L872">872</span>

            </td>
            <td class="blob-line-code">
                    <div class="code-body highlight"><pre><div class='line' id='LC1'>{</div><div class='line' id='LC2'>&nbsp;&quot;metadata&quot;: {</div><div class='line' id='LC3'>&nbsp;&nbsp;&quot;name&quot;: &quot;&quot;</div><div class='line' id='LC4'>&nbsp;},</div><div class='line' id='LC5'>&nbsp;&quot;nbformat&quot;: 3,</div><div class='line' id='LC6'>&nbsp;&quot;nbformat_minor&quot;: 0,</div><div class='line' id='LC7'>&nbsp;&quot;worksheets&quot;: [</div><div class='line' id='LC8'>&nbsp;&nbsp;{</div><div class='line' id='LC9'>&nbsp;&nbsp;&nbsp;&quot;cells&quot;: [</div><div class='line' id='LC10'>&nbsp;&nbsp;&nbsp;&nbsp;{</div><div class='line' id='LC11'>&nbsp;&nbsp;&nbsp;&nbsp;&nbsp;&quot;cell_type&quot;: &quot;markdown&quot;,</div><div class='line' id='LC12'>&nbsp;&nbsp;&nbsp;&nbsp;&nbsp;&quot;metadata&quot;: {},</div><div class='line' id='LC13'>&nbsp;&nbsp;&nbsp;&nbsp;&nbsp;&quot;source&quot;: [</div><div class='line' id='LC14'>&nbsp;&nbsp;&nbsp;&nbsp;&nbsp;&nbsp;&quot;# Python for Data Analysis Lightning Tutorials\n&quot;,</div><div class='line' id='LC15'>&nbsp;&nbsp;&nbsp;&nbsp;&nbsp;&nbsp;&quot;## Pandas Cookbook Series\n&quot;,</div><div class='line' id='LC16'>&nbsp;&nbsp;&nbsp;&nbsp;&nbsp;&nbsp;&quot;&lt;img src=\&quot;files/images/feynman-bongo.jpg\&quot; width =100, height=200&gt;\n&quot;,</div><div class='line' id='LC17'>&nbsp;&nbsp;&nbsp;&nbsp;&nbsp;&nbsp;&quot;\n&quot;,</div><div class='line' id='LC18'>&nbsp;&nbsp;&nbsp;&nbsp;&nbsp;&nbsp;&quot;\n&quot;,</div><div class='line' id='LC19'>&nbsp;&nbsp;&nbsp;&nbsp;&nbsp;&nbsp;&quot;**Python for Data Analysis Lightning Tutorials** is a series of tutorials in Data Analysis, Statistics, and Graphics using Python. The **Pandas Cookbook** series of tutorials provides recipes for common tasks and moves on to more advanced topics in statistics and time series analysis. \n&quot;,</div><div class='line' id='LC20'>&nbsp;&nbsp;&nbsp;&nbsp;&nbsp;&nbsp;&quot;\n&quot;,</div><div class='line' id='LC21'>&nbsp;&nbsp;&nbsp;&nbsp;&nbsp;&nbsp;&quot;&lt;i&gt;Created by Alfred Essa&lt;/i&gt;, Dec 22nd, 2013 \n&quot;,</div><div class='line' id='LC22'>&nbsp;&nbsp;&nbsp;&nbsp;&nbsp;&nbsp;&quot;\n&quot;,</div><div class='line' id='LC23'>&nbsp;&nbsp;&nbsp;&nbsp;&nbsp;&nbsp;&quot;Note: IPython Notebook and Data files can be found at my Github Site: http://github/alfredessa&quot;</div><div class='line' id='LC24'>&nbsp;&nbsp;&nbsp;&nbsp;&nbsp;]</div><div class='line' id='LC25'>&nbsp;&nbsp;&nbsp;&nbsp;},</div><div class='line' id='LC26'>&nbsp;&nbsp;&nbsp;&nbsp;{</div><div class='line' id='LC27'>&nbsp;&nbsp;&nbsp;&nbsp;&nbsp;&quot;cell_type&quot;: &quot;markdown&quot;,</div><div class='line' id='LC28'>&nbsp;&nbsp;&nbsp;&nbsp;&nbsp;&quot;metadata&quot;: {},</div><div class='line' id='LC29'>&nbsp;&nbsp;&nbsp;&nbsp;&nbsp;&quot;source&quot;: [</div><div class='line' id='LC30'>&nbsp;&nbsp;&nbsp;&nbsp;&nbsp;&nbsp;&quot;##Lesson 3.1a (Groupby)&quot;</div><div class='line' id='LC31'>&nbsp;&nbsp;&nbsp;&nbsp;&nbsp;]</div><div class='line' id='LC32'>&nbsp;&nbsp;&nbsp;&nbsp;},</div><div class='line' id='LC33'>&nbsp;&nbsp;&nbsp;&nbsp;{</div><div class='line' id='LC34'>&nbsp;&nbsp;&nbsp;&nbsp;&nbsp;&quot;cell_type&quot;: &quot;markdown&quot;,</div><div class='line' id='LC35'>&nbsp;&nbsp;&nbsp;&nbsp;&nbsp;&quot;metadata&quot;: {},</div><div class='line' id='LC36'>&nbsp;&nbsp;&nbsp;&nbsp;&nbsp;&quot;source&quot;: [</div><div class='line' id='LC37'>&nbsp;&nbsp;&nbsp;&nbsp;&nbsp;&nbsp;&quot;###3.1 Introduction&quot;</div><div class='line' id='LC38'>&nbsp;&nbsp;&nbsp;&nbsp;&nbsp;]</div><div class='line' id='LC39'>&nbsp;&nbsp;&nbsp;&nbsp;},</div><div class='line' id='LC40'>&nbsp;&nbsp;&nbsp;&nbsp;{</div><div class='line' id='LC41'>&nbsp;&nbsp;&nbsp;&nbsp;&nbsp;&quot;cell_type&quot;: &quot;markdown&quot;,</div><div class='line' id='LC42'>&nbsp;&nbsp;&nbsp;&nbsp;&nbsp;&quot;metadata&quot;: {},</div><div class='line' id='LC43'>&nbsp;&nbsp;&nbsp;&nbsp;&nbsp;&quot;source&quot;: [</div><div class='line' id='LC44'>&nbsp;&nbsp;&nbsp;&nbsp;&nbsp;&nbsp;&quot;&lt;b&gt;Step1 (Split): &lt;/b&gt; The &lt;i&gt;groupby&lt;/i&gt; operation &lt;b&gt;&lt;i&gt;splits&lt;/b&gt;&lt;/i&gt; the dataframe into a group of dataframe based on some criteria. Note that the grouped object is &lt;i&gt;not&lt;/i&gt; a dataframe. It has a dictionary-like structure and is also iterable.&quot;</div><div class='line' id='LC45'>&nbsp;&nbsp;&nbsp;&nbsp;&nbsp;]</div><div class='line' id='LC46'>&nbsp;&nbsp;&nbsp;&nbsp;},</div><div class='line' id='LC47'>&nbsp;&nbsp;&nbsp;&nbsp;{</div><div class='line' id='LC48'>&nbsp;&nbsp;&nbsp;&nbsp;&nbsp;&quot;cell_type&quot;: &quot;markdown&quot;,</div><div class='line' id='LC49'>&nbsp;&nbsp;&nbsp;&nbsp;&nbsp;&quot;metadata&quot;: {},</div><div class='line' id='LC50'>&nbsp;&nbsp;&nbsp;&nbsp;&nbsp;&quot;source&quot;: [</div><div class='line' id='LC51'>&nbsp;&nbsp;&nbsp;&nbsp;&nbsp;&nbsp;&quot;&lt;img src=\&quot;files/images/groupby1.jpg\&quot;&gt;&quot;</div><div class='line' id='LC52'>&nbsp;&nbsp;&nbsp;&nbsp;&nbsp;]</div><div class='line' id='LC53'>&nbsp;&nbsp;&nbsp;&nbsp;},</div><div class='line' id='LC54'>&nbsp;&nbsp;&nbsp;&nbsp;{</div><div class='line' id='LC55'>&nbsp;&nbsp;&nbsp;&nbsp;&nbsp;&quot;cell_type&quot;: &quot;markdown&quot;,</div><div class='line' id='LC56'>&nbsp;&nbsp;&nbsp;&nbsp;&nbsp;&quot;metadata&quot;: {},</div><div class='line' id='LC57'>&nbsp;&nbsp;&nbsp;&nbsp;&nbsp;&quot;source&quot;: [</div><div class='line' id='LC58'>&nbsp;&nbsp;&nbsp;&nbsp;&nbsp;&nbsp;&quot;&lt;b&gt;Step 2 (Analyze):&lt;/b&gt; Once we have a grouped object we can &lt;b&gt;&lt;i&gt;apply&lt;/b&gt;&lt;/i&gt; functions or run analysis to each group, set of groups, or the entire group. &quot;</div><div class='line' id='LC59'>&nbsp;&nbsp;&nbsp;&nbsp;&nbsp;]</div><div class='line' id='LC60'>&nbsp;&nbsp;&nbsp;&nbsp;},</div><div class='line' id='LC61'>&nbsp;&nbsp;&nbsp;&nbsp;{</div><div class='line' id='LC62'>&nbsp;&nbsp;&nbsp;&nbsp;&nbsp;&quot;cell_type&quot;: &quot;markdown&quot;,</div><div class='line' id='LC63'>&nbsp;&nbsp;&nbsp;&nbsp;&nbsp;&quot;metadata&quot;: {},</div><div class='line' id='LC64'>&nbsp;&nbsp;&nbsp;&nbsp;&nbsp;&quot;source&quot;: [</div><div class='line' id='LC65'>&nbsp;&nbsp;&nbsp;&nbsp;&nbsp;&nbsp;&quot;&lt;img src=\&quot;files/images/groupby2.jpg\&quot;&gt;&quot;</div><div class='line' id='LC66'>&nbsp;&nbsp;&nbsp;&nbsp;&nbsp;]</div><div class='line' id='LC67'>&nbsp;&nbsp;&nbsp;&nbsp;},</div><div class='line' id='LC68'>&nbsp;&nbsp;&nbsp;&nbsp;{</div><div class='line' id='LC69'>&nbsp;&nbsp;&nbsp;&nbsp;&nbsp;&quot;cell_type&quot;: &quot;markdown&quot;,</div><div class='line' id='LC70'>&nbsp;&nbsp;&nbsp;&nbsp;&nbsp;&quot;metadata&quot;: {},</div><div class='line' id='LC71'>&nbsp;&nbsp;&nbsp;&nbsp;&nbsp;&quot;source&quot;: [</div><div class='line' id='LC72'>&nbsp;&nbsp;&nbsp;&nbsp;&nbsp;&nbsp;&quot;&lt;b&gt;Step 3 (Combine):&lt;/b&gt; We can also &lt;b&gt;&lt;i&gt;combine&lt;/b&gt;&lt;/i&gt; the results of the analysis into a new data structure(s). &quot;</div><div class='line' id='LC73'>&nbsp;&nbsp;&nbsp;&nbsp;&nbsp;]</div><div class='line' id='LC74'>&nbsp;&nbsp;&nbsp;&nbsp;},</div><div class='line' id='LC75'>&nbsp;&nbsp;&nbsp;&nbsp;{</div><div class='line' id='LC76'>&nbsp;&nbsp;&nbsp;&nbsp;&nbsp;&quot;cell_type&quot;: &quot;markdown&quot;,</div><div class='line' id='LC77'>&nbsp;&nbsp;&nbsp;&nbsp;&nbsp;&quot;metadata&quot;: {},</div><div class='line' id='LC78'>&nbsp;&nbsp;&nbsp;&nbsp;&nbsp;&quot;source&quot;: [</div><div class='line' id='LC79'>&nbsp;&nbsp;&nbsp;&nbsp;&nbsp;&nbsp;&quot;&lt;img src=\&quot;files/images/groupby3.jpg\&quot;&gt;&quot;</div><div class='line' id='LC80'>&nbsp;&nbsp;&nbsp;&nbsp;&nbsp;]</div><div class='line' id='LC81'>&nbsp;&nbsp;&nbsp;&nbsp;},</div><div class='line' id='LC82'>&nbsp;&nbsp;&nbsp;&nbsp;{</div><div class='line' id='LC83'>&nbsp;&nbsp;&nbsp;&nbsp;&nbsp;&quot;cell_type&quot;: &quot;markdown&quot;,</div><div class='line' id='LC84'>&nbsp;&nbsp;&nbsp;&nbsp;&nbsp;&quot;metadata&quot;: {},</div><div class='line' id='LC85'>&nbsp;&nbsp;&nbsp;&nbsp;&nbsp;&quot;source&quot;: [</div><div class='line' id='LC86'>&nbsp;&nbsp;&nbsp;&nbsp;&nbsp;&nbsp;&quot;####3.11 Load Major League Baseball salaries dataset&quot;</div><div class='line' id='LC87'>&nbsp;&nbsp;&nbsp;&nbsp;&nbsp;]</div><div class='line' id='LC88'>&nbsp;&nbsp;&nbsp;&nbsp;},</div><div class='line' id='LC89'>&nbsp;&nbsp;&nbsp;&nbsp;{</div><div class='line' id='LC90'>&nbsp;&nbsp;&nbsp;&nbsp;&nbsp;&quot;cell_type&quot;: &quot;code&quot;,</div><div class='line' id='LC91'>&nbsp;&nbsp;&nbsp;&nbsp;&nbsp;&quot;collapsed&quot;: false,</div><div class='line' id='LC92'>&nbsp;&nbsp;&nbsp;&nbsp;&nbsp;&quot;input&quot;: [</div><div class='line' id='LC93'>&nbsp;&nbsp;&nbsp;&nbsp;&nbsp;&nbsp;&quot; import pandas as pd&quot;</div><div class='line' id='LC94'>&nbsp;&nbsp;&nbsp;&nbsp;&nbsp;],</div><div class='line' id='LC95'>&nbsp;&nbsp;&nbsp;&nbsp;&nbsp;&quot;language&quot;: &quot;python&quot;,</div><div class='line' id='LC96'>&nbsp;&nbsp;&nbsp;&nbsp;&nbsp;&quot;metadata&quot;: {},</div><div class='line' id='LC97'>&nbsp;&nbsp;&nbsp;&nbsp;&nbsp;&quot;outputs&quot;: [],</div><div class='line' id='LC98'>&nbsp;&nbsp;&nbsp;&nbsp;&nbsp;&quot;prompt_number&quot;: 1</div><div class='line' id='LC99'>&nbsp;&nbsp;&nbsp;&nbsp;},</div><div class='line' id='LC100'>&nbsp;&nbsp;&nbsp;&nbsp;{</div><div class='line' id='LC101'>&nbsp;&nbsp;&nbsp;&nbsp;&nbsp;&quot;cell_type&quot;: &quot;code&quot;,</div><div class='line' id='LC102'>&nbsp;&nbsp;&nbsp;&nbsp;&nbsp;&quot;collapsed&quot;: false,</div><div class='line' id='LC103'>&nbsp;&nbsp;&nbsp;&nbsp;&nbsp;&quot;input&quot;: [</div><div class='line' id='LC104'>&nbsp;&nbsp;&nbsp;&nbsp;&nbsp;&nbsp;&quot; mlb = pd.read_csv(&#39;data/mlbsalaries.csv&#39;)&quot;</div><div class='line' id='LC105'>&nbsp;&nbsp;&nbsp;&nbsp;&nbsp;],</div><div class='line' id='LC106'>&nbsp;&nbsp;&nbsp;&nbsp;&nbsp;&quot;language&quot;: &quot;python&quot;,</div><div class='line' id='LC107'>&nbsp;&nbsp;&nbsp;&nbsp;&nbsp;&quot;metadata&quot;: {},</div><div class='line' id='LC108'>&nbsp;&nbsp;&nbsp;&nbsp;&nbsp;&quot;outputs&quot;: [],</div><div class='line' id='LC109'>&nbsp;&nbsp;&nbsp;&nbsp;&nbsp;&quot;prompt_number&quot;: 2</div><div class='line' id='LC110'>&nbsp;&nbsp;&nbsp;&nbsp;},</div><div class='line' id='LC111'>&nbsp;&nbsp;&nbsp;&nbsp;{</div><div class='line' id='LC112'>&nbsp;&nbsp;&nbsp;&nbsp;&nbsp;&quot;cell_type&quot;: &quot;code&quot;,</div><div class='line' id='LC113'>&nbsp;&nbsp;&nbsp;&nbsp;&nbsp;&quot;collapsed&quot;: false,</div><div class='line' id='LC114'>&nbsp;&nbsp;&nbsp;&nbsp;&nbsp;&quot;input&quot;: [</div><div class='line' id='LC115'>&nbsp;&nbsp;&nbsp;&nbsp;&nbsp;&nbsp;&quot; mlb&quot;</div><div class='line' id='LC116'>&nbsp;&nbsp;&nbsp;&nbsp;&nbsp;],</div><div class='line' id='LC117'>&nbsp;&nbsp;&nbsp;&nbsp;&nbsp;&quot;language&quot;: &quot;python&quot;,</div><div class='line' id='LC118'>&nbsp;&nbsp;&nbsp;&nbsp;&nbsp;&quot;metadata&quot;: {},</div><div class='line' id='LC119'>&nbsp;&nbsp;&nbsp;&nbsp;&nbsp;&quot;outputs&quot;: [</div><div class='line' id='LC120'>&nbsp;&nbsp;&nbsp;&nbsp;&nbsp;&nbsp;{</div><div class='line' id='LC121'>&nbsp;&nbsp;&nbsp;&nbsp;&nbsp;&nbsp;&nbsp;&quot;html&quot;: [</div><div class='line' id='LC122'>&nbsp;&nbsp;&nbsp;&nbsp;&nbsp;&nbsp;&nbsp;&nbsp;&quot;&lt;pre&gt;\n&quot;,</div><div class='line' id='LC123'>&nbsp;&nbsp;&nbsp;&nbsp;&nbsp;&nbsp;&nbsp;&nbsp;&quot;&amp;lt;class &#39;pandas.core.frame.DataFrame&#39;&amp;gt;\n&quot;,</div><div class='line' id='LC124'>&nbsp;&nbsp;&nbsp;&nbsp;&nbsp;&nbsp;&nbsp;&nbsp;&quot;Int64Index: 19543 entries, 0 to 19542\n&quot;,</div><div class='line' id='LC125'>&nbsp;&nbsp;&nbsp;&nbsp;&nbsp;&nbsp;&nbsp;&nbsp;&quot;Data columns (total 5 columns):\n&quot;,</div><div class='line' id='LC126'>&nbsp;&nbsp;&nbsp;&nbsp;&nbsp;&nbsp;&nbsp;&nbsp;&quot;Year        19543  non-null values\n&quot;,</div><div class='line' id='LC127'>&nbsp;&nbsp;&nbsp;&nbsp;&nbsp;&nbsp;&nbsp;&nbsp;&quot;Player      19543  non-null values\n&quot;,</div><div class='line' id='LC128'>&nbsp;&nbsp;&nbsp;&nbsp;&nbsp;&nbsp;&nbsp;&nbsp;&quot;Salary      19543  non-null values\n&quot;,</div><div class='line' id='LC129'>&nbsp;&nbsp;&nbsp;&nbsp;&nbsp;&nbsp;&nbsp;&nbsp;&quot;Position    19543  non-null values\n&quot;,</div><div class='line' id='LC130'>&nbsp;&nbsp;&nbsp;&nbsp;&nbsp;&nbsp;&nbsp;&nbsp;&quot;Team        19543  non-null values\n&quot;,</div><div class='line' id='LC131'>&nbsp;&nbsp;&nbsp;&nbsp;&nbsp;&nbsp;&nbsp;&nbsp;&quot;dtypes: int64(2), object(3)\n&quot;,</div><div class='line' id='LC132'>&nbsp;&nbsp;&nbsp;&nbsp;&nbsp;&nbsp;&nbsp;&nbsp;&quot;&lt;/pre&gt;&quot;</div><div class='line' id='LC133'>&nbsp;&nbsp;&nbsp;&nbsp;&nbsp;&nbsp;&nbsp;],</div><div class='line' id='LC134'>&nbsp;&nbsp;&nbsp;&nbsp;&nbsp;&nbsp;&nbsp;&quot;metadata&quot;: {},</div><div class='line' id='LC135'>&nbsp;&nbsp;&nbsp;&nbsp;&nbsp;&nbsp;&nbsp;&quot;output_type&quot;: &quot;pyout&quot;,</div><div class='line' id='LC136'>&nbsp;&nbsp;&nbsp;&nbsp;&nbsp;&nbsp;&nbsp;&quot;prompt_number&quot;: 4,</div><div class='line' id='LC137'>&nbsp;&nbsp;&nbsp;&nbsp;&nbsp;&nbsp;&nbsp;&quot;text&quot;: [</div><div class='line' id='LC138'>&nbsp;&nbsp;&nbsp;&nbsp;&nbsp;&nbsp;&nbsp;&nbsp;&quot;&lt;class &#39;pandas.core.frame.DataFrame&#39;&gt;\n&quot;,</div><div class='line' id='LC139'>&nbsp;&nbsp;&nbsp;&nbsp;&nbsp;&nbsp;&nbsp;&nbsp;&quot;Int64Index: 19543 entries, 0 to 19542\n&quot;,</div><div class='line' id='LC140'>&nbsp;&nbsp;&nbsp;&nbsp;&nbsp;&nbsp;&nbsp;&nbsp;&quot;Data columns (total 5 columns):\n&quot;,</div><div class='line' id='LC141'>&nbsp;&nbsp;&nbsp;&nbsp;&nbsp;&nbsp;&nbsp;&nbsp;&quot;Year        19543  non-null values\n&quot;,</div><div class='line' id='LC142'>&nbsp;&nbsp;&nbsp;&nbsp;&nbsp;&nbsp;&nbsp;&nbsp;&quot;Player      19543  non-null values\n&quot;,</div><div class='line' id='LC143'>&nbsp;&nbsp;&nbsp;&nbsp;&nbsp;&nbsp;&nbsp;&nbsp;&quot;Salary      19543  non-null values\n&quot;,</div><div class='line' id='LC144'>&nbsp;&nbsp;&nbsp;&nbsp;&nbsp;&nbsp;&nbsp;&nbsp;&quot;Position    19543  non-null values\n&quot;,</div><div class='line' id='LC145'>&nbsp;&nbsp;&nbsp;&nbsp;&nbsp;&nbsp;&nbsp;&nbsp;&quot;Team        19543  non-null values\n&quot;,</div><div class='line' id='LC146'>&nbsp;&nbsp;&nbsp;&nbsp;&nbsp;&nbsp;&nbsp;&nbsp;&quot;dtypes: int64(2), object(3)&quot;</div><div class='line' id='LC147'>&nbsp;&nbsp;&nbsp;&nbsp;&nbsp;&nbsp;&nbsp;]</div><div class='line' id='LC148'>&nbsp;&nbsp;&nbsp;&nbsp;&nbsp;&nbsp;}</div><div class='line' id='LC149'>&nbsp;&nbsp;&nbsp;&nbsp;&nbsp;],</div><div class='line' id='LC150'>&nbsp;&nbsp;&nbsp;&nbsp;&nbsp;&quot;prompt_number&quot;: 4</div><div class='line' id='LC151'>&nbsp;&nbsp;&nbsp;&nbsp;},</div><div class='line' id='LC152'>&nbsp;&nbsp;&nbsp;&nbsp;{</div><div class='line' id='LC153'>&nbsp;&nbsp;&nbsp;&nbsp;&nbsp;&quot;cell_type&quot;: &quot;markdown&quot;,</div><div class='line' id='LC154'>&nbsp;&nbsp;&nbsp;&nbsp;&nbsp;&quot;metadata&quot;: {},</div><div class='line' id='LC155'>&nbsp;&nbsp;&nbsp;&nbsp;&nbsp;&quot;source&quot;: [</div><div class='line' id='LC156'>&nbsp;&nbsp;&nbsp;&nbsp;&nbsp;&nbsp;&quot;####3.12 Groupby using Year column&quot;</div><div class='line' id='LC157'>&nbsp;&nbsp;&nbsp;&nbsp;&nbsp;]</div><div class='line' id='LC158'>&nbsp;&nbsp;&nbsp;&nbsp;},</div><div class='line' id='LC159'>&nbsp;&nbsp;&nbsp;&nbsp;{</div><div class='line' id='LC160'>&nbsp;&nbsp;&nbsp;&nbsp;&nbsp;&quot;cell_type&quot;: &quot;code&quot;,</div><div class='line' id='LC161'>&nbsp;&nbsp;&nbsp;&nbsp;&nbsp;&quot;collapsed&quot;: false,</div><div class='line' id='LC162'>&nbsp;&nbsp;&nbsp;&nbsp;&nbsp;&quot;input&quot;: [</div><div class='line' id='LC163'>&nbsp;&nbsp;&nbsp;&nbsp;&nbsp;&nbsp;&quot; grouped = mlb.groupby(&#39;Year&#39;)&quot;</div><div class='line' id='LC164'>&nbsp;&nbsp;&nbsp;&nbsp;&nbsp;],</div><div class='line' id='LC165'>&nbsp;&nbsp;&nbsp;&nbsp;&nbsp;&quot;language&quot;: &quot;python&quot;,</div><div class='line' id='LC166'>&nbsp;&nbsp;&nbsp;&nbsp;&nbsp;&quot;metadata&quot;: {},</div><div class='line' id='LC167'>&nbsp;&nbsp;&nbsp;&nbsp;&nbsp;&quot;outputs&quot;: [],</div><div class='line' id='LC168'>&nbsp;&nbsp;&nbsp;&nbsp;&nbsp;&quot;prompt_number&quot;: 5</div><div class='line' id='LC169'>&nbsp;&nbsp;&nbsp;&nbsp;},</div><div class='line' id='LC170'>&nbsp;&nbsp;&nbsp;&nbsp;{</div><div class='line' id='LC171'>&nbsp;&nbsp;&nbsp;&nbsp;&nbsp;&quot;cell_type&quot;: &quot;code&quot;,</div><div class='line' id='LC172'>&nbsp;&nbsp;&nbsp;&nbsp;&nbsp;&quot;collapsed&quot;: false,</div><div class='line' id='LC173'>&nbsp;&nbsp;&nbsp;&nbsp;&nbsp;&quot;input&quot;: [</div><div class='line' id='LC174'>&nbsp;&nbsp;&nbsp;&nbsp;&nbsp;&nbsp;&quot; type(grouped)&quot;</div><div class='line' id='LC175'>&nbsp;&nbsp;&nbsp;&nbsp;&nbsp;],</div><div class='line' id='LC176'>&nbsp;&nbsp;&nbsp;&nbsp;&nbsp;&quot;language&quot;: &quot;python&quot;,</div><div class='line' id='LC177'>&nbsp;&nbsp;&nbsp;&nbsp;&nbsp;&quot;metadata&quot;: {},</div><div class='line' id='LC178'>&nbsp;&nbsp;&nbsp;&nbsp;&nbsp;&quot;outputs&quot;: [</div><div class='line' id='LC179'>&nbsp;&nbsp;&nbsp;&nbsp;&nbsp;&nbsp;{</div><div class='line' id='LC180'>&nbsp;&nbsp;&nbsp;&nbsp;&nbsp;&nbsp;&nbsp;&quot;metadata&quot;: {},</div><div class='line' id='LC181'>&nbsp;&nbsp;&nbsp;&nbsp;&nbsp;&nbsp;&nbsp;&quot;output_type&quot;: &quot;pyout&quot;,</div><div class='line' id='LC182'>&nbsp;&nbsp;&nbsp;&nbsp;&nbsp;&nbsp;&nbsp;&quot;prompt_number&quot;: 6,</div><div class='line' id='LC183'>&nbsp;&nbsp;&nbsp;&nbsp;&nbsp;&nbsp;&nbsp;&quot;text&quot;: [</div><div class='line' id='LC184'>&nbsp;&nbsp;&nbsp;&nbsp;&nbsp;&nbsp;&nbsp;&nbsp;&quot;pandas.core.groupby.DataFrameGroupBy&quot;</div><div class='line' id='LC185'>&nbsp;&nbsp;&nbsp;&nbsp;&nbsp;&nbsp;&nbsp;]</div><div class='line' id='LC186'>&nbsp;&nbsp;&nbsp;&nbsp;&nbsp;&nbsp;}</div><div class='line' id='LC187'>&nbsp;&nbsp;&nbsp;&nbsp;&nbsp;],</div><div class='line' id='LC188'>&nbsp;&nbsp;&nbsp;&nbsp;&nbsp;&quot;prompt_number&quot;: 6</div><div class='line' id='LC189'>&nbsp;&nbsp;&nbsp;&nbsp;},</div><div class='line' id='LC190'>&nbsp;&nbsp;&nbsp;&nbsp;{</div><div class='line' id='LC191'>&nbsp;&nbsp;&nbsp;&nbsp;&nbsp;&quot;cell_type&quot;: &quot;code&quot;,</div><div class='line' id='LC192'>&nbsp;&nbsp;&nbsp;&nbsp;&nbsp;&quot;collapsed&quot;: false,</div><div class='line' id='LC193'>&nbsp;&nbsp;&nbsp;&nbsp;&nbsp;&quot;input&quot;: [</div><div class='line' id='LC194'>&nbsp;&nbsp;&nbsp;&nbsp;&nbsp;&nbsp;&quot; for k,group in grouped:\n&quot;,</div><div class='line' id='LC195'>&nbsp;&nbsp;&nbsp;&nbsp;&nbsp;&nbsp;&quot;        print k\n&quot;,</div><div class='line' id='LC196'>&nbsp;&nbsp;&nbsp;&nbsp;&nbsp;&nbsp;&quot;        print group&quot;</div><div class='line' id='LC197'>&nbsp;&nbsp;&nbsp;&nbsp;&nbsp;],</div><div class='line' id='LC198'>&nbsp;&nbsp;&nbsp;&nbsp;&nbsp;&quot;language&quot;: &quot;python&quot;,</div><div class='line' id='LC199'>&nbsp;&nbsp;&nbsp;&nbsp;&nbsp;&quot;metadata&quot;: {},</div><div class='line' id='LC200'>&nbsp;&nbsp;&nbsp;&nbsp;&nbsp;&quot;outputs&quot;: [</div><div class='line' id='LC201'>&nbsp;&nbsp;&nbsp;&nbsp;&nbsp;&nbsp;{</div><div class='line' id='LC202'>&nbsp;&nbsp;&nbsp;&nbsp;&nbsp;&nbsp;&nbsp;&quot;output_type&quot;: &quot;stream&quot;,</div><div class='line' id='LC203'>&nbsp;&nbsp;&nbsp;&nbsp;&nbsp;&nbsp;&nbsp;&quot;stream&quot;: &quot;stdout&quot;,</div><div class='line' id='LC204'>&nbsp;&nbsp;&nbsp;&nbsp;&nbsp;&nbsp;&nbsp;&quot;text&quot;: [</div><div class='line' id='LC205'>&nbsp;&nbsp;&nbsp;&nbsp;&nbsp;&nbsp;&nbsp;&nbsp;&quot;1988\n&quot;,</div><div class='line' id='LC206'>&nbsp;&nbsp;&nbsp;&nbsp;&nbsp;&nbsp;&nbsp;&nbsp;&quot;&lt;class &#39;pandas.core.frame.DataFrame&#39;&gt;\n&quot;,</div><div class='line' id='LC207'>&nbsp;&nbsp;&nbsp;&nbsp;&nbsp;&nbsp;&nbsp;&nbsp;&quot;Int64Index: 686 entries, 0 to 685\n&quot;,</div><div class='line' id='LC208'>&nbsp;&nbsp;&nbsp;&nbsp;&nbsp;&nbsp;&nbsp;&nbsp;&quot;Data columns (total 5 columns):\n&quot;,</div><div class='line' id='LC209'>&nbsp;&nbsp;&nbsp;&nbsp;&nbsp;&nbsp;&nbsp;&nbsp;&quot;Year        686  non-null values\n&quot;,</div><div class='line' id='LC210'>&nbsp;&nbsp;&nbsp;&nbsp;&nbsp;&nbsp;&nbsp;&nbsp;&quot;Player      686  non-null values\n&quot;,</div><div class='line' id='LC211'>&nbsp;&nbsp;&nbsp;&nbsp;&nbsp;&nbsp;&nbsp;&nbsp;&quot;Salary      686  non-null values\n&quot;,</div><div class='line' id='LC212'>&nbsp;&nbsp;&nbsp;&nbsp;&nbsp;&nbsp;&nbsp;&nbsp;&quot;Position    686  non-null values\n&quot;,</div><div class='line' id='LC213'>&nbsp;&nbsp;&nbsp;&nbsp;&nbsp;&nbsp;&nbsp;&nbsp;&quot;Team        686  non-null values\n&quot;,</div><div class='line' id='LC214'>&nbsp;&nbsp;&nbsp;&nbsp;&nbsp;&nbsp;&nbsp;&nbsp;&quot;dtypes: int64(2), object(3)\n&quot;,</div><div class='line' id='LC215'>&nbsp;&nbsp;&nbsp;&nbsp;&nbsp;&nbsp;&nbsp;&nbsp;&quot;1989\n&quot;,</div><div class='line' id='LC216'>&nbsp;&nbsp;&nbsp;&nbsp;&nbsp;&nbsp;&nbsp;&nbsp;&quot;&lt;class &#39;pandas.core.frame.DataFrame&#39;&gt;\n&quot;,</div><div class='line' id='LC217'>&nbsp;&nbsp;&nbsp;&nbsp;&nbsp;&nbsp;&nbsp;&nbsp;&quot;Int64Index: 710 entries, 686 to 1395\n&quot;,</div><div class='line' id='LC218'>&nbsp;&nbsp;&nbsp;&nbsp;&nbsp;&nbsp;&nbsp;&nbsp;&quot;Data columns (total 5 columns):\n&quot;,</div><div class='line' id='LC219'>&nbsp;&nbsp;&nbsp;&nbsp;&nbsp;&nbsp;&nbsp;&nbsp;&quot;Year        710  non-null values\n&quot;,</div><div class='line' id='LC220'>&nbsp;&nbsp;&nbsp;&nbsp;&nbsp;&nbsp;&nbsp;&nbsp;&quot;Player      710  non-null values\n&quot;,</div><div class='line' id='LC221'>&nbsp;&nbsp;&nbsp;&nbsp;&nbsp;&nbsp;&nbsp;&nbsp;&quot;Salary      710  non-null values\n&quot;,</div><div class='line' id='LC222'>&nbsp;&nbsp;&nbsp;&nbsp;&nbsp;&nbsp;&nbsp;&nbsp;&quot;Position    710  non-null values\n&quot;,</div><div class='line' id='LC223'>&nbsp;&nbsp;&nbsp;&nbsp;&nbsp;&nbsp;&nbsp;&nbsp;&quot;Team        710  non-null values\n&quot;,</div><div class='line' id='LC224'>&nbsp;&nbsp;&nbsp;&nbsp;&nbsp;&nbsp;&nbsp;&nbsp;&quot;dtypes: int64(2), object(3)\n&quot;,</div><div class='line' id='LC225'>&nbsp;&nbsp;&nbsp;&nbsp;&nbsp;&nbsp;&nbsp;&nbsp;&quot;1990\n&quot;,</div><div class='line' id='LC226'>&nbsp;&nbsp;&nbsp;&nbsp;&nbsp;&nbsp;&nbsp;&nbsp;&quot;&lt;class &#39;pandas.core.frame.DataFrame&#39;&gt;\n&quot;,</div><div class='line' id='LC227'>&nbsp;&nbsp;&nbsp;&nbsp;&nbsp;&nbsp;&nbsp;&nbsp;&quot;Int64Index: 972 entries, 1396 to 2367\n&quot;,</div><div class='line' id='LC228'>&nbsp;&nbsp;&nbsp;&nbsp;&nbsp;&nbsp;&nbsp;&nbsp;&quot;Data columns (total 5 columns):\n&quot;,</div><div class='line' id='LC229'>&nbsp;&nbsp;&nbsp;&nbsp;&nbsp;&nbsp;&nbsp;&nbsp;&quot;Year        972  non-null values\n&quot;,</div><div class='line' id='LC230'>&nbsp;&nbsp;&nbsp;&nbsp;&nbsp;&nbsp;&nbsp;&nbsp;&quot;Player      972  non-null values\n&quot;,</div><div class='line' id='LC231'>&nbsp;&nbsp;&nbsp;&nbsp;&nbsp;&nbsp;&nbsp;&nbsp;&quot;Salary      972  non-null values\n&quot;,</div><div class='line' id='LC232'>&nbsp;&nbsp;&nbsp;&nbsp;&nbsp;&nbsp;&nbsp;&nbsp;&quot;Position    972  non-null values\n&quot;,</div><div class='line' id='LC233'>&nbsp;&nbsp;&nbsp;&nbsp;&nbsp;&nbsp;&nbsp;&nbsp;&quot;Team        972  non-null values\n&quot;,</div><div class='line' id='LC234'>&nbsp;&nbsp;&nbsp;&nbsp;&nbsp;&nbsp;&nbsp;&nbsp;&quot;dtypes: int64(2), object(3)\n&quot;,</div><div class='line' id='LC235'>&nbsp;&nbsp;&nbsp;&nbsp;&nbsp;&nbsp;&nbsp;&nbsp;&quot;1991\n&quot;,</div><div class='line' id='LC236'>&nbsp;&nbsp;&nbsp;&nbsp;&nbsp;&nbsp;&nbsp;&nbsp;&quot;&lt;class &#39;pandas.core.frame.DataFrame&#39;&gt;\n&quot;,</div><div class='line' id='LC237'>&nbsp;&nbsp;&nbsp;&nbsp;&nbsp;&nbsp;&nbsp;&nbsp;&quot;Int64Index: 720 entries, 2368 to 3087\n&quot;,</div><div class='line' id='LC238'>&nbsp;&nbsp;&nbsp;&nbsp;&nbsp;&nbsp;&nbsp;&nbsp;&quot;Data columns (total 5 columns):\n&quot;,</div><div class='line' id='LC239'>&nbsp;&nbsp;&nbsp;&nbsp;&nbsp;&nbsp;&nbsp;&nbsp;&quot;Year        720  non-null values\n&quot;,</div><div class='line' id='LC240'>&nbsp;&nbsp;&nbsp;&nbsp;&nbsp;&nbsp;&nbsp;&nbsp;&quot;Player      720  non-null values\n&quot;,</div><div class='line' id='LC241'>&nbsp;&nbsp;&nbsp;&nbsp;&nbsp;&nbsp;&nbsp;&nbsp;&quot;Salary      720  non-null values\n&quot;,</div><div class='line' id='LC242'>&nbsp;&nbsp;&nbsp;&nbsp;&nbsp;&nbsp;&nbsp;&nbsp;&quot;Position    720  non-null values\n&quot;,</div><div class='line' id='LC243'>&nbsp;&nbsp;&nbsp;&nbsp;&nbsp;&nbsp;&nbsp;&nbsp;&quot;Team        720  non-null values\n&quot;,</div><div class='line' id='LC244'>&nbsp;&nbsp;&nbsp;&nbsp;&nbsp;&nbsp;&nbsp;&nbsp;&quot;dtypes: int64(2), object(3)\n&quot;,</div><div class='line' id='LC245'>&nbsp;&nbsp;&nbsp;&nbsp;&nbsp;&nbsp;&nbsp;&nbsp;&quot;1992\n&quot;,</div><div class='line' id='LC246'>&nbsp;&nbsp;&nbsp;&nbsp;&nbsp;&nbsp;&nbsp;&nbsp;&quot;&lt;class &#39;pandas.core.frame.DataFrame&#39;&gt;\n&quot;,</div><div class='line' id='LC247'>&nbsp;&nbsp;&nbsp;&nbsp;&nbsp;&nbsp;&nbsp;&nbsp;&quot;Int64Index: 753 entries, 3088 to 3840\n&quot;,</div><div class='line' id='LC248'>&nbsp;&nbsp;&nbsp;&nbsp;&nbsp;&nbsp;&nbsp;&nbsp;&quot;Data columns (total 5 columns):\n&quot;,</div><div class='line' id='LC249'>&nbsp;&nbsp;&nbsp;&nbsp;&nbsp;&nbsp;&nbsp;&nbsp;&quot;Year        753  non-null values\n&quot;,</div><div class='line' id='LC250'>&nbsp;&nbsp;&nbsp;&nbsp;&nbsp;&nbsp;&nbsp;&nbsp;&quot;Player      753  non-null values\n&quot;,</div><div class='line' id='LC251'>&nbsp;&nbsp;&nbsp;&nbsp;&nbsp;&nbsp;&nbsp;&nbsp;&quot;Salary      753  non-null values\n&quot;,</div><div class='line' id='LC252'>&nbsp;&nbsp;&nbsp;&nbsp;&nbsp;&nbsp;&nbsp;&nbsp;&quot;Position    753  non-null values\n&quot;,</div><div class='line' id='LC253'>&nbsp;&nbsp;&nbsp;&nbsp;&nbsp;&nbsp;&nbsp;&nbsp;&quot;Team        753  non-null values\n&quot;,</div><div class='line' id='LC254'>&nbsp;&nbsp;&nbsp;&nbsp;&nbsp;&nbsp;&nbsp;&nbsp;&quot;dtypes: int64(2), object(3)\n&quot;,</div><div class='line' id='LC255'>&nbsp;&nbsp;&nbsp;&nbsp;&nbsp;&nbsp;&nbsp;&nbsp;&quot;1993\n&quot;,</div><div class='line' id='LC256'>&nbsp;&nbsp;&nbsp;&nbsp;&nbsp;&nbsp;&nbsp;&nbsp;&quot;&lt;class &#39;pandas.core.frame.DataFrame&#39;&gt;\n&quot;,</div><div class='line' id='LC257'>&nbsp;&nbsp;&nbsp;&nbsp;&nbsp;&nbsp;&nbsp;&nbsp;&quot;Int64Index: 786 entries, 3841 to 4626\n&quot;,</div><div class='line' id='LC258'>&nbsp;&nbsp;&nbsp;&nbsp;&nbsp;&nbsp;&nbsp;&nbsp;&quot;Data columns (total 5 columns):\n&quot;,</div><div class='line' id='LC259'>&nbsp;&nbsp;&nbsp;&nbsp;&nbsp;&nbsp;&nbsp;&nbsp;&quot;Year        786  non-null values\n&quot;,</div><div class='line' id='LC260'>&nbsp;&nbsp;&nbsp;&nbsp;&nbsp;&nbsp;&nbsp;&nbsp;&quot;Player      786  non-null values\n&quot;,</div><div class='line' id='LC261'>&nbsp;&nbsp;&nbsp;&nbsp;&nbsp;&nbsp;&nbsp;&nbsp;&quot;Salary      786  non-null values\n&quot;,</div><div class='line' id='LC262'>&nbsp;&nbsp;&nbsp;&nbsp;&nbsp;&nbsp;&nbsp;&nbsp;&quot;Position    786  non-null values\n&quot;,</div><div class='line' id='LC263'>&nbsp;&nbsp;&nbsp;&nbsp;&nbsp;&nbsp;&nbsp;&nbsp;&quot;Team        786  non-null values\n&quot;,</div><div class='line' id='LC264'>&nbsp;&nbsp;&nbsp;&nbsp;&nbsp;&nbsp;&nbsp;&nbsp;&quot;dtypes: int64(2), object(3)\n&quot;,</div><div class='line' id='LC265'>&nbsp;&nbsp;&nbsp;&nbsp;&nbsp;&nbsp;&nbsp;&nbsp;&quot;1994\n&quot;,</div><div class='line' id='LC266'>&nbsp;&nbsp;&nbsp;&nbsp;&nbsp;&nbsp;&nbsp;&nbsp;&quot;&lt;class &#39;pandas.core.frame.DataFrame&#39;&gt;\n&quot;,</div><div class='line' id='LC267'>&nbsp;&nbsp;&nbsp;&nbsp;&nbsp;&nbsp;&nbsp;&nbsp;&quot;Int64Index: 748 entries, 4627 to 5374\n&quot;,</div><div class='line' id='LC268'>&nbsp;&nbsp;&nbsp;&nbsp;&nbsp;&nbsp;&nbsp;&nbsp;&quot;Data columns (total 5 columns):\n&quot;,</div><div class='line' id='LC269'>&nbsp;&nbsp;&nbsp;&nbsp;&nbsp;&nbsp;&nbsp;&nbsp;&quot;Year        748  non-null values\n&quot;,</div><div class='line' id='LC270'>&nbsp;&nbsp;&nbsp;&nbsp;&nbsp;&nbsp;&nbsp;&nbsp;&quot;Player      748  non-null values\n&quot;,</div><div class='line' id='LC271'>&nbsp;&nbsp;&nbsp;&nbsp;&nbsp;&nbsp;&nbsp;&nbsp;&quot;Salary      748  non-null values\n&quot;,</div><div class='line' id='LC272'>&nbsp;&nbsp;&nbsp;&nbsp;&nbsp;&nbsp;&nbsp;&nbsp;&quot;Position    748  non-null values\n&quot;,</div><div class='line' id='LC273'>&nbsp;&nbsp;&nbsp;&nbsp;&nbsp;&nbsp;&nbsp;&nbsp;&quot;Team        748  non-null values\n&quot;,</div><div class='line' id='LC274'>&nbsp;&nbsp;&nbsp;&nbsp;&nbsp;&nbsp;&nbsp;&nbsp;&quot;dtypes: int64(2), object(3)\n&quot;,</div><div class='line' id='LC275'>&nbsp;&nbsp;&nbsp;&nbsp;&nbsp;&nbsp;&nbsp;&nbsp;&quot;1995\n&quot;,</div><div class='line' id='LC276'>&nbsp;&nbsp;&nbsp;&nbsp;&nbsp;&nbsp;&nbsp;&nbsp;&quot;&lt;class &#39;pandas.core.frame.DataFrame&#39;&gt;\n&quot;,</div><div class='line' id='LC277'>&nbsp;&nbsp;&nbsp;&nbsp;&nbsp;&nbsp;&nbsp;&nbsp;&quot;Int64Index: 805 entries, 5375 to 6179\n&quot;,</div><div class='line' id='LC278'>&nbsp;&nbsp;&nbsp;&nbsp;&nbsp;&nbsp;&nbsp;&nbsp;&quot;Data columns (total 5 columns):\n&quot;,</div><div class='line' id='LC279'>&nbsp;&nbsp;&nbsp;&nbsp;&nbsp;&nbsp;&nbsp;&nbsp;&quot;Year        805  non-null values\n&quot;,</div><div class='line' id='LC280'>&nbsp;&nbsp;&nbsp;&nbsp;&nbsp;&nbsp;&nbsp;&nbsp;&quot;Player      805  non-null values\n&quot;,</div><div class='line' id='LC281'>&nbsp;&nbsp;&nbsp;&nbsp;&nbsp;&nbsp;&nbsp;&nbsp;&quot;Salary      805  non-null values\n&quot;,</div><div class='line' id='LC282'>&nbsp;&nbsp;&nbsp;&nbsp;&nbsp;&nbsp;&nbsp;&nbsp;&quot;Position    805  non-null values\n&quot;,</div><div class='line' id='LC283'>&nbsp;&nbsp;&nbsp;&nbsp;&nbsp;&nbsp;&nbsp;&nbsp;&quot;Team        805  non-null values\n&quot;,</div><div class='line' id='LC284'>&nbsp;&nbsp;&nbsp;&nbsp;&nbsp;&nbsp;&nbsp;&nbsp;&quot;dtypes: int64(2), object(3)\n&quot;,</div><div class='line' id='LC285'>&nbsp;&nbsp;&nbsp;&nbsp;&nbsp;&nbsp;&nbsp;&nbsp;&quot;1996\n&quot;,</div><div class='line' id='LC286'>&nbsp;&nbsp;&nbsp;&nbsp;&nbsp;&nbsp;&nbsp;&nbsp;&quot;&lt;class &#39;pandas.core.frame.DataFrame&#39;&gt;\n&quot;,</div><div class='line' id='LC287'>&nbsp;&nbsp;&nbsp;&nbsp;&nbsp;&nbsp;&nbsp;&nbsp;&quot;Int64Index: 768 entries, 6180 to 6947\n&quot;,</div><div class='line' id='LC288'>&nbsp;&nbsp;&nbsp;&nbsp;&nbsp;&nbsp;&nbsp;&nbsp;&quot;Data columns (total 5 columns):\n&quot;,</div><div class='line' id='LC289'>&nbsp;&nbsp;&nbsp;&nbsp;&nbsp;&nbsp;&nbsp;&nbsp;&quot;Year        768  non-null values\n&quot;,</div><div class='line' id='LC290'>&nbsp;&nbsp;&nbsp;&nbsp;&nbsp;&nbsp;&nbsp;&nbsp;&quot;Player      768  non-null values\n&quot;,</div><div class='line' id='LC291'>&nbsp;&nbsp;&nbsp;&nbsp;&nbsp;&nbsp;&nbsp;&nbsp;&quot;Salary      768  non-null values\n&quot;,</div><div class='line' id='LC292'>&nbsp;&nbsp;&nbsp;&nbsp;&nbsp;&nbsp;&nbsp;&nbsp;&quot;Position    768  non-null values\n&quot;,</div><div class='line' id='LC293'>&nbsp;&nbsp;&nbsp;&nbsp;&nbsp;&nbsp;&nbsp;&nbsp;&quot;Team        768  non-null values\n&quot;,</div><div class='line' id='LC294'>&nbsp;&nbsp;&nbsp;&nbsp;&nbsp;&nbsp;&nbsp;&nbsp;&quot;dtypes: int64(2), object(3)\n&quot;,</div><div class='line' id='LC295'>&nbsp;&nbsp;&nbsp;&nbsp;&nbsp;&nbsp;&nbsp;&nbsp;&quot;1997\n&quot;,</div><div class='line' id='LC296'>&nbsp;&nbsp;&nbsp;&nbsp;&nbsp;&nbsp;&nbsp;&nbsp;&quot;&lt;class &#39;pandas.core.frame.DataFrame&#39;&gt;\n&quot;,</div><div class='line' id='LC297'>&nbsp;&nbsp;&nbsp;&nbsp;&nbsp;&nbsp;&nbsp;&nbsp;&quot;Int64Index: 773 entries, 6948 to 7720\n&quot;,</div><div class='line' id='LC298'>&nbsp;&nbsp;&nbsp;&nbsp;&nbsp;&nbsp;&nbsp;&nbsp;&quot;Data columns (total 5 columns):\n&quot;,</div><div class='line' id='LC299'>&nbsp;&nbsp;&nbsp;&nbsp;&nbsp;&nbsp;&nbsp;&nbsp;&quot;Year        773  non-null values\n&quot;,</div><div class='line' id='LC300'>&nbsp;&nbsp;&nbsp;&nbsp;&nbsp;&nbsp;&nbsp;&nbsp;&quot;Player      773  non-null values\n&quot;,</div><div class='line' id='LC301'>&nbsp;&nbsp;&nbsp;&nbsp;&nbsp;&nbsp;&nbsp;&nbsp;&quot;Salary      773  non-null values\n&quot;,</div><div class='line' id='LC302'>&nbsp;&nbsp;&nbsp;&nbsp;&nbsp;&nbsp;&nbsp;&nbsp;&quot;Position    773  non-null values\n&quot;,</div><div class='line' id='LC303'>&nbsp;&nbsp;&nbsp;&nbsp;&nbsp;&nbsp;&nbsp;&nbsp;&quot;Team        773  non-null values\n&quot;,</div><div class='line' id='LC304'>&nbsp;&nbsp;&nbsp;&nbsp;&nbsp;&nbsp;&nbsp;&nbsp;&quot;dtypes: int64(2), object(3)\n&quot;,</div><div class='line' id='LC305'>&nbsp;&nbsp;&nbsp;&nbsp;&nbsp;&nbsp;&nbsp;&nbsp;&quot;1998\n&quot;,</div><div class='line' id='LC306'>&nbsp;&nbsp;&nbsp;&nbsp;&nbsp;&nbsp;&nbsp;&nbsp;&quot;&lt;class &#39;pandas.core.frame.DataFrame&#39;&gt;\n&quot;,</div><div class='line' id='LC307'>&nbsp;&nbsp;&nbsp;&nbsp;&nbsp;&nbsp;&nbsp;&nbsp;&quot;Int64Index: 846 entries, 7721 to 8566\n&quot;,</div><div class='line' id='LC308'>&nbsp;&nbsp;&nbsp;&nbsp;&nbsp;&nbsp;&nbsp;&nbsp;&quot;Data columns (total 5 columns):\n&quot;,</div><div class='line' id='LC309'>&nbsp;&nbsp;&nbsp;&nbsp;&nbsp;&nbsp;&nbsp;&nbsp;&quot;Year        846  non-null values\n&quot;,</div><div class='line' id='LC310'>&nbsp;&nbsp;&nbsp;&nbsp;&nbsp;&nbsp;&nbsp;&nbsp;&quot;Player      846  non-null values\n&quot;,</div><div class='line' id='LC311'>&nbsp;&nbsp;&nbsp;&nbsp;&nbsp;&nbsp;&nbsp;&nbsp;&quot;Salary      846  non-null values\n&quot;,</div><div class='line' id='LC312'>&nbsp;&nbsp;&nbsp;&nbsp;&nbsp;&nbsp;&nbsp;&nbsp;&quot;Position    846  non-null values\n&quot;,</div><div class='line' id='LC313'>&nbsp;&nbsp;&nbsp;&nbsp;&nbsp;&nbsp;&nbsp;&nbsp;&quot;Team        846  non-null values\n&quot;,</div><div class='line' id='LC314'>&nbsp;&nbsp;&nbsp;&nbsp;&nbsp;&nbsp;&nbsp;&nbsp;&quot;dtypes: int64(2), object(3)\n&quot;,</div><div class='line' id='LC315'>&nbsp;&nbsp;&nbsp;&nbsp;&nbsp;&nbsp;&nbsp;&nbsp;&quot;1999\n&quot;,</div><div class='line' id='LC316'>&nbsp;&nbsp;&nbsp;&nbsp;&nbsp;&nbsp;&nbsp;&nbsp;&quot;&lt;class &#39;pandas.core.frame.DataFrame&#39;&gt;\n&quot;,</div><div class='line' id='LC317'>&nbsp;&nbsp;&nbsp;&nbsp;&nbsp;&nbsp;&nbsp;&nbsp;&quot;Int64Index: 919 entries, 8567 to 9485\n&quot;,</div><div class='line' id='LC318'>&nbsp;&nbsp;&nbsp;&nbsp;&nbsp;&nbsp;&nbsp;&nbsp;&quot;Data columns (total 5 columns):\n&quot;,</div><div class='line' id='LC319'>&nbsp;&nbsp;&nbsp;&nbsp;&nbsp;&nbsp;&nbsp;&nbsp;&quot;Year        919  non-null values\n&quot;,</div><div class='line' id='LC320'>&nbsp;&nbsp;&nbsp;&nbsp;&nbsp;&nbsp;&nbsp;&nbsp;&quot;Player      919  non-null values\n&quot;,</div><div class='line' id='LC321'>&nbsp;&nbsp;&nbsp;&nbsp;&nbsp;&nbsp;&nbsp;&nbsp;&quot;Salary      919  non-null values\n&quot;,</div><div class='line' id='LC322'>&nbsp;&nbsp;&nbsp;&nbsp;&nbsp;&nbsp;&nbsp;&nbsp;&quot;Position    919  non-null values\n&quot;,</div><div class='line' id='LC323'>&nbsp;&nbsp;&nbsp;&nbsp;&nbsp;&nbsp;&nbsp;&nbsp;&quot;Team        919  non-null values\n&quot;,</div><div class='line' id='LC324'>&nbsp;&nbsp;&nbsp;&nbsp;&nbsp;&nbsp;&nbsp;&nbsp;&quot;dtypes: int64(2), object(3)\n&quot;,</div><div class='line' id='LC325'>&nbsp;&nbsp;&nbsp;&nbsp;&nbsp;&nbsp;&nbsp;&nbsp;&quot;2000\n&quot;,</div><div class='line' id='LC326'>&nbsp;&nbsp;&nbsp;&nbsp;&nbsp;&nbsp;&nbsp;&nbsp;&quot;&lt;class &#39;pandas.core.frame.DataFrame&#39;&gt;\n&quot;,</div><div class='line' id='LC327'>&nbsp;&nbsp;&nbsp;&nbsp;&nbsp;&nbsp;&nbsp;&nbsp;&quot;Int64Index: 843 entries, 9486 to 10328\n&quot;,</div><div class='line' id='LC328'>&nbsp;&nbsp;&nbsp;&nbsp;&nbsp;&nbsp;&nbsp;&nbsp;&quot;Data columns (total 5 columns):\n&quot;,</div><div class='line' id='LC329'>&nbsp;&nbsp;&nbsp;&nbsp;&nbsp;&nbsp;&nbsp;&nbsp;&quot;Year        843  non-null values\n&quot;,</div><div class='line' id='LC330'>&nbsp;&nbsp;&nbsp;&nbsp;&nbsp;&nbsp;&nbsp;&nbsp;&quot;Player      843  non-null values\n&quot;,</div><div class='line' id='LC331'>&nbsp;&nbsp;&nbsp;&nbsp;&nbsp;&nbsp;&nbsp;&nbsp;&quot;Salary      843  non-null values\n&quot;,</div><div class='line' id='LC332'>&nbsp;&nbsp;&nbsp;&nbsp;&nbsp;&nbsp;&nbsp;&nbsp;&quot;Position    843  non-null values\n&quot;,</div><div class='line' id='LC333'>&nbsp;&nbsp;&nbsp;&nbsp;&nbsp;&nbsp;&nbsp;&nbsp;&quot;Team        843  non-null values\n&quot;,</div><div class='line' id='LC334'>&nbsp;&nbsp;&nbsp;&nbsp;&nbsp;&nbsp;&nbsp;&nbsp;&quot;dtypes: int64(2), object(3)\n&quot;,</div><div class='line' id='LC335'>&nbsp;&nbsp;&nbsp;&nbsp;&nbsp;&nbsp;&nbsp;&nbsp;&quot;2001\n&quot;,</div><div class='line' id='LC336'>&nbsp;&nbsp;&nbsp;&nbsp;&nbsp;&nbsp;&nbsp;&nbsp;&quot;&lt;class &#39;pandas.core.frame.DataFrame&#39;&gt;\n&quot;,</div><div class='line' id='LC337'>&nbsp;&nbsp;&nbsp;&nbsp;&nbsp;&nbsp;&nbsp;&nbsp;&quot;Int64Index: 857 entries, 10329 to 11185\n&quot;,</div><div class='line' id='LC338'>&nbsp;&nbsp;&nbsp;&nbsp;&nbsp;&nbsp;&nbsp;&nbsp;&quot;Data columns (total 5 columns):\n&quot;,</div><div class='line' id='LC339'>&nbsp;&nbsp;&nbsp;&nbsp;&nbsp;&nbsp;&nbsp;&nbsp;&quot;Year        857  non-null values\n&quot;,</div><div class='line' id='LC340'>&nbsp;&nbsp;&nbsp;&nbsp;&nbsp;&nbsp;&nbsp;&nbsp;&quot;Player      857  non-null values\n&quot;,</div><div class='line' id='LC341'>&nbsp;&nbsp;&nbsp;&nbsp;&nbsp;&nbsp;&nbsp;&nbsp;&quot;Salary      857  non-null values\n&quot;,</div><div class='line' id='LC342'>&nbsp;&nbsp;&nbsp;&nbsp;&nbsp;&nbsp;&nbsp;&nbsp;&quot;Position    857  non-null values\n&quot;,</div><div class='line' id='LC343'>&nbsp;&nbsp;&nbsp;&nbsp;&nbsp;&nbsp;&nbsp;&nbsp;&quot;Team        857  non-null values\n&quot;,</div><div class='line' id='LC344'>&nbsp;&nbsp;&nbsp;&nbsp;&nbsp;&nbsp;&nbsp;&nbsp;&quot;dtypes: int64(2), object(3)\n&quot;,</div><div class='line' id='LC345'>&nbsp;&nbsp;&nbsp;&nbsp;&nbsp;&nbsp;&nbsp;&nbsp;&quot;2002\n&quot;,</div><div class='line' id='LC346'>&nbsp;&nbsp;&nbsp;&nbsp;&nbsp;&nbsp;&nbsp;&nbsp;&quot;&lt;class &#39;pandas.core.frame.DataFrame&#39;&gt;\n&quot;,</div><div class='line' id='LC347'>&nbsp;&nbsp;&nbsp;&nbsp;&nbsp;&nbsp;&nbsp;&nbsp;&quot;Int64Index: 849 entries, 11186 to 12034\n&quot;,</div><div class='line' id='LC348'>&nbsp;&nbsp;&nbsp;&nbsp;&nbsp;&nbsp;&nbsp;&nbsp;&quot;Data columns (total 5 columns):\n&quot;,</div><div class='line' id='LC349'>&nbsp;&nbsp;&nbsp;&nbsp;&nbsp;&nbsp;&nbsp;&nbsp;&quot;Year        849  non-null values\n&quot;,</div><div class='line' id='LC350'>&nbsp;&nbsp;&nbsp;&nbsp;&nbsp;&nbsp;&nbsp;&nbsp;&quot;Player      849  non-null values\n&quot;,</div><div class='line' id='LC351'>&nbsp;&nbsp;&nbsp;&nbsp;&nbsp;&nbsp;&nbsp;&nbsp;&quot;Salary      849  non-null values\n&quot;,</div><div class='line' id='LC352'>&nbsp;&nbsp;&nbsp;&nbsp;&nbsp;&nbsp;&nbsp;&nbsp;&quot;Position    849  non-null values\n&quot;,</div><div class='line' id='LC353'>&nbsp;&nbsp;&nbsp;&nbsp;&nbsp;&nbsp;&nbsp;&nbsp;&quot;Team        849  non-null values\n&quot;,</div><div class='line' id='LC354'>&nbsp;&nbsp;&nbsp;&nbsp;&nbsp;&nbsp;&nbsp;&nbsp;&quot;dtypes: int64(2), object(3)\n&quot;,</div><div class='line' id='LC355'>&nbsp;&nbsp;&nbsp;&nbsp;&nbsp;&nbsp;&nbsp;&nbsp;&quot;2003\n&quot;,</div><div class='line' id='LC356'>&nbsp;&nbsp;&nbsp;&nbsp;&nbsp;&nbsp;&nbsp;&nbsp;&quot;&lt;class &#39;pandas.core.frame.DataFrame&#39;&gt;\n&quot;,</div><div class='line' id='LC357'>&nbsp;&nbsp;&nbsp;&nbsp;&nbsp;&nbsp;&nbsp;&nbsp;&quot;Int64Index: 826 entries, 12035 to 12860\n&quot;,</div><div class='line' id='LC358'>&nbsp;&nbsp;&nbsp;&nbsp;&nbsp;&nbsp;&nbsp;&nbsp;&quot;Data columns (total 5 columns):\n&quot;,</div><div class='line' id='LC359'>&nbsp;&nbsp;&nbsp;&nbsp;&nbsp;&nbsp;&nbsp;&nbsp;&quot;Year        826  non-null values\n&quot;,</div><div class='line' id='LC360'>&nbsp;&nbsp;&nbsp;&nbsp;&nbsp;&nbsp;&nbsp;&nbsp;&quot;Player      826  non-null values\n&quot;,</div><div class='line' id='LC361'>&nbsp;&nbsp;&nbsp;&nbsp;&nbsp;&nbsp;&nbsp;&nbsp;&quot;Salary      826  non-null values\n&quot;,</div><div class='line' id='LC362'>&nbsp;&nbsp;&nbsp;&nbsp;&nbsp;&nbsp;&nbsp;&nbsp;&quot;Position    826  non-null values\n&quot;,</div><div class='line' id='LC363'>&nbsp;&nbsp;&nbsp;&nbsp;&nbsp;&nbsp;&nbsp;&nbsp;&quot;Team        826  non-null values\n&quot;,</div><div class='line' id='LC364'>&nbsp;&nbsp;&nbsp;&nbsp;&nbsp;&nbsp;&nbsp;&nbsp;&quot;dtypes: int64(2), object(3)\n&quot;,</div><div class='line' id='LC365'>&nbsp;&nbsp;&nbsp;&nbsp;&nbsp;&nbsp;&nbsp;&nbsp;&quot;2004\n&quot;,</div><div class='line' id='LC366'>&nbsp;&nbsp;&nbsp;&nbsp;&nbsp;&nbsp;&nbsp;&nbsp;&quot;&lt;class &#39;pandas.core.frame.DataFrame&#39;&gt;\n&quot;,</div><div class='line' id='LC367'>&nbsp;&nbsp;&nbsp;&nbsp;&nbsp;&nbsp;&nbsp;&nbsp;&quot;Int64Index: 833 entries, 12861 to 13693\n&quot;,</div><div class='line' id='LC368'>&nbsp;&nbsp;&nbsp;&nbsp;&nbsp;&nbsp;&nbsp;&nbsp;&quot;Data columns (total 5 columns):\n&quot;,</div><div class='line' id='LC369'>&nbsp;&nbsp;&nbsp;&nbsp;&nbsp;&nbsp;&nbsp;&nbsp;&quot;Year        833  non-null values\n&quot;,</div><div class='line' id='LC370'>&nbsp;&nbsp;&nbsp;&nbsp;&nbsp;&nbsp;&nbsp;&nbsp;&quot;Player      833  non-null values\n&quot;,</div><div class='line' id='LC371'>&nbsp;&nbsp;&nbsp;&nbsp;&nbsp;&nbsp;&nbsp;&nbsp;&quot;Salary      833  non-null values\n&quot;,</div><div class='line' id='LC372'>&nbsp;&nbsp;&nbsp;&nbsp;&nbsp;&nbsp;&nbsp;&nbsp;&quot;Position    833  non-null values\n&quot;,</div><div class='line' id='LC373'>&nbsp;&nbsp;&nbsp;&nbsp;&nbsp;&nbsp;&nbsp;&nbsp;&quot;Team        833  non-null values\n&quot;,</div><div class='line' id='LC374'>&nbsp;&nbsp;&nbsp;&nbsp;&nbsp;&nbsp;&nbsp;&nbsp;&quot;dtypes: int64(2), object(3)\n&quot;,</div><div class='line' id='LC375'>&nbsp;&nbsp;&nbsp;&nbsp;&nbsp;&nbsp;&nbsp;&nbsp;&quot;2005\n&quot;,</div><div class='line' id='LC376'>&nbsp;&nbsp;&nbsp;&nbsp;&nbsp;&nbsp;&nbsp;&nbsp;&quot;&lt;class &#39;pandas.core.frame.DataFrame&#39;&gt;\n&quot;,</div><div class='line' id='LC377'>&nbsp;&nbsp;&nbsp;&nbsp;&nbsp;&nbsp;&nbsp;&nbsp;&quot;Int64Index: 831 entries, 13694 to 14524\n&quot;,</div><div class='line' id='LC378'>&nbsp;&nbsp;&nbsp;&nbsp;&nbsp;&nbsp;&nbsp;&nbsp;&quot;Data columns (total 5 columns):\n&quot;,</div><div class='line' id='LC379'>&nbsp;&nbsp;&nbsp;&nbsp;&nbsp;&nbsp;&nbsp;&nbsp;&quot;Year        831  non-null values\n&quot;,</div><div class='line' id='LC380'>&nbsp;&nbsp;&nbsp;&nbsp;&nbsp;&nbsp;&nbsp;&nbsp;&quot;Player      831  non-null values\n&quot;,</div><div class='line' id='LC381'>&nbsp;&nbsp;&nbsp;&nbsp;&nbsp;&nbsp;&nbsp;&nbsp;&quot;Salary      831  non-null values\n&quot;,</div><div class='line' id='LC382'>&nbsp;&nbsp;&nbsp;&nbsp;&nbsp;&nbsp;&nbsp;&nbsp;&quot;Position    831  non-null values\n&quot;,</div><div class='line' id='LC383'>&nbsp;&nbsp;&nbsp;&nbsp;&nbsp;&nbsp;&nbsp;&nbsp;&quot;Team        831  non-null values\n&quot;,</div><div class='line' id='LC384'>&nbsp;&nbsp;&nbsp;&nbsp;&nbsp;&nbsp;&nbsp;&nbsp;&quot;dtypes: int64(2), object(3)\n&quot;,</div><div class='line' id='LC385'>&nbsp;&nbsp;&nbsp;&nbsp;&nbsp;&nbsp;&nbsp;&nbsp;&quot;2006\n&quot;,</div><div class='line' id='LC386'>&nbsp;&nbsp;&nbsp;&nbsp;&nbsp;&nbsp;&nbsp;&nbsp;&quot;&lt;class &#39;pandas.core.frame.DataFrame&#39;&gt;\n&quot;,</div><div class='line' id='LC387'>&nbsp;&nbsp;&nbsp;&nbsp;&nbsp;&nbsp;&nbsp;&nbsp;&quot;Int64Index: 823 entries, 14525 to 15347\n&quot;,</div><div class='line' id='LC388'>&nbsp;&nbsp;&nbsp;&nbsp;&nbsp;&nbsp;&nbsp;&nbsp;&quot;Data columns (total 5 columns):\n&quot;,</div><div class='line' id='LC389'>&nbsp;&nbsp;&nbsp;&nbsp;&nbsp;&nbsp;&nbsp;&nbsp;&quot;Year        823  non-null values\n&quot;,</div><div class='line' id='LC390'>&nbsp;&nbsp;&nbsp;&nbsp;&nbsp;&nbsp;&nbsp;&nbsp;&quot;Player      823  non-null values\n&quot;,</div><div class='line' id='LC391'>&nbsp;&nbsp;&nbsp;&nbsp;&nbsp;&nbsp;&nbsp;&nbsp;&quot;Salary      823  non-null values\n&quot;,</div><div class='line' id='LC392'>&nbsp;&nbsp;&nbsp;&nbsp;&nbsp;&nbsp;&nbsp;&nbsp;&quot;Position    823  non-null values\n&quot;,</div><div class='line' id='LC393'>&nbsp;&nbsp;&nbsp;&nbsp;&nbsp;&nbsp;&nbsp;&nbsp;&quot;Team        823  non-null values\n&quot;,</div><div class='line' id='LC394'>&nbsp;&nbsp;&nbsp;&nbsp;&nbsp;&nbsp;&nbsp;&nbsp;&quot;dtypes: int64(2), object(3)\n&quot;,</div><div class='line' id='LC395'>&nbsp;&nbsp;&nbsp;&nbsp;&nbsp;&nbsp;&nbsp;&nbsp;&quot;2007\n&quot;,</div><div class='line' id='LC396'>&nbsp;&nbsp;&nbsp;&nbsp;&nbsp;&nbsp;&nbsp;&nbsp;&quot;&lt;class &#39;pandas.core.frame.DataFrame&#39;&gt;\n&quot;,</div><div class='line' id='LC397'>&nbsp;&nbsp;&nbsp;&nbsp;&nbsp;&nbsp;&nbsp;&nbsp;&quot;Int64Index: 848 entries, 15348 to 16195\n&quot;,</div><div class='line' id='LC398'>&nbsp;&nbsp;&nbsp;&nbsp;&nbsp;&nbsp;&nbsp;&nbsp;&quot;Data columns (total 5 columns):\n&quot;,</div><div class='line' id='LC399'>&nbsp;&nbsp;&nbsp;&nbsp;&nbsp;&nbsp;&nbsp;&nbsp;&quot;Year        848  non-null values\n&quot;,</div><div class='line' id='LC400'>&nbsp;&nbsp;&nbsp;&nbsp;&nbsp;&nbsp;&nbsp;&nbsp;&quot;Player      848  non-null values\n&quot;,</div><div class='line' id='LC401'>&nbsp;&nbsp;&nbsp;&nbsp;&nbsp;&nbsp;&nbsp;&nbsp;&quot;Salary      848  non-null values\n&quot;,</div><div class='line' id='LC402'>&nbsp;&nbsp;&nbsp;&nbsp;&nbsp;&nbsp;&nbsp;&nbsp;&quot;Position    848  non-null values\n&quot;,</div><div class='line' id='LC403'>&nbsp;&nbsp;&nbsp;&nbsp;&nbsp;&nbsp;&nbsp;&nbsp;&quot;Team        848  non-null values\n&quot;,</div><div class='line' id='LC404'>&nbsp;&nbsp;&nbsp;&nbsp;&nbsp;&nbsp;&nbsp;&nbsp;&quot;dtypes: int64(2), object(3)\n&quot;,</div><div class='line' id='LC405'>&nbsp;&nbsp;&nbsp;&nbsp;&nbsp;&nbsp;&nbsp;&nbsp;&quot;2008\n&quot;,</div><div class='line' id='LC406'>&nbsp;&nbsp;&nbsp;&nbsp;&nbsp;&nbsp;&nbsp;&nbsp;&quot;&lt;class &#39;pandas.core.frame.DataFrame&#39;&gt;\n&quot;,</div><div class='line' id='LC407'>&nbsp;&nbsp;&nbsp;&nbsp;&nbsp;&nbsp;&nbsp;&nbsp;&quot;Int64Index: 858 entries, 16196 to 17053\n&quot;,</div><div class='line' id='LC408'>&nbsp;&nbsp;&nbsp;&nbsp;&nbsp;&nbsp;&nbsp;&nbsp;&quot;Data columns (total 5 columns):\n&quot;,</div><div class='line' id='LC409'>&nbsp;&nbsp;&nbsp;&nbsp;&nbsp;&nbsp;&nbsp;&nbsp;&quot;Year        858  non-null values\n&quot;,</div><div class='line' id='LC410'>&nbsp;&nbsp;&nbsp;&nbsp;&nbsp;&nbsp;&nbsp;&nbsp;&quot;Player      858  non-null values\n&quot;,</div><div class='line' id='LC411'>&nbsp;&nbsp;&nbsp;&nbsp;&nbsp;&nbsp;&nbsp;&nbsp;&quot;Salary      858  non-null values\n&quot;,</div><div class='line' id='LC412'>&nbsp;&nbsp;&nbsp;&nbsp;&nbsp;&nbsp;&nbsp;&nbsp;&quot;Position    858  non-null values\n&quot;,</div><div class='line' id='LC413'>&nbsp;&nbsp;&nbsp;&nbsp;&nbsp;&nbsp;&nbsp;&nbsp;&quot;Team        858  non-null values\n&quot;,</div><div class='line' id='LC414'>&nbsp;&nbsp;&nbsp;&nbsp;&nbsp;&nbsp;&nbsp;&nbsp;&quot;dtypes: int64(2), object(3)\n&quot;,</div><div class='line' id='LC415'>&nbsp;&nbsp;&nbsp;&nbsp;&nbsp;&nbsp;&nbsp;&nbsp;&quot;2009\n&quot;,</div><div class='line' id='LC416'>&nbsp;&nbsp;&nbsp;&nbsp;&nbsp;&nbsp;&nbsp;&nbsp;&quot;&lt;class &#39;pandas.core.frame.DataFrame&#39;&gt;\n&quot;,</div><div class='line' id='LC417'>&nbsp;&nbsp;&nbsp;&nbsp;&nbsp;&nbsp;&nbsp;&nbsp;&quot;Int64Index: 818 entries, 17054 to 17871\n&quot;,</div><div class='line' id='LC418'>&nbsp;&nbsp;&nbsp;&nbsp;&nbsp;&nbsp;&nbsp;&nbsp;&quot;Data columns (total 5 columns):\n&quot;,</div><div class='line' id='LC419'>&nbsp;&nbsp;&nbsp;&nbsp;&nbsp;&nbsp;&nbsp;&nbsp;&quot;Year        818  non-null values\n&quot;,</div><div class='line' id='LC420'>&nbsp;&nbsp;&nbsp;&nbsp;&nbsp;&nbsp;&nbsp;&nbsp;&quot;Player      818  non-null values\n&quot;,</div><div class='line' id='LC421'>&nbsp;&nbsp;&nbsp;&nbsp;&nbsp;&nbsp;&nbsp;&nbsp;&quot;Salary      818  non-null values\n&quot;,</div><div class='line' id='LC422'>&nbsp;&nbsp;&nbsp;&nbsp;&nbsp;&nbsp;&nbsp;&nbsp;&quot;Position    818  non-null values\n&quot;,</div><div class='line' id='LC423'>&nbsp;&nbsp;&nbsp;&nbsp;&nbsp;&nbsp;&nbsp;&nbsp;&quot;Team        818  non-null values\n&quot;,</div><div class='line' id='LC424'>&nbsp;&nbsp;&nbsp;&nbsp;&nbsp;&nbsp;&nbsp;&nbsp;&quot;dtypes: int64(2), object(3)\n&quot;,</div><div class='line' id='LC425'>&nbsp;&nbsp;&nbsp;&nbsp;&nbsp;&nbsp;&nbsp;&nbsp;&quot;2010\n&quot;,</div><div class='line' id='LC426'>&nbsp;&nbsp;&nbsp;&nbsp;&nbsp;&nbsp;&nbsp;&nbsp;&quot;&lt;class &#39;pandas.core.frame.DataFrame&#39;&gt;\n&quot;,</div><div class='line' id='LC427'>&nbsp;&nbsp;&nbsp;&nbsp;&nbsp;&nbsp;&nbsp;&nbsp;&quot;Int64Index: 828 entries, 17872 to 18699\n&quot;,</div><div class='line' id='LC428'>&nbsp;&nbsp;&nbsp;&nbsp;&nbsp;&nbsp;&nbsp;&nbsp;&quot;Data columns (total 5 columns):\n&quot;,</div><div class='line' id='LC429'>&nbsp;&nbsp;&nbsp;&nbsp;&nbsp;&nbsp;&nbsp;&nbsp;&quot;Year        828  non-null values\n&quot;,</div><div class='line' id='LC430'>&nbsp;&nbsp;&nbsp;&nbsp;&nbsp;&nbsp;&nbsp;&nbsp;&quot;Player      828  non-null values\n&quot;,</div><div class='line' id='LC431'>&nbsp;&nbsp;&nbsp;&nbsp;&nbsp;&nbsp;&nbsp;&nbsp;&quot;Salary      828  non-null values\n&quot;,</div><div class='line' id='LC432'>&nbsp;&nbsp;&nbsp;&nbsp;&nbsp;&nbsp;&nbsp;&nbsp;&quot;Position    828  non-null values\n&quot;,</div><div class='line' id='LC433'>&nbsp;&nbsp;&nbsp;&nbsp;&nbsp;&nbsp;&nbsp;&nbsp;&quot;Team        828  non-null values\n&quot;,</div><div class='line' id='LC434'>&nbsp;&nbsp;&nbsp;&nbsp;&nbsp;&nbsp;&nbsp;&nbsp;&quot;dtypes: int64(2), object(3)\n&quot;,</div><div class='line' id='LC435'>&nbsp;&nbsp;&nbsp;&nbsp;&nbsp;&nbsp;&nbsp;&nbsp;&quot;2011\n&quot;,</div><div class='line' id='LC436'>&nbsp;&nbsp;&nbsp;&nbsp;&nbsp;&nbsp;&nbsp;&nbsp;&quot;&lt;class &#39;pandas.core.frame.DataFrame&#39;&gt;\n&quot;,</div><div class='line' id='LC437'>&nbsp;&nbsp;&nbsp;&nbsp;&nbsp;&nbsp;&nbsp;&nbsp;&quot;Int64Index: 843 entries, 18700 to 19542\n&quot;,</div><div class='line' id='LC438'>&nbsp;&nbsp;&nbsp;&nbsp;&nbsp;&nbsp;&nbsp;&nbsp;&quot;Data columns (total 5 columns):\n&quot;,</div><div class='line' id='LC439'>&nbsp;&nbsp;&nbsp;&nbsp;&nbsp;&nbsp;&nbsp;&nbsp;&quot;Year        843  non-null values\n&quot;,</div><div class='line' id='LC440'>&nbsp;&nbsp;&nbsp;&nbsp;&nbsp;&nbsp;&nbsp;&nbsp;&quot;Player      843  non-null values\n&quot;,</div><div class='line' id='LC441'>&nbsp;&nbsp;&nbsp;&nbsp;&nbsp;&nbsp;&nbsp;&nbsp;&quot;Salary      843  non-null values\n&quot;,</div><div class='line' id='LC442'>&nbsp;&nbsp;&nbsp;&nbsp;&nbsp;&nbsp;&nbsp;&nbsp;&quot;Position    843  non-null values\n&quot;,</div><div class='line' id='LC443'>&nbsp;&nbsp;&nbsp;&nbsp;&nbsp;&nbsp;&nbsp;&nbsp;&quot;Team        843  non-null values\n&quot;,</div><div class='line' id='LC444'>&nbsp;&nbsp;&nbsp;&nbsp;&nbsp;&nbsp;&nbsp;&nbsp;&quot;dtypes: int64(2), object(3)\n&quot;</div><div class='line' id='LC445'>&nbsp;&nbsp;&nbsp;&nbsp;&nbsp;&nbsp;&nbsp;]</div><div class='line' id='LC446'>&nbsp;&nbsp;&nbsp;&nbsp;&nbsp;&nbsp;}</div><div class='line' id='LC447'>&nbsp;&nbsp;&nbsp;&nbsp;&nbsp;],</div><div class='line' id='LC448'>&nbsp;&nbsp;&nbsp;&nbsp;&nbsp;&quot;prompt_number&quot;: 7</div><div class='line' id='LC449'>&nbsp;&nbsp;&nbsp;&nbsp;},</div><div class='line' id='LC450'>&nbsp;&nbsp;&nbsp;&nbsp;{</div><div class='line' id='LC451'>&nbsp;&nbsp;&nbsp;&nbsp;&nbsp;&quot;cell_type&quot;: &quot;markdown&quot;,</div><div class='line' id='LC452'>&nbsp;&nbsp;&nbsp;&nbsp;&nbsp;&quot;metadata&quot;: {},</div><div class='line' id='LC453'>&nbsp;&nbsp;&nbsp;&nbsp;&nbsp;&quot;source&quot;: [</div><div class='line' id='LC454'>&nbsp;&nbsp;&nbsp;&nbsp;&nbsp;&nbsp;&quot;####3.13 Extract highest-paid player from each group (i.e. year)&quot;</div><div class='line' id='LC455'>&nbsp;&nbsp;&nbsp;&nbsp;&nbsp;]</div><div class='line' id='LC456'>&nbsp;&nbsp;&nbsp;&nbsp;},</div><div class='line' id='LC457'>&nbsp;&nbsp;&nbsp;&nbsp;{</div><div class='line' id='LC458'>&nbsp;&nbsp;&nbsp;&nbsp;&nbsp;&quot;cell_type&quot;: &quot;code&quot;,</div><div class='line' id='LC459'>&nbsp;&nbsp;&nbsp;&nbsp;&nbsp;&quot;collapsed&quot;: false,</div><div class='line' id='LC460'>&nbsp;&nbsp;&nbsp;&nbsp;&nbsp;&quot;input&quot;: [</div><div class='line' id='LC461'>&nbsp;&nbsp;&nbsp;&nbsp;&nbsp;&nbsp;&quot;# generator comprehension for retrieving highest paid player by year\n&quot;,</div><div class='line' id='LC462'>&nbsp;&nbsp;&nbsp;&nbsp;&nbsp;&nbsp;&quot;t = (group.sort_index(by=&#39;Salary&#39;, ascending=False)[:1] for yr,group in grouped)&quot;</div><div class='line' id='LC463'>&nbsp;&nbsp;&nbsp;&nbsp;&nbsp;],</div><div class='line' id='LC464'>&nbsp;&nbsp;&nbsp;&nbsp;&nbsp;&quot;language&quot;: &quot;python&quot;,</div><div class='line' id='LC465'>&nbsp;&nbsp;&nbsp;&nbsp;&nbsp;&quot;metadata&quot;: {},</div><div class='line' id='LC466'>&nbsp;&nbsp;&nbsp;&nbsp;&nbsp;&quot;outputs&quot;: [],</div><div class='line' id='LC467'>&nbsp;&nbsp;&nbsp;&nbsp;&nbsp;&quot;prompt_number&quot;: 8</div><div class='line' id='LC468'>&nbsp;&nbsp;&nbsp;&nbsp;},</div><div class='line' id='LC469'>&nbsp;&nbsp;&nbsp;&nbsp;{</div><div class='line' id='LC470'>&nbsp;&nbsp;&nbsp;&nbsp;&nbsp;&quot;cell_type&quot;: &quot;code&quot;,</div><div class='line' id='LC471'>&nbsp;&nbsp;&nbsp;&nbsp;&nbsp;&quot;collapsed&quot;: false,</div><div class='line' id='LC472'>&nbsp;&nbsp;&nbsp;&nbsp;&nbsp;&quot;input&quot;: [</div><div class='line' id='LC473'>&nbsp;&nbsp;&nbsp;&nbsp;&nbsp;&nbsp;&quot;t&quot;</div><div class='line' id='LC474'>&nbsp;&nbsp;&nbsp;&nbsp;&nbsp;],</div><div class='line' id='LC475'>&nbsp;&nbsp;&nbsp;&nbsp;&nbsp;&quot;language&quot;: &quot;python&quot;,</div><div class='line' id='LC476'>&nbsp;&nbsp;&nbsp;&nbsp;&nbsp;&quot;metadata&quot;: {},</div><div class='line' id='LC477'>&nbsp;&nbsp;&nbsp;&nbsp;&nbsp;&quot;outputs&quot;: [</div><div class='line' id='LC478'>&nbsp;&nbsp;&nbsp;&nbsp;&nbsp;&nbsp;{</div><div class='line' id='LC479'>&nbsp;&nbsp;&nbsp;&nbsp;&nbsp;&nbsp;&nbsp;&quot;metadata&quot;: {},</div><div class='line' id='LC480'>&nbsp;&nbsp;&nbsp;&nbsp;&nbsp;&nbsp;&nbsp;&quot;output_type&quot;: &quot;pyout&quot;,</div><div class='line' id='LC481'>&nbsp;&nbsp;&nbsp;&nbsp;&nbsp;&nbsp;&nbsp;&quot;prompt_number&quot;: 9,</div><div class='line' id='LC482'>&nbsp;&nbsp;&nbsp;&nbsp;&nbsp;&nbsp;&nbsp;&quot;text&quot;: [</div><div class='line' id='LC483'>&nbsp;&nbsp;&nbsp;&nbsp;&nbsp;&nbsp;&nbsp;&nbsp;&quot;&lt;generator object &lt;genexpr&gt; at 0x10f078870&gt;&quot;</div><div class='line' id='LC484'>&nbsp;&nbsp;&nbsp;&nbsp;&nbsp;&nbsp;&nbsp;]</div><div class='line' id='LC485'>&nbsp;&nbsp;&nbsp;&nbsp;&nbsp;&nbsp;}</div><div class='line' id='LC486'>&nbsp;&nbsp;&nbsp;&nbsp;&nbsp;],</div><div class='line' id='LC487'>&nbsp;&nbsp;&nbsp;&nbsp;&nbsp;&quot;prompt_number&quot;: 9</div><div class='line' id='LC488'>&nbsp;&nbsp;&nbsp;&nbsp;},</div><div class='line' id='LC489'>&nbsp;&nbsp;&nbsp;&nbsp;{</div><div class='line' id='LC490'>&nbsp;&nbsp;&nbsp;&nbsp;&nbsp;&quot;cell_type&quot;: &quot;markdown&quot;,</div><div class='line' id='LC491'>&nbsp;&nbsp;&nbsp;&nbsp;&nbsp;&quot;metadata&quot;: {},</div><div class='line' id='LC492'>&nbsp;&nbsp;&nbsp;&nbsp;&nbsp;&quot;source&quot;: [</div><div class='line' id='LC493'>&nbsp;&nbsp;&nbsp;&nbsp;&nbsp;&nbsp;&quot;####3.14 Create new dataframe with list of highest-paid players by year&quot;</div><div class='line' id='LC494'>&nbsp;&nbsp;&nbsp;&nbsp;&nbsp;]</div><div class='line' id='LC495'>&nbsp;&nbsp;&nbsp;&nbsp;},</div><div class='line' id='LC496'>&nbsp;&nbsp;&nbsp;&nbsp;{</div><div class='line' id='LC497'>&nbsp;&nbsp;&nbsp;&nbsp;&nbsp;&quot;cell_type&quot;: &quot;code&quot;,</div><div class='line' id='LC498'>&nbsp;&nbsp;&nbsp;&nbsp;&nbsp;&quot;collapsed&quot;: false,</div><div class='line' id='LC499'>&nbsp;&nbsp;&nbsp;&nbsp;&nbsp;&quot;input&quot;: [</div><div class='line' id='LC500'>&nbsp;&nbsp;&nbsp;&nbsp;&nbsp;&nbsp;&quot;#create empty dataframe for populating\n&quot;,</div><div class='line' id='LC501'>&nbsp;&nbsp;&nbsp;&nbsp;&nbsp;&nbsp;&quot;topsalaries = pd.DataFrame()\n&quot;,</div><div class='line' id='LC502'>&nbsp;&nbsp;&nbsp;&nbsp;&nbsp;&nbsp;&quot; &quot;</div><div class='line' id='LC503'>&nbsp;&nbsp;&nbsp;&nbsp;&nbsp;],</div><div class='line' id='LC504'>&nbsp;&nbsp;&nbsp;&nbsp;&nbsp;&quot;language&quot;: &quot;python&quot;,</div><div class='line' id='LC505'>&nbsp;&nbsp;&nbsp;&nbsp;&nbsp;&quot;metadata&quot;: {},</div><div class='line' id='LC506'>&nbsp;&nbsp;&nbsp;&nbsp;&nbsp;&quot;outputs&quot;: [],</div><div class='line' id='LC507'>&nbsp;&nbsp;&nbsp;&nbsp;&nbsp;&quot;prompt_number&quot;: 10</div><div class='line' id='LC508'>&nbsp;&nbsp;&nbsp;&nbsp;},</div><div class='line' id='LC509'>&nbsp;&nbsp;&nbsp;&nbsp;{</div><div class='line' id='LC510'>&nbsp;&nbsp;&nbsp;&nbsp;&nbsp;&quot;cell_type&quot;: &quot;code&quot;,</div><div class='line' id='LC511'>&nbsp;&nbsp;&nbsp;&nbsp;&nbsp;&quot;collapsed&quot;: false,</div><div class='line' id='LC512'>&nbsp;&nbsp;&nbsp;&nbsp;&nbsp;&quot;input&quot;: [</div><div class='line' id='LC513'>&nbsp;&nbsp;&nbsp;&nbsp;&nbsp;&nbsp;&quot;for line in t:\n&quot;,</div><div class='line' id='LC514'>&nbsp;&nbsp;&nbsp;&nbsp;&nbsp;&nbsp;&quot;    topsalaries = topsalaries.append(line)&quot;</div><div class='line' id='LC515'>&nbsp;&nbsp;&nbsp;&nbsp;&nbsp;],</div><div class='line' id='LC516'>&nbsp;&nbsp;&nbsp;&nbsp;&nbsp;&quot;language&quot;: &quot;python&quot;,</div><div class='line' id='LC517'>&nbsp;&nbsp;&nbsp;&nbsp;&nbsp;&quot;metadata&quot;: {},</div><div class='line' id='LC518'>&nbsp;&nbsp;&nbsp;&nbsp;&nbsp;&quot;outputs&quot;: [],</div><div class='line' id='LC519'>&nbsp;&nbsp;&nbsp;&nbsp;&nbsp;&quot;prompt_number&quot;: 11</div><div class='line' id='LC520'>&nbsp;&nbsp;&nbsp;&nbsp;},</div><div class='line' id='LC521'>&nbsp;&nbsp;&nbsp;&nbsp;{</div><div class='line' id='LC522'>&nbsp;&nbsp;&nbsp;&nbsp;&nbsp;&quot;cell_type&quot;: &quot;code&quot;,</div><div class='line' id='LC523'>&nbsp;&nbsp;&nbsp;&nbsp;&nbsp;&quot;collapsed&quot;: false,</div><div class='line' id='LC524'>&nbsp;&nbsp;&nbsp;&nbsp;&nbsp;&quot;input&quot;: [</div><div class='line' id='LC525'>&nbsp;&nbsp;&nbsp;&nbsp;&nbsp;&nbsp;&quot;topsalaries&quot;</div><div class='line' id='LC526'>&nbsp;&nbsp;&nbsp;&nbsp;&nbsp;],</div><div class='line' id='LC527'>&nbsp;&nbsp;&nbsp;&nbsp;&nbsp;&quot;language&quot;: &quot;python&quot;,</div><div class='line' id='LC528'>&nbsp;&nbsp;&nbsp;&nbsp;&nbsp;&quot;metadata&quot;: {},</div><div class='line' id='LC529'>&nbsp;&nbsp;&nbsp;&nbsp;&nbsp;&quot;outputs&quot;: [</div><div class='line' id='LC530'>&nbsp;&nbsp;&nbsp;&nbsp;&nbsp;&nbsp;{</div><div class='line' id='LC531'>&nbsp;&nbsp;&nbsp;&nbsp;&nbsp;&nbsp;&nbsp;&quot;html&quot;: [</div><div class='line' id='LC532'>&nbsp;&nbsp;&nbsp;&nbsp;&nbsp;&nbsp;&nbsp;&nbsp;&quot;&lt;div style=\&quot;max-height:1000px;max-width:1500px;overflow:auto;\&quot;&gt;\n&quot;,</div><div class='line' id='LC533'>&nbsp;&nbsp;&nbsp;&nbsp;&nbsp;&nbsp;&nbsp;&nbsp;&quot;&lt;table border=\&quot;1\&quot; class=\&quot;dataframe\&quot;&gt;\n&quot;,</div><div class='line' id='LC534'>&nbsp;&nbsp;&nbsp;&nbsp;&nbsp;&nbsp;&nbsp;&nbsp;&quot;  &lt;thead&gt;\n&quot;,</div><div class='line' id='LC535'>&nbsp;&nbsp;&nbsp;&nbsp;&nbsp;&nbsp;&nbsp;&nbsp;&quot;    &lt;tr style=\&quot;text-align: right;\&quot;&gt;\n&quot;,</div><div class='line' id='LC536'>&nbsp;&nbsp;&nbsp;&nbsp;&nbsp;&nbsp;&nbsp;&nbsp;&quot;      &lt;th&gt;&lt;/th&gt;\n&quot;,</div><div class='line' id='LC537'>&nbsp;&nbsp;&nbsp;&nbsp;&nbsp;&nbsp;&nbsp;&nbsp;&quot;      &lt;th&gt;Player&lt;/th&gt;\n&quot;,</div><div class='line' id='LC538'>&nbsp;&nbsp;&nbsp;&nbsp;&nbsp;&nbsp;&nbsp;&nbsp;&quot;      &lt;th&gt;Position&lt;/th&gt;\n&quot;,</div><div class='line' id='LC539'>&nbsp;&nbsp;&nbsp;&nbsp;&nbsp;&nbsp;&nbsp;&nbsp;&quot;      &lt;th&gt;Salary&lt;/th&gt;\n&quot;,</div><div class='line' id='LC540'>&nbsp;&nbsp;&nbsp;&nbsp;&nbsp;&nbsp;&nbsp;&nbsp;&quot;      &lt;th&gt;Team&lt;/th&gt;\n&quot;,</div><div class='line' id='LC541'>&nbsp;&nbsp;&nbsp;&nbsp;&nbsp;&nbsp;&nbsp;&nbsp;&quot;      &lt;th&gt;Year&lt;/th&gt;\n&quot;,</div><div class='line' id='LC542'>&nbsp;&nbsp;&nbsp;&nbsp;&nbsp;&nbsp;&nbsp;&nbsp;&quot;    &lt;/tr&gt;\n&quot;,</div><div class='line' id='LC543'>&nbsp;&nbsp;&nbsp;&nbsp;&nbsp;&nbsp;&nbsp;&nbsp;&quot;  &lt;/thead&gt;\n&quot;,</div><div class='line' id='LC544'>&nbsp;&nbsp;&nbsp;&nbsp;&nbsp;&nbsp;&nbsp;&nbsp;&quot;  &lt;tbody&gt;\n&quot;,</div><div class='line' id='LC545'>&nbsp;&nbsp;&nbsp;&nbsp;&nbsp;&nbsp;&nbsp;&nbsp;&quot;    &lt;tr&gt;\n&quot;,</div><div class='line' id='LC546'>&nbsp;&nbsp;&nbsp;&nbsp;&nbsp;&nbsp;&nbsp;&nbsp;&quot;      &lt;th&gt;321  &lt;/th&gt;\n&quot;,</div><div class='line' id='LC547'>&nbsp;&nbsp;&nbsp;&nbsp;&nbsp;&nbsp;&nbsp;&nbsp;&quot;      &lt;td&gt;       Gary Carter&lt;/td&gt;\n&quot;,</div><div class='line' id='LC548'>&nbsp;&nbsp;&nbsp;&nbsp;&nbsp;&nbsp;&nbsp;&nbsp;&quot;      &lt;td&gt;           Catcher&lt;/td&gt;\n&quot;,</div><div class='line' id='LC549'>&nbsp;&nbsp;&nbsp;&nbsp;&nbsp;&nbsp;&nbsp;&nbsp;&quot;      &lt;td&gt;  2360714&lt;/td&gt;\n&quot;,</div><div class='line' id='LC550'>&nbsp;&nbsp;&nbsp;&nbsp;&nbsp;&nbsp;&nbsp;&nbsp;&quot;      &lt;td&gt;       New York Mets&lt;/td&gt;\n&quot;,</div><div class='line' id='LC551'>&nbsp;&nbsp;&nbsp;&nbsp;&nbsp;&nbsp;&nbsp;&nbsp;&quot;      &lt;td&gt; 1988&lt;/td&gt;\n&quot;,</div><div class='line' id='LC552'>&nbsp;&nbsp;&nbsp;&nbsp;&nbsp;&nbsp;&nbsp;&nbsp;&quot;    &lt;/tr&gt;\n&quot;,</div><div class='line' id='LC553'>&nbsp;&nbsp;&nbsp;&nbsp;&nbsp;&nbsp;&nbsp;&nbsp;&quot;    &lt;tr&gt;\n&quot;,</div><div class='line' id='LC554'>&nbsp;&nbsp;&nbsp;&nbsp;&nbsp;&nbsp;&nbsp;&nbsp;&quot;      &lt;th&gt;908  &lt;/th&gt;\n&quot;,</div><div class='line' id='LC555'>&nbsp;&nbsp;&nbsp;&nbsp;&nbsp;&nbsp;&nbsp;&nbsp;&quot;      &lt;td&gt;    Orel Hershiser&lt;/td&gt;\n&quot;,</div><div class='line' id='LC556'>&nbsp;&nbsp;&nbsp;&nbsp;&nbsp;&nbsp;&nbsp;&nbsp;&quot;      &lt;td&gt;           Pitcher&lt;/td&gt;\n&quot;,</div><div class='line' id='LC557'>&nbsp;&nbsp;&nbsp;&nbsp;&nbsp;&nbsp;&nbsp;&nbsp;&quot;      &lt;td&gt;  2766666&lt;/td&gt;\n&quot;,</div><div class='line' id='LC558'>&nbsp;&nbsp;&nbsp;&nbsp;&nbsp;&nbsp;&nbsp;&nbsp;&quot;      &lt;td&gt; Los Angeles Dodgers&lt;/td&gt;\n&quot;,</div><div class='line' id='LC559'>&nbsp;&nbsp;&nbsp;&nbsp;&nbsp;&nbsp;&nbsp;&nbsp;&quot;      &lt;td&gt; 1989&lt;/td&gt;\n&quot;,</div><div class='line' id='LC560'>&nbsp;&nbsp;&nbsp;&nbsp;&nbsp;&nbsp;&nbsp;&nbsp;&quot;    &lt;/tr&gt;\n&quot;,</div><div class='line' id='LC561'>&nbsp;&nbsp;&nbsp;&nbsp;&nbsp;&nbsp;&nbsp;&nbsp;&quot;    &lt;tr&gt;\n&quot;,</div><div class='line' id='LC562'>&nbsp;&nbsp;&nbsp;&nbsp;&nbsp;&nbsp;&nbsp;&nbsp;&quot;      &lt;th&gt;1580 &lt;/th&gt;\n&quot;,</div><div class='line' id='LC563'>&nbsp;&nbsp;&nbsp;&nbsp;&nbsp;&nbsp;&nbsp;&nbsp;&quot;      &lt;td&gt;       Robin Yount&lt;/td&gt;\n&quot;,</div><div class='line' id='LC564'>&nbsp;&nbsp;&nbsp;&nbsp;&nbsp;&nbsp;&nbsp;&nbsp;&quot;      &lt;td&gt;        Outfielder&lt;/td&gt;\n&quot;,</div><div class='line' id='LC565'>&nbsp;&nbsp;&nbsp;&nbsp;&nbsp;&nbsp;&nbsp;&nbsp;&quot;      &lt;td&gt;  3200000&lt;/td&gt;\n&quot;,</div><div class='line' id='LC566'>&nbsp;&nbsp;&nbsp;&nbsp;&nbsp;&nbsp;&nbsp;&nbsp;&quot;      &lt;td&gt;   Milwaukee Brewers&lt;/td&gt;\n&quot;,</div><div class='line' id='LC567'>&nbsp;&nbsp;&nbsp;&nbsp;&nbsp;&nbsp;&nbsp;&nbsp;&quot;      &lt;td&gt; 1990&lt;/td&gt;\n&quot;,</div><div class='line' id='LC568'>&nbsp;&nbsp;&nbsp;&nbsp;&nbsp;&nbsp;&nbsp;&nbsp;&quot;    &lt;/tr&gt;\n&quot;,</div><div class='line' id='LC569'>&nbsp;&nbsp;&nbsp;&nbsp;&nbsp;&nbsp;&nbsp;&nbsp;&quot;    &lt;tr&gt;\n&quot;,</div><div class='line' id='LC570'>&nbsp;&nbsp;&nbsp;&nbsp;&nbsp;&nbsp;&nbsp;&nbsp;&quot;      &lt;th&gt;2590 &lt;/th&gt;\n&quot;,</div><div class='line' id='LC571'>&nbsp;&nbsp;&nbsp;&nbsp;&nbsp;&nbsp;&nbsp;&nbsp;&quot;      &lt;td&gt; Darryl Strawberry&lt;/td&gt;\n&quot;,</div><div class='line' id='LC572'>&nbsp;&nbsp;&nbsp;&nbsp;&nbsp;&nbsp;&nbsp;&nbsp;&quot;      &lt;td&gt;        Outfielder&lt;/td&gt;\n&quot;,</div><div class='line' id='LC573'>&nbsp;&nbsp;&nbsp;&nbsp;&nbsp;&nbsp;&nbsp;&nbsp;&quot;      &lt;td&gt;  3800000&lt;/td&gt;\n&quot;,</div><div class='line' id='LC574'>&nbsp;&nbsp;&nbsp;&nbsp;&nbsp;&nbsp;&nbsp;&nbsp;&quot;      &lt;td&gt; Los Angeles Dodgers&lt;/td&gt;\n&quot;,</div><div class='line' id='LC575'>&nbsp;&nbsp;&nbsp;&nbsp;&nbsp;&nbsp;&nbsp;&nbsp;&quot;      &lt;td&gt; 1991&lt;/td&gt;\n&quot;,</div><div class='line' id='LC576'>&nbsp;&nbsp;&nbsp;&nbsp;&nbsp;&nbsp;&nbsp;&nbsp;&quot;    &lt;/tr&gt;\n&quot;,</div><div class='line' id='LC577'>&nbsp;&nbsp;&nbsp;&nbsp;&nbsp;&nbsp;&nbsp;&nbsp;&quot;    &lt;tr&gt;\n&quot;,</div><div class='line' id='LC578'>&nbsp;&nbsp;&nbsp;&nbsp;&nbsp;&nbsp;&nbsp;&nbsp;&quot;      &lt;th&gt;3441 &lt;/th&gt;\n&quot;,</div><div class='line' id='LC579'>&nbsp;&nbsp;&nbsp;&nbsp;&nbsp;&nbsp;&nbsp;&nbsp;&quot;      &lt;td&gt;     Bobby Bonilla&lt;/td&gt;\n&quot;,</div><div class='line' id='LC580'>&nbsp;&nbsp;&nbsp;&nbsp;&nbsp;&nbsp;&nbsp;&nbsp;&quot;      &lt;td&gt;        Outfielder&lt;/td&gt;\n&quot;,</div><div class='line' id='LC581'>&nbsp;&nbsp;&nbsp;&nbsp;&nbsp;&nbsp;&nbsp;&nbsp;&quot;      &lt;td&gt;  6100000&lt;/td&gt;\n&quot;,</div><div class='line' id='LC582'>&nbsp;&nbsp;&nbsp;&nbsp;&nbsp;&nbsp;&nbsp;&nbsp;&quot;      &lt;td&gt;       New York Mets&lt;/td&gt;\n&quot;,</div><div class='line' id='LC583'>&nbsp;&nbsp;&nbsp;&nbsp;&nbsp;&nbsp;&nbsp;&nbsp;&quot;      &lt;td&gt; 1992&lt;/td&gt;\n&quot;,</div><div class='line' id='LC584'>&nbsp;&nbsp;&nbsp;&nbsp;&nbsp;&nbsp;&nbsp;&nbsp;&quot;    &lt;/tr&gt;\n&quot;,</div><div class='line' id='LC585'>&nbsp;&nbsp;&nbsp;&nbsp;&nbsp;&nbsp;&nbsp;&nbsp;&quot;    &lt;tr&gt;\n&quot;,</div><div class='line' id='LC586'>&nbsp;&nbsp;&nbsp;&nbsp;&nbsp;&nbsp;&nbsp;&nbsp;&quot;      &lt;th&gt;4214 &lt;/th&gt;\n&quot;,</div><div class='line' id='LC587'>&nbsp;&nbsp;&nbsp;&nbsp;&nbsp;&nbsp;&nbsp;&nbsp;&quot;      &lt;td&gt;     Bobby Bonilla&lt;/td&gt;\n&quot;,</div><div class='line' id='LC588'>&nbsp;&nbsp;&nbsp;&nbsp;&nbsp;&nbsp;&nbsp;&nbsp;&quot;      &lt;td&gt;        Outfielder&lt;/td&gt;\n&quot;,</div><div class='line' id='LC589'>&nbsp;&nbsp;&nbsp;&nbsp;&nbsp;&nbsp;&nbsp;&nbsp;&quot;      &lt;td&gt;  6200000&lt;/td&gt;\n&quot;,</div><div class='line' id='LC590'>&nbsp;&nbsp;&nbsp;&nbsp;&nbsp;&nbsp;&nbsp;&nbsp;&quot;      &lt;td&gt;       New York Mets&lt;/td&gt;\n&quot;,</div><div class='line' id='LC591'>&nbsp;&nbsp;&nbsp;&nbsp;&nbsp;&nbsp;&nbsp;&nbsp;&quot;      &lt;td&gt; 1993&lt;/td&gt;\n&quot;,</div><div class='line' id='LC592'>&nbsp;&nbsp;&nbsp;&nbsp;&nbsp;&nbsp;&nbsp;&nbsp;&quot;    &lt;/tr&gt;\n&quot;,</div><div class='line' id='LC593'>&nbsp;&nbsp;&nbsp;&nbsp;&nbsp;&nbsp;&nbsp;&nbsp;&quot;    &lt;tr&gt;\n&quot;,</div><div class='line' id='LC594'>&nbsp;&nbsp;&nbsp;&nbsp;&nbsp;&nbsp;&nbsp;&nbsp;&quot;      &lt;th&gt;4977 &lt;/th&gt;\n&quot;,</div><div class='line' id='LC595'>&nbsp;&nbsp;&nbsp;&nbsp;&nbsp;&nbsp;&nbsp;&nbsp;&quot;      &lt;td&gt;     Bobby Bonilla&lt;/td&gt;\n&quot;,</div><div class='line' id='LC596'>&nbsp;&nbsp;&nbsp;&nbsp;&nbsp;&nbsp;&nbsp;&nbsp;&quot;      &lt;td&gt;     Third Baseman&lt;/td&gt;\n&quot;,</div><div class='line' id='LC597'>&nbsp;&nbsp;&nbsp;&nbsp;&nbsp;&nbsp;&nbsp;&nbsp;&quot;      &lt;td&gt;  6300000&lt;/td&gt;\n&quot;,</div><div class='line' id='LC598'>&nbsp;&nbsp;&nbsp;&nbsp;&nbsp;&nbsp;&nbsp;&nbsp;&quot;      &lt;td&gt;       New York Mets&lt;/td&gt;\n&quot;,</div><div class='line' id='LC599'>&nbsp;&nbsp;&nbsp;&nbsp;&nbsp;&nbsp;&nbsp;&nbsp;&quot;      &lt;td&gt; 1994&lt;/td&gt;\n&quot;,</div><div class='line' id='LC600'>&nbsp;&nbsp;&nbsp;&nbsp;&nbsp;&nbsp;&nbsp;&nbsp;&quot;    &lt;/tr&gt;\n&quot;,</div><div class='line' id='LC601'>&nbsp;&nbsp;&nbsp;&nbsp;&nbsp;&nbsp;&nbsp;&nbsp;&quot;    &lt;tr&gt;\n&quot;,</div><div class='line' id='LC602'>&nbsp;&nbsp;&nbsp;&nbsp;&nbsp;&nbsp;&nbsp;&nbsp;&quot;      &lt;th&gt;6068 &lt;/th&gt;\n&quot;,</div><div class='line' id='LC603'>&nbsp;&nbsp;&nbsp;&nbsp;&nbsp;&nbsp;&nbsp;&nbsp;&quot;      &lt;td&gt;     Cecil Fielder&lt;/td&gt;\n&quot;,</div><div class='line' id='LC604'>&nbsp;&nbsp;&nbsp;&nbsp;&nbsp;&nbsp;&nbsp;&nbsp;&quot;      &lt;td&gt;     First Baseman&lt;/td&gt;\n&quot;,</div><div class='line' id='LC605'>&nbsp;&nbsp;&nbsp;&nbsp;&nbsp;&nbsp;&nbsp;&nbsp;&quot;      &lt;td&gt;  9237500&lt;/td&gt;\n&quot;,</div><div class='line' id='LC606'>&nbsp;&nbsp;&nbsp;&nbsp;&nbsp;&nbsp;&nbsp;&nbsp;&quot;      &lt;td&gt;      Detroit Tigers&lt;/td&gt;\n&quot;,</div><div class='line' id='LC607'>&nbsp;&nbsp;&nbsp;&nbsp;&nbsp;&nbsp;&nbsp;&nbsp;&quot;      &lt;td&gt; 1995&lt;/td&gt;\n&quot;,</div><div class='line' id='LC608'>&nbsp;&nbsp;&nbsp;&nbsp;&nbsp;&nbsp;&nbsp;&nbsp;&quot;    &lt;/tr&gt;\n&quot;,</div><div class='line' id='LC609'>&nbsp;&nbsp;&nbsp;&nbsp;&nbsp;&nbsp;&nbsp;&nbsp;&quot;    &lt;tr&gt;\n&quot;,</div><div class='line' id='LC610'>&nbsp;&nbsp;&nbsp;&nbsp;&nbsp;&nbsp;&nbsp;&nbsp;&quot;      &lt;th&gt;6840 &lt;/th&gt;\n&quot;,</div><div class='line' id='LC611'>&nbsp;&nbsp;&nbsp;&nbsp;&nbsp;&nbsp;&nbsp;&nbsp;&quot;      &lt;td&gt;     Cecil Fielder&lt;/td&gt;\n&quot;,</div><div class='line' id='LC612'>&nbsp;&nbsp;&nbsp;&nbsp;&nbsp;&nbsp;&nbsp;&nbsp;&quot;      &lt;td&gt;     First Baseman&lt;/td&gt;\n&quot;,</div><div class='line' id='LC613'>&nbsp;&nbsp;&nbsp;&nbsp;&nbsp;&nbsp;&nbsp;&nbsp;&quot;      &lt;td&gt;  9237500&lt;/td&gt;\n&quot;,</div><div class='line' id='LC614'>&nbsp;&nbsp;&nbsp;&nbsp;&nbsp;&nbsp;&nbsp;&nbsp;&quot;      &lt;td&gt;      Detroit Tigers&lt;/td&gt;\n&quot;,</div><div class='line' id='LC615'>&nbsp;&nbsp;&nbsp;&nbsp;&nbsp;&nbsp;&nbsp;&nbsp;&quot;      &lt;td&gt; 1996&lt;/td&gt;\n&quot;,</div><div class='line' id='LC616'>&nbsp;&nbsp;&nbsp;&nbsp;&nbsp;&nbsp;&nbsp;&nbsp;&quot;    &lt;/tr&gt;\n&quot;,</div><div class='line' id='LC617'>&nbsp;&nbsp;&nbsp;&nbsp;&nbsp;&nbsp;&nbsp;&nbsp;&quot;    &lt;tr&gt;\n&quot;,</div><div class='line' id='LC618'>&nbsp;&nbsp;&nbsp;&nbsp;&nbsp;&nbsp;&nbsp;&nbsp;&quot;      &lt;th&gt;7666 &lt;/th&gt;\n&quot;,</div><div class='line' id='LC619'>&nbsp;&nbsp;&nbsp;&nbsp;&nbsp;&nbsp;&nbsp;&nbsp;&quot;      &lt;td&gt;      Albert Belle&lt;/td&gt;\n&quot;,</div><div class='line' id='LC620'>&nbsp;&nbsp;&nbsp;&nbsp;&nbsp;&nbsp;&nbsp;&nbsp;&quot;      &lt;td&gt;        Outfielder&lt;/td&gt;\n&quot;,</div><div class='line' id='LC621'>&nbsp;&nbsp;&nbsp;&nbsp;&nbsp;&nbsp;&nbsp;&nbsp;&quot;      &lt;td&gt; 10000000&lt;/td&gt;\n&quot;,</div><div class='line' id='LC622'>&nbsp;&nbsp;&nbsp;&nbsp;&nbsp;&nbsp;&nbsp;&nbsp;&quot;      &lt;td&gt;   Chicago White Sox&lt;/td&gt;\n&quot;,</div><div class='line' id='LC623'>&nbsp;&nbsp;&nbsp;&nbsp;&nbsp;&nbsp;&nbsp;&nbsp;&quot;      &lt;td&gt; 1997&lt;/td&gt;\n&quot;,</div><div class='line' id='LC624'>&nbsp;&nbsp;&nbsp;&nbsp;&nbsp;&nbsp;&nbsp;&nbsp;&quot;    &lt;/tr&gt;\n&quot;,</div><div class='line' id='LC625'>&nbsp;&nbsp;&nbsp;&nbsp;&nbsp;&nbsp;&nbsp;&nbsp;&quot;    &lt;tr&gt;\n&quot;,</div><div class='line' id='LC626'>&nbsp;&nbsp;&nbsp;&nbsp;&nbsp;&nbsp;&nbsp;&nbsp;&quot;      &lt;th&gt;8090 &lt;/th&gt;\n&quot;,</div><div class='line' id='LC627'>&nbsp;&nbsp;&nbsp;&nbsp;&nbsp;&nbsp;&nbsp;&nbsp;&quot;      &lt;td&gt;    Gary Sheffield&lt;/td&gt;\n&quot;,</div><div class='line' id='LC628'>&nbsp;&nbsp;&nbsp;&nbsp;&nbsp;&nbsp;&nbsp;&nbsp;&quot;      &lt;td&gt;        Outfielder&lt;/td&gt;\n&quot;,</div><div class='line' id='LC629'>&nbsp;&nbsp;&nbsp;&nbsp;&nbsp;&nbsp;&nbsp;&nbsp;&quot;      &lt;td&gt; 10000000&lt;/td&gt;\n&quot;,</div><div class='line' id='LC630'>&nbsp;&nbsp;&nbsp;&nbsp;&nbsp;&nbsp;&nbsp;&nbsp;&quot;      &lt;td&gt;     Florida Marlins&lt;/td&gt;\n&quot;,</div><div class='line' id='LC631'>&nbsp;&nbsp;&nbsp;&nbsp;&nbsp;&nbsp;&nbsp;&nbsp;&quot;      &lt;td&gt; 1998&lt;/td&gt;\n&quot;,</div><div class='line' id='LC632'>&nbsp;&nbsp;&nbsp;&nbsp;&nbsp;&nbsp;&nbsp;&nbsp;&quot;    &lt;/tr&gt;\n&quot;,</div><div class='line' id='LC633'>&nbsp;&nbsp;&nbsp;&nbsp;&nbsp;&nbsp;&nbsp;&nbsp;&quot;    &lt;tr&gt;\n&quot;,</div><div class='line' id='LC634'>&nbsp;&nbsp;&nbsp;&nbsp;&nbsp;&nbsp;&nbsp;&nbsp;&quot;      &lt;th&gt;9067 &lt;/th&gt;\n&quot;,</div><div class='line' id='LC635'>&nbsp;&nbsp;&nbsp;&nbsp;&nbsp;&nbsp;&nbsp;&nbsp;&quot;      &lt;td&gt;      Albert Belle&lt;/td&gt;\n&quot;,</div><div class='line' id='LC636'>&nbsp;&nbsp;&nbsp;&nbsp;&nbsp;&nbsp;&nbsp;&nbsp;&quot;      &lt;td&gt;        Outfielder&lt;/td&gt;\n&quot;,</div><div class='line' id='LC637'>&nbsp;&nbsp;&nbsp;&nbsp;&nbsp;&nbsp;&nbsp;&nbsp;&quot;      &lt;td&gt; 11949794&lt;/td&gt;\n&quot;,</div><div class='line' id='LC638'>&nbsp;&nbsp;&nbsp;&nbsp;&nbsp;&nbsp;&nbsp;&nbsp;&quot;      &lt;td&gt;   Baltimore Orioles&lt;/td&gt;\n&quot;,</div><div class='line' id='LC639'>&nbsp;&nbsp;&nbsp;&nbsp;&nbsp;&nbsp;&nbsp;&nbsp;&quot;      &lt;td&gt; 1999&lt;/td&gt;\n&quot;,</div><div class='line' id='LC640'>&nbsp;&nbsp;&nbsp;&nbsp;&nbsp;&nbsp;&nbsp;&nbsp;&quot;    &lt;/tr&gt;\n&quot;,</div><div class='line' id='LC641'>&nbsp;&nbsp;&nbsp;&nbsp;&nbsp;&nbsp;&nbsp;&nbsp;&quot;    &lt;tr&gt;\n&quot;,</div><div class='line' id='LC642'>&nbsp;&nbsp;&nbsp;&nbsp;&nbsp;&nbsp;&nbsp;&nbsp;&quot;      &lt;th&gt;9743 &lt;/th&gt;\n&quot;,</div><div class='line' id='LC643'>&nbsp;&nbsp;&nbsp;&nbsp;&nbsp;&nbsp;&nbsp;&nbsp;&quot;      &lt;td&gt;    Kevin J. Brown&lt;/td&gt;\n&quot;,</div><div class='line' id='LC644'>&nbsp;&nbsp;&nbsp;&nbsp;&nbsp;&nbsp;&nbsp;&nbsp;&quot;      &lt;td&gt;           Pitcher&lt;/td&gt;\n&quot;,</div><div class='line' id='LC645'>&nbsp;&nbsp;&nbsp;&nbsp;&nbsp;&nbsp;&nbsp;&nbsp;&quot;      &lt;td&gt; 15714286&lt;/td&gt;\n&quot;,</div><div class='line' id='LC646'>&nbsp;&nbsp;&nbsp;&nbsp;&nbsp;&nbsp;&nbsp;&nbsp;&quot;      &lt;td&gt; Los Angeles Dodgers&lt;/td&gt;\n&quot;,</div><div class='line' id='LC647'>&nbsp;&nbsp;&nbsp;&nbsp;&nbsp;&nbsp;&nbsp;&nbsp;&quot;      &lt;td&gt; 2000&lt;/td&gt;\n&quot;,</div><div class='line' id='LC648'>&nbsp;&nbsp;&nbsp;&nbsp;&nbsp;&nbsp;&nbsp;&nbsp;&quot;    &lt;/tr&gt;\n&quot;,</div><div class='line' id='LC649'>&nbsp;&nbsp;&nbsp;&nbsp;&nbsp;&nbsp;&nbsp;&nbsp;&quot;    &lt;tr&gt;\n&quot;,</div><div class='line' id='LC650'>&nbsp;&nbsp;&nbsp;&nbsp;&nbsp;&nbsp;&nbsp;&nbsp;&quot;      &lt;th&gt;10903&lt;/th&gt;\n&quot;,</div><div class='line' id='LC651'>&nbsp;&nbsp;&nbsp;&nbsp;&nbsp;&nbsp;&nbsp;&nbsp;&quot;      &lt;td&gt;    Alex Rodriguez&lt;/td&gt;\n&quot;,</div><div class='line' id='LC652'>&nbsp;&nbsp;&nbsp;&nbsp;&nbsp;&nbsp;&nbsp;&nbsp;&quot;      &lt;td&gt;         Shortstop&lt;/td&gt;\n&quot;,</div><div class='line' id='LC653'>&nbsp;&nbsp;&nbsp;&nbsp;&nbsp;&nbsp;&nbsp;&nbsp;&quot;      &lt;td&gt; 22000000&lt;/td&gt;\n&quot;,</div><div class='line' id='LC654'>&nbsp;&nbsp;&nbsp;&nbsp;&nbsp;&nbsp;&nbsp;&nbsp;&quot;      &lt;td&gt;       Texas Rangers&lt;/td&gt;\n&quot;,</div><div class='line' id='LC655'>&nbsp;&nbsp;&nbsp;&nbsp;&nbsp;&nbsp;&nbsp;&nbsp;&quot;      &lt;td&gt; 2001&lt;/td&gt;\n&quot;,</div><div class='line' id='LC656'>&nbsp;&nbsp;&nbsp;&nbsp;&nbsp;&nbsp;&nbsp;&nbsp;&quot;    &lt;/tr&gt;\n&quot;,</div><div class='line' id='LC657'>&nbsp;&nbsp;&nbsp;&nbsp;&nbsp;&nbsp;&nbsp;&nbsp;&quot;    &lt;tr&gt;\n&quot;,</div><div class='line' id='LC658'>&nbsp;&nbsp;&nbsp;&nbsp;&nbsp;&nbsp;&nbsp;&nbsp;&quot;      &lt;th&gt;11752&lt;/th&gt;\n&quot;,</div><div class='line' id='LC659'>&nbsp;&nbsp;&nbsp;&nbsp;&nbsp;&nbsp;&nbsp;&nbsp;&quot;      &lt;td&gt;    Alex Rodriguez&lt;/td&gt;\n&quot;,</div><div class='line' id='LC660'>&nbsp;&nbsp;&nbsp;&nbsp;&nbsp;&nbsp;&nbsp;&nbsp;&quot;      &lt;td&gt;         Shortstop&lt;/td&gt;\n&quot;,</div><div class='line' id='LC661'>&nbsp;&nbsp;&nbsp;&nbsp;&nbsp;&nbsp;&nbsp;&nbsp;&quot;      &lt;td&gt; 22000000&lt;/td&gt;\n&quot;,</div><div class='line' id='LC662'>&nbsp;&nbsp;&nbsp;&nbsp;&nbsp;&nbsp;&nbsp;&nbsp;&quot;      &lt;td&gt;       Texas Rangers&lt;/td&gt;\n&quot;,</div><div class='line' id='LC663'>&nbsp;&nbsp;&nbsp;&nbsp;&nbsp;&nbsp;&nbsp;&nbsp;&quot;      &lt;td&gt; 2002&lt;/td&gt;\n&quot;,</div><div class='line' id='LC664'>&nbsp;&nbsp;&nbsp;&nbsp;&nbsp;&nbsp;&nbsp;&nbsp;&quot;    &lt;/tr&gt;\n&quot;,</div><div class='line' id='LC665'>&nbsp;&nbsp;&nbsp;&nbsp;&nbsp;&nbsp;&nbsp;&nbsp;&quot;    &lt;tr&gt;\n&quot;,</div><div class='line' id='LC666'>&nbsp;&nbsp;&nbsp;&nbsp;&nbsp;&nbsp;&nbsp;&nbsp;&quot;      &lt;th&gt;12589&lt;/th&gt;\n&quot;,</div><div class='line' id='LC667'>&nbsp;&nbsp;&nbsp;&nbsp;&nbsp;&nbsp;&nbsp;&nbsp;&quot;      &lt;td&gt;    Alex Rodriguez&lt;/td&gt;\n&quot;,</div><div class='line' id='LC668'>&nbsp;&nbsp;&nbsp;&nbsp;&nbsp;&nbsp;&nbsp;&nbsp;&quot;      &lt;td&gt;         Shortstop&lt;/td&gt;\n&quot;,</div><div class='line' id='LC669'>&nbsp;&nbsp;&nbsp;&nbsp;&nbsp;&nbsp;&nbsp;&nbsp;&quot;      &lt;td&gt; 22000000&lt;/td&gt;\n&quot;,</div><div class='line' id='LC670'>&nbsp;&nbsp;&nbsp;&nbsp;&nbsp;&nbsp;&nbsp;&nbsp;&quot;      &lt;td&gt;       Texas Rangers&lt;/td&gt;\n&quot;,</div><div class='line' id='LC671'>&nbsp;&nbsp;&nbsp;&nbsp;&nbsp;&nbsp;&nbsp;&nbsp;&quot;      &lt;td&gt; 2003&lt;/td&gt;\n&quot;,</div><div class='line' id='LC672'>&nbsp;&nbsp;&nbsp;&nbsp;&nbsp;&nbsp;&nbsp;&nbsp;&quot;    &lt;/tr&gt;\n&quot;,</div><div class='line' id='LC673'>&nbsp;&nbsp;&nbsp;&nbsp;&nbsp;&nbsp;&nbsp;&nbsp;&quot;    &lt;tr&gt;\n&quot;,</div><div class='line' id='LC674'>&nbsp;&nbsp;&nbsp;&nbsp;&nbsp;&nbsp;&nbsp;&nbsp;&quot;      &lt;th&gt;13497&lt;/th&gt;\n&quot;,</div><div class='line' id='LC675'>&nbsp;&nbsp;&nbsp;&nbsp;&nbsp;&nbsp;&nbsp;&nbsp;&quot;      &lt;td&gt;     Manny Ramirez&lt;/td&gt;\n&quot;,</div><div class='line' id='LC676'>&nbsp;&nbsp;&nbsp;&nbsp;&nbsp;&nbsp;&nbsp;&nbsp;&quot;      &lt;td&gt;        Outfielder&lt;/td&gt;\n&quot;,</div><div class='line' id='LC677'>&nbsp;&nbsp;&nbsp;&nbsp;&nbsp;&nbsp;&nbsp;&nbsp;&quot;      &lt;td&gt; 22500000&lt;/td&gt;\n&quot;,</div><div class='line' id='LC678'>&nbsp;&nbsp;&nbsp;&nbsp;&nbsp;&nbsp;&nbsp;&nbsp;&quot;      &lt;td&gt;      Boston Red Sox&lt;/td&gt;\n&quot;,</div><div class='line' id='LC679'>&nbsp;&nbsp;&nbsp;&nbsp;&nbsp;&nbsp;&nbsp;&nbsp;&quot;      &lt;td&gt; 2004&lt;/td&gt;\n&quot;,</div><div class='line' id='LC680'>&nbsp;&nbsp;&nbsp;&nbsp;&nbsp;&nbsp;&nbsp;&nbsp;&quot;    &lt;/tr&gt;\n&quot;,</div><div class='line' id='LC681'>&nbsp;&nbsp;&nbsp;&nbsp;&nbsp;&nbsp;&nbsp;&nbsp;&quot;    &lt;tr&gt;\n&quot;,</div><div class='line' id='LC682'>&nbsp;&nbsp;&nbsp;&nbsp;&nbsp;&nbsp;&nbsp;&nbsp;&quot;      &lt;th&gt;14499&lt;/th&gt;\n&quot;,</div><div class='line' id='LC683'>&nbsp;&nbsp;&nbsp;&nbsp;&nbsp;&nbsp;&nbsp;&nbsp;&quot;      &lt;td&gt;    Alex Rodriguez&lt;/td&gt;\n&quot;,</div><div class='line' id='LC684'>&nbsp;&nbsp;&nbsp;&nbsp;&nbsp;&nbsp;&nbsp;&nbsp;&quot;      &lt;td&gt;     Third Baseman&lt;/td&gt;\n&quot;,</div><div class='line' id='LC685'>&nbsp;&nbsp;&nbsp;&nbsp;&nbsp;&nbsp;&nbsp;&nbsp;&quot;      &lt;td&gt; 26000000&lt;/td&gt;\n&quot;,</div><div class='line' id='LC686'>&nbsp;&nbsp;&nbsp;&nbsp;&nbsp;&nbsp;&nbsp;&nbsp;&quot;      &lt;td&gt;    New York Yankees&lt;/td&gt;\n&quot;,</div><div class='line' id='LC687'>&nbsp;&nbsp;&nbsp;&nbsp;&nbsp;&nbsp;&nbsp;&nbsp;&quot;      &lt;td&gt; 2005&lt;/td&gt;\n&quot;,</div><div class='line' id='LC688'>&nbsp;&nbsp;&nbsp;&nbsp;&nbsp;&nbsp;&nbsp;&nbsp;&quot;    &lt;/tr&gt;\n&quot;,</div><div class='line' id='LC689'>&nbsp;&nbsp;&nbsp;&nbsp;&nbsp;&nbsp;&nbsp;&nbsp;&quot;    &lt;tr&gt;\n&quot;,</div><div class='line' id='LC690'>&nbsp;&nbsp;&nbsp;&nbsp;&nbsp;&nbsp;&nbsp;&nbsp;&quot;      &lt;th&gt;15320&lt;/th&gt;\n&quot;,</div><div class='line' id='LC691'>&nbsp;&nbsp;&nbsp;&nbsp;&nbsp;&nbsp;&nbsp;&nbsp;&quot;      &lt;td&gt;    Alex Rodriguez&lt;/td&gt;\n&quot;,</div><div class='line' id='LC692'>&nbsp;&nbsp;&nbsp;&nbsp;&nbsp;&nbsp;&nbsp;&nbsp;&quot;      &lt;td&gt;     Third Baseman&lt;/td&gt;\n&quot;,</div><div class='line' id='LC693'>&nbsp;&nbsp;&nbsp;&nbsp;&nbsp;&nbsp;&nbsp;&nbsp;&quot;      &lt;td&gt; 21680727&lt;/td&gt;\n&quot;,</div><div class='line' id='LC694'>&nbsp;&nbsp;&nbsp;&nbsp;&nbsp;&nbsp;&nbsp;&nbsp;&quot;      &lt;td&gt;    New York Yankees&lt;/td&gt;\n&quot;,</div><div class='line' id='LC695'>&nbsp;&nbsp;&nbsp;&nbsp;&nbsp;&nbsp;&nbsp;&nbsp;&quot;      &lt;td&gt; 2006&lt;/td&gt;\n&quot;,</div><div class='line' id='LC696'>&nbsp;&nbsp;&nbsp;&nbsp;&nbsp;&nbsp;&nbsp;&nbsp;&quot;    &lt;/tr&gt;\n&quot;,</div><div class='line' id='LC697'>&nbsp;&nbsp;&nbsp;&nbsp;&nbsp;&nbsp;&nbsp;&nbsp;&quot;    &lt;tr&gt;\n&quot;,</div><div class='line' id='LC698'>&nbsp;&nbsp;&nbsp;&nbsp;&nbsp;&nbsp;&nbsp;&nbsp;&quot;      &lt;th&gt;16167&lt;/th&gt;\n&quot;,</div><div class='line' id='LC699'>&nbsp;&nbsp;&nbsp;&nbsp;&nbsp;&nbsp;&nbsp;&nbsp;&quot;      &lt;td&gt;      Jason Giambi&lt;/td&gt;\n&quot;,</div><div class='line' id='LC700'>&nbsp;&nbsp;&nbsp;&nbsp;&nbsp;&nbsp;&nbsp;&nbsp;&quot;      &lt;td&gt; Designated Hitter&lt;/td&gt;\n&quot;,</div><div class='line' id='LC701'>&nbsp;&nbsp;&nbsp;&nbsp;&nbsp;&nbsp;&nbsp;&nbsp;&quot;      &lt;td&gt; 23428571&lt;/td&gt;\n&quot;,</div><div class='line' id='LC702'>&nbsp;&nbsp;&nbsp;&nbsp;&nbsp;&nbsp;&nbsp;&nbsp;&quot;      &lt;td&gt;    New York Yankees&lt;/td&gt;\n&quot;,</div><div class='line' id='LC703'>&nbsp;&nbsp;&nbsp;&nbsp;&nbsp;&nbsp;&nbsp;&nbsp;&quot;      &lt;td&gt; 2007&lt;/td&gt;\n&quot;,</div><div class='line' id='LC704'>&nbsp;&nbsp;&nbsp;&nbsp;&nbsp;&nbsp;&nbsp;&nbsp;&quot;    &lt;/tr&gt;\n&quot;,</div><div class='line' id='LC705'>&nbsp;&nbsp;&nbsp;&nbsp;&nbsp;&nbsp;&nbsp;&nbsp;&quot;    &lt;tr&gt;\n&quot;,</div><div class='line' id='LC706'>&nbsp;&nbsp;&nbsp;&nbsp;&nbsp;&nbsp;&nbsp;&nbsp;&quot;      &lt;th&gt;17023&lt;/th&gt;\n&quot;,</div><div class='line' id='LC707'>&nbsp;&nbsp;&nbsp;&nbsp;&nbsp;&nbsp;&nbsp;&nbsp;&quot;      &lt;td&gt;    Alex Rodriguez&lt;/td&gt;\n&quot;,</div><div class='line' id='LC708'>&nbsp;&nbsp;&nbsp;&nbsp;&nbsp;&nbsp;&nbsp;&nbsp;&quot;      &lt;td&gt;     Third Baseman&lt;/td&gt;\n&quot;,</div><div class='line' id='LC709'>&nbsp;&nbsp;&nbsp;&nbsp;&nbsp;&nbsp;&nbsp;&nbsp;&quot;      &lt;td&gt; 28000000&lt;/td&gt;\n&quot;,</div><div class='line' id='LC710'>&nbsp;&nbsp;&nbsp;&nbsp;&nbsp;&nbsp;&nbsp;&nbsp;&quot;      &lt;td&gt;    New York Yankees&lt;/td&gt;\n&quot;,</div><div class='line' id='LC711'>&nbsp;&nbsp;&nbsp;&nbsp;&nbsp;&nbsp;&nbsp;&nbsp;&quot;      &lt;td&gt; 2008&lt;/td&gt;\n&quot;,</div><div class='line' id='LC712'>&nbsp;&nbsp;&nbsp;&nbsp;&nbsp;&nbsp;&nbsp;&nbsp;&quot;    &lt;/tr&gt;\n&quot;,</div><div class='line' id='LC713'>&nbsp;&nbsp;&nbsp;&nbsp;&nbsp;&nbsp;&nbsp;&nbsp;&quot;    &lt;tr&gt;\n&quot;,</div><div class='line' id='LC714'>&nbsp;&nbsp;&nbsp;&nbsp;&nbsp;&nbsp;&nbsp;&nbsp;&quot;      &lt;th&gt;17846&lt;/th&gt;\n&quot;,</div><div class='line' id='LC715'>&nbsp;&nbsp;&nbsp;&nbsp;&nbsp;&nbsp;&nbsp;&nbsp;&quot;      &lt;td&gt;    Alex Rodriguez&lt;/td&gt;\n&quot;,</div><div class='line' id='LC716'>&nbsp;&nbsp;&nbsp;&nbsp;&nbsp;&nbsp;&nbsp;&nbsp;&quot;      &lt;td&gt;     Third Baseman&lt;/td&gt;\n&quot;,</div><div class='line' id='LC717'>&nbsp;&nbsp;&nbsp;&nbsp;&nbsp;&nbsp;&nbsp;&nbsp;&quot;      &lt;td&gt; 33000000&lt;/td&gt;\n&quot;,</div><div class='line' id='LC718'>&nbsp;&nbsp;&nbsp;&nbsp;&nbsp;&nbsp;&nbsp;&nbsp;&quot;      &lt;td&gt;    New York Yankees&lt;/td&gt;\n&quot;,</div><div class='line' id='LC719'>&nbsp;&nbsp;&nbsp;&nbsp;&nbsp;&nbsp;&nbsp;&nbsp;&quot;      &lt;td&gt; 2009&lt;/td&gt;\n&quot;,</div><div class='line' id='LC720'>&nbsp;&nbsp;&nbsp;&nbsp;&nbsp;&nbsp;&nbsp;&nbsp;&quot;    &lt;/tr&gt;\n&quot;,</div><div class='line' id='LC721'>&nbsp;&nbsp;&nbsp;&nbsp;&nbsp;&nbsp;&nbsp;&nbsp;&quot;    &lt;tr&gt;\n&quot;,</div><div class='line' id='LC722'>&nbsp;&nbsp;&nbsp;&nbsp;&nbsp;&nbsp;&nbsp;&nbsp;&quot;      &lt;th&gt;18675&lt;/th&gt;\n&quot;,</div><div class='line' id='LC723'>&nbsp;&nbsp;&nbsp;&nbsp;&nbsp;&nbsp;&nbsp;&nbsp;&quot;      &lt;td&gt;    Alex Rodriguez&lt;/td&gt;\n&quot;,</div><div class='line' id='LC724'>&nbsp;&nbsp;&nbsp;&nbsp;&nbsp;&nbsp;&nbsp;&nbsp;&quot;      &lt;td&gt;     Third Baseman&lt;/td&gt;\n&quot;,</div><div class='line' id='LC725'>&nbsp;&nbsp;&nbsp;&nbsp;&nbsp;&nbsp;&nbsp;&nbsp;&quot;      &lt;td&gt; 33000000&lt;/td&gt;\n&quot;,</div><div class='line' id='LC726'>&nbsp;&nbsp;&nbsp;&nbsp;&nbsp;&nbsp;&nbsp;&nbsp;&quot;      &lt;td&gt;    New York Yankees&lt;/td&gt;\n&quot;,</div><div class='line' id='LC727'>&nbsp;&nbsp;&nbsp;&nbsp;&nbsp;&nbsp;&nbsp;&nbsp;&quot;      &lt;td&gt; 2010&lt;/td&gt;\n&quot;,</div><div class='line' id='LC728'>&nbsp;&nbsp;&nbsp;&nbsp;&nbsp;&nbsp;&nbsp;&nbsp;&quot;    &lt;/tr&gt;\n&quot;,</div><div class='line' id='LC729'>&nbsp;&nbsp;&nbsp;&nbsp;&nbsp;&nbsp;&nbsp;&nbsp;&quot;    &lt;tr&gt;\n&quot;,</div><div class='line' id='LC730'>&nbsp;&nbsp;&nbsp;&nbsp;&nbsp;&nbsp;&nbsp;&nbsp;&quot;      &lt;th&gt;19513&lt;/th&gt;\n&quot;,</div><div class='line' id='LC731'>&nbsp;&nbsp;&nbsp;&nbsp;&nbsp;&nbsp;&nbsp;&nbsp;&quot;      &lt;td&gt;    Alex Rodriguez&lt;/td&gt;\n&quot;,</div><div class='line' id='LC732'>&nbsp;&nbsp;&nbsp;&nbsp;&nbsp;&nbsp;&nbsp;&nbsp;&quot;      &lt;td&gt;     Third Baseman&lt;/td&gt;\n&quot;,</div><div class='line' id='LC733'>&nbsp;&nbsp;&nbsp;&nbsp;&nbsp;&nbsp;&nbsp;&nbsp;&quot;      &lt;td&gt; 32000000&lt;/td&gt;\n&quot;,</div><div class='line' id='LC734'>&nbsp;&nbsp;&nbsp;&nbsp;&nbsp;&nbsp;&nbsp;&nbsp;&quot;      &lt;td&gt;    New York Yankees&lt;/td&gt;\n&quot;,</div><div class='line' id='LC735'>&nbsp;&nbsp;&nbsp;&nbsp;&nbsp;&nbsp;&nbsp;&nbsp;&quot;      &lt;td&gt; 2011&lt;/td&gt;\n&quot;,</div><div class='line' id='LC736'>&nbsp;&nbsp;&nbsp;&nbsp;&nbsp;&nbsp;&nbsp;&nbsp;&quot;    &lt;/tr&gt;\n&quot;,</div><div class='line' id='LC737'>&nbsp;&nbsp;&nbsp;&nbsp;&nbsp;&nbsp;&nbsp;&nbsp;&quot;  &lt;/tbody&gt;\n&quot;,</div><div class='line' id='LC738'>&nbsp;&nbsp;&nbsp;&nbsp;&nbsp;&nbsp;&nbsp;&nbsp;&quot;&lt;/table&gt;\n&quot;,</div><div class='line' id='LC739'>&nbsp;&nbsp;&nbsp;&nbsp;&nbsp;&nbsp;&nbsp;&nbsp;&quot;&lt;/div&gt;&quot;</div><div class='line' id='LC740'>&nbsp;&nbsp;&nbsp;&nbsp;&nbsp;&nbsp;&nbsp;],</div><div class='line' id='LC741'>&nbsp;&nbsp;&nbsp;&nbsp;&nbsp;&nbsp;&nbsp;&quot;metadata&quot;: {},</div><div class='line' id='LC742'>&nbsp;&nbsp;&nbsp;&nbsp;&nbsp;&nbsp;&nbsp;&quot;output_type&quot;: &quot;pyout&quot;,</div><div class='line' id='LC743'>&nbsp;&nbsp;&nbsp;&nbsp;&nbsp;&nbsp;&nbsp;&quot;prompt_number&quot;: 12,</div><div class='line' id='LC744'>&nbsp;&nbsp;&nbsp;&nbsp;&nbsp;&nbsp;&nbsp;&quot;text&quot;: [</div><div class='line' id='LC745'>&nbsp;&nbsp;&nbsp;&nbsp;&nbsp;&nbsp;&nbsp;&nbsp;&quot;                  Player           Position    Salary                 Team  Year\n&quot;,</div><div class='line' id='LC746'>&nbsp;&nbsp;&nbsp;&nbsp;&nbsp;&nbsp;&nbsp;&nbsp;&quot;321          Gary Carter            Catcher   2360714        New York Mets  1988\n&quot;,</div><div class='line' id='LC747'>&nbsp;&nbsp;&nbsp;&nbsp;&nbsp;&nbsp;&nbsp;&nbsp;&quot;908       Orel Hershiser            Pitcher   2766666  Los Angeles Dodgers  1989\n&quot;,</div><div class='line' id='LC748'>&nbsp;&nbsp;&nbsp;&nbsp;&nbsp;&nbsp;&nbsp;&nbsp;&quot;1580         Robin Yount         Outfielder   3200000    Milwaukee Brewers  1990\n&quot;,</div><div class='line' id='LC749'>&nbsp;&nbsp;&nbsp;&nbsp;&nbsp;&nbsp;&nbsp;&nbsp;&quot;2590   Darryl Strawberry         Outfielder   3800000  Los Angeles Dodgers  1991\n&quot;,</div><div class='line' id='LC750'>&nbsp;&nbsp;&nbsp;&nbsp;&nbsp;&nbsp;&nbsp;&nbsp;&quot;3441       Bobby Bonilla         Outfielder   6100000        New York Mets  1992\n&quot;,</div><div class='line' id='LC751'>&nbsp;&nbsp;&nbsp;&nbsp;&nbsp;&nbsp;&nbsp;&nbsp;&quot;4214       Bobby Bonilla         Outfielder   6200000        New York Mets  1993\n&quot;,</div><div class='line' id='LC752'>&nbsp;&nbsp;&nbsp;&nbsp;&nbsp;&nbsp;&nbsp;&nbsp;&quot;4977       Bobby Bonilla      Third Baseman   6300000        New York Mets  1994\n&quot;,</div><div class='line' id='LC753'>&nbsp;&nbsp;&nbsp;&nbsp;&nbsp;&nbsp;&nbsp;&nbsp;&quot;6068       Cecil Fielder      First Baseman   9237500       Detroit Tigers  1995\n&quot;,</div><div class='line' id='LC754'>&nbsp;&nbsp;&nbsp;&nbsp;&nbsp;&nbsp;&nbsp;&nbsp;&quot;6840       Cecil Fielder      First Baseman   9237500       Detroit Tigers  1996\n&quot;,</div><div class='line' id='LC755'>&nbsp;&nbsp;&nbsp;&nbsp;&nbsp;&nbsp;&nbsp;&nbsp;&quot;7666        Albert Belle         Outfielder  10000000    Chicago White Sox  1997\n&quot;,</div><div class='line' id='LC756'>&nbsp;&nbsp;&nbsp;&nbsp;&nbsp;&nbsp;&nbsp;&nbsp;&quot;8090      Gary Sheffield         Outfielder  10000000      Florida Marlins  1998\n&quot;,</div><div class='line' id='LC757'>&nbsp;&nbsp;&nbsp;&nbsp;&nbsp;&nbsp;&nbsp;&nbsp;&quot;9067        Albert Belle         Outfielder  11949794    Baltimore Orioles  1999\n&quot;,</div><div class='line' id='LC758'>&nbsp;&nbsp;&nbsp;&nbsp;&nbsp;&nbsp;&nbsp;&nbsp;&quot;9743      Kevin J. Brown            Pitcher  15714286  Los Angeles Dodgers  2000\n&quot;,</div><div class='line' id='LC759'>&nbsp;&nbsp;&nbsp;&nbsp;&nbsp;&nbsp;&nbsp;&nbsp;&quot;10903     Alex Rodriguez          Shortstop  22000000        Texas Rangers  2001\n&quot;,</div><div class='line' id='LC760'>&nbsp;&nbsp;&nbsp;&nbsp;&nbsp;&nbsp;&nbsp;&nbsp;&quot;11752     Alex Rodriguez          Shortstop  22000000        Texas Rangers  2002\n&quot;,</div><div class='line' id='LC761'>&nbsp;&nbsp;&nbsp;&nbsp;&nbsp;&nbsp;&nbsp;&nbsp;&quot;12589     Alex Rodriguez          Shortstop  22000000        Texas Rangers  2003\n&quot;,</div><div class='line' id='LC762'>&nbsp;&nbsp;&nbsp;&nbsp;&nbsp;&nbsp;&nbsp;&nbsp;&quot;13497      Manny Ramirez         Outfielder  22500000       Boston Red Sox  2004\n&quot;,</div><div class='line' id='LC763'>&nbsp;&nbsp;&nbsp;&nbsp;&nbsp;&nbsp;&nbsp;&nbsp;&quot;14499     Alex Rodriguez      Third Baseman  26000000     New York Yankees  2005\n&quot;,</div><div class='line' id='LC764'>&nbsp;&nbsp;&nbsp;&nbsp;&nbsp;&nbsp;&nbsp;&nbsp;&quot;15320     Alex Rodriguez      Third Baseman  21680727     New York Yankees  2006\n&quot;,</div><div class='line' id='LC765'>&nbsp;&nbsp;&nbsp;&nbsp;&nbsp;&nbsp;&nbsp;&nbsp;&quot;16167       Jason Giambi  Designated Hitter  23428571     New York Yankees  2007\n&quot;,</div><div class='line' id='LC766'>&nbsp;&nbsp;&nbsp;&nbsp;&nbsp;&nbsp;&nbsp;&nbsp;&quot;17023     Alex Rodriguez      Third Baseman  28000000     New York Yankees  2008\n&quot;,</div><div class='line' id='LC767'>&nbsp;&nbsp;&nbsp;&nbsp;&nbsp;&nbsp;&nbsp;&nbsp;&quot;17846     Alex Rodriguez      Third Baseman  33000000     New York Yankees  2009\n&quot;,</div><div class='line' id='LC768'>&nbsp;&nbsp;&nbsp;&nbsp;&nbsp;&nbsp;&nbsp;&nbsp;&quot;18675     Alex Rodriguez      Third Baseman  33000000     New York Yankees  2010\n&quot;,</div><div class='line' id='LC769'>&nbsp;&nbsp;&nbsp;&nbsp;&nbsp;&nbsp;&nbsp;&nbsp;&quot;19513     Alex Rodriguez      Third Baseman  32000000     New York Yankees  2011&quot;</div><div class='line' id='LC770'>&nbsp;&nbsp;&nbsp;&nbsp;&nbsp;&nbsp;&nbsp;]</div><div class='line' id='LC771'>&nbsp;&nbsp;&nbsp;&nbsp;&nbsp;&nbsp;}</div><div class='line' id='LC772'>&nbsp;&nbsp;&nbsp;&nbsp;&nbsp;],</div><div class='line' id='LC773'>&nbsp;&nbsp;&nbsp;&nbsp;&nbsp;&quot;prompt_number&quot;: 12</div><div class='line' id='LC774'>&nbsp;&nbsp;&nbsp;&nbsp;},</div><div class='line' id='LC775'>&nbsp;&nbsp;&nbsp;&nbsp;{</div><div class='line' id='LC776'>&nbsp;&nbsp;&nbsp;&nbsp;&nbsp;&quot;cell_type&quot;: &quot;markdown&quot;,</div><div class='line' id='LC777'>&nbsp;&nbsp;&nbsp;&nbsp;&nbsp;&quot;metadata&quot;: {},</div><div class='line' id='LC778'>&nbsp;&nbsp;&nbsp;&nbsp;&nbsp;&quot;source&quot;: [</div><div class='line' id='LC779'>&nbsp;&nbsp;&nbsp;&nbsp;&nbsp;&nbsp;&quot;####3.15 Create series of topsalaries and perform plots&quot;</div><div class='line' id='LC780'>&nbsp;&nbsp;&nbsp;&nbsp;&nbsp;]</div><div class='line' id='LC781'>&nbsp;&nbsp;&nbsp;&nbsp;},</div><div class='line' id='LC782'>&nbsp;&nbsp;&nbsp;&nbsp;{</div><div class='line' id='LC783'>&nbsp;&nbsp;&nbsp;&nbsp;&nbsp;&quot;cell_type&quot;: &quot;code&quot;,</div><div class='line' id='LC784'>&nbsp;&nbsp;&nbsp;&nbsp;&nbsp;&quot;collapsed&quot;: false,</div><div class='line' id='LC785'>&nbsp;&nbsp;&nbsp;&nbsp;&nbsp;&quot;input&quot;: [</div><div class='line' id='LC786'>&nbsp;&nbsp;&nbsp;&nbsp;&nbsp;&nbsp;&quot;ts = topsalaries[[&#39;Year&#39;,&#39;Salary&#39;]]&quot;</div><div class='line' id='LC787'>&nbsp;&nbsp;&nbsp;&nbsp;&nbsp;],</div><div class='line' id='LC788'>&nbsp;&nbsp;&nbsp;&nbsp;&nbsp;&quot;language&quot;: &quot;python&quot;,</div><div class='line' id='LC789'>&nbsp;&nbsp;&nbsp;&nbsp;&nbsp;&quot;metadata&quot;: {},</div><div class='line' id='LC790'>&nbsp;&nbsp;&nbsp;&nbsp;&nbsp;&quot;outputs&quot;: [],</div><div class='line' id='LC791'>&nbsp;&nbsp;&nbsp;&nbsp;&nbsp;&quot;prompt_number&quot;: 13</div><div class='line' id='LC792'>&nbsp;&nbsp;&nbsp;&nbsp;},</div><div class='line' id='LC793'>&nbsp;&nbsp;&nbsp;&nbsp;{</div><div class='line' id='LC794'>&nbsp;&nbsp;&nbsp;&nbsp;&nbsp;&quot;cell_type&quot;: &quot;code&quot;,</div><div class='line' id='LC795'>&nbsp;&nbsp;&nbsp;&nbsp;&nbsp;&quot;collapsed&quot;: false,</div><div class='line' id='LC796'>&nbsp;&nbsp;&nbsp;&nbsp;&nbsp;&quot;input&quot;: [</div><div class='line' id='LC797'>&nbsp;&nbsp;&nbsp;&nbsp;&nbsp;&nbsp;&quot;ts = ts.set_index(&#39;Year&#39;)&quot;</div><div class='line' id='LC798'>&nbsp;&nbsp;&nbsp;&nbsp;&nbsp;],</div><div class='line' id='LC799'>&nbsp;&nbsp;&nbsp;&nbsp;&nbsp;&quot;language&quot;: &quot;python&quot;,</div><div class='line' id='LC800'>&nbsp;&nbsp;&nbsp;&nbsp;&nbsp;&quot;metadata&quot;: {},</div><div class='line' id='LC801'>&nbsp;&nbsp;&nbsp;&nbsp;&nbsp;&quot;outputs&quot;: [],</div><div class='line' id='LC802'>&nbsp;&nbsp;&nbsp;&nbsp;&nbsp;&quot;prompt_number&quot;: 15</div><div class='line' id='LC803'>&nbsp;&nbsp;&nbsp;&nbsp;},</div><div class='line' id='LC804'>&nbsp;&nbsp;&nbsp;&nbsp;{</div><div class='line' id='LC805'>&nbsp;&nbsp;&nbsp;&nbsp;&nbsp;&quot;cell_type&quot;: &quot;code&quot;,</div><div class='line' id='LC806'>&nbsp;&nbsp;&nbsp;&nbsp;&nbsp;&quot;collapsed&quot;: false,</div><div class='line' id='LC807'>&nbsp;&nbsp;&nbsp;&nbsp;&nbsp;&quot;input&quot;: [</div><div class='line' id='LC808'>&nbsp;&nbsp;&nbsp;&nbsp;&nbsp;&nbsp;&quot;ts.plot()&quot;</div><div class='line' id='LC809'>&nbsp;&nbsp;&nbsp;&nbsp;&nbsp;],</div><div class='line' id='LC810'>&nbsp;&nbsp;&nbsp;&nbsp;&nbsp;&quot;language&quot;: &quot;python&quot;,</div><div class='line' id='LC811'>&nbsp;&nbsp;&nbsp;&nbsp;&nbsp;&quot;metadata&quot;: {},</div><div class='line' id='LC812'>&nbsp;&nbsp;&nbsp;&nbsp;&nbsp;&quot;outputs&quot;: [</div><div class='line' id='LC813'>&nbsp;&nbsp;&nbsp;&nbsp;&nbsp;&nbsp;{</div><div class='line' id='LC814'>&nbsp;&nbsp;&nbsp;&nbsp;&nbsp;&nbsp;&nbsp;&quot;metadata&quot;: {},</div><div class='line' id='LC815'>&nbsp;&nbsp;&nbsp;&nbsp;&nbsp;&nbsp;&nbsp;&quot;output_type&quot;: &quot;pyout&quot;,</div><div class='line' id='LC816'>&nbsp;&nbsp;&nbsp;&nbsp;&nbsp;&nbsp;&nbsp;&quot;prompt_number&quot;: 17,</div><div class='line' id='LC817'>&nbsp;&nbsp;&nbsp;&nbsp;&nbsp;&nbsp;&nbsp;&quot;text&quot;: [</div><div class='line' id='LC818'>&nbsp;&nbsp;&nbsp;&nbsp;&nbsp;&nbsp;&nbsp;&nbsp;&quot;&lt;matplotlib.axes.AxesSubplot at 0x10f9d57d0&gt;&quot;</div><div class='line' id='LC819'>&nbsp;&nbsp;&nbsp;&nbsp;&nbsp;&nbsp;&nbsp;]</div><div class='line' id='LC820'>&nbsp;&nbsp;&nbsp;&nbsp;&nbsp;&nbsp;},</div><div class='line' id='LC821'>&nbsp;&nbsp;&nbsp;&nbsp;&nbsp;&nbsp;{</div><div class='line' id='LC822'>&nbsp;&nbsp;&nbsp;&nbsp;&nbsp;&nbsp;&nbsp;&quot;metadata&quot;: {},</div><div class='line' id='LC823'>&nbsp;&nbsp;&nbsp;&nbsp;&nbsp;&nbsp;&nbsp;&quot;output_type&quot;: &quot;display_data&quot;,</div><div class='line' id='LC824'>&nbsp;&nbsp;&nbsp;&nbsp;&nbsp;&nbsp;&nbsp;&quot;png&quot;: &quot;iVBORw0KGgoAAAANSUhEUgAAAXsAAAEVCAYAAAABwEUhAAAABHNCSVQICAgIfAhkiAAAAAlwSFlz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\nYi8iEgRU7EVEgoCKvYhIEPj/T1x9nEorTD8AAAAASUVORK5CYII=\n&quot;,</div><div class='line' id='LC825'>&nbsp;&nbsp;&nbsp;&nbsp;&nbsp;&nbsp;&nbsp;&quot;text&quot;: [</div><div class='line' id='LC826'>&nbsp;&nbsp;&nbsp;&nbsp;&nbsp;&nbsp;&nbsp;&nbsp;&quot;&lt;matplotlib.figure.Figure at 0x10f9d53d0&gt;&quot;</div><div class='line' id='LC827'>&nbsp;&nbsp;&nbsp;&nbsp;&nbsp;&nbsp;&nbsp;]</div><div class='line' id='LC828'>&nbsp;&nbsp;&nbsp;&nbsp;&nbsp;&nbsp;}</div><div class='line' id='LC829'>&nbsp;&nbsp;&nbsp;&nbsp;&nbsp;],</div><div class='line' id='LC830'>&nbsp;&nbsp;&nbsp;&nbsp;&nbsp;&quot;prompt_number&quot;: 17</div><div class='line' id='LC831'>&nbsp;&nbsp;&nbsp;&nbsp;},</div><div class='line' id='LC832'>&nbsp;&nbsp;&nbsp;&nbsp;{</div><div class='line' id='LC833'>&nbsp;&nbsp;&nbsp;&nbsp;&nbsp;&quot;cell_type&quot;: &quot;code&quot;,</div><div class='line' id='LC834'>&nbsp;&nbsp;&nbsp;&nbsp;&nbsp;&quot;collapsed&quot;: false,</div><div class='line' id='LC835'>&nbsp;&nbsp;&nbsp;&nbsp;&nbsp;&quot;input&quot;: [</div><div class='line' id='LC836'>&nbsp;&nbsp;&nbsp;&nbsp;&nbsp;&nbsp;&quot;grouped[&#39;Salary&#39;].median().plot()&quot;</div><div class='line' id='LC837'>&nbsp;&nbsp;&nbsp;&nbsp;&nbsp;],</div><div class='line' id='LC838'>&nbsp;&nbsp;&nbsp;&nbsp;&nbsp;&quot;language&quot;: &quot;python&quot;,</div><div class='line' id='LC839'>&nbsp;&nbsp;&nbsp;&nbsp;&nbsp;&quot;metadata&quot;: {},</div><div class='line' id='LC840'>&nbsp;&nbsp;&nbsp;&nbsp;&nbsp;&quot;outputs&quot;: [</div><div class='line' id='LC841'>&nbsp;&nbsp;&nbsp;&nbsp;&nbsp;&nbsp;{</div><div class='line' id='LC842'>&nbsp;&nbsp;&nbsp;&nbsp;&nbsp;&nbsp;&nbsp;&quot;metadata&quot;: {},</div><div class='line' id='LC843'>&nbsp;&nbsp;&nbsp;&nbsp;&nbsp;&nbsp;&nbsp;&quot;output_type&quot;: &quot;pyout&quot;,</div><div class='line' id='LC844'>&nbsp;&nbsp;&nbsp;&nbsp;&nbsp;&nbsp;&nbsp;&quot;prompt_number&quot;: 18,</div><div class='line' id='LC845'>&nbsp;&nbsp;&nbsp;&nbsp;&nbsp;&nbsp;&nbsp;&quot;text&quot;: [</div><div class='line' id='LC846'>&nbsp;&nbsp;&nbsp;&nbsp;&nbsp;&nbsp;&nbsp;&nbsp;&quot;&lt;matplotlib.axes.AxesSubplot at 0x10fa18690&gt;&quot;</div><div class='line' id='LC847'>&nbsp;&nbsp;&nbsp;&nbsp;&nbsp;&nbsp;&nbsp;]</div><div class='line' id='LC848'>&nbsp;&nbsp;&nbsp;&nbsp;&nbsp;&nbsp;},</div><div class='line' id='LC849'>&nbsp;&nbsp;&nbsp;&nbsp;&nbsp;&nbsp;{</div><div class='line' id='LC850'>&nbsp;&nbsp;&nbsp;&nbsp;&nbsp;&nbsp;&nbsp;&quot;metadata&quot;: {},</div><div class='line' id='LC851'>&nbsp;&nbsp;&nbsp;&nbsp;&nbsp;&nbsp;&nbsp;&quot;output_type&quot;: &quot;display_data&quot;,</div><div class='line' id='LC852'>&nbsp;&nbsp;&nbsp;&nbsp;&nbsp;&nbsp;&nbsp;&quot;png&quot;: &quot;iVBORw0KGgoAAAANSUhEUgAAAZcAAAEPCAYAAACOU4kjAAAABHNCSVQICAgIfAhkiAAAAAlwSFlz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\nG8yVpp/rNgAAAABJRU5ErkJggg==\n&quot;,</div><div class='line' id='LC853'>&nbsp;&nbsp;&nbsp;&nbsp;&nbsp;&nbsp;&nbsp;&quot;text&quot;: [</div><div class='line' id='LC854'>&nbsp;&nbsp;&nbsp;&nbsp;&nbsp;&nbsp;&nbsp;&nbsp;&quot;&lt;matplotlib.figure.Figure at 0x10fa21b50&gt;&quot;</div><div class='line' id='LC855'>&nbsp;&nbsp;&nbsp;&nbsp;&nbsp;&nbsp;&nbsp;]</div><div class='line' id='LC856'>&nbsp;&nbsp;&nbsp;&nbsp;&nbsp;&nbsp;}</div><div class='line' id='LC857'>&nbsp;&nbsp;&nbsp;&nbsp;&nbsp;],</div><div class='line' id='LC858'>&nbsp;&nbsp;&nbsp;&nbsp;&nbsp;&quot;prompt_number&quot;: 18</div><div class='line' id='LC859'>&nbsp;&nbsp;&nbsp;&nbsp;},</div><div class='line' id='LC860'>&nbsp;&nbsp;&nbsp;&nbsp;{</div><div class='line' id='LC861'>&nbsp;&nbsp;&nbsp;&nbsp;&nbsp;&quot;cell_type&quot;: &quot;code&quot;,</div><div class='line' id='LC862'>&nbsp;&nbsp;&nbsp;&nbsp;&nbsp;&quot;collapsed&quot;: false,</div><div class='line' id='LC863'>&nbsp;&nbsp;&nbsp;&nbsp;&nbsp;&quot;input&quot;: [],</div><div class='line' id='LC864'>&nbsp;&nbsp;&nbsp;&nbsp;&nbsp;&quot;language&quot;: &quot;python&quot;,</div><div class='line' id='LC865'>&nbsp;&nbsp;&nbsp;&nbsp;&nbsp;&quot;metadata&quot;: {},</div><div class='line' id='LC866'>&nbsp;&nbsp;&nbsp;&nbsp;&nbsp;&quot;outputs&quot;: []</div><div class='line' id='LC867'>&nbsp;&nbsp;&nbsp;&nbsp;}</div><div class='line' id='LC868'>&nbsp;&nbsp;&nbsp;],</div><div class='line' id='LC869'>&nbsp;&nbsp;&nbsp;&quot;metadata&quot;: {}</div><div class='line' id='LC870'>&nbsp;&nbsp;}</div><div class='line' id='LC871'>&nbsp;]</div><div class='line' id='LC872'>}</div></pre></div>
            </td>
          </tr>
        </table>
  </div>

  </div>
</div>

<a href="#jump-to-line" rel="facebox[.linejump]" data-hotkey="l" class="js-jump-to-line" style="display:none">Jump to Line</a>
<div id="jump-to-line" style="display:none">
  <form accept-charset="UTF-8" class="js-jump-to-line-form">
    <input class="linejump-input js-jump-to-line-field" type="text" placeholder="Jump to line&hellip;" autofocus>
    <button type="submit" class="button">Go</button>
  </form>
</div>

        </div>

      </div><!-- /.repo-container -->
      <div class="modal-backdrop"></div>
    </div><!-- /.container -->
  </div><!-- /.site -->


    </div><!-- /.wrapper -->

      <div class="container">
  <div class="site-footer">
    <ul class="site-footer-links right">
      <li><a href="https://status.github.com/">Status</a></li>
      <li><a href="http://developer.github.com">API</a></li>
      <li><a href="http://training.github.com">Training</a></li>
      <li><a href="http://shop.github.com">Shop</a></li>
      <li><a href="/blog">Blog</a></li>
      <li><a href="/about">About</a></li>

    </ul>

    <a href="/">
      <span class="mega-octicon octicon-mark-github" title="GitHub"></span>
    </a>

    <ul class="site-footer-links">
      <li>&copy; 2014 <span title="0.06217s from github-fe117-cp1-prd.iad.github.net">GitHub</span>, Inc.</li>
        <li><a href="/site/terms">Terms</a></li>
        <li><a href="/site/privacy">Privacy</a></li>
        <li><a href="/security">Security</a></li>
        <li><a href="/contact">Contact</a></li>
    </ul>
  </div><!-- /.site-footer -->
</div><!-- /.container -->


    <div class="fullscreen-overlay js-fullscreen-overlay" id="fullscreen_overlay">
  <div class="fullscreen-container js-fullscreen-container">
    <div class="textarea-wrap">
      <textarea name="fullscreen-contents" id="fullscreen-contents" class="js-fullscreen-contents" placeholder="" data-suggester="fullscreen_suggester"></textarea>
          <div class="suggester-container">
              <div class="suggester fullscreen-suggester js-navigation-container" id="fullscreen_suggester"
                 data-url="/alfredessa/pdacookbook/suggestions/commit">
              </div>
          </div>
    </div>
  </div>
  <div class="fullscreen-sidebar">
    <a href="#" class="exit-fullscreen js-exit-fullscreen tooltipped leftwards" title="Exit Zen Mode">
      <span class="mega-octicon octicon-screen-normal"></span>
    </a>
    <a href="#" class="theme-switcher js-theme-switcher tooltipped leftwards"
      title="Switch themes">
      <span class="octicon octicon-color-mode"></span>
    </a>
  </div>
</div>



    <div id="ajax-error-message" class="flash flash-error">
      <span class="octicon octicon-alert"></span>
      <a href="#" class="octicon octicon-remove-close close ajax-error-dismiss"></a>
      Something went wrong with that request. Please try again.
    </div>

  </body>
</html>

