{
 "metadata": {
  "name": ""
 },
 "nbformat": 3,
 "nbformat_minor": 0,
 "worksheets": [
  {
   "cells": [
    {
     "cell_type": "code",
     "collapsed": false,
     "input": [
      "T = (1, [1,2,3],4)\n",
      "T[1][0] = 'spam'\n",
      "print T"
     ],
     "language": "python",
     "metadata": {},
     "outputs": [
      {
       "output_type": "stream",
       "stream": "stdout",
       "text": [
        "(1, ['spam', 2, 3], 4)\n"
       ]
      }
     ],
     "prompt_number": 4
    },
    {
     "cell_type": "code",
     "collapsed": false,
     "input": [
      "x, y, z = 43, 44, 45\n",
      "s = 'spam'\n",
      "d = { 'a':1, 'b':2 }\n",
      "l = [1, 2, 3]\n",
      "\n",
      "myfile = open('myfile.txt','w')\n",
      "myfile.write(s + '\\n')\n",
      "myfile.write('%s, %s, %s\\n' % (x, y, z))\n",
      "myfile.write(str(l) + '$' + str(d) + '\\n')\n",
      "myfile.close()"
     ],
     "language": "python",
     "metadata": {},
     "outputs": [],
     "prompt_number": 1
    },
    {
     "cell_type": "code",
     "collapsed": false,
     "input": [
      "chars = open('myfile.txt').read()\n",
      "chars\n",
      "print chars"
     ],
     "language": "python",
     "metadata": {},
     "outputs": [
      {
       "output_type": "stream",
       "stream": "stdout",
       "text": [
        "spam\n",
        "43, 44, 45\n",
        "[1, 2, 3]${'a': 1, 'b': 2}\n",
        "\n"
       ]
      }
     ],
     "prompt_number": 3
    },
    {
     "cell_type": "code",
     "collapsed": false,
     "input": [
      "f = open('myfile.txt')\n",
      "line = f.readline()\n",
      "print '[' + line.rstrip() + ']'\n",
      "line = f.readline()\n",
      "parts = line.split(',')\n",
      "print parts\n",
      "numbers = [int(x) for x in parts]\n",
      "print numbers\n",
      "\n",
      "line = f.readline()\n",
      "parts = line.split('$')\n",
      "parts\n",
      "objects = [eval(item) for item in parts]\n",
      "print type(objects[0]), type(objects[1])"
     ],
     "language": "python",
     "metadata": {},
     "outputs": [
      {
       "output_type": "stream",
       "stream": "stdout",
       "text": [
        "[spam]\n",
        "['43', ' 44', ' 45\\n']\n",
        "[43, 44, 45]\n",
        "<type 'list'> <type 'dict'>\n"
       ]
      }
     ],
     "prompt_number": 17
    }
   ],
   "metadata": {}
  }
 ]
}