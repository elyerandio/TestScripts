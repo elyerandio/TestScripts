{
 "metadata": {
  "name": ""
 },
 "nbformat": 3,
 "nbformat_minor": 0,
 "worksheets": [
  {
   "cells": [
    {
     "cell_type": "code",
     "collapsed": false,
     "input": [
      "print 'Hello World!'\n",
      "print 'there it is!'"
     ],
     "language": "python",
     "metadata": {},
     "outputs": [
      {
       "output_type": "stream",
       "stream": "stdout",
       "text": [
        "Hello World!\n",
        "there it is!\n"
       ]
      }
     ],
     "prompt_number": 1
    },
    {
     "cell_type": "raw",
     "metadata": {},
     "source": [
      "This is a heading.\n",
      "The quick brown fox jumps over the head of the lazy dog.\n",
      "You can start more than one notebook server at the same time, if you want to work on notebooks in different directories. By default the first notebook server starts on port 8888, and later notebook servers search for ports near that one. You can also manually specify the port with the --port option."
     ]
    },
    {
     "cell_type": "heading",
     "level": 1,
     "metadata": {},
     "source": [
      "Heading\n"
     ]
    },
    {
     "cell_type": "raw",
     "metadata": {},
     "source": [
      "This is a plain text."
     ]
    },
    {
     "cell_type": "code",
     "collapsed": false,
     "input": [
      "a = 5\n",
      "b = 6\n",
      "print a*b"
     ],
     "language": "python",
     "metadata": {},
     "outputs": [
      {
       "output_type": "stream",
       "stream": "stdout",
       "text": [
        "30\n"
       ]
      }
     ],
     "prompt_number": 2
    },
    {
     "cell_type": "code",
     "collapsed": false,
     "input": [
      "?"
     ],
     "language": "python",
     "metadata": {},
     "outputs": [],
     "prompt_number": 3
    },
    {
     "cell_type": "code",
     "collapsed": false,
     "input": [
      "a = 6\n",
      "b = 8\n",
      "print a ^ b"
     ],
     "language": "python",
     "metadata": {},
     "outputs": [
      {
       "output_type": "stream",
       "stream": "stdout",
       "text": [
        "14\n"
       ]
      }
     ],
     "prompt_number": 4
    },
    {
     "cell_type": "code",
     "collapsed": false,
     "input": [
      "import collections\n",
      "collections.namedtuple?\n"
     ],
     "language": "python",
     "metadata": {},
     "outputs": [],
     "prompt_number": 5
    },
    {
     "cell_type": "code",
     "collapsed": false,
     "input": [
      "from datetime import datetime\n",
      "d = datetime.today()\n",
      "print d"
     ],
     "language": "python",
     "metadata": {},
     "outputs": [
      {
       "output_type": "stream",
       "stream": "stdout",
       "text": [
        "2013-11-13 09:13:11.543000\n"
       ]
      }
     ],
     "prompt_number": 6
    },
    {
     "cell_type": "code",
     "collapsed": false,
     "input": [
      "%lsmagic\n"
     ],
     "language": "python",
     "metadata": {},
     "outputs": [
      {
       "json": [
        "{\"cell\": {\"prun\": \"ExecutionMagics\", \"file\": \"Other\", \"!\": \"OSMagics\", \"capture\": \"ExecutionMagics\", \"timeit\": \"ExecutionMagics\", \"script\": \"ScriptMagics\", \"ruby\": \"Other\", \"system\": \"OSMagics\", \"perl\": \"Other\", \"HTML\": \"Other\", \"python3\": \"Other\", \"python\": \"Other\", \"SVG\": \"Other\", \"javascript\": \"DisplayMagics\", \"writefile\": \"OSMagics\", \"pypy\": \"Other\", \"bash\": \"Other\", \"latex\": \"DisplayMagics\", \"sx\": \"OSMagics\", \"svg\": \"DisplayMagics\", \"cmd\": \"Other\", \"html\": \"DisplayMagics\", \"sh\": \"Other\", \"time\": \"ExecutionMagics\", \"debug\": \"ExecutionMagics\", \"powershell\": \"Other\"}, \"line\": {\"load\": \"CodeMagics\", \"psource\": \"NamespaceMagics\", \"lsmagic\": \"BasicMagics\", \"logstate\": \"LoggingMagics\", \"logstart\": \"LoggingMagics\", \"popd\": \"OSMagics\", \"ed\": \"Other\", \"pycat\": \"OSMagics\", \"loadpy\": \"CodeMagics\", \"install_ext\": \"ExtensionMagics\", \"cd\": \"OSMagics\", \"pastebin\": \"CodeMagics\", \"clear\": \"KernelMagics\", \"colors\": \"BasicMagics\", \"prun\": \"ExecutionMagics\", \"pushd\": \"OSMagics\", \"rep\": \"Other\", \"config\": \"ConfigMagics\", \"dirs\": \"OSMagics\", \"time\": \"ExecutionMagics\", \"who_ls\": \"NamespaceMagics\", \"install_profiles\": \"DeprecatedMagics\", \"macro\": \"ExecutionMagics\", \"autocall\": \"AutoMagics\", \"alias\": \"OSMagics\", \"bookmark\": \"OSMagics\", \"connect_info\": \"KernelMagics\", \"rehashx\": \"OSMagics\", \"pprint\": \"BasicMagics\", \"system\": \"OSMagics\", \"whos\": \"NamespaceMagics\", \"hist\": \"Other\", \"install_default_config\": \"DeprecatedMagics\", \"logoff\": \"LoggingMagics\", \"env\": \"OSMagics\", \"qtconsole\": \"KernelMagics\", \"load_ext\": \"ExtensionMagics\", \"save\": \"CodeMagics\", \"tb\": \"ExecutionMagics\", \"store\": \"StoreMagics\", \"more\": \"KernelMagics\", \"profile\": \"BasicMagics\", \"doctest_mode\": \"KernelMagics\", \"pylab\": \"PylabMagics\", \"run\": \"ExecutionMagics\", \"reset_selective\": \"NamespaceMagics\", \"pfile\": \"NamespaceMagics\", \"pinfo2\": \"NamespaceMagics\", \"pdef\": \"NamespaceMagics\", \"killbgscripts\": \"ScriptMagics\", \"who\": \"NamespaceMagics\", \"precision\": \"BasicMagics\", \"matplotlib\": \"PylabMagics\", \"quickref\": \"BasicMagics\", \"pinfo\": \"NamespaceMagics\", \"pwd\": \"OSMagics\", \"psearch\": \"NamespaceMagics\", \"autosave\": \"KernelMagics\", \"less\": \"KernelMagics\", \"sc\": \"OSMagics\", \"automagic\": \"AutoMagics\", \"reset\": \"NamespaceMagics\", \"sx\": \"OSMagics\", \"magic\": \"BasicMagics\", \"dhist\": \"OSMagics\", \"timeit\": \"ExecutionMagics\", \"edit\": \"KernelMagics\", \"logstop\": \"LoggingMagics\", \"gui\": \"BasicMagics\", \"xdel\": \"NamespaceMagics\", \"xmode\": \"BasicMagics\", \"notebook\": \"BasicMagics\", \"pdb\": \"ExecutionMagics\", \"recall\": \"HistoryMagics\", \"unalias\": \"OSMagics\", \"unload_ext\": \"ExtensionMagics\", \"alias_magic\": \"BasicMagics\", \"reload_ext\": \"ExtensionMagics\", \"rerun\": \"HistoryMagics\", \"debug\": \"ExecutionMagics\", \"cls\": \"KernelMagics\", \"logon\": \"LoggingMagics\", \"page\": \"BasicMagics\", \"pdoc\": \"NamespaceMagics\", \"history\": \"HistoryMagics\"}}"
       ],
       "metadata": {},
       "output_type": "pyout",
       "prompt_number": 7,
       "text": [
        "Available line magics:\n",
        "%alias  %alias_magic  %autocall  %automagic  %autosave  %bookmark  %cd  %clear  %cls  %colors  %config  %connect_info  %debug  %dhist  %dirs  %doctest_mode  %ed  %edit  %env  %gui  %hist  %history  %install_default_config  %install_ext  %install_profiles  %killbgscripts  %less  %load  %load_ext  %loadpy  %logoff  %logon  %logstart  %logstate  %logstop  %lsmagic  %macro  %magic  %matplotlib  %more  %notebook  %page  %pastebin  %pdb  %pdef  %pdoc  %pfile  %pinfo  %pinfo2  %popd  %pprint  %precision  %profile  %prun  %psearch  %psource  %pushd  %pwd  %pycat  %pylab  %qtconsole  %quickref  %recall  %rehashx  %reload_ext  %rep  %rerun  %reset  %reset_selective  %run  %save  %sc  %store  %sx  %system  %tb  %time  %timeit  %unalias  %unload_ext  %who  %who_ls  %whos  %xdel  %xmode\n",
        "\n",
        "Available cell magics:\n",
        "%%!  %%HTML  %%SVG  %%bash  %%capture  %%cmd  %%debug  %%file  %%html  %%javascript  %%latex  %%perl  %%powershell  %%prun  %%pypy  %%python  %%python3  %%ruby  %%script  %%sh  %%svg  %%sx  %%system  %%time  %%timeit  %%writefile\n",
        "\n",
        "Automagic is ON, % prefix IS NOT needed for line magics."
       ]
      }
     ],
     "prompt_number": 7
    },
    {
     "cell_type": "code",
     "collapsed": false,
     "input": [
      "%qtconsole\n"
     ],
     "language": "python",
     "metadata": {},
     "outputs": [],
     "prompt_number": 8
    },
    {
     "cell_type": "code",
     "collapsed": false,
     "input": [
      "%connect_info"
     ],
     "language": "python",
     "metadata": {},
     "outputs": [
      {
       "output_type": "stream",
       "stream": "stdout",
       "text": [
        "{\n",
        "  \"stdin_port\": 54203, \n",
        "  \"ip\": \"127.0.0.1\", \n",
        "  \"control_port\": 54204, \n",
        "  \"hb_port\": 54205, \n",
        "  \"signature_scheme\": \"hmac-sha256\", \n",
        "  \"key\": \"40f51d4e-d8a0-4499-a3cd-3dab362e4415\", \n",
        "  \"shell_port\": 54201, \n",
        "  \"transport\": \"tcp\", \n",
        "  \"iopub_port\": 54202\n",
        "}\n",
        "\n",
        "Paste the above JSON into a file, and connect with:\n",
        "    $> ipython <app> --existing <file>\n",
        "or, if you are local, you can connect with just:\n",
        "    $> ipython <app> --existing kernel-d42bbaae-f1ad-4b8b-8b8a-1194049a966a.json \n",
        "or even just:\n",
        "    $> ipython <app> --existing \n",
        "if this is the most recent IPython session you have started.\n"
       ]
      }
     ],
     "prompt_number": 9
    },
    {
     "cell_type": "code",
     "collapsed": false,
     "input": [
      "%pylab inline\n",
      "from pylab import *\n",
      "x = linspace(0, 5, 10)\n",
      "y = x ** 2\n",
      "figure()\n",
      "plot(x, y,'r')\n",
      "xlabel('x')\n",
      "ylabel('y')\n",
      "title('Ely Plot')\n",
      "show()\n"
     ],
     "language": "python",
     "metadata": {},
     "outputs": [
      {
       "output_type": "stream",
       "stream": "stdout",
       "text": [
        "Populating the interactive namespace from numpy and matplotlib\n"
       ]
      },
      {
       "output_type": "stream",
       "stream": "stderr",
       "text": [
        "WARNING: pylab import has clobbered these variables: ['datetime']\n",
        "`%pylab --no-import-all` prevents importing * from pylab and numpy\n"
       ]
      },
      {
       "metadata": {},
       "output_type": "display_data",
       "png": "[encoded data removed]",
       "text": [
        "<matplotlib.figure.Figure at 0x5f21f28>"
       ]
      }
     ],
     "prompt_number": 10
    },
    {
     "cell_type": "markdown",
     "metadata": {},
     "source": [
      "Here is our amazing plot:"
     ]
    },
    {
     "cell_type": "code",
     "collapsed": false,
     "input": [
      "%pylab inline\n",
      "x = linspace(0, 5, 10)\n",
      "y = x ** 2\n",
      "print x\n",
      "print y\n",
      "plot(x,y)"
     ],
     "language": "python",
     "metadata": {},
     "outputs": [
      {
       "output_type": "stream",
       "stream": "stdout",
       "text": [
        "Populating the interactive namespace from numpy and matplotlib\n",
        "[ 0.          0.55555556  1.11111111  1.66666667  2.22222222  2.77777778\n",
        "  3.33333333  3.88888889  4.44444444  5.        ]\n",
        "[  0.           0.30864198   1.2345679    2.77777778   4.9382716\n",
        "   7.71604938  11.11111111  15.12345679  19.75308642  25.        ]\n"
       ]
      },
      {
       "output_type": "stream",
       "stream": "stderr",
       "text": [
        "WARNING: pylab import has clobbered these variables: ['linalg', 'random', 'fft', 'power', 'info']\n",
        "`%pylab --no-import-all` prevents importing * from pylab and numpy\n"
       ]
      },
      {
       "metadata": {},
       "output_type": "pyout",
       "prompt_number": 11,
       "text": [
        "[<matplotlib.lines.Line2D at 0x7f91b38>]"
       ]
      },
      {
       "metadata": {},
       "output_type": "display_data",
       "png": "[encoded data removed]",
       "text": [
        "<matplotlib.figure.Figure at 0x60f5358>"
       ]
      }
     ],
     "prompt_number": 11
    },
    {
     "cell_type": "code",
     "collapsed": false,
     "input": [
      "import os\n",
      "%cd C:\\"
     ],
     "language": "python",
     "metadata": {},
     "outputs": [
      {
       "output_type": "stream",
       "stream": "stdout",
       "text": [
        "C:\\scripts\n"
       ]
      }
     ],
     "prompt_number": 30
    },
    {
     "cell_type": "code",
     "collapsed": false,
     "input": [
      "alias"
     ],
     "language": "python",
     "metadata": {},
     "outputs": [
      {
       "output_type": "stream",
       "stream": "stdout",
       "text": [
        "Total number of aliases: 8\n"
       ]
      },
      {
       "metadata": {},
       "output_type": "pyout",
       "prompt_number": 31,
       "text": [
        "[('copy', 'copy'),\n",
        " ('ddir', 'dir /ad /on'),\n",
        " ('echo', 'echo'),\n",
        " ('ldir', 'dir /ad /on'),\n",
        " ('ls', 'dir /on'),\n",
        " ('mkdir', 'mkdir'),\n",
        " ('ren', 'ren'),\n",
        " ('rmdir', 'rmdir')]"
       ]
      }
     ],
     "prompt_number": 31
    },
    {
     "cell_type": "code",
     "collapsed": false,
     "input": [
      "ls"
     ],
     "language": "python",
     "metadata": {},
     "outputs": [
      {
       "output_type": "stream",
       "stream": "stdout",
       "text": [
        " Volume in drive C has no label.\n",
        " Volume Serial Number is F69E-54BC\n",
        "\n",
        " Directory of C:\\scripts\n",
        "\n",
        "11/07/2013  09:56 AM    <DIR>          .\n",
        "11/07/2013  09:56 AM    <DIR>          ..\n",
        "05/08/2013  06:30 PM               694 0\n",
        "09/05/2013  06:22 PM            32,768 16082013.txt\n",
        "10/16/2013  10:39 AM    <DIR>          android\n",
        "05/20/2013  03:06 AM           180,102 authors.csv\n",
        "05/16/2013  04:01 PM               893 backup-SqlDatabase.ps1\n",
        "05/11/2013  10:56 AM                27 computers.txt\n",
        "05/09/2013  11:34 AM             1,633 DisableNet.bat\n",
        "05/20/2013  03:20 AM           177,930 ely.csv\n",
        "05/20/2013  03:14 AM           180,102 elyout.csv\n",
        "05/13/2013  12:05 PM            20,320 ERRORLOG.txt\n",
        "05/13/2013  12:37 AM               253 freeDiskSpace.ps1\n",
        "05/16/2013  03:42 PM               625 get-SqlTables.ps1\n",
        "05/16/2013  03:41 PM               620 get-SqlTables.ps1~\n",
        "05/16/2013  03:28 PM               566 get-SqlVersion.ps1\n",
        "05/16/2013  03:27 PM               566 get-SqlVersion.ps1~\n",
        "06/05/2013  05:48 PM               279 get-topcpu.ps1\n",
        "06/07/2013  11:54 AM             1,144 h.txt\n",
        "05/12/2013  09:32 AM             1,099 loadSQLProvider.ps1\n",
        "05/12/2013  09:28 AM             1,523 loadSQLSMO.ps1\n",
        "05/07/2013  01:00 PM            12,016 myalias.txt\n",
        "05/07/2013  01:24 PM               362 MyDir.ps1\n",
        "05/08/2013  05:22 PM             1,206 nete.bat\n",
        "05/08/2013  04:40 PM               682 network.ps1\n",
        "05/12/2013  09:54 AM           332,020 orihrm_docomo_create_views.sql\n",
        "05/13/2013  01:26 AM         1,465,554 orihrm_model_biodata.sql\n",
        "11/12/2013  10:53 AM    <DIR>          python\n",
        "07/20/2013  02:13 AM    <DIR>          pythondir\n",
        "05/14/2013  09:52 PM               351 readErrorLog.ps1\n",
        "06/01/2013  03:58 AM             9,058 report.html\n",
        "05/16/2013  07:16 PM               984 send-easymail.ps1\n",
        "05/16/2013  07:11 PM               807 send-easymail.ps1~\n",
        "05/13/2013  01:47 AM             2,083 sqlCopyTable.ps1\n",
        "05/20/2013  03:20 AM               355 sqlExportTable.ps1\n",
        "05/20/2013  03:13 AM               366 sqlExportTable.ps1~\n",
        "05/13/2013  01:30 AM               997 sqlInsertScriptOut.ps1\n",
        "05/15/2013  05:25 PM    <DIR>          test\n",
        "06/25/2013  04:57 PM               243 test.c\n",
        "06/24/2013  01:55 PM               213 test.c~\n",
        "09/30/2013  09:47 PM             4,096 test.db\n",
        "06/24/2013  10:41 AM                37 test.html\n",
        "06/24/2013  10:40 AM                41 test.html~\n",
        "09/30/2013  11:28 AM             3,072 test_backup.db\n",
        "05/14/2013  05:28 PM               331 test1.ps1\n",
        "05/14/2013  05:31 PM               192 test2.ps1\n",
        "05/14/2013  05:42 PM               280 test3.ps1\n",
        "05/15/2013  01:17 PM               293 test4.ps1\n",
        "05/25/2013  12:12 PM    <DIR>          testfolder_\n",
        "05/25/2013  12:12 PM               219 testfolder_-file-0\n",
        "05/25/2013  12:12 PM               219 testfolder_-file-1\n",
        "05/25/2013  12:12 PM               219 testfolder_-file-10\n",
        "05/25/2013  12:12 PM               219 testfolder_-file-2\n",
        "05/25/2013  12:12 PM               219 testfolder_-file-3\n",
        "05/25/2013  12:12 PM               219 testfolder_-file-4\n",
        "05/25/2013  12:12 PM               219 testfolder_-file-5\n",
        "05/25/2013  12:12 PM               219 testfolder_-file-6\n",
        "05/25/2013  12:12 PM               219 testfolder_-file-7\n",
        "05/25/2013  12:12 PM               219 testfolder_-file-8\n",
        "05/25/2013  12:12 PM               219 testfolder_-file-9\n",
        "05/06/2013  07:03 PM         7,095,196 trans.txt\n",
        "05/28/2013  04:41 PM            50,364 WmiExplore.ps1\n",
        "03/23/2007  11:54 PM            50,362 WmiExplorer.ps1\n",
        "              56 File(s)      9,635,114 bytes\n",
        "               7 Dir(s)   2,443,431,936 bytes free\n"
       ]
      }
     ],
     "prompt_number": 54
    },
    {
     "cell_type": "code",
     "collapsed": false,
     "input": [
      "with open('test.c') as f:\n",
      "    print f.readlines()"
     ],
     "language": "python",
     "metadata": {},
     "outputs": [
      {
       "output_type": "stream",
       "stream": "stdout",
       "text": [
        "['/*************************************** \\n', 'function test() {\\n', '\\tif ({flag})\\n', '\\t{\\n', '\\t{do_the_work}()\\n', '\\t}\\n', '\\tif (!flag)\\n', '\\t{\\n', '\\t\\tdo_this()\\n', '\\t}\\n', '}\\n', '\\n', 'function test2() ;\\n', '\\t\\tdo_the_work()\\n', '\\t}\\n', '\\n', 'function test3() {\\n', '\\tif(flag)\\n', '\\t{\\n', '\\t\\tdo_the_work()\\n', '\\t}\\n', '}\\n']\n"
       ]
      }
     ],
     "prompt_number": 69
    }
   ],
   "metadata": {}
  }
 ]
}