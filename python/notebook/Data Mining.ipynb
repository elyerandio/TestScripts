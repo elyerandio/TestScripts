{
 "metadata": {
  "name": ""
 },
 "nbformat": 3,
 "nbformat_minor": 0,
 "worksheets": [
  {
   "cells": [
    {
     "cell_type": "heading",
     "level": 2,
     "metadata": {},
     "source": [
      "    Downloading a Web Page"
     ]
    },
    {
     "cell_type": "code",
     "collapsed": false,
     "input": [
      "import urllib2\n",
      "\n",
      "# Define a url as a Python string\n",
      "url = \"http://wikilit.referata.com/wiki/Special:Ask/\" + \\\n",
      "\"-5B-5BCategory:Publications-5D-5D/-3FHas-20author%3DAuthor(s)/-3FYear/\" + \\\n",
      "\"-3FPublished-20in/-3FAbstract/-3FHas-20topic%3DTopic(s)/-3FHas-20domain%3DDomain(s)/\" + \\\n",
      "\"format%3D-20csv/limit%3D-20100/offset%3D0\"\n",
      "\n",
      "doc = urllib2.urlopen(url).read()                       # object from urlopen has read method\n",
      "\n",
      "# show the first 1000 characters\n",
      "print doc[:1000]"
     ],
     "language": "python",
     "metadata": {},
     "outputs": [
      {
       "output_type": "stream",
       "stream": "stdout",
       "text": [
        ",Author(s),Year,\"Published in\",Abstract,Topic(s),Domain(s)\n",
        "\"'Wikipedia, the free encyclopedia' as a role model? Lessons for open innovation from an exploratory examination of the supposedly democratic-anarchic nature of Wikipedia\",\"Gordon M\u00fcller-Seitz,Guido Reger\",2010,\"International Journal of Technology Management\",\"Accounts of open source software {(OSS)} development projects frequently stress their democratic, sometimes even anarchic nature, in contrast to for-profit organisations. Given this observation, our research evaluates qualitative data from Wikipedia, a free online encyclopaedia whose development mechanism allegedly resembles that of {OSS} projects. Our research offers contributions to the field of open innovation research with three major findings. First, we shed light on Wikipedia as a phenomenon that has received scant attention from management scholars to date. Second, we show that {OSS-related} motivational mechanisms partially apply to Wikipedia participants. Third,\n"
       ]
      }
     ],
     "prompt_number": 1
    },
    {
     "cell_type": "heading",
     "level": 3,
     "metadata": {},
     "source": [
      "Downloading comma separated values"
     ]
    },
    {
     "cell_type": "code",
     "collapsed": false,
     "input": [
      "import csv\n",
      "\n",
      "web = urllib2.urlopen(url)                 # web is now a file-like handle\n",
      "\n",
      "lines = csv.reader(web, delimiter=',', quotechar='\"')\n",
      "# 'lines' is now an object that can be iterated over\n",
      "\n",
      "# iterate over lines\n",
      "for line in lines:\n",
      "    \n",
      "\n"
     ],
     "language": "python",
     "metadata": {},
     "outputs": []
    },
    {
     "cell_type": "heading",
     "level": 3,
     "metadata": {},
     "source": [
      "JSON reading"
     ]
    },
    {
     "cell_type": "code",
     "collapsed": false,
     "input": [
      "import json\n",
      "\n",
      "url_json = \"http://wikilit.referata.com/wiki/Special:Ask/\" + \\\n",
      "\"-5B-5BCategory:Publications-5D-5D/-3FHas-20author/-3FYear/\" + \\\n",
      "\"-3FPublished-20in/-3FAbstract/-3FHas-20topic)/-3FHas-20domain/format%3D-20json\"\n",
      "\n",
      "# read JSON into a Python structure\n",
      "response = json.load(urllib2.urlopen(url_json))\n",
      "\n",
      "# 'response' is now a hash/dictionary\n",
      "print response.keys()\n",
      "\n",
      "# Result: [u'rows', u'results', u'printrequests']\n",
      "\n",
      "# response['printrequests'] is a list. map iterates over a list\n",
      "columns = map(lambda item: item['label'], response['printrequests'])\n",
      "print columns\n"
     ],
     "language": "python",
     "metadata": {},
     "outputs": [
      {
       "output_type": "stream",
       "stream": "stdout",
       "text": [
        "[u'rows', u'results', u'printrequests']\n",
        "[u'', u'Has author', u'Year', u'Published in', u'Abstract', u'Has topic)', u'Has domain']\n"
       ]
      }
     ],
     "prompt_number": 3
    },
    {
     "cell_type": "code",
     "collapsed": false,
     "input": [],
     "language": "python",
     "metadata": {},
     "outputs": []
    }
   ],
   "metadata": {}
  }
 ]
}