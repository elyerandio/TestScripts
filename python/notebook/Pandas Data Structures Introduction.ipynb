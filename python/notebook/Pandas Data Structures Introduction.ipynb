{
 "metadata": {
  "name": ""
 },
 "nbformat": 3,
 "nbformat_minor": 0,
 "worksheets": [
  {
   "cells": [
    {
     "cell_type": "markdown",
     "metadata": {},
     "source": [
      "What is it?\n",
      "pandas is an open source Python library for data analysis. Python has always been great for prepping and munging data, but it's never been great for analysis - you'd usually end up using R or loading it into a database and using SQL (or worse, Excel). pandas makes Python great for analysis.\n",
      "\n"
     ]
    },
    {
     "cell_type": "heading",
     "level": 3,
     "metadata": {},
     "source": [
      "Data Structures\n"
     ]
    },
    {
     "cell_type": "raw",
     "metadata": {},
     "source": [
      "pandas introduces two new data structures to Python - Series and DataFrame, both of which are built on top of NumPy (this means it's fast)."
     ]
    },
    {
     "cell_type": "code",
     "collapsed": false,
     "input": [
      "from pandas import Series, DataFrame\n",
      "import pandas as pd\n",
      "import numpy as np\n",
      "import matplotlib as plt\n",
      "pd.set_option('max_columns', 50)\n",
      "pd.set_option('notebook_repr_html',True)\n"
     ],
     "language": "python",
     "metadata": {},
     "outputs": [],
     "prompt_number": 1
    },
    {
     "cell_type": "heading",
     "level": 4,
     "metadata": {},
     "source": [
      "Series"
     ]
    },
    {
     "cell_type": "code",
     "collapsed": false,
     "input": [
      "# create a Series with an arbitrary list\n",
      "s = pd.Series([7, 'Heisenberg', 3.14, -1789879578, 'Happy Eating!'])\n",
      "s"
     ],
     "language": "python",
     "metadata": {},
     "outputs": [
      {
       "metadata": {},
       "output_type": "pyout",
       "prompt_number": 17,
       "text": [
        "0                7\n",
        "1       Heisenberg\n",
        "2             3.14\n",
        "3      -1789879578\n",
        "4    Happy Eating!\n",
        "dtype: object"
       ]
      }
     ],
     "prompt_number": 17
    },
    {
     "cell_type": "raw",
     "metadata": {},
     "source": [
      "Alternatively, you can specify an index to use when creating a Series."
     ]
    },
    {
     "cell_type": "code",
     "collapsed": false,
     "input": [
      "s = pd.Series([7, 'Heisenberg', 3.14, -1789879578, 'Happy Eating!'], index=['A', 'Z','C','Y','E'])\n",
      "s"
     ],
     "language": "python",
     "metadata": {},
     "outputs": [
      {
       "metadata": {},
       "output_type": "pyout",
       "prompt_number": 18,
       "text": [
        "A                7\n",
        "Z       Heisenberg\n",
        "C             3.14\n",
        "Y      -1789879578\n",
        "E    Happy Eating!\n",
        "dtype: object"
       ]
      }
     ],
     "prompt_number": 18
    },
    {
     "cell_type": "raw",
     "metadata": {},
     "source": [
      "The Series constructor can convert a dictionary as well, using the keys of the dictionary as its index."
     ]
    },
    {
     "cell_type": "code",
     "collapsed": false,
     "input": [
      "d = { 'Chicago':1000, 'New York':1300, 'Portland':900, 'San Francisco':1100, 'Austin':450, 'Boston':None}\n",
      "cities = pd.Series(d)\n",
      "cities"
     ],
     "language": "python",
     "metadata": {},
     "outputs": [
      {
       "metadata": {},
       "output_type": "pyout",
       "prompt_number": 3,
       "text": [
        "Austin            450\n",
        "Boston            NaN\n",
        "Chicago          1000\n",
        "New York         1300\n",
        "Portland          900\n",
        "San Francisco    1100\n",
        "dtype: float64"
       ]
      }
     ],
     "prompt_number": 3
    },
    {
     "cell_type": "raw",
     "metadata": {},
     "source": [
      "You can use the index to select specific items from the Series..."
     ]
    },
    {
     "cell_type": "code",
     "collapsed": false,
     "input": [
      "cities['Chicago']"
     ],
     "language": "python",
     "metadata": {},
     "outputs": [
      {
       "metadata": {},
       "output_type": "pyout",
       "prompt_number": 20,
       "text": [
        "1000.0"
       ]
      }
     ],
     "prompt_number": 20
    },
    {
     "cell_type": "code",
     "collapsed": false,
     "input": [
      "cities[['Boston', 'New York', 'San Francisco']]"
     ],
     "language": "python",
     "metadata": {},
     "outputs": [
      {
       "metadata": {},
       "output_type": "pyout",
       "prompt_number": 21,
       "text": [
        "Boston            NaN\n",
        "New York         1300\n",
        "San Francisco    1100\n",
        "dtype: float64"
       ]
      }
     ],
     "prompt_number": 21
    },
    {
     "cell_type": "raw",
     "metadata": {},
     "source": [
      "Or you can use boolean indexing for selection."
     ]
    },
    {
     "cell_type": "code",
     "collapsed": false,
     "input": [
      "cities[cities < 1000]"
     ],
     "language": "python",
     "metadata": {},
     "outputs": [
      {
       "metadata": {},
       "output_type": "pyout",
       "prompt_number": 22,
       "text": [
        "Austin      450\n",
        "Portland    900\n",
        "dtype: float64"
       ]
      }
     ],
     "prompt_number": 22
    },
    {
     "cell_type": "raw",
     "metadata": {},
     "source": [
      "That last one might be a little weird, so let's make it more clear - cities < 1000 returns a Series of True/False values, which we then pass to our Series cities, returning the corresponding True items."
     ]
    },
    {
     "cell_type": "code",
     "collapsed": false,
     "input": [
      "less_than_1000 = cities < 1000\n",
      "print less_than_1000\n",
      "print '\\n'\n",
      "print cities[less_than_1000]"
     ],
     "language": "python",
     "metadata": {},
     "outputs": [
      {
       "output_type": "stream",
       "stream": "stdout",
       "text": [
        "Austin            True\n",
        "Boston           False\n",
        "Chicago          False\n",
        "New York         False\n",
        "Portland          True\n",
        "San Francisco    False\n",
        "dtype: bool\n",
        "\n",
        "\n",
        "Austin      450\n",
        "Portland    900\n",
        "dtype: float64\n"
       ]
      }
     ],
     "prompt_number": 23
    },
    {
     "cell_type": "raw",
     "metadata": {},
     "source": [
      "You can also change the values in a Series on the fly."
     ]
    },
    {
     "cell_type": "code",
     "collapsed": false,
     "input": [
      "# changing based on the index\n",
      "print 'Old value:', cities['Chicago']\n",
      "cities['Chicago'] = 1400\n",
      "print 'New value:', cities['Chicago']"
     ],
     "language": "python",
     "metadata": {},
     "outputs": [
      {
       "output_type": "stream",
       "stream": "stdout",
       "text": [
        "Old value: 1000.0\n",
        "New value: 1400.0\n"
       ]
      }
     ],
     "prompt_number": 24
    },
    {
     "cell_type": "code",
     "collapsed": false,
     "input": [
      "# changing the value using boolean logic\n",
      "print cities[cities < 1000]\n",
      "print '\\n'\n",
      "cities[cities < 1000] = 750\n",
      "print cities[cities < 1000]"
     ],
     "language": "python",
     "metadata": {},
     "outputs": [
      {
       "output_type": "stream",
       "stream": "stdout",
       "text": [
        "Austin      450\n",
        "Portland    900\n",
        "dtype: float64\n",
        "\n",
        "\n",
        "Austin      750\n",
        "Portland    750\n",
        "dtype: float64\n"
       ]
      }
     ],
     "prompt_number": 25
    },
    {
     "cell_type": "raw",
     "metadata": {},
     "source": [
      "What if you aren't sure whether an item is in the Series? You can check using idiomatic Python."
     ]
    },
    {
     "cell_type": "code",
     "collapsed": false,
     "input": [
      "print 'Seattle' in cities\n",
      "print 'San Francisco' in cities"
     ],
     "language": "python",
     "metadata": {},
     "outputs": [
      {
       "output_type": "stream",
       "stream": "stdout",
       "text": [
        "False\n",
        "True\n"
       ]
      }
     ],
     "prompt_number": 26
    },
    {
     "cell_type": "raw",
     "metadata": {},
     "source": [
      "Mathematical operations can be done using scalars and functions."
     ]
    },
    {
     "cell_type": "code",
     "collapsed": false,
     "input": [
      "# divide city values by 3\n",
      "cities / 3"
     ],
     "language": "python",
     "metadata": {},
     "outputs": [
      {
       "metadata": {},
       "output_type": "pyout",
       "prompt_number": 27,
       "text": [
        "Austin           250.000000\n",
        "Boston                  NaN\n",
        "Chicago          466.666667\n",
        "New York         433.333333\n",
        "Portland         250.000000\n",
        "San Francisco    366.666667\n",
        "dtype: float64"
       ]
      }
     ],
     "prompt_number": 27
    },
    {
     "cell_type": "code",
     "collapsed": false,
     "input": [
      "# square city values\n",
      "np.square(cities)"
     ],
     "language": "python",
     "metadata": {},
     "outputs": [
      {
       "metadata": {},
       "output_type": "pyout",
       "prompt_number": 29,
       "text": [
        "Austin            562500\n",
        "Boston               NaN\n",
        "Chicago          1960000\n",
        "New York         1690000\n",
        "Portland          562500\n",
        "San Francisco    1210000\n",
        "dtype: float64"
       ]
      }
     ],
     "prompt_number": 29
    },
    {
     "cell_type": "raw",
     "metadata": {},
     "source": [
      "You can add two Series together, which return a union of the two Series with the addition occurring on the shared index values. Values on either Series that did not have a shared index will produce  a NULL/NaN(not a number)."
     ]
    },
    {
     "cell_type": "code",
     "collapsed": true,
     "input": [
      "print cities[['Chicago', 'New York', 'Portland']]\n",
      "print '\\n'\n",
      "print cities[['Austin', 'New York']]\n",
      "print '\\n'\n",
      "print cities[['Chicago','New York', 'Portland']] + cities[['Austin', 'New York']]"
     ],
     "language": "python",
     "metadata": {},
     "outputs": [
      {
       "output_type": "stream",
       "stream": "stdout",
       "text": [
        "Chicago     1400\n",
        "New York    1300\n",
        "Portland     750\n",
        "dtype: float64\n",
        "\n",
        "\n",
        "Austin       750\n",
        "New York    1300\n",
        "dtype: float64\n",
        "\n",
        "\n",
        "Austin       NaN\n",
        "Chicago      NaN\n",
        "New York    2600\n",
        "Portland     NaN\n",
        "dtype: float64\n"
       ]
      }
     ],
     "prompt_number": 32
    },
    {
     "cell_type": "raw",
     "metadata": {},
     "source": [
      "Notice that because Austin, Chicago, and Portland were not found in both Series, they were returned with NULL/NaN values.\n",
      "\n",
      "NULL checking can be performed with isnull and nonull."
     ]
    },
    {
     "cell_type": "code",
     "collapsed": true,
     "input": [
      "# returns a boolean Series  indicating which values are NULL\n",
      "cities.notnull()"
     ],
     "language": "python",
     "metadata": {},
     "outputs": [
      {
       "metadata": {},
       "output_type": "pyout",
       "prompt_number": 35,
       "text": [
        "Austin            True\n",
        "Boston           False\n",
        "Chicago           True\n",
        "New York          True\n",
        "Portland          True\n",
        "San Francisco     True\n",
        "dtype: bool"
       ]
      }
     ],
     "prompt_number": 35
    },
    {
     "cell_type": "code",
     "collapsed": true,
     "input": [
      "# use boolean logic to grab the NULL cities\n",
      "print cities.isnull()\n",
      "print '\\n'\n",
      "print cities[cities.isnull()]"
     ],
     "language": "python",
     "metadata": {},
     "outputs": [
      {
       "output_type": "stream",
       "stream": "stdout",
       "text": [
        "Austin           False\n",
        "Boston            True\n",
        "Chicago          False\n",
        "New York         False\n",
        "Portland         False\n",
        "San Francisco    False\n",
        "dtype: bool\n",
        "\n",
        "\n",
        "Boston   NaN\n",
        "dtype: float64\n"
       ]
      }
     ],
     "prompt_number": 36
    },
    {
     "cell_type": "heading",
     "level": 3,
     "metadata": {},
     "source": [
      "DataFrame"
     ]
    },
    {
     "cell_type": "code",
     "collapsed": false,
     "input": [
      "DataFrame : 2D collection of Series"
     ],
     "language": "python",
     "metadata": {},
     "outputs": []
    },
    {
     "cell_type": "code",
     "collapsed": false,
     "input": [
      "df = DataFrame({'a' : np.random.randn(6),\n",
      "                'b' : ['foo', 'bar'] * 3,\n",
      "                'c' : np.random.randn(6)})\n",
      "print df\n",
      "print\n",
      "print df.index\n",
      "print\n",
      "df.columns"
     ],
     "language": "python",
     "metadata": {},
     "outputs": [
      {
       "output_type": "stream",
       "stream": "stdout",
       "text": [
        "          a    b         c\n",
        "0  1.763567  foo -1.247134\n",
        "1 -0.530273  bar  0.485096\n",
        "2 -0.830943  foo -0.383578\n",
        "3 -0.592504  bar  0.317102\n",
        "4  0.368475  foo -0.436587\n",
        "5  0.953931  bar -0.480060\n",
        "\n",
        "Int64Index([0, 1, 2, 3, 4, 5], dtype=int64)\n",
        "\n"
       ]
      },
      {
       "metadata": {},
       "output_type": "pyout",
       "prompt_number": 2,
       "text": [
        "Index([u'a', u'b', u'c'], dtype=object)"
       ]
      }
     ],
     "prompt_number": 2
    },
    {
     "cell_type": "code",
     "collapsed": false,
     "input": [
      "df['d'] = range(6)\n",
      "df"
     ],
     "language": "python",
     "metadata": {},
     "outputs": [
      {
       "html": [
        "<div style=\"max-height:1000px;max-width:1500px;overflow:auto;\">\n",
        "<table border=\"1\" class=\"dataframe\">\n",
        "  <thead>\n",
        "    <tr style=\"text-align: right;\">\n",
        "      <th></th>\n",
        "      <th>a</th>\n",
        "      <th>b</th>\n",
        "      <th>c</th>\n",
        "      <th>d</th>\n",
        "    </tr>\n",
        "  </thead>\n",
        "  <tbody>\n",
        "    <tr>\n",
        "      <th>0</th>\n",
        "      <td> 1.763567</td>\n",
        "      <td> foo</td>\n",
        "      <td>-1.247134</td>\n",
        "      <td> 0</td>\n",
        "    </tr>\n",
        "    <tr>\n",
        "      <th>1</th>\n",
        "      <td>-0.530273</td>\n",
        "      <td> bar</td>\n",
        "      <td> 0.485096</td>\n",
        "      <td> 1</td>\n",
        "    </tr>\n",
        "    <tr>\n",
        "      <th>2</th>\n",
        "      <td>-0.830943</td>\n",
        "      <td> foo</td>\n",
        "      <td>-0.383578</td>\n",
        "      <td> 2</td>\n",
        "    </tr>\n",
        "    <tr>\n",
        "      <th>3</th>\n",
        "      <td>-0.592504</td>\n",
        "      <td> bar</td>\n",
        "      <td> 0.317102</td>\n",
        "      <td> 3</td>\n",
        "    </tr>\n",
        "    <tr>\n",
        "      <th>4</th>\n",
        "      <td> 0.368475</td>\n",
        "      <td> foo</td>\n",
        "      <td>-0.436587</td>\n",
        "      <td> 4</td>\n",
        "    </tr>\n",
        "    <tr>\n",
        "      <th>5</th>\n",
        "      <td> 0.953931</td>\n",
        "      <td> bar</td>\n",
        "      <td>-0.480060</td>\n",
        "      <td> 5</td>\n",
        "    </tr>\n",
        "  </tbody>\n",
        "</table>\n",
        "</div>"
       ],
       "metadata": {},
       "output_type": "pyout",
       "prompt_number": 3,
       "text": [
        "          a    b         c  d\n",
        "0  1.763567  foo -1.247134  0\n",
        "1 -0.530273  bar  0.485096  1\n",
        "2 -0.830943  foo -0.383578  2\n",
        "3 -0.592504  bar  0.317102  3\n",
        "4  0.368475  foo -0.436587  4\n",
        "5  0.953931  bar -0.480060  5"
       ]
      }
     ],
     "prompt_number": 3
    },
    {
     "cell_type": "code",
     "collapsed": false,
     "input": [
      "df['e'] = 5\n",
      "df"
     ],
     "language": "python",
     "metadata": {},
     "outputs": [
      {
       "html": [
        "<div style=\"max-height:1000px;max-width:1500px;overflow:auto;\">\n",
        "<table border=\"1\" class=\"dataframe\">\n",
        "  <thead>\n",
        "    <tr style=\"text-align: right;\">\n",
        "      <th></th>\n",
        "      <th>a</th>\n",
        "      <th>b</th>\n",
        "      <th>c</th>\n",
        "      <th>d</th>\n",
        "      <th>e</th>\n",
        "    </tr>\n",
        "  </thead>\n",
        "  <tbody>\n",
        "    <tr>\n",
        "      <th>0</th>\n",
        "      <td> 1.763567</td>\n",
        "      <td> foo</td>\n",
        "      <td>-1.247134</td>\n",
        "      <td> 0</td>\n",
        "      <td> 5</td>\n",
        "    </tr>\n",
        "    <tr>\n",
        "      <th>1</th>\n",
        "      <td>-0.530273</td>\n",
        "      <td> bar</td>\n",
        "      <td> 0.485096</td>\n",
        "      <td> 1</td>\n",
        "      <td> 5</td>\n",
        "    </tr>\n",
        "    <tr>\n",
        "      <th>2</th>\n",
        "      <td>-0.830943</td>\n",
        "      <td> foo</td>\n",
        "      <td>-0.383578</td>\n",
        "      <td> 2</td>\n",
        "      <td> 5</td>\n",
        "    </tr>\n",
        "    <tr>\n",
        "      <th>3</th>\n",
        "      <td>-0.592504</td>\n",
        "      <td> bar</td>\n",
        "      <td> 0.317102</td>\n",
        "      <td> 3</td>\n",
        "      <td> 5</td>\n",
        "    </tr>\n",
        "    <tr>\n",
        "      <th>4</th>\n",
        "      <td> 0.368475</td>\n",
        "      <td> foo</td>\n",
        "      <td>-0.436587</td>\n",
        "      <td> 4</td>\n",
        "      <td> 5</td>\n",
        "    </tr>\n",
        "    <tr>\n",
        "      <th>5</th>\n",
        "      <td> 0.953931</td>\n",
        "      <td> bar</td>\n",
        "      <td>-0.480060</td>\n",
        "      <td> 5</td>\n",
        "      <td> 5</td>\n",
        "    </tr>\n",
        "  </tbody>\n",
        "</table>\n",
        "</div>"
       ],
       "metadata": {},
       "output_type": "pyout",
       "prompt_number": 4,
       "text": [
        "          a    b         c  d  e\n",
        "0  1.763567  foo -1.247134  0  5\n",
        "1 -0.530273  bar  0.485096  1  5\n",
        "2 -0.830943  foo -0.383578  2  5\n",
        "3 -0.592504  bar  0.317102  3  5\n",
        "4  0.368475  foo -0.436587  4  5\n",
        "5  0.953931  bar -0.480060  5  5"
       ]
      }
     ],
     "prompt_number": 4
    },
    {
     "cell_type": "code",
     "collapsed": false,
     "input": [
      "df[3] = 9\n",
      "print df\n",
      "df['e']\n",
      "print\n",
      "print df.xs(2)\n",
      "print\n",
      "print df[2:]"
     ],
     "language": "python",
     "metadata": {},
     "outputs": [
      {
       "output_type": "stream",
       "stream": "stdout",
       "text": [
        "          a    b         c  d  e  3\n",
        "0  1.763567  foo -1.247134  0  5  9\n",
        "1 -0.530273  bar  0.485096  1  5  9\n",
        "2 -0.830943  foo -0.383578  2  5  9\n",
        "3 -0.592504  bar  0.317102  3  5  9\n",
        "4  0.368475  foo -0.436587  4  5  9\n",
        "5  0.953931  bar -0.480060  5  5  9\n",
        "\n",
        "a   -0.8309431\n",
        "b          foo\n",
        "c   -0.3835777\n",
        "d            2\n",
        "e            5\n",
        "3            9\n",
        "Name: 2, dtype: object"
       ]
      },
      {
       "output_type": "stream",
       "stream": "stdout",
       "text": [
        "\n",
        "\n",
        "          a    b         c  d  e  3\n",
        "2 -0.830943  foo -0.383578  2  5  9\n",
        "3 -0.592504  bar  0.317102  3  5  9\n",
        "4  0.368475  foo -0.436587  4  5  9\n",
        "5  0.953931  bar -0.480060  5  5  9\n"
       ]
      }
     ],
     "prompt_number": 5
    },
    {
     "cell_type": "heading",
     "level": 3,
     "metadata": {},
     "source": [
      "Sorting and Ranking"
     ]
    },
    {
     "cell_type": "code",
     "collapsed": false,
     "input": [
      "obj = Series(np.arange(4), index=['b', 'd', 'a', 'c'])\n",
      "print obj\n",
      "print\n",
      "print obj.sort_index()            "
     ],
     "language": "python",
     "metadata": {},
     "outputs": [
      {
       "output_type": "stream",
       "stream": "stdout",
       "text": [
        "b    0\n",
        "d    1\n",
        "a    2\n",
        "c    3\n",
        "dtype: int32\n",
        "\n",
        "a    2\n",
        "b    0\n",
        "c    3\n",
        "d    1\n",
        "dtype: int32\n"
       ]
      }
     ],
     "prompt_number": 13
    },
    {
     "cell_type": "code",
     "collapsed": false,
     "input": [
      "frame = DataFrame(np.arange(8).reshape((2,4)), index=['three', 'one'], columns=['d','a','b','c'])\n",
      "print frame\n",
      "print\n",
      "print frame.sort_index()\n",
      "print \n",
      "print frame.sort_index(axis=1)\n",
      "print\n",
      "# data is sorted in ascending order by default, but can be sorted in descending order\n",
      "print frame.sort_index(axis=1, ascending=False)"
     ],
     "language": "python",
     "metadata": {},
     "outputs": [
      {
       "output_type": "stream",
       "stream": "stdout",
       "text": [
        "       d  a  b  c\n",
        "three  0  1  2  3\n",
        "one    4  5  6  7\n",
        "\n",
        "       d  a  b  c\n",
        "one    4  5  6  7\n",
        "three  0  1  2  3\n",
        "\n",
        "       a  b  c  d\n",
        "three  1  2  3  0\n",
        "one    5  6  7  4\n",
        "       d  c  b  a\n",
        "three  0  3  2  1\n",
        "one    4  7  6  5\n"
       ]
      }
     ],
     "prompt_number": 18
    },
    {
     "cell_type": "raw",
     "metadata": {},
     "source": [
      "    To sort a Series by its values, use its order method:"
     ]
    },
    {
     "cell_type": "code",
     "collapsed": false,
     "input": [
      "# to sort a Series by its values, use its order method:\n",
      "obj = Series([4, 7, -3, 2])\n",
      "print obj\n",
      "print obj.order()"
     ],
     "language": "python",
     "metadata": {},
     "outputs": [
      {
       "output_type": "stream",
       "stream": "stdout",
       "text": [
        "0    4\n",
        "1    7\n",
        "2   -3\n",
        "3    2\n",
        "dtype: int64\n",
        "2   -3\n",
        "3    2\n",
        "0    4\n",
        "1    7\n",
        "dtype: int64\n"
       ]
      }
     ],
     "prompt_number": 13
    },
    {
     "cell_type": "raw",
     "metadata": {},
     "source": [
      "On DataFrame, you may want to sort by the values in one or more columns. To do so, pass one or more column names to the 'by ' option:"
     ]
    },
    {
     "cell_type": "code",
     "collapsed": false,
     "input": [
      "frame = DataFrame({'b' : [4, 7, -3, 2], 'a': [0, 1, 0, 1]})\n",
      "print frame\n",
      "print\n",
      "print frame.sort_index(by='b')\n",
      "print\n",
      "print frame.sort_index(by='b', ascending=False)\n",
      "print\n",
      "print frame.sort_index(by=['a','b'])"
     ],
     "language": "python",
     "metadata": {
      "slideshow": {
       "slide_type": "fragment"
      }
     },
     "outputs": [
      {
       "output_type": "stream",
       "stream": "stdout",
       "text": [
        "   a  b\n",
        "0  0  4\n",
        "1  1  7\n",
        "2  0 -3\n",
        "3  1  2\n",
        "\n",
        "   a  b\n",
        "2  0 -3\n",
        "3  1  2\n",
        "0  0  4\n",
        "1  1  7\n",
        "\n",
        "   a  b\n",
        "1  1  7\n",
        "0  0  4\n",
        "3  1  2\n",
        "2  0 -3\n",
        "\n",
        "   a  b\n",
        "2  0 -3\n",
        "0  0  4\n",
        "3  1  2\n",
        "1  1  7\n"
       ]
      }
     ],
     "prompt_number": 21
    },
    {
     "cell_type": "raw",
     "metadata": {},
     "source": [
      "Ranking is closely related to sorting, assigning ranks from one through the number of valid data points in an array. It is similar to the direct sort indices produced by numpy.argsort, except that ties are broken according to a rule. The rank() methods for Series and DataFrame are the place to look; by default rank() break ties by assigning each group the mean rank:"
     ]
    },
    {
     "cell_type": "code",
     "collapsed": false,
     "input": [
      "obj = Series([7, -5, 7, 4, 2, 0, 4])\n",
      "print obj\n",
      "print\n",
      "print obj.rank()"
     ],
     "language": "python",
     "metadata": {},
     "outputs": [
      {
       "output_type": "stream",
       "stream": "stdout",
       "text": [
        "0    7\n",
        "1   -5\n",
        "2    7\n",
        "3    4\n",
        "4    2\n",
        "5    0\n",
        "6    4\n",
        "dtype: int64\n",
        "\n",
        "0    6.5\n",
        "1    1.0\n",
        "2    6.5\n",
        "3    4.5\n",
        "4    3.0\n",
        "5    2.0\n",
        "6    4.5\n",
        "dtype: float64\n"
       ]
      }
     ],
     "prompt_number": 19
    },
    {
     "cell_type": "raw",
     "metadata": {},
     "source": [
      "Ranks can also be assigned according to the order they're observed in the data:"
     ]
    },
    {
     "cell_type": "code",
     "collapsed": false,
     "input": [
      "print obj.rank(method='first'); print\n",
      "#descending\n",
      "print obj.rank(method='max', ascending=False)"
     ],
     "language": "python",
     "metadata": {},
     "outputs": [
      {
       "output_type": "stream",
       "stream": "stdout",
       "text": [
        "0    6\n",
        "1    1\n",
        "2    7\n",
        "3    4\n",
        "4    3\n",
        "5    2\n",
        "6    5\n",
        "dtype: float64\n",
        "\n",
        "0    2\n",
        "1    7\n",
        "2    2\n",
        "3    4\n",
        "4    5\n",
        "5    6\n",
        "6    4\n",
        "dtype: float64\n"
       ]
      }
     ],
     "prompt_number": 24
    },
    {
     "cell_type": "raw",
     "metadata": {},
     "source": [
      "DataFrame can compute ranks over the rows or the columns:"
     ]
    },
    {
     "cell_type": "code",
     "collapsed": false,
     "input": [
      "frame = DataFrame({ 'b':[4.3, 7, -3, 2], 'a':[0, 1, 0, 1], 'c':[-2, 5, 8, -2.5]})\n",
      "print frame\n",
      "print frame.rank(axis=1)"
     ],
     "language": "python",
     "metadata": {},
     "outputs": [
      {
       "output_type": "stream",
       "stream": "stdout",
       "text": [
        "   a    b    c\n",
        "0  0  4.3 -2.0\n",
        "1  1  7.0  5.0\n",
        "2  0 -3.0  8.0\n",
        "3  1  2.0 -2.5\n",
        "   a  b  c\n",
        "0  2  3  1\n",
        "1  1  3  2\n",
        "2  2  1  3\n",
        "3  2  3  1\n"
       ]
      }
     ],
     "prompt_number": 26
    },
    {
     "cell_type": "heading",
     "level": 3,
     "metadata": {},
     "source": [
      "Summarizing and Computing Descriptive Statistics"
     ]
    },
    {
     "cell_type": "code",
     "collapsed": false,
     "input": [
      "df = DataFrame([[1.4, np.nan], [7.1, -4.5], [np.nan, np.nan], [0.75, -1.3]], index=['a','b','c','d'], columns=['one', 'two'])\n",
      "print df; print\n",
      "\n",
      "# sum() method returns a Series containing column sums:\n",
      "print df.sum(); print\n",
      "\n",
      "# passing axis=1 sums over the rows instead:\n",
      "print df.sum(axis=1)"
     ],
     "language": "python",
     "metadata": {},
     "outputs": [
      {
       "output_type": "stream",
       "stream": "stdout",
       "text": [
        "    one  two\n",
        "a  1.40  NaN\n",
        "b  7.10 -4.5\n",
        "c   NaN  NaN\n",
        "d  0.75 -1.3\n",
        "\n",
        "one    9.25\n",
        "two   -5.80\n",
        "dtype: float64\n",
        "\n",
        "a    1.40\n",
        "b    2.60\n",
        "c     NaN\n",
        "d   -0.55\n",
        "dtype: float64\n"
       ]
      }
     ],
     "prompt_number": 32
    },
    {
     "cell_type": "code",
     "collapsed": false,
     "input": [
      "print df; print\n",
      "print df.idxmax(); print\n",
      "print df.idxmin(axis=1); print\n",
      "print df.cumsum(); print\n",
      "print df.describe()"
     ],
     "language": "python",
     "metadata": {},
     "outputs": [
      {
       "output_type": "stream",
       "stream": "stdout",
       "text": [
        "    one  two\n",
        "a  1.40  NaN\n",
        "b  7.10 -4.5\n",
        "c   NaN  NaN\n",
        "d  0.75 -1.3\n",
        "\n",
        "one    b\n",
        "two    d\n",
        "dtype: object\n",
        "\n",
        "a    one\n",
        "b    two\n",
        "c    NaN\n",
        "d    two\n",
        "dtype: object\n",
        "\n",
        "    one  two\n",
        "a  1.40  NaN\n",
        "b  8.50 -4.5\n",
        "c   NaN  NaN\n",
        "d  9.25 -5.8\n",
        "\n",
        "            one       two\n",
        "count  3.000000  2.000000\n",
        "mean   3.083333 -2.900000\n",
        "std    3.493685  2.262742\n",
        "min    0.750000 -4.500000\n",
        "25%    1.075000 -3.700000\n",
        "50%    1.400000 -2.900000\n",
        "75%    4.250000 -2.100000\n",
        "max    7.100000 -1.300000\n"
       ]
      }
     ],
     "prompt_number": 42
    },
    {
     "cell_type": "raw",
     "metadata": {},
     "source": [
      "NA values are excluded unless the entire slice(row or column) is NA. This can be disabled using the skipna option:"
     ]
    },
    {
     "cell_type": "code",
     "collapsed": false,
     "input": [
      "print df.mean(axis=1, skipna=False); print\n",
      "print df.mean(axis=1)"
     ],
     "language": "python",
     "metadata": {},
     "outputs": [
      {
       "output_type": "stream",
       "stream": "stdout",
       "text": [
        "a      NaN\n",
        "b    1.300\n",
        "c      NaN\n",
        "d   -0.275\n",
        "dtype: float64\n",
        "\n",
        "a    1.400\n",
        "b    1.300\n",
        "c      NaN\n",
        "d   -0.275\n",
        "dtype: float64\n"
       ]
      }
     ],
     "prompt_number": 35
    },
    {
     "cell_type": "heading",
     "level": 4,
     "metadata": {},
     "source": [
      "Unique Values, Value Counts, and Membership"
     ]
    },
    {
     "cell_type": "code",
     "collapsed": false,
     "input": [
      "obj = Series(list('cadaabbcc'))\n",
      "print obj; print\n",
      "uniques = obj.unique()\n",
      "print uniques\n",
      "uniques.sort()\n",
      "print uniques"
     ],
     "language": "python",
     "metadata": {},
     "outputs": [
      {
       "output_type": "stream",
       "stream": "stdout",
       "text": [
        "0    c\n",
        "1    a\n",
        "2    d\n",
        "3    a\n",
        "4    a\n",
        "5    b\n",
        "6    b\n",
        "7    c\n",
        "8    c\n",
        "dtype: object\n",
        "\n",
        "['c' 'a' 'd' 'b']\n",
        "['a' 'b' 'c' 'd']\n"
       ]
      }
     ],
     "prompt_number": 49
    },
    {
     "cell_type": "code",
     "collapsed": false,
     "input": [
      "value_counts() computes a Series containing value frequencies:"
     ],
     "language": "python",
     "metadata": {},
     "outputs": []
    },
    {
     "cell_type": "code",
     "collapsed": false,
     "input": [
      "print obj.value_counts()"
     ],
     "language": "python",
     "metadata": {},
     "outputs": [
      {
       "output_type": "stream",
       "stream": "stdout",
       "text": [
        "c    3\n",
        "a    3\n",
        "b    2\n",
        "d    1\n",
        "dtype: int64\n"
       ]
      }
     ],
     "prompt_number": 48
    },
    {
     "cell_type": "raw",
     "metadata": {},
     "source": [
      "The Series is sorted by value in descending order as a convenience. value_counts() is also available as a top_level pandas method that can be used with any array or sequence:"
     ]
    },
    {
     "cell_type": "code",
     "collapsed": false,
     "input": [
      "print pd.value_counts(obj.values, sort=False); print\n",
      "print obj.values; print\n",
      "print set(obj.values)"
     ],
     "language": "python",
     "metadata": {},
     "outputs": [
      {
       "output_type": "stream",
       "stream": "stdout",
       "text": [
        "a    3\n",
        "c    3\n",
        "b    2\n",
        "d    1\n",
        "dtype: int64\n",
        "\n",
        "['c' 'a' 'd' 'a' 'a' 'b' 'b' 'c' 'c']\n",
        "\n",
        "set(['a', 'c', 'b', 'd'])\n"
       ]
      }
     ],
     "prompt_number": 53
    },
    {
     "cell_type": "raw",
     "metadata": {},
     "source": [
      "isin() is responsible for vectorized set membership and can be very useful in filtering a data set down to a subset of values in a Series or column in a DataFrame:"
     ]
    },
    {
     "cell_type": "code",
     "collapsed": false,
     "input": [
      "print obj; print\n",
      "mask = obj.isin(['b','c'])\n",
      "print mask; print\n",
      "print obj[mask]\n",
      "                "
     ],
     "language": "python",
     "metadata": {},
     "outputs": [
      {
       "output_type": "stream",
       "stream": "stdout",
       "text": [
        "0    c\n",
        "1    a\n",
        "2    d\n",
        "3    a\n",
        "4    a\n",
        "5    b\n",
        "6    b\n",
        "7    c\n",
        "8    c\n",
        "dtype: object\n",
        "\n",
        "0     True\n",
        "1    False\n",
        "2    False\n",
        "3    False\n",
        "4    False\n",
        "5     True\n",
        "6     True\n",
        "7     True\n",
        "8     True\n",
        "dtype: bool\n",
        "\n",
        "0    c\n",
        "5    b\n",
        "6    b\n",
        "7    c\n",
        "8    c\n",
        "dtype: object\n"
       ]
      }
     ],
     "prompt_number": 56
    },
    {
     "cell_type": "raw",
     "metadata": {},
     "source": [
      "In some cases, you may want to compute a histogram on multiple related columns in a DataFrame:"
     ]
    },
    {
     "cell_type": "code",
     "collapsed": false,
     "input": [
      "data = DataFrame({ 'Qu1': [1, 3, 4, 3, 4],\n",
      "                   'Qu2': [2, 3, 1, 2, 3],\n",
      "                   'Qu3': [1, 5, 2, 4, 4]})\n",
      "print data; print\n",
      "result = data.apply(pd.value_counts)\n",
      "print result"
     ],
     "language": "python",
     "metadata": {},
     "outputs": [
      {
       "output_type": "stream",
       "stream": "stdout",
       "text": [
        "   Qu1  Qu2  Qu3\n",
        "0    1    2    1\n",
        "1    3    3    5\n",
        "2    4    1    2\n",
        "3    3    2    4\n",
        "4    4    3    4\n",
        "\n",
        "   Qu1  Qu2  Qu3\n",
        "1    1    1    1\n",
        "2  NaN    2    1\n",
        "3    2    2  NaN\n",
        "4    2  NaN    2\n",
        "5  NaN  NaN    1\n"
       ]
      }
     ],
     "prompt_number": 59
    }
   ],
   "metadata": {}
  }
 ]
}